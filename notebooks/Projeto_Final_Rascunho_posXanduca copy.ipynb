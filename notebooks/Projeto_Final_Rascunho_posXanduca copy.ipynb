{
 "cells": [
  {
   "cell_type": "markdown",
   "metadata": {
    "id": "d4DGfNIZd5v8"
   },
   "source": [
    "# Trabalho Final - Dengue 2025"
   ]
  },
  {
   "cell_type": "markdown",
   "metadata": {
    "id": "kQfuqqUIRAem"
   },
   "source": [
    "## Importando bibliotecas do projeto"
   ]
  },
  {
   "cell_type": "code",
   "execution_count": 2,
   "metadata": {
    "executionInfo": {
     "elapsed": 1343,
     "status": "ok",
     "timestamp": 1755793819872,
     "user": {
      "displayName": "CARLOS ALBERTO MOTA DA SILVA FILHO",
      "userId": "08097359371162300772"
     },
     "user_tz": 240
    },
    "id": "2dv4NCKbQ_zW"
   },
   "outputs": [
    {
     "data": {
      "text/plain": [
       "'pt_BR.UTF-8'"
      ]
     },
     "execution_count": 2,
     "metadata": {},
     "output_type": "execute_result"
    }
   ],
   "source": [
    "import pandas as pd\n",
    "import numpy as np\n",
    "import seaborn as sns\n",
    "import matplotlib.pyplot as plt\n",
    "import plotly.express as px\n",
    "import glob\n",
    "import pyarrow.dataset as ds\n",
    "from pandas.api.types import is_string_dtype\n",
    "from dbfread import DBF\n",
    "import locale\n",
    "locale.setlocale(locale.LC_ALL, \"pt_BR.UTF-8\")"
   ]
  },
  {
   "cell_type": "markdown",
   "metadata": {},
   "source": [
    "funcoes"
   ]
  },
  {
   "cell_type": "code",
   "execution_count": 3,
   "metadata": {},
   "outputs": [],
   "source": [
    "def ibge_to_sinan(cod_ibge:str):\n",
    "    \"\"\"\n",
    "    Converte código IBGE (7 dígitos) para código SINAN (6 dígitos).\n",
    "    - Remove o dígito verificador (último dígito do IBGE)\n",
    "    - Elimina zeros à esquerda do código do município\n",
    "    \"\"\"\n",
    "    s = str(cod_ibge).zfill(7)   # garante 7 dígitos\n",
    "    uf = s[:2]\n",
    "    municipio_5 = s[2:-1]        # 5 dígitos do município (sem DV)\n",
    "    \n",
    "    municipio_int = int(municipio_5)  # remove zeros à esquerda\n",
    "    return uf + str(municipio_int).zfill(4)"
   ]
  },
  {
   "cell_type": "code",
   "execution_count": 4,
   "metadata": {},
   "outputs": [],
   "source": [
    "# Exemplo de formatação\n",
    "def fmt_br(valor):\n",
    "    return locale.format_string(\"%.2f\", valor, grouping=True)"
   ]
  },
  {
   "cell_type": "code",
   "execution_count": 5,
   "metadata": {},
   "outputs": [
    {
     "data": {
      "text/html": [
       "<div>\n",
       "<style scoped>\n",
       "    .dataframe tbody tr th:only-of-type {\n",
       "        vertical-align: middle;\n",
       "    }\n",
       "\n",
       "    .dataframe tbody tr th {\n",
       "        vertical-align: top;\n",
       "    }\n",
       "\n",
       "    .dataframe thead th {\n",
       "        text-align: right;\n",
       "    }\n",
       "</style>\n",
       "<table border=\"1\" class=\"dataframe\">\n",
       "  <thead>\n",
       "    <tr style=\"text-align: right;\">\n",
       "      <th></th>\n",
       "      <th>TP_NOT</th>\n",
       "      <th>ID_AGRAVO</th>\n",
       "      <th>DT_NOTIFIC</th>\n",
       "      <th>SEM_NOT</th>\n",
       "      <th>NU_ANO</th>\n",
       "      <th>SG_UF_NOT</th>\n",
       "      <th>ID_MUNICIP</th>\n",
       "      <th>ID_REGIONA</th>\n",
       "      <th>ID_UNIDADE</th>\n",
       "      <th>DT_SIN_PRI</th>\n",
       "      <th>...</th>\n",
       "      <th>EVIDENCIA</th>\n",
       "      <th>PLAQ_MENOR</th>\n",
       "      <th>CON_FHD</th>\n",
       "      <th>COMPLICA</th>\n",
       "      <th>TP_SISTEMA</th>\n",
       "      <th>NDUPLIC_N</th>\n",
       "      <th>DT_DIGITA</th>\n",
       "      <th>CS_FLXRET</th>\n",
       "      <th>FLXRECEBI</th>\n",
       "      <th>MIGRADO_W</th>\n",
       "    </tr>\n",
       "  </thead>\n",
       "  <tbody>\n",
       "    <tr>\n",
       "      <th>0</th>\n",
       "      <td>2</td>\n",
       "      <td>A90</td>\n",
       "      <td>20230608</td>\n",
       "      <td>202323</td>\n",
       "      <td>2023</td>\n",
       "      <td>31</td>\n",
       "      <td>313760</td>\n",
       "      <td>1449</td>\n",
       "      <td>2120542</td>\n",
       "      <td>20230606</td>\n",
       "      <td>...</td>\n",
       "      <td></td>\n",
       "      <td></td>\n",
       "      <td></td>\n",
       "      <td></td>\n",
       "      <td>2</td>\n",
       "      <td></td>\n",
       "      <td>20230614</td>\n",
       "      <td>0</td>\n",
       "      <td></td>\n",
       "      <td></td>\n",
       "    </tr>\n",
       "    <tr>\n",
       "      <th>1</th>\n",
       "      <td>2</td>\n",
       "      <td>A90</td>\n",
       "      <td>20230608</td>\n",
       "      <td>202323</td>\n",
       "      <td>2023</td>\n",
       "      <td>31</td>\n",
       "      <td>317020</td>\n",
       "      <td>1462</td>\n",
       "      <td>2152967</td>\n",
       "      <td>20230607</td>\n",
       "      <td>...</td>\n",
       "      <td></td>\n",
       "      <td></td>\n",
       "      <td></td>\n",
       "      <td></td>\n",
       "      <td>2</td>\n",
       "      <td></td>\n",
       "      <td>20230713</td>\n",
       "      <td>0</td>\n",
       "      <td></td>\n",
       "      <td></td>\n",
       "    </tr>\n",
       "    <tr>\n",
       "      <th>2</th>\n",
       "      <td>2</td>\n",
       "      <td>A90</td>\n",
       "      <td>20230608</td>\n",
       "      <td>202323</td>\n",
       "      <td>2023</td>\n",
       "      <td>31</td>\n",
       "      <td>317020</td>\n",
       "      <td>1462</td>\n",
       "      <td>3170527</td>\n",
       "      <td>20230514</td>\n",
       "      <td>...</td>\n",
       "      <td></td>\n",
       "      <td></td>\n",
       "      <td></td>\n",
       "      <td></td>\n",
       "      <td>2</td>\n",
       "      <td></td>\n",
       "      <td>20230620</td>\n",
       "      <td>0</td>\n",
       "      <td></td>\n",
       "      <td></td>\n",
       "    </tr>\n",
       "    <tr>\n",
       "      <th>3</th>\n",
       "      <td>2</td>\n",
       "      <td>A90</td>\n",
       "      <td>20230608</td>\n",
       "      <td>202323</td>\n",
       "      <td>2023</td>\n",
       "      <td>31</td>\n",
       "      <td>314010</td>\n",
       "      <td>1471</td>\n",
       "      <td>2119323</td>\n",
       "      <td>20230518</td>\n",
       "      <td>...</td>\n",
       "      <td></td>\n",
       "      <td></td>\n",
       "      <td></td>\n",
       "      <td></td>\n",
       "      <td>2</td>\n",
       "      <td></td>\n",
       "      <td>20230609</td>\n",
       "      <td>0</td>\n",
       "      <td></td>\n",
       "      <td></td>\n",
       "    </tr>\n",
       "    <tr>\n",
       "      <th>4</th>\n",
       "      <td>2</td>\n",
       "      <td>A90</td>\n",
       "      <td>20230608</td>\n",
       "      <td>202323</td>\n",
       "      <td>2023</td>\n",
       "      <td>31</td>\n",
       "      <td>317010</td>\n",
       "      <td>1461</td>\n",
       "      <td>2164817</td>\n",
       "      <td>20230607</td>\n",
       "      <td>...</td>\n",
       "      <td></td>\n",
       "      <td></td>\n",
       "      <td></td>\n",
       "      <td></td>\n",
       "      <td>2</td>\n",
       "      <td></td>\n",
       "      <td>20230710</td>\n",
       "      <td>1</td>\n",
       "      <td></td>\n",
       "      <td></td>\n",
       "    </tr>\n",
       "  </tbody>\n",
       "</table>\n",
       "<p>5 rows × 121 columns</p>\n",
       "</div>"
      ],
      "text/plain": [
       "  TP_NOT ID_AGRAVO DT_NOTIFIC SEM_NOT NU_ANO SG_UF_NOT ID_MUNICIP ID_REGIONA  \\\n",
       "0      2     A90     20230608  202323   2023        31     313760   1449       \n",
       "1      2     A90     20230608  202323   2023        31     317020   1462       \n",
       "2      2     A90     20230608  202323   2023        31     317020   1462       \n",
       "3      2     A90     20230608  202323   2023        31     314010   1471       \n",
       "4      2     A90     20230608  202323   2023        31     317010   1461       \n",
       "\n",
       "  ID_UNIDADE DT_SIN_PRI  ... EVIDENCIA PLAQ_MENOR CON_FHD COMPLICA TP_SISTEMA  \\\n",
       "0    2120542   20230606  ...                                                2   \n",
       "1    2152967   20230607  ...                                                2   \n",
       "2    3170527   20230514  ...                                                2   \n",
       "3    2119323   20230518  ...                                                2   \n",
       "4    2164817   20230607  ...                                                2   \n",
       "\n",
       "  NDUPLIC_N DT_DIGITA CS_FLXRET FLXRECEBI MIGRADO_W  \n",
       "0            20230614         0                      \n",
       "1            20230713         0                      \n",
       "2            20230620         0                      \n",
       "3            20230609         0                      \n",
       "4            20230710         1                      \n",
       "\n",
       "[5 rows x 121 columns]"
      ]
     },
     "execution_count": 5,
     "metadata": {},
     "output_type": "execute_result"
    }
   ],
   "source": [
    "df_dengue2023 = pd.read_parquet(r\"../data/DENGBR23.parquet\", engine=\"pyarrow\")\n",
    "df_dengue2024 = pd.read_parquet(r\"../data/DENGBR24.parquet\", engine=\"pyarrow\")\n",
    "df_regions = pd.read_excel(r\"../data/POP.xlsx\")\n",
    "#UF\tCOD. UF\tCOD. MUNIC\tNOME DO MUNICÍPIO\n",
    "df_regions.columns = ['UF','COD_UF','COD_MUNIC','NOME_DO_MUNICIPIO']\n",
    "\n",
    "df_concat_dengue = pd.concat([df_dengue2023,df_dengue2024])\n",
    "df_concat_dengue.head()\n",
    "\n",
    "#print(df_dengue2023.shape, df_dengue2023.head())\n",
    "\n",
    "# Leia todos os arquivos Parquet da lista\n",
    "#df_dengue2023 = pd.read_parquet(caminho_da_pasta)"
   ]
  },
  {
   "cell_type": "code",
   "execution_count": 6,
   "metadata": {},
   "outputs": [
    {
     "data": {
      "text/html": [
       "<div>\n",
       "<style scoped>\n",
       "    .dataframe tbody tr th:only-of-type {\n",
       "        vertical-align: middle;\n",
       "    }\n",
       "\n",
       "    .dataframe tbody tr th {\n",
       "        vertical-align: top;\n",
       "    }\n",
       "\n",
       "    .dataframe thead th {\n",
       "        text-align: right;\n",
       "    }\n",
       "</style>\n",
       "<table border=\"1\" class=\"dataframe\">\n",
       "  <thead>\n",
       "    <tr style=\"text-align: right;\">\n",
       "      <th></th>\n",
       "      <th>UF</th>\n",
       "      <th>COD_UF</th>\n",
       "      <th>COD_MUNIC</th>\n",
       "      <th>NOME_DO_MUNICIPIO</th>\n",
       "    </tr>\n",
       "  </thead>\n",
       "  <tbody>\n",
       "    <tr>\n",
       "      <th>0</th>\n",
       "      <td>RO</td>\n",
       "      <td>11</td>\n",
       "      <td>15</td>\n",
       "      <td>Alta Floresta D'Oeste</td>\n",
       "    </tr>\n",
       "    <tr>\n",
       "      <th>1</th>\n",
       "      <td>RO</td>\n",
       "      <td>11</td>\n",
       "      <td>23</td>\n",
       "      <td>Ariquemes</td>\n",
       "    </tr>\n",
       "    <tr>\n",
       "      <th>2</th>\n",
       "      <td>RO</td>\n",
       "      <td>11</td>\n",
       "      <td>31</td>\n",
       "      <td>Cabixi</td>\n",
       "    </tr>\n",
       "    <tr>\n",
       "      <th>3</th>\n",
       "      <td>RO</td>\n",
       "      <td>11</td>\n",
       "      <td>49</td>\n",
       "      <td>Cacoal</td>\n",
       "    </tr>\n",
       "    <tr>\n",
       "      <th>4</th>\n",
       "      <td>RO</td>\n",
       "      <td>11</td>\n",
       "      <td>56</td>\n",
       "      <td>Cerejeiras</td>\n",
       "    </tr>\n",
       "  </tbody>\n",
       "</table>\n",
       "</div>"
      ],
      "text/plain": [
       "   UF  COD_UF  COD_MUNIC      NOME_DO_MUNICIPIO\n",
       "0  RO      11         15  Alta Floresta D'Oeste\n",
       "1  RO      11         23              Ariquemes\n",
       "2  RO      11         31                 Cabixi\n",
       "3  RO      11         49                 Cacoal\n",
       "4  RO      11         56             Cerejeiras"
      ]
     },
     "execution_count": 6,
     "metadata": {},
     "output_type": "execute_result"
    }
   ],
   "source": [
    "df_regions.head()"
   ]
  },
  {
   "cell_type": "code",
   "execution_count": 7,
   "metadata": {},
   "outputs": [
    {
     "data": {
      "text/plain": [
       "array(['        ', '20230609', '20230616', '20230620', '20230621',\n",
       "       '20230703', '20230705', '20230804', '20230818', '20231016',\n",
       "       '20231103', '20231113', '20231205', '20231218', '20231213',\n",
       "       '20231214', '20231221', '20231222', '20231227', '20240102',\n",
       "       '20230613', '20230619', '20230711', '20231127', '20231128',\n",
       "       '20231229', '20230522', '20230524', '20230514', '20230512',\n",
       "       '20230515', '20230504', '20230426', '20230517', '20230404',\n",
       "       '20230403', '20230413', '20230418', '20230503', '20230519',\n",
       "       '20230523', '20230530', '20230425', '20230427', '20230417',\n",
       "       '20230411', '20230424', '20230509', '20230429', '20230502',\n",
       "       '20231002', '20230612', '20230704', '20230801', '20230726',\n",
       "       '20230807', '20230405', '20230412', '20231019', '20231107',\n",
       "       '20231129', '20230929', '20231108', '20230707', '20231121',\n",
       "       '20230627', '20231208', '20230808', '20230111', '20230112',\n",
       "       '20230115', '20230129', '20230203', '20230208', '20230209',\n",
       "       '20230215', '20230223', '20230217', '20230301', '20230303',\n",
       "       '20230307', '20230308', '20230315', '20230320', '20230329',\n",
       "       '20230322', '20230323', '20230327', '20230331', '20230123',\n",
       "       '20230120', '20230125', '20230130', '20230202', '20230201',\n",
       "       '20230204', '20230214', '20230213', '20230216', '20230227',\n",
       "       '20230225', '20230302', '20230304', '20230305', '20230306',\n",
       "       '20230311', '20230316', '20230317', '20230510', '20230518',\n",
       "       '20230521', '20230525', '20230414', '20230428', '20230508',\n",
       "       '20230516', '20230520', '20230713', '20230715', '20230615',\n",
       "       '20230803', '20230602', '20230607', '20230606', '20230611',\n",
       "       '20230614', '20230610', '20230618', '20230622', '20230623',\n",
       "       '20230626', '20230628', '20230624', '20230702', '20230701',\n",
       "       '20230710', '20230708', '20230712', '20230717', '20230719',\n",
       "       '20230723', '20230724', '20230725', '20230809', '20230814',\n",
       "       '20230824', '20230826', '20230904', '20230905', '20230912',\n",
       "       '20230914', '20230915', '20230918', '20230920', '20230922',\n",
       "       '20230927', '20231005', '20231017', '20231123', '20231130',\n",
       "       '20231201', '20231206', '20231212', '20231226', '20240106',\n",
       "       '20240109', '20240107', '20240306', '20230106', '20230131',\n",
       "       '20230313', '20230321', '20230410', '20230314', '20230126',\n",
       "       '20230309', '20230401', '20230601', '20241227', '20230720',\n",
       "       '20231228', '20231223', '20230629', '20230729', '20230531',\n",
       "       '20230603', '20230913', '20230812', '20230813', '20230630',\n",
       "       '20230718', '20230802', '20230810', '20230816', '20230828',\n",
       "       '20230911', '20231116', '20231219', '20231230', '20230901',\n",
       "       '20230906', '20230925', '20230926', '20231024', '20231109',\n",
       "       '20231117', '20230226', '20230310', '20230114', '20230118',\n",
       "       '20230212', '20230218', '20231210', '20230706', '20230714',\n",
       "       '20230902', '20230910', '20230921', '20231011', '20231018',\n",
       "       '20231220', '20230916', '20231004', '20230527', '20230529',\n",
       "       '20230608', '20230330', '20230117', '20230210', '20230211',\n",
       "       '20230224', '20230505', '20230513', '20231101', '20231030',\n",
       "       '20230815', '20231115', '20231125', '20230406', '20230430',\n",
       "       '20230113', '20230127', '20230109', '20230206', '20230207',\n",
       "       '20230228', '20230319', '20230324', '20230328', '20230318',\n",
       "       '20230419', '20230408', '20230409', '20230415', '20230420',\n",
       "       '20230422', '20230501', '20230511', '20231025', '20230909',\n",
       "       '20231006', '20231009', '20230617', '20231126', '20230605',\n",
       "       '20230821', '20230811', '20230407', '20230421', '20320428',\n",
       "       '20230507', '20230526', '20230528', '20230423', '20230506',\n",
       "       '20240119', '20230325', '20230402', '20230119', '20240226',\n",
       "       '20240206', '20240207', '20240225', '20240224', '20240304',\n",
       "       '20240228', '20240205', '20240116', '20240307', '20240322',\n",
       "       '20240223', '20240219', '20240208', '20240220', '20240216',\n",
       "       '20240118', '20240215', '20240527', '20240710', '20240712',\n",
       "       '20240730', '20240805', '20240807', '20240507', '20240726',\n",
       "       '20240529', '20240510', '20240523', '20240506', '20240503',\n",
       "       '20240511', '20240209', '20240301', '20240129', '20240516',\n",
       "       '20241121', '20240309', '20240218', '20240130', '20240227',\n",
       "       '20240229', '20240222', '20240112', '20240110', '20240328',\n",
       "       '20240416', '20240411', '20240318', '20240415', '20240320',\n",
       "       '20240409', '20240321', '20240302', '20240401', '20240418',\n",
       "       '20240423', '20240425', '20240426', '20240430', '20240429',\n",
       "       '20240408', '20240329', '20240519', '20240606', '20240327',\n",
       "       '20240405', '20240325', '20240402', '20240421', '20240331',\n",
       "       '20241218', '20240311', '20240417', '20240502', '20240410',\n",
       "       '20240404', '20240315', '20240522', '20240531', '20240716',\n",
       "       '20240923', '20241108', '20240910', '20240520', '20240122',\n",
       "       '20240123', '20240312', '20240605', '20240715', '20240528',\n",
       "       '20240509', '20240515', '20240828', '20241106', '20240513',\n",
       "       '20250502', '20240517', '20240524', '20240525', '20240611',\n",
       "       '20240620', '20240521', '20240617', '20240614', '20240810',\n",
       "       '20240608', '20240628', '20240501', '20240624', '20241016',\n",
       "       '20240610', '20240616', '20240609', '20241211', '20240603',\n",
       "       '20240717', '20240514', '20241213', '20240615', '20240729',\n",
       "       '20241220', '20240422', '20240508', '20240601', '20240607',\n",
       "       '20240612', '20240613', '20240619', '20240623', '20240627',\n",
       "       '20240621', '20240626', '20240704', '20240706', '20240630',\n",
       "       '20240705', '20240711', '20240702', '20240722', '20240804',\n",
       "       '20240403', '20240313', '20240424', '20240310', '20240319',\n",
       "       '20240316', '20240420', '20240308', '20240326', '20240221',\n",
       "       '20240827', '20240826', '20240829', '20240909', '20240915',\n",
       "       '20240708', '20241122', '20241204', '20241203', '20241202',\n",
       "       '20241205', '20241206', '20241209', '20241210', '20241216',\n",
       "       '20241212', '20241219', '20241224', '20250103', '20241228',\n",
       "       '20240625', '20240802', '20240801', '20241010', '20241022',\n",
       "       '20240808', '20240530', '20240703', '20240723', '20240718',\n",
       "       '20240725', '20240806', '20240903', '20240916', '20240917',\n",
       "       '20240918', '20240920', '20240629', '22040627', '20240812',\n",
       "       '20240912', '20240618', '20240709', '20241021', '20250211',\n",
       "       '20241113', '20240822', '20240809', '20241009', '20240518',\n",
       "       '20240526', '20240604', '20240701', '20241105', '20240406',\n",
       "       '20240323', '20240427', '20240305', '20240314', '20240412',\n",
       "       '20240419', '20240317', '20240330', '20241223', '20240115',\n",
       "       '20240212', '20240117', '20240126', '20240902', '20240407',\n",
       "       '20240413', '20240504', '77360726', '20240324', '20240213',\n",
       "       '20240214', '20240217', '20240124', '20240131', '20240104',\n",
       "       '20241111', '20240210', '20250128', '20240108', '20240428',\n",
       "       '20240103', '20240128', '20240111', '20240113', '20240303',\n",
       "       '20240823', '20241002', '20240512', '20240919', '20240203',\n",
       "       '20240202', '20240201', '20241030', '20240728', '20241217',\n",
       "       '20240120', '20241029', '20241127', '42020118', '20241028',\n",
       "       '20240926', '20241014', '20240125', '20240105', '20240204',\n",
       "       '20240121', '20240127', '20240505', '20241017', '20240930',\n",
       "       '20240602', '20240911', '20241007', '20241027', '20241112',\n",
       "       '20241215', '20240211', '20241126', '20241226', '20241003',\n",
       "       '20241008', '20241018', '20241023', '20241026', '20240913',\n",
       "       '20241118', '20240731', '20240925', '20240727', '20241004',\n",
       "       '20241207', '20270227', '20251207', '20240914', '20250110',\n",
       "       '20241120', '20241119', '20240820'], dtype=object)"
      ]
     },
     "execution_count": 7,
     "metadata": {},
     "output_type": "execute_result"
    }
   ],
   "source": [
    "df_concat_dengue['DT_CHIK_S1'].unique()"
   ]
  },
  {
   "cell_type": "code",
   "execution_count": 8,
   "metadata": {},
   "outputs": [],
   "source": [
    "df_regions[\"COD_UF\"] = df_regions[\"COD_UF\"].astype(str).str.zfill(2)\n",
    "df_regions[\"COD_MUNIC\"] = df_regions[\"COD_MUNIC\"].astype(str).str.zfill(5)\n",
    "\n",
    "\n",
    "\n",
    "df_regions.head()\n",
    "df_regions['COD_IBGE'] = df_regions['COD_UF'].astype(str) + df_regions['COD_MUNIC'].astype(str)\n",
    "df_regions['COD_SINAN'] = df_regions['COD_IBGE'].apply(ibge_to_sinan)\n"
   ]
  },
  {
   "cell_type": "code",
   "execution_count": 9,
   "metadata": {},
   "outputs": [
    {
     "data": {
      "text/html": [
       "<div>\n",
       "<style scoped>\n",
       "    .dataframe tbody tr th:only-of-type {\n",
       "        vertical-align: middle;\n",
       "    }\n",
       "\n",
       "    .dataframe tbody tr th {\n",
       "        vertical-align: top;\n",
       "    }\n",
       "\n",
       "    .dataframe thead th {\n",
       "        text-align: right;\n",
       "    }\n",
       "</style>\n",
       "<table border=\"1\" class=\"dataframe\">\n",
       "  <thead>\n",
       "    <tr style=\"text-align: right;\">\n",
       "      <th></th>\n",
       "      <th>UF</th>\n",
       "      <th>COD_UF</th>\n",
       "      <th>COD_MUNIC</th>\n",
       "      <th>NOME_DO_MUNICIPIO</th>\n",
       "      <th>COD_IBGE</th>\n",
       "      <th>COD_SINAN</th>\n",
       "    </tr>\n",
       "  </thead>\n",
       "  <tbody>\n",
       "    <tr>\n",
       "      <th>0</th>\n",
       "      <td>RO</td>\n",
       "      <td>11</td>\n",
       "      <td>00015</td>\n",
       "      <td>Alta Floresta D'Oeste</td>\n",
       "      <td>1100015</td>\n",
       "      <td>110001</td>\n",
       "    </tr>\n",
       "    <tr>\n",
       "      <th>1</th>\n",
       "      <td>RO</td>\n",
       "      <td>11</td>\n",
       "      <td>00023</td>\n",
       "      <td>Ariquemes</td>\n",
       "      <td>1100023</td>\n",
       "      <td>110002</td>\n",
       "    </tr>\n",
       "    <tr>\n",
       "      <th>2</th>\n",
       "      <td>RO</td>\n",
       "      <td>11</td>\n",
       "      <td>00031</td>\n",
       "      <td>Cabixi</td>\n",
       "      <td>1100031</td>\n",
       "      <td>110003</td>\n",
       "    </tr>\n",
       "    <tr>\n",
       "      <th>3</th>\n",
       "      <td>RO</td>\n",
       "      <td>11</td>\n",
       "      <td>00049</td>\n",
       "      <td>Cacoal</td>\n",
       "      <td>1100049</td>\n",
       "      <td>110004</td>\n",
       "    </tr>\n",
       "    <tr>\n",
       "      <th>4</th>\n",
       "      <td>RO</td>\n",
       "      <td>11</td>\n",
       "      <td>00056</td>\n",
       "      <td>Cerejeiras</td>\n",
       "      <td>1100056</td>\n",
       "      <td>110005</td>\n",
       "    </tr>\n",
       "  </tbody>\n",
       "</table>\n",
       "</div>"
      ],
      "text/plain": [
       "   UF COD_UF COD_MUNIC      NOME_DO_MUNICIPIO COD_IBGE COD_SINAN\n",
       "0  RO     11     00015  Alta Floresta D'Oeste  1100015    110001\n",
       "1  RO     11     00023              Ariquemes  1100023    110002\n",
       "2  RO     11     00031                 Cabixi  1100031    110003\n",
       "3  RO     11     00049                 Cacoal  1100049    110004\n",
       "4  RO     11     00056             Cerejeiras  1100056    110005"
      ]
     },
     "execution_count": 9,
     "metadata": {},
     "output_type": "execute_result"
    }
   ],
   "source": [
    "df_regions.head()"
   ]
  },
  {
   "cell_type": "code",
   "execution_count": 10,
   "metadata": {},
   "outputs": [
    {
     "data": {
      "text/html": [
       "<div>\n",
       "<style scoped>\n",
       "    .dataframe tbody tr th:only-of-type {\n",
       "        vertical-align: middle;\n",
       "    }\n",
       "\n",
       "    .dataframe tbody tr th {\n",
       "        vertical-align: top;\n",
       "    }\n",
       "\n",
       "    .dataframe thead th {\n",
       "        text-align: right;\n",
       "    }\n",
       "</style>\n",
       "<table border=\"1\" class=\"dataframe\">\n",
       "  <thead>\n",
       "    <tr style=\"text-align: right;\">\n",
       "      <th></th>\n",
       "      <th>UF</th>\n",
       "      <th>COD_UF</th>\n",
       "      <th>COD_MUNIC</th>\n",
       "      <th>NOME_DO_MUNICIPIO</th>\n",
       "      <th>COD_IBGE</th>\n",
       "      <th>COD_SINAN</th>\n",
       "    </tr>\n",
       "  </thead>\n",
       "  <tbody>\n",
       "    <tr>\n",
       "      <th>5566</th>\n",
       "      <td>GO</td>\n",
       "      <td>52</td>\n",
       "      <td>22005</td>\n",
       "      <td>Vianópolis</td>\n",
       "      <td>5222005</td>\n",
       "      <td>522200</td>\n",
       "    </tr>\n",
       "    <tr>\n",
       "      <th>5567</th>\n",
       "      <td>GO</td>\n",
       "      <td>52</td>\n",
       "      <td>22054</td>\n",
       "      <td>Vicentinópolis</td>\n",
       "      <td>5222054</td>\n",
       "      <td>522205</td>\n",
       "    </tr>\n",
       "    <tr>\n",
       "      <th>5568</th>\n",
       "      <td>GO</td>\n",
       "      <td>52</td>\n",
       "      <td>22203</td>\n",
       "      <td>Vila Boa</td>\n",
       "      <td>5222203</td>\n",
       "      <td>522220</td>\n",
       "    </tr>\n",
       "    <tr>\n",
       "      <th>5569</th>\n",
       "      <td>GO</td>\n",
       "      <td>52</td>\n",
       "      <td>22302</td>\n",
       "      <td>Vila Propício</td>\n",
       "      <td>5222302</td>\n",
       "      <td>522230</td>\n",
       "    </tr>\n",
       "    <tr>\n",
       "      <th>5570</th>\n",
       "      <td>DF</td>\n",
       "      <td>53</td>\n",
       "      <td>00108</td>\n",
       "      <td>Brasília</td>\n",
       "      <td>5300108</td>\n",
       "      <td>530010</td>\n",
       "    </tr>\n",
       "  </tbody>\n",
       "</table>\n",
       "</div>"
      ],
      "text/plain": [
       "      UF COD_UF COD_MUNIC NOME_DO_MUNICIPIO COD_IBGE COD_SINAN\n",
       "5566  GO     52     22005        Vianópolis  5222005    522200\n",
       "5567  GO     52     22054    Vicentinópolis  5222054    522205\n",
       "5568  GO     52     22203          Vila Boa  5222203    522220\n",
       "5569  GO     52     22302     Vila Propício  5222302    522230\n",
       "5570  DF     53     00108          Brasília  5300108    530010"
      ]
     },
     "execution_count": 10,
     "metadata": {},
     "output_type": "execute_result"
    }
   ],
   "source": [
    "df_regions.tail()"
   ]
  },
  {
   "cell_type": "code",
   "execution_count": 11,
   "metadata": {},
   "outputs": [
    {
     "data": {
      "text/html": [
       "<div>\n",
       "<style scoped>\n",
       "    .dataframe tbody tr th:only-of-type {\n",
       "        vertical-align: middle;\n",
       "    }\n",
       "\n",
       "    .dataframe tbody tr th {\n",
       "        vertical-align: top;\n",
       "    }\n",
       "\n",
       "    .dataframe thead th {\n",
       "        text-align: right;\n",
       "    }\n",
       "</style>\n",
       "<table border=\"1\" class=\"dataframe\">\n",
       "  <thead>\n",
       "    <tr style=\"text-align: right;\">\n",
       "      <th></th>\n",
       "      <th>TP_NOT</th>\n",
       "      <th>ID_AGRAVO</th>\n",
       "      <th>DT_NOTIFIC</th>\n",
       "      <th>SEM_NOT</th>\n",
       "      <th>NU_ANO</th>\n",
       "      <th>SG_UF_NOT</th>\n",
       "      <th>ID_MUNICIP</th>\n",
       "      <th>ID_REGIONA</th>\n",
       "      <th>ID_UNIDADE</th>\n",
       "      <th>DT_SIN_PRI</th>\n",
       "      <th>...</th>\n",
       "      <th>EVIDENCIA</th>\n",
       "      <th>PLAQ_MENOR</th>\n",
       "      <th>CON_FHD</th>\n",
       "      <th>COMPLICA</th>\n",
       "      <th>TP_SISTEMA</th>\n",
       "      <th>NDUPLIC_N</th>\n",
       "      <th>DT_DIGITA</th>\n",
       "      <th>CS_FLXRET</th>\n",
       "      <th>FLXRECEBI</th>\n",
       "      <th>MIGRADO_W</th>\n",
       "    </tr>\n",
       "  </thead>\n",
       "  <tbody>\n",
       "    <tr>\n",
       "      <th>852</th>\n",
       "      <td>2</td>\n",
       "      <td>A90</td>\n",
       "      <td>20230612</td>\n",
       "      <td>202324</td>\n",
       "      <td>2023</td>\n",
       "      <td>53</td>\n",
       "      <td>530010</td>\n",
       "      <td></td>\n",
       "      <td>0010499</td>\n",
       "      <td>20230609</td>\n",
       "      <td>...</td>\n",
       "      <td></td>\n",
       "      <td></td>\n",
       "      <td></td>\n",
       "      <td></td>\n",
       "      <td>2</td>\n",
       "      <td></td>\n",
       "      <td>20230614</td>\n",
       "      <td>1</td>\n",
       "      <td></td>\n",
       "      <td></td>\n",
       "    </tr>\n",
       "    <tr>\n",
       "      <th>1038</th>\n",
       "      <td>2</td>\n",
       "      <td>A90</td>\n",
       "      <td>20230613</td>\n",
       "      <td>202324</td>\n",
       "      <td>2023</td>\n",
       "      <td>53</td>\n",
       "      <td>530010</td>\n",
       "      <td></td>\n",
       "      <td>0010529</td>\n",
       "      <td>20230604</td>\n",
       "      <td>...</td>\n",
       "      <td></td>\n",
       "      <td></td>\n",
       "      <td></td>\n",
       "      <td></td>\n",
       "      <td>2</td>\n",
       "      <td></td>\n",
       "      <td>20230613</td>\n",
       "      <td>1</td>\n",
       "      <td></td>\n",
       "      <td></td>\n",
       "    </tr>\n",
       "    <tr>\n",
       "      <th>4370</th>\n",
       "      <td>2</td>\n",
       "      <td>A90</td>\n",
       "      <td>20230630</td>\n",
       "      <td>202326</td>\n",
       "      <td>2023</td>\n",
       "      <td>53</td>\n",
       "      <td>530010</td>\n",
       "      <td></td>\n",
       "      <td>3019608</td>\n",
       "      <td>20230628</td>\n",
       "      <td>...</td>\n",
       "      <td></td>\n",
       "      <td></td>\n",
       "      <td></td>\n",
       "      <td></td>\n",
       "      <td>2</td>\n",
       "      <td></td>\n",
       "      <td>20230703</td>\n",
       "      <td>1</td>\n",
       "      <td></td>\n",
       "      <td></td>\n",
       "    </tr>\n",
       "    <tr>\n",
       "      <th>6368</th>\n",
       "      <td>2</td>\n",
       "      <td>A90</td>\n",
       "      <td>20230802</td>\n",
       "      <td>202331</td>\n",
       "      <td>2023</td>\n",
       "      <td>53</td>\n",
       "      <td>530010</td>\n",
       "      <td></td>\n",
       "      <td>3027694</td>\n",
       "      <td>20230801</td>\n",
       "      <td>...</td>\n",
       "      <td></td>\n",
       "      <td></td>\n",
       "      <td></td>\n",
       "      <td></td>\n",
       "      <td>2</td>\n",
       "      <td></td>\n",
       "      <td>20230802</td>\n",
       "      <td>1</td>\n",
       "      <td></td>\n",
       "      <td></td>\n",
       "    </tr>\n",
       "    <tr>\n",
       "      <th>8354</th>\n",
       "      <td>2</td>\n",
       "      <td>A90</td>\n",
       "      <td>20231002</td>\n",
       "      <td>202340</td>\n",
       "      <td>2023</td>\n",
       "      <td>53</td>\n",
       "      <td>530010</td>\n",
       "      <td></td>\n",
       "      <td>9748202</td>\n",
       "      <td>20230930</td>\n",
       "      <td>...</td>\n",
       "      <td></td>\n",
       "      <td></td>\n",
       "      <td></td>\n",
       "      <td></td>\n",
       "      <td>2</td>\n",
       "      <td></td>\n",
       "      <td>20231020</td>\n",
       "      <td>1</td>\n",
       "      <td></td>\n",
       "      <td></td>\n",
       "    </tr>\n",
       "  </tbody>\n",
       "</table>\n",
       "<p>5 rows × 121 columns</p>\n",
       "</div>"
      ],
      "text/plain": [
       "     TP_NOT ID_AGRAVO DT_NOTIFIC SEM_NOT NU_ANO SG_UF_NOT ID_MUNICIP  \\\n",
       "852       2     A90     20230612  202324   2023        53     530010   \n",
       "1038      2     A90     20230613  202324   2023        53     530010   \n",
       "4370      2     A90     20230630  202326   2023        53     530010   \n",
       "6368      2     A90     20230802  202331   2023        53     530010   \n",
       "8354      2     A90     20231002  202340   2023        53     530010   \n",
       "\n",
       "     ID_REGIONA ID_UNIDADE DT_SIN_PRI  ... EVIDENCIA PLAQ_MENOR CON_FHD  \\\n",
       "852                0010499   20230609  ...                                \n",
       "1038               0010529   20230604  ...                                \n",
       "4370               3019608   20230628  ...                                \n",
       "6368               3027694   20230801  ...                                \n",
       "8354               9748202   20230930  ...                                \n",
       "\n",
       "     COMPLICA TP_SISTEMA NDUPLIC_N DT_DIGITA CS_FLXRET FLXRECEBI MIGRADO_W  \n",
       "852                    2            20230614         1                      \n",
       "1038                   2            20230613         1                      \n",
       "4370                   2            20230703         1                      \n",
       "6368                   2            20230802         1                      \n",
       "8354                   2            20231020         1                      \n",
       "\n",
       "[5 rows x 121 columns]"
      ]
     },
     "execution_count": 11,
     "metadata": {},
     "output_type": "execute_result"
    }
   ],
   "source": [
    "##SG_UF_NOT\n",
    "test = df_concat_dengue.query('SG_UF_NOT == \"53\"')\n",
    "test.head()"
   ]
  },
  {
   "cell_type": "code",
   "execution_count": 12,
   "metadata": {},
   "outputs": [
    {
     "data": {
      "text/plain": [
       "(7935706, 121)"
      ]
     },
     "execution_count": 12,
     "metadata": {},
     "output_type": "execute_result"
    }
   ],
   "source": [
    "df_concat_dengue.shape"
   ]
  },
  {
   "cell_type": "markdown",
   "metadata": {},
   "source": [
    "Merge"
   ]
  },
  {
   "cell_type": "code",
   "execution_count": 13,
   "metadata": {},
   "outputs": [],
   "source": [
    "df_merge_dengue = pd.merge(df_concat_dengue,df_regions,left_on=['SG_UF_NOT','ID_MUNICIP'],right_on=['COD_UF','COD_SINAN'], how='left')"
   ]
  },
  {
   "cell_type": "code",
   "execution_count": 14,
   "metadata": {},
   "outputs": [
    {
     "name": "stdout",
     "output_type": "stream",
     "text": [
      "<class 'pandas.core.frame.DataFrame'>\n",
      "RangeIndex: 7935706 entries, 0 to 7935705\n",
      "Data columns (total 127 columns):\n",
      " #    Column             Dtype \n",
      "---   ------             ----- \n",
      " 0    TP_NOT             object\n",
      " 1    ID_AGRAVO          object\n",
      " 2    DT_NOTIFIC         object\n",
      " 3    SEM_NOT            object\n",
      " 4    NU_ANO             object\n",
      " 5    SG_UF_NOT          object\n",
      " 6    ID_MUNICIP         object\n",
      " 7    ID_REGIONA         object\n",
      " 8    ID_UNIDADE         object\n",
      " 9    DT_SIN_PRI         object\n",
      " 10   SEM_PRI            object\n",
      " 11   ANO_NASC           object\n",
      " 12   NU_IDADE_N         object\n",
      " 13   CS_SEXO            object\n",
      " 14   CS_GESTANT         object\n",
      " 15   CS_RACA            object\n",
      " 16   CS_ESCOL_N         object\n",
      " 17   SG_UF              object\n",
      " 18   ID_MN_RESI         object\n",
      " 19   ID_RG_RESI         object\n",
      " 20   ID_PAIS            object\n",
      " 21   DT_INVEST          object\n",
      " 22   ID_OCUPA_N         object\n",
      " 23   FEBRE              object\n",
      " 24   MIALGIA            object\n",
      " 25   CEFALEIA           object\n",
      " 26   EXANTEMA           object\n",
      " 27   VOMITO             object\n",
      " 28   NAUSEA             object\n",
      " 29   DOR_COSTAS         object\n",
      " 30   CONJUNTVIT         object\n",
      " 31   ARTRITE            object\n",
      " 32   ARTRALGIA          object\n",
      " 33   PETEQUIA_N         object\n",
      " 34   LEUCOPENIA         object\n",
      " 35   LACO               object\n",
      " 36   DOR_RETRO          object\n",
      " 37   DIABETES           object\n",
      " 38   HEMATOLOG          object\n",
      " 39   HEPATOPAT          object\n",
      " 40   RENAL              object\n",
      " 41   HIPERTENSA         object\n",
      " 42   ACIDO_PEPT         object\n",
      " 43   AUTO_IMUNE         object\n",
      " 44   DT_CHIK_S1         object\n",
      " 45   DT_CHIK_S2         object\n",
      " 46   DT_PRNT            object\n",
      " 47   RES_CHIKS1         object\n",
      " 48   RES_CHIKS2         object\n",
      " 49   RESUL_PRNT         object\n",
      " 50   DT_SORO            object\n",
      " 51   RESUL_SORO         object\n",
      " 52   DT_NS1             object\n",
      " 53   RESUL_NS1          object\n",
      " 54   DT_VIRAL           object\n",
      " 55   RESUL_VI_N         object\n",
      " 56   DT_PCR             object\n",
      " 57   RESUL_PCR_         object\n",
      " 58   SOROTIPO           object\n",
      " 59   HISTOPA_N          object\n",
      " 60   IMUNOH_N           object\n",
      " 61   HOSPITALIZ         object\n",
      " 62   DT_INTERNA         object\n",
      " 63   UF_x               object\n",
      " 64   MUNICIPIO          object\n",
      " 65   TPAUTOCTO          object\n",
      " 66   COUFINF            object\n",
      " 67   COPAISINF          object\n",
      " 68   COMUNINF           object\n",
      " 69   CLASSI_FIN         object\n",
      " 70   CRITERIO           object\n",
      " 71   DOENCA_TRA         object\n",
      " 72   CLINC_CHIK         object\n",
      " 73   EVOLUCAO           object\n",
      " 74   DT_OBITO           object\n",
      " 75   DT_ENCERRA         object\n",
      " 76   ALRM_HIPOT         object\n",
      " 77   ALRM_PLAQ          object\n",
      " 78   ALRM_VOM           object\n",
      " 79   ALRM_SANG          object\n",
      " 80   ALRM_HEMAT         object\n",
      " 81   ALRM_ABDOM         object\n",
      " 82   ALRM_LETAR         object\n",
      " 83   ALRM_HEPAT         object\n",
      " 84   ALRM_LIQ           object\n",
      " 85   DT_ALRM            object\n",
      " 86   GRAV_PULSO         object\n",
      " 87   GRAV_CONV          object\n",
      " 88   GRAV_ENCH          object\n",
      " 89   GRAV_INSUF         object\n",
      " 90   GRAV_TAQUI         object\n",
      " 91   GRAV_EXTRE         object\n",
      " 92   GRAV_HIPOT         object\n",
      " 93   GRAV_HEMAT         object\n",
      " 94   GRAV_MELEN         object\n",
      " 95   GRAV_METRO         object\n",
      " 96   GRAV_SANG          object\n",
      " 97   GRAV_AST           object\n",
      " 98   GRAV_MIOC          object\n",
      " 99   GRAV_CONSC         object\n",
      " 100  GRAV_ORGAO         object\n",
      " 101  DT_GRAV            object\n",
      " 102  MANI_HEMOR         object\n",
      " 103  EPISTAXE           object\n",
      " 104  GENGIVO            object\n",
      " 105  METRO              object\n",
      " 106  PETEQUIAS          object\n",
      " 107  HEMATURA           object\n",
      " 108  SANGRAM            object\n",
      " 109  LACO_N             object\n",
      " 110  PLASMATICO         object\n",
      " 111  EVIDENCIA          object\n",
      " 112  PLAQ_MENOR         object\n",
      " 113  CON_FHD            object\n",
      " 114  COMPLICA           object\n",
      " 115  TP_SISTEMA         object\n",
      " 116  NDUPLIC_N          object\n",
      " 117  DT_DIGITA          object\n",
      " 118  CS_FLXRET          object\n",
      " 119  FLXRECEBI          object\n",
      " 120  MIGRADO_W          object\n",
      " 121  UF_y               object\n",
      " 122  COD_UF             object\n",
      " 123  COD_MUNIC          object\n",
      " 124  NOME_DO_MUNICIPIO  object\n",
      " 125  COD_IBGE           object\n",
      " 126  COD_SINAN          object\n",
      "dtypes: object(127)\n",
      "memory usage: 7.5+ GB\n"
     ]
    }
   ],
   "source": [
    "df_merge_dengue.info(verbose=True)"
   ]
  },
  {
   "cell_type": "code",
   "execution_count": 15,
   "metadata": {},
   "outputs": [
    {
     "name": "stdout",
     "output_type": "stream",
     "text": [
      "\n",
      "==================================================\n",
      "Análise de Memória Após a Otimização\n",
      "==================================================\n",
      "Uso de memória final: 49859.48 MB\n",
      "\n",
      "Tipos de dados finais:\n",
      "<class 'pandas.core.frame.DataFrame'>\n",
      "RangeIndex: 7935706 entries, 0 to 7935705\n",
      "Data columns (total 127 columns):\n",
      " #    Column             Dtype \n",
      "---   ------             ----- \n",
      " 0    TP_NOT             object\n",
      " 1    ID_AGRAVO          object\n",
      " 2    DT_NOTIFIC         object\n",
      " 3    SEM_NOT            object\n",
      " 4    NU_ANO             object\n",
      " 5    SG_UF_NOT          object\n",
      " 6    ID_MUNICIP         object\n",
      " 7    ID_REGIONA         object\n",
      " 8    ID_UNIDADE         object\n",
      " 9    DT_SIN_PRI         object\n",
      " 10   SEM_PRI            object\n",
      " 11   ANO_NASC           object\n",
      " 12   NU_IDADE_N         object\n",
      " 13   CS_SEXO            object\n",
      " 14   CS_GESTANT         object\n",
      " 15   CS_RACA            object\n",
      " 16   CS_ESCOL_N         object\n",
      " 17   SG_UF              object\n",
      " 18   ID_MN_RESI         object\n",
      " 19   ID_RG_RESI         object\n",
      " 20   ID_PAIS            object\n",
      " 21   DT_INVEST          object\n",
      " 22   ID_OCUPA_N         object\n",
      " 23   FEBRE              object\n",
      " 24   MIALGIA            object\n",
      " 25   CEFALEIA           object\n",
      " 26   EXANTEMA           object\n",
      " 27   VOMITO             object\n",
      " 28   NAUSEA             object\n",
      " 29   DOR_COSTAS         object\n",
      " 30   CONJUNTVIT         object\n",
      " 31   ARTRITE            object\n",
      " 32   ARTRALGIA          object\n",
      " 33   PETEQUIA_N         object\n",
      " 34   LEUCOPENIA         object\n",
      " 35   LACO               object\n",
      " 36   DOR_RETRO          object\n",
      " 37   DIABETES           object\n",
      " 38   HEMATOLOG          object\n",
      " 39   HEPATOPAT          object\n",
      " 40   RENAL              object\n",
      " 41   HIPERTENSA         object\n",
      " 42   ACIDO_PEPT         object\n",
      " 43   AUTO_IMUNE         object\n",
      " 44   DT_CHIK_S1         object\n",
      " 45   DT_CHIK_S2         object\n",
      " 46   DT_PRNT            object\n",
      " 47   RES_CHIKS1         object\n",
      " 48   RES_CHIKS2         object\n",
      " 49   RESUL_PRNT         object\n",
      " 50   DT_SORO            object\n",
      " 51   RESUL_SORO         object\n",
      " 52   DT_NS1             object\n",
      " 53   RESUL_NS1          object\n",
      " 54   DT_VIRAL           object\n",
      " 55   RESUL_VI_N         object\n",
      " 56   DT_PCR             object\n",
      " 57   RESUL_PCR_         object\n",
      " 58   SOROTIPO           object\n",
      " 59   HISTOPA_N          object\n",
      " 60   IMUNOH_N           object\n",
      " 61   HOSPITALIZ         object\n",
      " 62   DT_INTERNA         object\n",
      " 63   UF_x               object\n",
      " 64   MUNICIPIO          object\n",
      " 65   TPAUTOCTO          object\n",
      " 66   COUFINF            object\n",
      " 67   COPAISINF          object\n",
      " 68   COMUNINF           object\n",
      " 69   CLASSI_FIN         object\n",
      " 70   CRITERIO           object\n",
      " 71   DOENCA_TRA         object\n",
      " 72   CLINC_CHIK         object\n",
      " 73   EVOLUCAO           object\n",
      " 74   DT_OBITO           object\n",
      " 75   DT_ENCERRA         object\n",
      " 76   ALRM_HIPOT         object\n",
      " 77   ALRM_PLAQ          object\n",
      " 78   ALRM_VOM           object\n",
      " 79   ALRM_SANG          object\n",
      " 80   ALRM_HEMAT         object\n",
      " 81   ALRM_ABDOM         object\n",
      " 82   ALRM_LETAR         object\n",
      " 83   ALRM_HEPAT         object\n",
      " 84   ALRM_LIQ           object\n",
      " 85   DT_ALRM            object\n",
      " 86   GRAV_PULSO         object\n",
      " 87   GRAV_CONV          object\n",
      " 88   GRAV_ENCH          object\n",
      " 89   GRAV_INSUF         object\n",
      " 90   GRAV_TAQUI         object\n",
      " 91   GRAV_EXTRE         object\n",
      " 92   GRAV_HIPOT         object\n",
      " 93   GRAV_HEMAT         object\n",
      " 94   GRAV_MELEN         object\n",
      " 95   GRAV_METRO         object\n",
      " 96   GRAV_SANG          object\n",
      " 97   GRAV_AST           object\n",
      " 98   GRAV_MIOC          object\n",
      " 99   GRAV_CONSC         object\n",
      " 100  GRAV_ORGAO         object\n",
      " 101  DT_GRAV            object\n",
      " 102  MANI_HEMOR         object\n",
      " 103  EPISTAXE           object\n",
      " 104  GENGIVO            object\n",
      " 105  METRO              object\n",
      " 106  PETEQUIAS          object\n",
      " 107  HEMATURA           object\n",
      " 108  SANGRAM            object\n",
      " 109  LACO_N             object\n",
      " 110  PLASMATICO         object\n",
      " 111  EVIDENCIA          object\n",
      " 112  PLAQ_MENOR         object\n",
      " 113  CON_FHD            object\n",
      " 114  COMPLICA           object\n",
      " 115  TP_SISTEMA         object\n",
      " 116  NDUPLIC_N          object\n",
      " 117  DT_DIGITA          object\n",
      " 118  CS_FLXRET          object\n",
      " 119  FLXRECEBI          object\n",
      " 120  MIGRADO_W          object\n",
      " 121  UF_y               object\n",
      " 122  COD_UF             object\n",
      " 123  COD_MUNIC          object\n",
      " 124  NOME_DO_MUNICIPIO  object\n",
      " 125  COD_IBGE           object\n",
      " 126  COD_SINAN          object\n",
      "dtypes: object(127)\n",
      "memory usage: 7.5+ GB\n",
      "None\n"
     ]
    }
   ],
   "source": [
    "print(\"\\n\" + \"=\"*50)\n",
    "print(\"Análise de Memória Após a Otimização\")\n",
    "print(\"=\"*50)\n",
    "memory_before = round(df_merge_dengue.memory_usage(deep=True).sum() / 1024**2,2)\n",
    "print(f\"Uso de memória final: {memory_before} MB\")\n",
    "print(\"\\nTipos de dados finais:\")\n",
    "print(df_merge_dengue.info(verbose=True))"
   ]
  },
  {
   "cell_type": "code",
   "execution_count": 16,
   "metadata": {},
   "outputs": [
    {
     "name": "stdout",
     "output_type": "stream",
     "text": [
      "\n",
      "Iniciando processo de conversão de tipos...\n",
      "Conversão concluída!\n"
     ]
    }
   ],
   "source": [
    "numeric_cols = {\n",
    "    'NU_ANO': pd.Int16Dtype(),\n",
    "    'ANO_NASC': pd.Int16Dtype(),\n",
    "    'NU_IDADE_N': pd.Int16Dtype(),\n",
    "    'FEBRE': pd.Int8Dtype(),\n",
    "    'ALRM_HIPOT': pd.Int8Dtype(),\n",
    "    'ALRM_PLAQ': pd.Int8Dtype(),\n",
    "    'ALRM_VOM': pd.Int8Dtype(),\n",
    "    'ALRM_SANG': pd.Int8Dtype(),\n",
    "    'ALRM_HEMAT': pd.Int8Dtype(),\n",
    "    'ALRM_ABDOM': pd.Int8Dtype(),\n",
    "    'ALRM_LETAR': pd.Int8Dtype(),\n",
    "    'ALRM_HEPAT': pd.Int8Dtype(),\n",
    "    'ALRM_LIQ': pd.Int8Dtype(),\n",
    "    'GRAV_PULSO': pd.Int8Dtype(),\n",
    "    'GRAV_CONV': pd.Int8Dtype(),\n",
    "    'GRAV_ENCH': pd.Int8Dtype(),\n",
    "    'GRAV_INSUF': pd.Int8Dtype(),\n",
    "    'GRAV_TAQUI': pd.Int8Dtype(),\n",
    "    'GRAV_HIPOT': pd.Int8Dtype(),\n",
    "    'GRAV_HEMAT': pd.Int8Dtype(),\n",
    "    'GRAV_MELEN': pd.Int8Dtype(),\n",
    "    'GRAV_METRO': pd.Int8Dtype(),\n",
    "    'GRAV_SANG': pd.Int8Dtype(),\n",
    "    'GRAV_AST': pd.Int8Dtype(),\n",
    "    'GRAV_MIOC': pd.Int8Dtype(),\n",
    "    'GRAV_CONSC': pd.Int8Dtype(),\n",
    "    'GRAV_ORGAO': pd.Int8Dtype(),\n",
    "    'MIALGIA': pd.Int8Dtype(),\n",
    "    'CEFALEIA': pd.Int8Dtype(),\n",
    "    'EXANTEMA': pd.Int8Dtype(),\n",
    "    'VOMITO': pd.Int8Dtype(),\n",
    "    'NAUSEA': pd.Int8Dtype(),\n",
    "    'DOR_COSTAS': pd.Int8Dtype(),\n",
    "    'CONJUNTVIT': pd.Int8Dtype(),\n",
    "    'ARTRITE': pd.Int8Dtype(),\n",
    "    'ARTRALGIA': pd.Int8Dtype(),\n",
    "    'PETEQUIA_N': pd.Int8Dtype(),\n",
    "    'LEUCOPENIA': pd.Int8Dtype(),\n",
    "    'LACO': pd.Int8Dtype(),\n",
    "    'DOR_RETRO': pd.Int8Dtype(),\n",
    "    'DIABETES': pd.Int8Dtype(),\n",
    "    'HEMATOLOG': pd.Int8Dtype(),\n",
    "    'HEPATOPAT': pd.Int8Dtype(),\n",
    "    'RENAL': pd.Int8Dtype(),\n",
    "    'HIPERTENSA': pd.Int8Dtype(),\n",
    "    'ACIDO_PEPT': pd.Int8Dtype(),\n",
    "    'TP_SISTEMA': pd.Int8Dtype(),\n",
    "    'NDUPLIC_N': pd.Int8Dtype(),\n",
    "    'CS_FLXRET': pd.Int8Dtype(),\n",
    "    'AUTO_IMUNE': pd.Int8Dtype()\n",
    "}\n",
    "\n",
    "# 2. Colunas categóricas:\n",
    "categorical_cols = [\n",
    "    'TP_NOT', 'ID_AGRAVO', 'SG_UF_NOT', 'ID_MUNICIP', 'ID_REGIONA',\n",
    "    'ID_UNIDADE', 'CS_SEXO', 'CS_GESTANT', 'CS_RACA', 'CS_ESCOL_N',\n",
    "    'SG_UF', 'ID_MN_RESI', 'ID_RG_RESI', 'ID_PAIS', 'ID_OCUPA_N',\n",
    "    'RESUL_SORO', 'RESUL_NS1', 'RESUL_VI_N', 'RESUL_PCR', 'SOROTIPO',\n",
    "    'HISTOPA_N', 'IMUNOH_N', 'HOSPITALIZ', 'COUFINF', 'MUNICIPIO',\n",
    "    'TPAUTOCTO', 'CLASSI_FIN', 'CRITERIO', 'EVOLUCAO','MANI_HEMOR','EPISTAXE',\n",
    "    'GENGIVO','METRO','PETEQUIAS','HEMATURA','SANGRAM','LACO_N','PLASMATICO',\n",
    "    'EVIDENCIA','PLAQ_MENOR','CON_FHD','COMPLICA','FLXRECEBI','MIGRADO_W',\n",
    "    'UF_y','COD_UF','COD_MUNIC','NOME_DO_MUNICIPIO','COD_IBGE','COD_SINAN'\n",
    "]\n",
    "\n",
    "# 3. Colunas de data:\n",
    "date_cols = [\n",
    "    'DT_NOTIFIC', 'DT_SIN_PRI', 'DT_INVEST', 'DT_COLETA',\n",
    "    'DT_NS1', 'DT_VIRAL', 'DT_PCR', 'DT_INTERNA', 'DT_ENCERRA',\n",
    "    'DT_OBITO','DT_ALRM','DT_GRAV','DT_DIGITA',''\n",
    "]\n",
    "\n",
    "# --- Aplicação das Conversões ---\n",
    "\n",
    "print(\"\\nIniciando processo de conversão de tipos...\")\n",
    "\n",
    "for col, dtype in numeric_cols.items():\n",
    "    if col in df_merge_dengue.columns:\n",
    "        df_merge_dengue[col] = pd.to_numeric(df_merge_dengue[col], errors='coerce').astype(dtype)\n",
    "\n",
    "for col in categorical_cols:\n",
    "    if col in df_merge_dengue.columns:\n",
    "        df_merge_dengue[col] = df_merge_dengue[col].astype(str).astype('category')\n",
    "\n",
    "for col in date_cols:\n",
    "    if col in df_merge_dengue.columns:\n",
    "        df_merge_dengue[col] = pd.to_datetime(df_merge_dengue[col], format=\"%Y%m%d\", errors='coerce')\n",
    "\n",
    "\n",
    "print(\"Conversão concluída!\")"
   ]
  },
  {
   "cell_type": "code",
   "execution_count": 17,
   "metadata": {},
   "outputs": [
    {
     "data": {
      "text/html": [
       "<div>\n",
       "<style scoped>\n",
       "    .dataframe tbody tr th:only-of-type {\n",
       "        vertical-align: middle;\n",
       "    }\n",
       "\n",
       "    .dataframe tbody tr th {\n",
       "        vertical-align: top;\n",
       "    }\n",
       "\n",
       "    .dataframe thead th {\n",
       "        text-align: right;\n",
       "    }\n",
       "</style>\n",
       "<table border=\"1\" class=\"dataframe\">\n",
       "  <thead>\n",
       "    <tr style=\"text-align: right;\">\n",
       "      <th></th>\n",
       "      <th>TP_NOT</th>\n",
       "      <th>ID_AGRAVO</th>\n",
       "      <th>DT_NOTIFIC</th>\n",
       "      <th>SEM_NOT</th>\n",
       "      <th>NU_ANO</th>\n",
       "      <th>SG_UF_NOT</th>\n",
       "      <th>ID_MUNICIP</th>\n",
       "      <th>ID_REGIONA</th>\n",
       "      <th>ID_UNIDADE</th>\n",
       "      <th>DT_SIN_PRI</th>\n",
       "      <th>...</th>\n",
       "      <th>DT_DIGITA</th>\n",
       "      <th>CS_FLXRET</th>\n",
       "      <th>FLXRECEBI</th>\n",
       "      <th>MIGRADO_W</th>\n",
       "      <th>UF_y</th>\n",
       "      <th>COD_UF</th>\n",
       "      <th>COD_MUNIC</th>\n",
       "      <th>NOME_DO_MUNICIPIO</th>\n",
       "      <th>COD_IBGE</th>\n",
       "      <th>COD_SINAN</th>\n",
       "    </tr>\n",
       "  </thead>\n",
       "  <tbody>\n",
       "    <tr>\n",
       "      <th>0</th>\n",
       "      <td>2</td>\n",
       "      <td>A90</td>\n",
       "      <td>2023-06-08</td>\n",
       "      <td>202323</td>\n",
       "      <td>2023</td>\n",
       "      <td>31</td>\n",
       "      <td>313760</td>\n",
       "      <td>1449</td>\n",
       "      <td>2120542</td>\n",
       "      <td>2023-06-06</td>\n",
       "      <td>...</td>\n",
       "      <td>2023-06-14</td>\n",
       "      <td>0</td>\n",
       "      <td></td>\n",
       "      <td></td>\n",
       "      <td>MG</td>\n",
       "      <td>31</td>\n",
       "      <td>37601</td>\n",
       "      <td>Lagoa Santa</td>\n",
       "      <td>3137601</td>\n",
       "      <td>313760</td>\n",
       "    </tr>\n",
       "    <tr>\n",
       "      <th>1</th>\n",
       "      <td>2</td>\n",
       "      <td>A90</td>\n",
       "      <td>2023-06-08</td>\n",
       "      <td>202323</td>\n",
       "      <td>2023</td>\n",
       "      <td>31</td>\n",
       "      <td>317020</td>\n",
       "      <td>1462</td>\n",
       "      <td>2152967</td>\n",
       "      <td>2023-06-07</td>\n",
       "      <td>...</td>\n",
       "      <td>2023-07-13</td>\n",
       "      <td>0</td>\n",
       "      <td></td>\n",
       "      <td></td>\n",
       "      <td>MG</td>\n",
       "      <td>31</td>\n",
       "      <td>70206</td>\n",
       "      <td>Uberlândia</td>\n",
       "      <td>3170206</td>\n",
       "      <td>317020</td>\n",
       "    </tr>\n",
       "    <tr>\n",
       "      <th>2</th>\n",
       "      <td>2</td>\n",
       "      <td>A90</td>\n",
       "      <td>2023-06-08</td>\n",
       "      <td>202323</td>\n",
       "      <td>2023</td>\n",
       "      <td>31</td>\n",
       "      <td>317020</td>\n",
       "      <td>1462</td>\n",
       "      <td>3170527</td>\n",
       "      <td>2023-05-14</td>\n",
       "      <td>...</td>\n",
       "      <td>2023-06-20</td>\n",
       "      <td>0</td>\n",
       "      <td></td>\n",
       "      <td></td>\n",
       "      <td>MG</td>\n",
       "      <td>31</td>\n",
       "      <td>70206</td>\n",
       "      <td>Uberlândia</td>\n",
       "      <td>3170206</td>\n",
       "      <td>317020</td>\n",
       "    </tr>\n",
       "    <tr>\n",
       "      <th>3</th>\n",
       "      <td>2</td>\n",
       "      <td>A90</td>\n",
       "      <td>2023-06-08</td>\n",
       "      <td>202323</td>\n",
       "      <td>2023</td>\n",
       "      <td>31</td>\n",
       "      <td>314010</td>\n",
       "      <td>1471</td>\n",
       "      <td>2119323</td>\n",
       "      <td>2023-05-18</td>\n",
       "      <td>...</td>\n",
       "      <td>2023-06-09</td>\n",
       "      <td>0</td>\n",
       "      <td></td>\n",
       "      <td></td>\n",
       "      <td>MG</td>\n",
       "      <td>31</td>\n",
       "      <td>40100</td>\n",
       "      <td>Marilac</td>\n",
       "      <td>3140100</td>\n",
       "      <td>314010</td>\n",
       "    </tr>\n",
       "    <tr>\n",
       "      <th>4</th>\n",
       "      <td>2</td>\n",
       "      <td>A90</td>\n",
       "      <td>2023-06-08</td>\n",
       "      <td>202323</td>\n",
       "      <td>2023</td>\n",
       "      <td>31</td>\n",
       "      <td>317010</td>\n",
       "      <td>1461</td>\n",
       "      <td>2164817</td>\n",
       "      <td>2023-06-07</td>\n",
       "      <td>...</td>\n",
       "      <td>2023-07-10</td>\n",
       "      <td>1</td>\n",
       "      <td></td>\n",
       "      <td></td>\n",
       "      <td>MG</td>\n",
       "      <td>31</td>\n",
       "      <td>70107</td>\n",
       "      <td>Uberaba</td>\n",
       "      <td>3170107</td>\n",
       "      <td>317010</td>\n",
       "    </tr>\n",
       "  </tbody>\n",
       "</table>\n",
       "<p>5 rows × 127 columns</p>\n",
       "</div>"
      ],
      "text/plain": [
       "  TP_NOT ID_AGRAVO DT_NOTIFIC SEM_NOT  NU_ANO SG_UF_NOT ID_MUNICIP ID_REGIONA  \\\n",
       "0      2     A90   2023-06-08  202323    2023        31     313760   1449       \n",
       "1      2     A90   2023-06-08  202323    2023        31     317020   1462       \n",
       "2      2     A90   2023-06-08  202323    2023        31     317020   1462       \n",
       "3      2     A90   2023-06-08  202323    2023        31     314010   1471       \n",
       "4      2     A90   2023-06-08  202323    2023        31     317010   1461       \n",
       "\n",
       "  ID_UNIDADE DT_SIN_PRI  ...  DT_DIGITA  CS_FLXRET  FLXRECEBI MIGRADO_W UF_y  \\\n",
       "0    2120542 2023-06-06  ... 2023-06-14          0                        MG   \n",
       "1    2152967 2023-06-07  ... 2023-07-13          0                        MG   \n",
       "2    3170527 2023-05-14  ... 2023-06-20          0                        MG   \n",
       "3    2119323 2023-05-18  ... 2023-06-09          0                        MG   \n",
       "4    2164817 2023-06-07  ... 2023-07-10          1                        MG   \n",
       "\n",
       "  COD_UF COD_MUNIC NOME_DO_MUNICIPIO COD_IBGE COD_SINAN  \n",
       "0     31     37601       Lagoa Santa  3137601    313760  \n",
       "1     31     70206        Uberlândia  3170206    317020  \n",
       "2     31     70206        Uberlândia  3170206    317020  \n",
       "3     31     40100           Marilac  3140100    314010  \n",
       "4     31     70107           Uberaba  3170107    317010  \n",
       "\n",
       "[5 rows x 127 columns]"
      ]
     },
     "execution_count": 17,
     "metadata": {},
     "output_type": "execute_result"
    }
   ],
   "source": [
    "df_merge_dengue.head()"
   ]
  },
  {
   "cell_type": "code",
   "execution_count": 18,
   "metadata": {},
   "outputs": [
    {
     "name": "stdout",
     "output_type": "stream",
     "text": [
      "\n",
      "==================================================\n",
      "Análise de Memória Após a Otimização\n",
      "==================================================\n",
      "Uso de memória final: 8391.85 MB\n",
      "\n",
      "Tipos de dados finais:\n",
      "<class 'pandas.core.frame.DataFrame'>\n",
      "RangeIndex: 7935706 entries, 0 to 7935705\n",
      "Data columns (total 127 columns):\n",
      " #    Column             Dtype         \n",
      "---   ------             -----         \n",
      " 0    TP_NOT             category      \n",
      " 1    ID_AGRAVO          category      \n",
      " 2    DT_NOTIFIC         datetime64[ns]\n",
      " 3    SEM_NOT            object        \n",
      " 4    NU_ANO             Int16         \n",
      " 5    SG_UF_NOT          category      \n",
      " 6    ID_MUNICIP         category      \n",
      " 7    ID_REGIONA         category      \n",
      " 8    ID_UNIDADE         category      \n",
      " 9    DT_SIN_PRI         datetime64[ns]\n",
      " 10   SEM_PRI            object        \n",
      " 11   ANO_NASC           Int16         \n",
      " 12   NU_IDADE_N         Int16         \n",
      " 13   CS_SEXO            category      \n",
      " 14   CS_GESTANT         category      \n",
      " 15   CS_RACA            category      \n",
      " 16   CS_ESCOL_N         category      \n",
      " 17   SG_UF              category      \n",
      " 18   ID_MN_RESI         category      \n",
      " 19   ID_RG_RESI         category      \n",
      " 20   ID_PAIS            category      \n",
      " 21   DT_INVEST          datetime64[ns]\n",
      " 22   ID_OCUPA_N         category      \n",
      " 23   FEBRE              Int8          \n",
      " 24   MIALGIA            Int8          \n",
      " 25   CEFALEIA           Int8          \n",
      " 26   EXANTEMA           Int8          \n",
      " 27   VOMITO             Int8          \n",
      " 28   NAUSEA             Int8          \n",
      " 29   DOR_COSTAS         Int8          \n",
      " 30   CONJUNTVIT         Int8          \n",
      " 31   ARTRITE            Int8          \n",
      " 32   ARTRALGIA          Int8          \n",
      " 33   PETEQUIA_N         Int8          \n",
      " 34   LEUCOPENIA         Int8          \n",
      " 35   LACO               Int8          \n",
      " 36   DOR_RETRO          Int8          \n",
      " 37   DIABETES           Int8          \n",
      " 38   HEMATOLOG          Int8          \n",
      " 39   HEPATOPAT          Int8          \n",
      " 40   RENAL              Int8          \n",
      " 41   HIPERTENSA         Int8          \n",
      " 42   ACIDO_PEPT         Int8          \n",
      " 43   AUTO_IMUNE         Int8          \n",
      " 44   DT_CHIK_S1         object        \n",
      " 45   DT_CHIK_S2         object        \n",
      " 46   DT_PRNT            object        \n",
      " 47   RES_CHIKS1         object        \n",
      " 48   RES_CHIKS2         object        \n",
      " 49   RESUL_PRNT         object        \n",
      " 50   DT_SORO            object        \n",
      " 51   RESUL_SORO         category      \n",
      " 52   DT_NS1             datetime64[ns]\n",
      " 53   RESUL_NS1          category      \n",
      " 54   DT_VIRAL           datetime64[ns]\n",
      " 55   RESUL_VI_N         category      \n",
      " 56   DT_PCR             datetime64[ns]\n",
      " 57   RESUL_PCR_         object        \n",
      " 58   SOROTIPO           category      \n",
      " 59   HISTOPA_N          category      \n",
      " 60   IMUNOH_N           category      \n",
      " 61   HOSPITALIZ         category      \n",
      " 62   DT_INTERNA         datetime64[ns]\n",
      " 63   UF_x               object        \n",
      " 64   MUNICIPIO          category      \n",
      " 65   TPAUTOCTO          category      \n",
      " 66   COUFINF            category      \n",
      " 67   COPAISINF          object        \n",
      " 68   COMUNINF           object        \n",
      " 69   CLASSI_FIN         category      \n",
      " 70   CRITERIO           category      \n",
      " 71   DOENCA_TRA         object        \n",
      " 72   CLINC_CHIK         object        \n",
      " 73   EVOLUCAO           category      \n",
      " 74   DT_OBITO           datetime64[ns]\n",
      " 75   DT_ENCERRA         datetime64[ns]\n",
      " 76   ALRM_HIPOT         Int8          \n",
      " 77   ALRM_PLAQ          Int8          \n",
      " 78   ALRM_VOM           Int8          \n",
      " 79   ALRM_SANG          Int8          \n",
      " 80   ALRM_HEMAT         Int8          \n",
      " 81   ALRM_ABDOM         Int8          \n",
      " 82   ALRM_LETAR         Int8          \n",
      " 83   ALRM_HEPAT         Int8          \n",
      " 84   ALRM_LIQ           Int8          \n",
      " 85   DT_ALRM            datetime64[ns]\n",
      " 86   GRAV_PULSO         Int8          \n",
      " 87   GRAV_CONV          Int8          \n",
      " 88   GRAV_ENCH          Int8          \n",
      " 89   GRAV_INSUF         Int8          \n",
      " 90   GRAV_TAQUI         Int8          \n",
      " 91   GRAV_EXTRE         object        \n",
      " 92   GRAV_HIPOT         Int8          \n",
      " 93   GRAV_HEMAT         Int8          \n",
      " 94   GRAV_MELEN         Int8          \n",
      " 95   GRAV_METRO         Int8          \n",
      " 96   GRAV_SANG          Int8          \n",
      " 97   GRAV_AST           Int8          \n",
      " 98   GRAV_MIOC          Int8          \n",
      " 99   GRAV_CONSC         Int8          \n",
      " 100  GRAV_ORGAO         Int8          \n",
      " 101  DT_GRAV            datetime64[ns]\n",
      " 102  MANI_HEMOR         category      \n",
      " 103  EPISTAXE           category      \n",
      " 104  GENGIVO            category      \n",
      " 105  METRO              category      \n",
      " 106  PETEQUIAS          category      \n",
      " 107  HEMATURA           category      \n",
      " 108  SANGRAM            category      \n",
      " 109  LACO_N             category      \n",
      " 110  PLASMATICO         category      \n",
      " 111  EVIDENCIA          category      \n",
      " 112  PLAQ_MENOR         category      \n",
      " 113  CON_FHD            category      \n",
      " 114  COMPLICA           category      \n",
      " 115  TP_SISTEMA         Int8          \n",
      " 116  NDUPLIC_N          Int8          \n",
      " 117  DT_DIGITA          datetime64[ns]\n",
      " 118  CS_FLXRET          Int8          \n",
      " 119  FLXRECEBI          category      \n",
      " 120  MIGRADO_W          category      \n",
      " 121  UF_y               category      \n",
      " 122  COD_UF             category      \n",
      " 123  COD_MUNIC          category      \n",
      " 124  NOME_DO_MUNICIPIO  category      \n",
      " 125  COD_IBGE           category      \n",
      " 126  COD_SINAN          category      \n",
      "dtypes: Int16(3), Int8(47), category(49), datetime64[ns](12), object(16)\n",
      "memory usage: 2.9+ GB\n",
      "None\n"
     ]
    }
   ],
   "source": [
    "# --- Análise Final ---\n",
    "print(\"\\n\" + \"=\"*50)\n",
    "print(\"Análise de Memória Após a Otimização\")\n",
    "print(\"=\"*50)\n",
    "memory_after = round(df_merge_dengue.memory_usage(deep=True).sum() / 1024**2,2)\n",
    "print(f\"Uso de memória final: {memory_after} MB\")\n",
    "print(\"\\nTipos de dados finais:\")\n",
    "print(df_merge_dengue.info(verbose=True))"
   ]
  },
  {
   "cell_type": "code",
   "execution_count": 19,
   "metadata": {},
   "outputs": [
    {
     "data": {
      "text/plain": [
       "49859.48"
      ]
     },
     "execution_count": 19,
     "metadata": {},
     "output_type": "execute_result"
    }
   ],
   "source": [
    "memory_before.item()"
   ]
  },
  {
   "cell_type": "code",
   "execution_count": 20,
   "metadata": {},
   "outputs": [
    {
     "data": {
      "image/png": "[encoded data removed]",
      "text/plain": [
       "<Figure size 700x500 with 1 Axes>"
      ]
     },
     "metadata": {},
     "output_type": "display_data"
    }
   ],
   "source": [
    "dados = pd.DataFrame({\n",
    "    \"Categoria\": [\"Valor Inicial\", \"Valor Final\"],\n",
    "    \"Valor\": [memory_before.item(), memory_after.item()]\n",
    "})\n",
    "\n",
    "# Cálculos\n",
    "reducao_abs = memory_before - memory_after\n",
    "reducao_pct = (reducao_abs / memory_before) * 100\n",
    "\n",
    "# Gráfico\n",
    "labels = [\"Antes\", \"Depois\"]\n",
    "values = [memory_before, memory_after]\n",
    "colors = [\"#F44336\", \"#4CAF50\"]  # vermelho, verde\n",
    "\n",
    "plt.figure(figsize=(7,5))\n",
    "bars = plt.bar(labels, values, color=colors)\n",
    "\n",
    "# Anotar valores em MB e (GB)\n",
    "for bar, val in zip(bars, values):\n",
    "    mb_txt = f\"{fmt_br(round(val,2))} MB\"\n",
    "    gb_txt = f\" ({fmt_br(round(val/1024))} GB)\"\n",
    "    plt.annotate(mb_txt + gb_txt,\n",
    "                 (bar.get_x() + bar.get_width()/2, bar.get_height()),\n",
    "                 ha=\"center\", va=\"bottom\", fontsize=10, fontweight=\"bold\",\n",
    "                 xytext=(0, 6), textcoords=\"offset points\")\n",
    "\n",
    "# Texto central com redução\n",
    "plt.annotate(f\"Redução: {fmt_br(round(reducao_abs,2))} MB ({fmt_br(round(reducao_pct,2))}%)\\n= {fmt_br(round(reducao_abs/1024,2))} GB\",\n",
    "             (0.5, max(values)*0.85),\n",
    "             ha=\"center\", va=\"center\", fontsize=11,\n",
    "             bbox=dict(facecolor=\"white\", edgecolor=\"gray\"))\n",
    "\n",
    "plt.title(\"Uso de Memória — Antes vs Depois da Otimização\")\n",
    "plt.ylabel(\"Memória (MB)\")\n",
    "plt.ylim(0, max(values)*1.2)\n",
    "plt.grid(axis=\"y\", linestyle=\"--\", alpha=0.4)\n",
    "\n",
    "plt.show()"
   ]
  },
  {
   "cell_type": "code",
   "execution_count": 50,
   "metadata": {},
   "outputs": [],
   "source": [
    "pd.set_option(\"display.max_columns\", None)"
   ]
  },
  {
   "cell_type": "code",
   "execution_count": 21,
   "metadata": {},
   "outputs": [],
   "source": [
    "df_merge_dengue.to_parquet(\"data_deduced.parquet\",index=False)"
   ]
  },
  {
   "cell_type": "markdown",
   "metadata": {
    "id": "exXIE15_i-mb"
   },
   "source": [
    "## Dicionário de Dados -- Dataset DENGBR23 (Casos de Dengue -- Brasil 2023)\n",
    "\n",
    "Este documento apresenta o mapeamento das colunas do dataset DENGBR23, contendo registros de casos de dengue notificados no Brasil em 2023. As definições foram extraídas e adaptadas a partir da documentação oficial do SINAN/DATASUS (Ministério da Saúde)."
   ]
  },
  {
   "cell_type": "markdown",
   "metadata": {
    "id": "12L_SVoXdnZd"
   },
   "source": [
    "## Dicionário de Dados -- Dataset DENGBR23 (Casos de Dengue -- Brasil 2023)\n",
    "\n",
    "Este documento apresenta o mapeamento das colunas do dataset DENGBR23, contendo registros de casos de dengue notificados no Brasil em 2023. As definições foram extraídas e adaptadas a partir da documentação oficial do SINAN/DATASUS (Ministério da Saúde)."
   ]
  },
  {
   "cell_type": "markdown",
   "metadata": {
    "id": "xL6LeP-uesOo"
   },
   "source": [
    "### Campos de Identificação da Notificação\n",
    "\n",
    "| Nome da Coluna | Descrição | Tipo de Dado |\n",
    "|----------------|-----------|--------------|\n",
    "| `tp_not` | Tipo de Notificação (1 = Negativa, 2 = Individual, 3 = Sarto, 4 = Agregado) | Texto (1) |\n",
    "| `id_agravo` | Código CID-10 da doença (ex.: A90 = dengue clássica, A91 = dengue hemorrágica) | Texto (5) |\n",
    "| `dt_notific` | Data da Notificação (quando a ficha foi preenchida) | Data |\n",
    "| `sem_not` | Semana Epidemiológica da Notificação (AAAASS) | Texto (6) |\n",
    "| `nu_ano` | Ano da notificação (AAAA) | Texto (4) |\n",
    "| `sg_uf_not` | Unidade Federativa (UF) onde foi notificado o caso (sigla IBGE) | Texto (2) |\n",
    "| `id_municip` | Município da notificação (código IBGE) | Texto (6) |\n",
    "| `id_regiona` | Regional de saúde da notificação | Texto (8) |\n",
    "| `id_unidade` | Unidade notificadora (CNES) | Texto (7) |"
   ]
  },
  {
   "cell_type": "markdown",
   "metadata": {
    "id": "eJ5wbXxte6Jr"
   },
   "source": [
    "### Dados do Paciente\n",
    "\n",
    "| Nome da Coluna | Descrição | Tipo de Dado |\n",
    "|----------------|-----------|--------------|\n",
    "| `dt_sin_pri` | Data de início dos primeiros sintomas | Data |\n",
    "| `sem_pri` | Semana epidemiológica dos primeiros sintomas (AAAASS) | Texto (6) |\n",
    "| `ano_nasc` | Ano de nascimento do paciente (AAAA) | Texto (4) |\n",
    "| `nu_idade_n` | Idade (1=horas, 2=dias, 3=meses, 4=anos; ex.: 4018 = 18 anos) | Número (4) |\n",
    "| `cs_sexo` | Sexo biológico (M=Masculino, F=Feminino, I=Ignorado) | Texto (1) |\n",
    "| `cs_gestant` | Gestante (1=1º Tri; 2=2º Tri; 3=3º Tri; 4=Gestão ignorada; 5=Não; 6=Não se aplica; 9=Ignorado) | Texto (1) |\n",
    "| `cs_raca` | Raça/cor (1=Branca, 2=Preta, 3=Amarela, 4=Parda, 5=Indígena, 9=Ignorado) | Texto (1) |\n",
    "| `cs_escol_n` | Escolaridade (0=Analfabeto; 1=1ª-4ª incompleto; 2=4ª completo; ...; 8=Superior completo; 9=Ignorado; 10=Não se aplica) | Texto (2) |"
   ]
  },
  {
   "cell_type": "markdown",
   "metadata": {
    "id": "JuCWdSkUe-ar"
   },
   "source": [
    "### Dados de Residência e Procedência\n",
    "\n",
    "| Nome da Coluna | Descrição | Tipo de Dado |\n",
    "|----------------|-----------|--------------|\n",
    "| `sg_uf` | Unidade Federativa de residência (sigla IBGE) | Texto (2) |\n",
    "| `id_mn_resi` | Município de residência (código IBGE) | Texto (6) |\n",
    "| `id_rg_resi` | Regional de saúde da residência | Texto (8) |\n",
    "| `id_pais` | País de residência (se exterior) | Texto (4) |\n",
    "| `dt_invest` | Data de início da investigação epidemiológica | Data |\n",
    "| `id_ocupa_n` | Ocupação (CBO) | Texto (6) |"
   ]
  },
  {
   "cell_type": "markdown",
   "metadata": {
    "id": "EnHkUCd5fC3h"
   },
   "source": [
    "### Sinais e Sintomas Clínicos\n",
    "\n",
    "Todos os campos abaixo: 1 = Sim, 2 = Não\n",
    "\n",
    "- `febre` -- Presença de febre  \n",
    "- `malgia` -- Dor muscular  \n",
    "- `cefaleta` -- Dor de cabeça  \n",
    "- `exantema` -- Manchas/vermelhidão na pele  \n",
    "- `vomito` -- Episódios de vômito  \n",
    "- `nausea` -- Náusea/enjoo  \n",
    "- `dor_costas` -- Dor nas costas  \n",
    "- `conjuntvit` -- Conjuntivite  \n",
    "- `artrite` -- Artrite  \n",
    "- `artralgia` -- Dor nas articulações  \n",
    "- `petequia_n` -- Petéquias  \n",
    "- `leucopenia` -- Leucopenia (exame de sangue)  \n",
    "- `laco` -- Prova do laço positiva  \n",
    "- `dor_retro` -- Dor retroorbital (atrás dos olhos)  "
   ]
  },
  {
   "cell_type": "markdown",
   "metadata": {
    "id": "uJuQi5tFfF6y"
   },
   "source": [
    "### Doenças Pré-existentes (Comorbidades)\n",
    "\n",
    "Todos os campos abaixo: 1 = Sim, 2 = Não\n",
    "\n",
    "- `diabetes` -- Diabetes mellitus  \n",
    "- `hematolog` -- Doenças hematológicas  \n",
    "- `hepatopat` -- Hepatopatias crônicas  \n",
    "- `renal` -- Doença renal crônica  \n",
    "- `hipertensa` -- Hipertensão arterial  \n",
    "- `acido_pept` -- Doença ácido-péptica  \n",
    "- `auto_imune` -- Doença autoimune  "
   ]
  },
  {
   "cell_type": "markdown",
   "metadata": {
    "id": "wLcaV9o2fJF0"
   },
   "source": [
    "### Exames Laboratoriais\n",
    "\n",
    "| Nome da Coluna | Descrição | Tipo de Dado |\n",
    "|----------------|-----------|--------------|\n",
    "| `dt_coleta` | Data da coleta de sorologia IgM | Data |\n",
    "| `resul_soro` | Resultado sorologia IgM (1=Reagente, 2=Não, 3=Inconclusivo, 4=Não realizado) | Texto (1) |\n",
    "| `dt_ns1` | Data coleta exame NS1 | Data |\n",
    "| `resul_ns1` | Resultado NS1 (1=Reagente, 2=Não, 3=Inconclusivo, 4=Não realizado) | Texto (1) |\n",
    "| `dt_viral` | Data coleta isolamento viral | Data |\n",
    "| `resul_vi_n` | Resultado isolamento viral | Texto (1) |\n",
    "| `dt_per` | Data coleta RT-PCR | Data |\n",
    "| `resul_per` | Resultado RT-PCR | Texto (1) |\n",
    "| `sorotipo` | Sorotipo do vírus (1=DEN-1, 2=DEN-2, 3=DEN-3, 4=DEN-4) | Texto (1) |\n",
    "| `histopa_n` | Resultado histopatologia | Texto (1) |\n",
    "| `imunoh_n` | Resultado imunohistoquímica | Texto (1) |"
   ]
  },
  {
   "cell_type": "markdown",
   "metadata": {
    "id": "Q0MJaQPOfM1N"
   },
   "source": [
    "### Hospitalização e Local da Infecção\n",
    "\n",
    "| Nome da Coluna | Descrição | Tipo de Dado |\n",
    "|----------------|-----------|--------------|\n",
    "| `hospitaliz` | Paciente foi hospitalizado? (1=Sim, 2=Não, 9=Ignorado) | Texto (1) |\n",
    "| `dt_interna` | Data da internação | Data |\n",
    "| `coufinf` | UF provável da infecção | Texto (2) |\n",
    "| `município` | Município provável da infecção | Texto (6) |\n",
    "| `tpautocto` | Caso autóctone do município de residência? (1=Sim, 2=Não, 3=Indeterminado) | Texto (1) |"
   ]
  },
  {
   "cell_type": "markdown",
   "metadata": {
    "id": "eKRsEX2cfPVZ"
   },
   "source": [
    "### Encerramento do Caso\n",
    "\n",
    "| Nome da Coluna | Descrição | Tipo de Dado |\n",
    "|----------------|-----------|--------------|\n",
    "| `classi_fin` | Classificação final (1=Confirmado, 2=Descartado, 9=Ignorado) | Texto (2) |\n",
    "| `criterio` | Critério de confirmação (1=Lab, 2=Clínico-epidemiológico, 3=Clínico, 4=Descartado) | Texto (1) |\n",
    "| `dt_encerra` | Data de encerramento | Data |\n",
    "| `evolucao` | Evolução (1=Cura, 2=Óbito por dengue, 3=Óbito por outras causas, 4=Óbito em investigação, 9=Ignorado) | Texto (1) |\n",
    "| `dt_obito` | Data do óbito (se aplicável) | Data |"
   ]
  },
  {
   "cell_type": "markdown",
   "metadata": {},
   "source": [
    "### 🦠 Exames laboratoriais de Chikungunya\n",
    "\n",
    "| Variável     | Descrição                    | Valores possíveis                                  |\n",
    "| ------------ | ---------------------------- | -------------------------------------------------- |\n",
    "| `DT_CHIK_S1` | Data da coleta da 1ª amostra | Data (`AAAA-MM-DD`)                                |\n",
    "| `DT_CHIK_S2` | Data da coleta da 2ª amostra | Data (`AAAA-MM-DD`)                                |\n",
    "| `DT_PRNT`    | Data do exame PRNT           | Data (`AAAA-MM-DD`)                                |\n",
    "| `DT_SORO`    | Data da sorologia            | Data (`AAAA-MM-DD`)                                |\n",
    "| `RES_CHIKS1` | Resultado da 1ª amostra CHIK | 1=Positivo, 2=Negativo, 3=Inconclusivo, 9=Ignorado |\n",
    "| `RES_CHIKS2` | Resultado da 2ª amostra CHIK | 1=Positivo, 2=Negativo, 3=Inconclusivo, 9=Ignorado |\n",
    "| `RESUL_PRNT` | Resultado do exame PRNT      | 1=Positivo, 2=Negativo, 3=Inconclusivo, 9=Ignorado |\n"
   ]
  },
  {
   "cell_type": "markdown",
   "metadata": {},
   "source": [
    "### 🌍 Identificação geográfica\n",
    "\n",
    "| Variável    | Descrição                          | Valores possíveis           |\n",
    "| ----------- | ---------------------------------- | --------------------------- |\n",
    "| `UF`        | Unidade da federação (IBGE 2 díg.) | Ex: 11=RO, 13=AM, etc.      |\n",
    "| `COPAISINF` | País de infecção                   | Código do país (076=Brasil) |\n",
    "| `COMUNINF`  | Comunidade/local da infecção       | Código local, variável      |\n"
   ]
  },
  {
   "cell_type": "markdown",
   "metadata": {},
   "source": [
    "### 🏥 Dados clínicos da doença\n",
    "\n",
    "| Variável     | Descrição                            | Valores possíveis              |\n",
    "| ------------ | ------------------------------------ | ------------------------------ |\n",
    "| `DOENCA_TRA` | Doença relacionada ao trabalho       | 1=Sim, 2=Não, 9=Ignorado       |\n",
    "| `CLINC_CHIK` | Classificação clínica da Chikungunya | 1=Aguda, 2=Crônica, 9=Ignorado |\n"
   ]
  },
  {
   "cell_type": "markdown",
   "metadata": {},
   "source": [
    "### Sinais de Alarme\n",
    "\n",
    "| Variável     | Descrição                              | Valores possíveis        |\n",
    "| ------------ | -------------------------------------- | ------------------------ |\n",
    "| `ALRM_HIPOT` | Hipotensão                             | 1=Sim, 2=Não, 9=Ignorado |\n",
    "| `ALRM_PLAQ`  | Plaquetopenia                          | 1=Sim, 2=Não, 9=Ignorado |\n",
    "| `ALRM_VOM`   | Vômitos persistentes                   | 1=Sim, 2=Não, 9=Ignorado |\n",
    "| `ALRM_SANG`  | Sangramento                            | 1=Sim, 2=Não, 9=Ignorado |\n",
    "| `ALRM_HEMAT` | Hematócrito aumentado                  | 1=Sim, 2=Não, 9=Ignorado |\n",
    "| `ALRM_ABDOM` | Dor abdominal                          | 1=Sim, 2=Não, 9=Ignorado |\n",
    "| `ALRM_LETAR` | Letargia                               | 1=Sim, 2=Não, 9=Ignorado |\n",
    "| `ALRM_HEPAT` | Hepatomegalia                          | 1=Sim, 2=Não, 9=Ignorado |\n",
    "| `ALRM_LIQ`   | Derrame cavitário                      | 1=Sim, 2=Não, 9=Ignorado |\n",
    "| `DT_ALRM`    | Data da ocorrência de sinais de alarme | Data (`AAAA-MM-DD`)      |\n"
   ]
  },
  {
   "cell_type": "markdown",
   "metadata": {},
   "source": [
    "### 🚨 Critérios de Gravidade\n",
    "\n",
    "| Variável     | Descrição                                 | Valores possíveis        |\n",
    "| ------------ | ----------------------------------------- | ------------------------ |\n",
    "| `GRAV_PULSO` | Pulso fraco/filiforme                     | 1=Sim, 2=Não, 9=Ignorado |\n",
    "| `GRAV_CONV`  | Convulsão                                 | 1=Sim, 2=Não, 9=Ignorado |\n",
    "| `GRAV_ENCH`  | Tempo de enchimento capilar prolongado    | 1=Sim, 2=Não, 9=Ignorado |\n",
    "| `GRAV_INSUF` | Insuficiência respiratória                | 1=Sim, 2=Não, 9=Ignorado |\n",
    "| `GRAV_TAQUI` | Taquicardia                               | 1=Sim, 2=Não, 9=Ignorado |\n",
    "| `GRAV_EXTRE` | Extremidades frias                        | 1=Sim, 2=Não, 9=Ignorado |\n",
    "| `GRAV_HIPOT` | Hipotensão grave                          | 1=Sim, 2=Não, 9=Ignorado |\n",
    "| `GRAV_HEMAT` | Hemorragia grave                          | 1=Sim, 2=Não, 9=Ignorado |\n",
    "| `GRAV_MELEN` | Melena                                    | 1=Sim, 2=Não, 9=Ignorado |\n",
    "| `GRAV_METRO` | Metrorragia                               | 1=Sim, 2=Não, 9=Ignorado |\n",
    "| `GRAV_SANG`  | Sangramento maciço                        | 1=Sim, 2=Não, 9=Ignorado |\n",
    "| `GRAV_AST`   | Astenia intensa                           | 1=Sim, 2=Não, 9=Ignorado |\n",
    "| `GRAV_MIOC`  | Miocardite                                | 1=Sim, 2=Não, 9=Ignorado |\n",
    "| `GRAV_CONSC` | Alteração de consciência                  | 1=Sim, 2=Não, 9=Ignorado |\n",
    "| `GRAV_ORGAO` | Disfunção de órgão                        | 1=Sim, 2=Não, 9=Ignorado |\n",
    "| `DT_GRAV`    | Data da ocorrência de sinais de gravidade | Data (`AAAA-MM-DD`)      |\n"
   ]
  },
  {
   "cell_type": "markdown",
   "metadata": {},
   "source": [
    "### 🩸 Manifestações Hemorrágica\n",
    "\n",
    "| Variável     | Descrição                      | Valores possíveis                  |\n",
    "| ------------ | ------------------------------ | ---------------------------------- |\n",
    "| `MANI_HEMOR` | Manifestação hemorrágica geral | 1=Sim, 2=Não, 9=Ignorado           |\n",
    "| `EPISTAXE`   | Epistaxe                       | 1=Sim, 2=Não, 9=Ignorado           |\n",
    "| `GENGIVO`    | Sangramento gengival           | 1=Sim, 2=Não, 9=Ignorado           |\n",
    "| `METRO`      | Metrorragia                    | 1=Sim, 2=Não, 9=Ignorado           |\n",
    "| `PETEQUIAS`  | Presença de petéquias          | 1=Sim, 2=Não, 9=Ignorado           |\n",
    "| `HEMATURA`   | Hematúria                      | 1=Sim, 2=Não, 9=Ignorado           |\n",
    "| `SANGRAM`    | Outros sangramentos            | 1=Sim, 2=Não, 9=Ignorado           |\n",
    "| `LACO_N`     | Teste do laço                  | 1=Positivo, 2=Negativo, 9=Ignorado |\n",
    "| `PLASMATICO` | Extravasamento plasmático      | 1=Sim, 2=Não, 9=Ignorado           |\n",
    "| `EVIDENCIA`  | Evidência clínica de dengue    | 1=Sim, 2=Não, 9=Ignorado           |\n",
    "| `PLAQ_MENOR` | Plaquetas < 100.000            | 1=Sim, 2=Não, 9=Ignorado           |\n",
    "| `CON_FHD`    | Caso confirmado de FHD         | 1=Sim, 2=Não, 9=Ignorado           |\n"
   ]
  },
  {
   "cell_type": "markdown",
   "metadata": {},
   "source": [
    "### 🧾 Dados administrativos\n",
    "\n",
    "| Variável     | Descrição                       | Valores possíveis        |\n",
    "| ------------ | ------------------------------- | ------------------------ |\n",
    "| `COMPLICA`   | Complicações                    | 1=Sim, 2=Não, 9=Ignorado |\n",
    "| `TP_SISTEMA` | Tipo de sistema                 | 1=Online, 2=Offline      |\n",
    "| `NDUPLIC_N`  | Número de notificação duplicada | Código interno           |\n",
    "| `DT_DIGITA`  | Data da digitação da ficha      | Data (`AAAA-MM-DD`)      |\n",
    "| `CS_FLXRET`  | Fluxo de retorno do caso        | Controle interno         |\n",
    "| `FLXRECEBI`  | Recebimento no sistema          | Controle interno         |\n",
    "| `MIGRADO_W`  | Migrado de sistema anterior     | 1=Sim, 2=Não             |\n"
   ]
  },
  {
   "cell_type": "markdown",
   "metadata": {
    "id": "AH0B2kxOfRqB"
   },
   "source": [
    "### Fontes e Referências\n",
    "\n",
    "- Ministério da Saúde -- SINAN. Dicionário de Dados do SINAN Dengue  \n",
    "- Documentação DATASUS -- Layout de arquivos de microdados de Dengue  \n",
    "- Instruções técnicas sobre preenchimento de fichas de notificação"
   ]
  },
  {
   "cell_type": "markdown",
   "metadata": {
    "id": "ot_yh1DTPOBD"
   },
   "source": [
    "## Workflow"
   ]
  },
  {
   "cell_type": "code",
   "execution_count": 22,
   "metadata": {
    "colab": {
     "base_uri": "https://localhost:8080/",
     "height": 444
    },
    "id": "vcrtsiFnX1UH",
    "outputId": "745f8833-274d-4677-dfab-392196f7db49"
   },
   "outputs": [],
   "source": [
    "dengue = df_merge_dengue"
   ]
  },
  {
   "cell_type": "code",
   "execution_count": 23,
   "metadata": {
    "colab": {
     "base_uri": "https://localhost:8080/"
    },
    "id": "mQ3dWvqoX1US",
    "outputId": "7ff0b885-be25-4658-ff9f-8481c013a9eb"
   },
   "outputs": [
    {
     "data": {
      "text/plain": [
       "Index(['TP_NOT', 'ID_AGRAVO', 'DT_NOTIFIC', 'SEM_NOT', 'NU_ANO', 'SG_UF_NOT',\n",
       "       'ID_MUNICIP', 'ID_REGIONA', 'ID_UNIDADE', 'DT_SIN_PRI',\n",
       "       ...\n",
       "       'DT_DIGITA', 'CS_FLXRET', 'FLXRECEBI', 'MIGRADO_W', 'UF_y', 'COD_UF',\n",
       "       'COD_MUNIC', 'NOME_DO_MUNICIPIO', 'COD_IBGE', 'COD_SINAN'],\n",
       "      dtype='object', length=127)"
      ]
     },
     "execution_count": 23,
     "metadata": {},
     "output_type": "execute_result"
    }
   ],
   "source": [
    "dengue.columns"
   ]
  },
  {
   "cell_type": "code",
   "execution_count": 24,
   "metadata": {
    "colab": {
     "base_uri": "https://localhost:8080/"
    },
    "id": "E3nUOB0iX1US",
    "outputId": "778acdba-7722-4882-e117-91878b576002"
   },
   "outputs": [
    {
     "name": "stdout",
     "output_type": "stream",
     "text": [
      "<class 'pandas.core.frame.DataFrame'>\n",
      "RangeIndex: 7935706 entries, 0 to 7935705\n",
      "Columns: 127 entries, TP_NOT to COD_SINAN\n",
      "dtypes: Int16(3), Int8(47), category(49), datetime64[ns](12), object(16)\n",
      "memory usage: 2.9+ GB\n"
     ]
    }
   ],
   "source": [
    "dengue.info()"
   ]
  },
  {
   "cell_type": "code",
   "execution_count": 25,
   "metadata": {
    "colab": {
     "base_uri": "https://localhost:8080/",
     "height": 224
    },
    "id": "pSFdkVERX1US",
    "outputId": "e14d1097-3c3c-4438-cb36-7a9901dd46fa"
   },
   "outputs": [
    {
     "data": {
      "text/html": [
       "<div>\n",
       "<style scoped>\n",
       "    .dataframe tbody tr th:only-of-type {\n",
       "        vertical-align: middle;\n",
       "    }\n",
       "\n",
       "    .dataframe tbody tr th {\n",
       "        vertical-align: top;\n",
       "    }\n",
       "\n",
       "    .dataframe thead th {\n",
       "        text-align: right;\n",
       "    }\n",
       "</style>\n",
       "<table border=\"1\" class=\"dataframe\">\n",
       "  <thead>\n",
       "    <tr style=\"text-align: right;\">\n",
       "      <th></th>\n",
       "      <th>count</th>\n",
       "      <th>mean</th>\n",
       "      <th>std</th>\n",
       "      <th>min</th>\n",
       "      <th>25%</th>\n",
       "      <th>50%</th>\n",
       "      <th>75%</th>\n",
       "      <th>max</th>\n",
       "    </tr>\n",
       "  </thead>\n",
       "  <tbody>\n",
       "    <tr>\n",
       "      <th>NU_ANO</th>\n",
       "      <td>7935706.0</td>\n",
       "      <td>2023.809855</td>\n",
       "      <td>0.392415</td>\n",
       "      <td>2023.0</td>\n",
       "      <td>2024.0</td>\n",
       "      <td>2024.0</td>\n",
       "      <td>2024.0</td>\n",
       "      <td>2024.0</td>\n",
       "    </tr>\n",
       "    <tr>\n",
       "      <th>ANO_NASC</th>\n",
       "      <td>7899840.0</td>\n",
       "      <td>1987.162835</td>\n",
       "      <td>20.068589</td>\n",
       "      <td>1900.0</td>\n",
       "      <td>1973.0</td>\n",
       "      <td>1989.0</td>\n",
       "      <td>2003.0</td>\n",
       "      <td>2024.0</td>\n",
       "    </tr>\n",
       "    <tr>\n",
       "      <th>NU_IDADE_N</th>\n",
       "      <td>7935706.0</td>\n",
       "      <td>4024.467012</td>\n",
       "      <td>138.726568</td>\n",
       "      <td>0.0</td>\n",
       "      <td>4020.0</td>\n",
       "      <td>4034.0</td>\n",
       "      <td>4050.0</td>\n",
       "      <td>4999.0</td>\n",
       "    </tr>\n",
       "    <tr>\n",
       "      <th>FEBRE</th>\n",
       "      <td>7768633.0</td>\n",
       "      <td>1.146897</td>\n",
       "      <td>0.354003</td>\n",
       "      <td>1.0</td>\n",
       "      <td>1.0</td>\n",
       "      <td>1.0</td>\n",
       "      <td>1.0</td>\n",
       "      <td>2.0</td>\n",
       "    </tr>\n",
       "    <tr>\n",
       "      <th>MIALGIA</th>\n",
       "      <td>7768633.0</td>\n",
       "      <td>1.202912</td>\n",
       "      <td>0.402167</td>\n",
       "      <td>1.0</td>\n",
       "      <td>1.0</td>\n",
       "      <td>1.0</td>\n",
       "      <td>1.0</td>\n",
       "      <td>2.0</td>\n",
       "    </tr>\n",
       "    <tr>\n",
       "      <th>CEFALEIA</th>\n",
       "      <td>7768633.0</td>\n",
       "      <td>1.201179</td>\n",
       "      <td>0.400881</td>\n",
       "      <td>1.0</td>\n",
       "      <td>1.0</td>\n",
       "      <td>1.0</td>\n",
       "      <td>1.0</td>\n",
       "      <td>2.0</td>\n",
       "    </tr>\n",
       "    <tr>\n",
       "      <th>EXANTEMA</th>\n",
       "      <td>7768633.0</td>\n",
       "      <td>1.89915</td>\n",
       "      <td>0.30113</td>\n",
       "      <td>1.0</td>\n",
       "      <td>2.0</td>\n",
       "      <td>2.0</td>\n",
       "      <td>2.0</td>\n",
       "      <td>2.0</td>\n",
       "    </tr>\n",
       "    <tr>\n",
       "      <th>VOMITO</th>\n",
       "      <td>7768633.0</td>\n",
       "      <td>1.730972</td>\n",
       "      <td>0.443455</td>\n",
       "      <td>1.0</td>\n",
       "      <td>1.0</td>\n",
       "      <td>2.0</td>\n",
       "      <td>2.0</td>\n",
       "      <td>2.0</td>\n",
       "    </tr>\n",
       "    <tr>\n",
       "      <th>NAUSEA</th>\n",
       "      <td>7768633.0</td>\n",
       "      <td>1.567267</td>\n",
       "      <td>0.495454</td>\n",
       "      <td>1.0</td>\n",
       "      <td>1.0</td>\n",
       "      <td>2.0</td>\n",
       "      <td>2.0</td>\n",
       "      <td>2.0</td>\n",
       "    </tr>\n",
       "    <tr>\n",
       "      <th>DOR_COSTAS</th>\n",
       "      <td>7768633.0</td>\n",
       "      <td>1.695687</td>\n",
       "      <td>0.460116</td>\n",
       "      <td>1.0</td>\n",
       "      <td>1.0</td>\n",
       "      <td>2.0</td>\n",
       "      <td>2.0</td>\n",
       "      <td>2.0</td>\n",
       "    </tr>\n",
       "    <tr>\n",
       "      <th>CONJUNTVIT</th>\n",
       "      <td>7768633.0</td>\n",
       "      <td>1.961797</td>\n",
       "      <td>0.191685</td>\n",
       "      <td>1.0</td>\n",
       "      <td>2.0</td>\n",
       "      <td>2.0</td>\n",
       "      <td>2.0</td>\n",
       "      <td>2.0</td>\n",
       "    </tr>\n",
       "    <tr>\n",
       "      <th>ARTRITE</th>\n",
       "      <td>7768633.0</td>\n",
       "      <td>1.904458</td>\n",
       "      <td>0.293962</td>\n",
       "      <td>1.0</td>\n",
       "      <td>2.0</td>\n",
       "      <td>2.0</td>\n",
       "      <td>2.0</td>\n",
       "      <td>2.0</td>\n",
       "    </tr>\n",
       "    <tr>\n",
       "      <th>ARTRALGIA</th>\n",
       "      <td>7768633.0</td>\n",
       "      <td>1.825471</td>\n",
       "      <td>0.379564</td>\n",
       "      <td>1.0</td>\n",
       "      <td>2.0</td>\n",
       "      <td>2.0</td>\n",
       "      <td>2.0</td>\n",
       "      <td>2.0</td>\n",
       "    </tr>\n",
       "    <tr>\n",
       "      <th>PETEQUIA_N</th>\n",
       "      <td>7768633.0</td>\n",
       "      <td>1.942554</td>\n",
       "      <td>0.232694</td>\n",
       "      <td>1.0</td>\n",
       "      <td>2.0</td>\n",
       "      <td>2.0</td>\n",
       "      <td>2.0</td>\n",
       "      <td>2.0</td>\n",
       "    </tr>\n",
       "    <tr>\n",
       "      <th>LEUCOPENIA</th>\n",
       "      <td>7768633.0</td>\n",
       "      <td>1.961035</td>\n",
       "      <td>0.193512</td>\n",
       "      <td>1.0</td>\n",
       "      <td>2.0</td>\n",
       "      <td>2.0</td>\n",
       "      <td>2.0</td>\n",
       "      <td>2.0</td>\n",
       "    </tr>\n",
       "    <tr>\n",
       "      <th>LACO</th>\n",
       "      <td>7768633.0</td>\n",
       "      <td>1.965075</td>\n",
       "      <td>0.18359</td>\n",
       "      <td>1.0</td>\n",
       "      <td>2.0</td>\n",
       "      <td>2.0</td>\n",
       "      <td>2.0</td>\n",
       "      <td>2.0</td>\n",
       "    </tr>\n",
       "    <tr>\n",
       "      <th>DOR_RETRO</th>\n",
       "      <td>7768633.0</td>\n",
       "      <td>1.680034</td>\n",
       "      <td>0.466463</td>\n",
       "      <td>1.0</td>\n",
       "      <td>1.0</td>\n",
       "      <td>2.0</td>\n",
       "      <td>2.0</td>\n",
       "      <td>2.0</td>\n",
       "    </tr>\n",
       "    <tr>\n",
       "      <th>DIABETES</th>\n",
       "      <td>7768633.0</td>\n",
       "      <td>1.956712</td>\n",
       "      <td>0.203505</td>\n",
       "      <td>1.0</td>\n",
       "      <td>2.0</td>\n",
       "      <td>2.0</td>\n",
       "      <td>2.0</td>\n",
       "      <td>2.0</td>\n",
       "    </tr>\n",
       "    <tr>\n",
       "      <th>HEMATOLOG</th>\n",
       "      <td>7768633.0</td>\n",
       "      <td>1.994367</td>\n",
       "      <td>0.074839</td>\n",
       "      <td>1.0</td>\n",
       "      <td>2.0</td>\n",
       "      <td>2.0</td>\n",
       "      <td>2.0</td>\n",
       "      <td>2.0</td>\n",
       "    </tr>\n",
       "    <tr>\n",
       "      <th>HEPATOPAT</th>\n",
       "      <td>7768633.0</td>\n",
       "      <td>1.994439</td>\n",
       "      <td>0.074362</td>\n",
       "      <td>1.0</td>\n",
       "      <td>2.0</td>\n",
       "      <td>2.0</td>\n",
       "      <td>2.0</td>\n",
       "      <td>2.0</td>\n",
       "    </tr>\n",
       "    <tr>\n",
       "      <th>RENAL</th>\n",
       "      <td>7768633.0</td>\n",
       "      <td>1.994797</td>\n",
       "      <td>0.071946</td>\n",
       "      <td>1.0</td>\n",
       "      <td>2.0</td>\n",
       "      <td>2.0</td>\n",
       "      <td>2.0</td>\n",
       "      <td>2.0</td>\n",
       "    </tr>\n",
       "    <tr>\n",
       "      <th>HIPERTENSA</th>\n",
       "      <td>7768633.0</td>\n",
       "      <td>1.899951</td>\n",
       "      <td>0.300065</td>\n",
       "      <td>1.0</td>\n",
       "      <td>2.0</td>\n",
       "      <td>2.0</td>\n",
       "      <td>2.0</td>\n",
       "      <td>2.0</td>\n",
       "    </tr>\n",
       "    <tr>\n",
       "      <th>ACIDO_PEPT</th>\n",
       "      <td>7768633.0</td>\n",
       "      <td>1.994395</td>\n",
       "      <td>0.074657</td>\n",
       "      <td>1.0</td>\n",
       "      <td>2.0</td>\n",
       "      <td>2.0</td>\n",
       "      <td>2.0</td>\n",
       "      <td>2.0</td>\n",
       "    </tr>\n",
       "    <tr>\n",
       "      <th>AUTO_IMUNE</th>\n",
       "      <td>7768633.0</td>\n",
       "      <td>1.992902</td>\n",
       "      <td>0.083951</td>\n",
       "      <td>1.0</td>\n",
       "      <td>2.0</td>\n",
       "      <td>2.0</td>\n",
       "      <td>2.0</td>\n",
       "      <td>2.0</td>\n",
       "    </tr>\n",
       "    <tr>\n",
       "      <th>ALRM_HIPOT</th>\n",
       "      <td>136746.0</td>\n",
       "      <td>1.822203</td>\n",
       "      <td>0.382343</td>\n",
       "      <td>1.0</td>\n",
       "      <td>2.0</td>\n",
       "      <td>2.0</td>\n",
       "      <td>2.0</td>\n",
       "      <td>2.0</td>\n",
       "    </tr>\n",
       "    <tr>\n",
       "      <th>ALRM_PLAQ</th>\n",
       "      <td>136941.0</td>\n",
       "      <td>1.486662</td>\n",
       "      <td>0.499824</td>\n",
       "      <td>1.0</td>\n",
       "      <td>1.0</td>\n",
       "      <td>1.0</td>\n",
       "      <td>2.0</td>\n",
       "      <td>2.0</td>\n",
       "    </tr>\n",
       "    <tr>\n",
       "      <th>ALRM_VOM</th>\n",
       "      <td>136480.0</td>\n",
       "      <td>1.83624</td>\n",
       "      <td>0.370059</td>\n",
       "      <td>1.0</td>\n",
       "      <td>2.0</td>\n",
       "      <td>2.0</td>\n",
       "      <td>2.0</td>\n",
       "      <td>2.0</td>\n",
       "    </tr>\n",
       "    <tr>\n",
       "      <th>ALRM_SANG</th>\n",
       "      <td>136811.0</td>\n",
       "      <td>1.747878</td>\n",
       "      <td>0.434232</td>\n",
       "      <td>1.0</td>\n",
       "      <td>1.0</td>\n",
       "      <td>2.0</td>\n",
       "      <td>2.0</td>\n",
       "      <td>2.0</td>\n",
       "    </tr>\n",
       "    <tr>\n",
       "      <th>ALRM_HEMAT</th>\n",
       "      <td>136244.0</td>\n",
       "      <td>1.941818</td>\n",
       "      <td>0.234089</td>\n",
       "      <td>1.0</td>\n",
       "      <td>2.0</td>\n",
       "      <td>2.0</td>\n",
       "      <td>2.0</td>\n",
       "      <td>2.0</td>\n",
       "    </tr>\n",
       "    <tr>\n",
       "      <th>ALRM_ABDOM</th>\n",
       "      <td>137308.0</td>\n",
       "      <td>1.609928</td>\n",
       "      <td>0.487768</td>\n",
       "      <td>1.0</td>\n",
       "      <td>1.0</td>\n",
       "      <td>2.0</td>\n",
       "      <td>2.0</td>\n",
       "      <td>2.0</td>\n",
       "    </tr>\n",
       "    <tr>\n",
       "      <th>ALRM_LETAR</th>\n",
       "      <td>136969.0</td>\n",
       "      <td>1.887653</td>\n",
       "      <td>0.315794</td>\n",
       "      <td>1.0</td>\n",
       "      <td>2.0</td>\n",
       "      <td>2.0</td>\n",
       "      <td>2.0</td>\n",
       "      <td>2.0</td>\n",
       "    </tr>\n",
       "    <tr>\n",
       "      <th>ALRM_HEPAT</th>\n",
       "      <td>136120.0</td>\n",
       "      <td>1.986674</td>\n",
       "      <td>0.114669</td>\n",
       "      <td>1.0</td>\n",
       "      <td>2.0</td>\n",
       "      <td>2.0</td>\n",
       "      <td>2.0</td>\n",
       "      <td>2.0</td>\n",
       "    </tr>\n",
       "    <tr>\n",
       "      <th>ALRM_LIQ</th>\n",
       "      <td>136129.0</td>\n",
       "      <td>1.971674</td>\n",
       "      <td>0.165903</td>\n",
       "      <td>1.0</td>\n",
       "      <td>2.0</td>\n",
       "      <td>2.0</td>\n",
       "      <td>2.0</td>\n",
       "      <td>2.0</td>\n",
       "    </tr>\n",
       "    <tr>\n",
       "      <th>GRAV_PULSO</th>\n",
       "      <td>11365.0</td>\n",
       "      <td>1.810031</td>\n",
       "      <td>0.392294</td>\n",
       "      <td>1.0</td>\n",
       "      <td>2.0</td>\n",
       "      <td>2.0</td>\n",
       "      <td>2.0</td>\n",
       "      <td>2.0</td>\n",
       "    </tr>\n",
       "    <tr>\n",
       "      <th>GRAV_CONV</th>\n",
       "      <td>11345.0</td>\n",
       "      <td>1.906126</td>\n",
       "      <td>0.291666</td>\n",
       "      <td>1.0</td>\n",
       "      <td>2.0</td>\n",
       "      <td>2.0</td>\n",
       "      <td>2.0</td>\n",
       "      <td>2.0</td>\n",
       "    </tr>\n",
       "    <tr>\n",
       "      <th>GRAV_ENCH</th>\n",
       "      <td>11338.0</td>\n",
       "      <td>1.845828</td>\n",
       "      <td>0.361129</td>\n",
       "      <td>1.0</td>\n",
       "      <td>2.0</td>\n",
       "      <td>2.0</td>\n",
       "      <td>2.0</td>\n",
       "      <td>2.0</td>\n",
       "    </tr>\n",
       "    <tr>\n",
       "      <th>GRAV_INSUF</th>\n",
       "      <td>11347.0</td>\n",
       "      <td>1.819336</td>\n",
       "      <td>0.384757</td>\n",
       "      <td>1.0</td>\n",
       "      <td>2.0</td>\n",
       "      <td>2.0</td>\n",
       "      <td>2.0</td>\n",
       "      <td>2.0</td>\n",
       "    </tr>\n",
       "    <tr>\n",
       "      <th>GRAV_TAQUI</th>\n",
       "      <td>11360.0</td>\n",
       "      <td>1.678609</td>\n",
       "      <td>0.467031</td>\n",
       "      <td>1.0</td>\n",
       "      <td>1.0</td>\n",
       "      <td>2.0</td>\n",
       "      <td>2.0</td>\n",
       "      <td>2.0</td>\n",
       "    </tr>\n",
       "    <tr>\n",
       "      <th>GRAV_HIPOT</th>\n",
       "      <td>11344.0</td>\n",
       "      <td>1.778826</td>\n",
       "      <td>0.415056</td>\n",
       "      <td>1.0</td>\n",
       "      <td>2.0</td>\n",
       "      <td>2.0</td>\n",
       "      <td>2.0</td>\n",
       "      <td>2.0</td>\n",
       "    </tr>\n",
       "    <tr>\n",
       "      <th>GRAV_HEMAT</th>\n",
       "      <td>11353.0</td>\n",
       "      <td>1.826742</td>\n",
       "      <td>0.378487</td>\n",
       "      <td>1.0</td>\n",
       "      <td>2.0</td>\n",
       "      <td>2.0</td>\n",
       "      <td>2.0</td>\n",
       "      <td>2.0</td>\n",
       "    </tr>\n",
       "    <tr>\n",
       "      <th>GRAV_MELEN</th>\n",
       "      <td>11341.0</td>\n",
       "      <td>1.861123</td>\n",
       "      <td>0.345833</td>\n",
       "      <td>1.0</td>\n",
       "      <td>2.0</td>\n",
       "      <td>2.0</td>\n",
       "      <td>2.0</td>\n",
       "      <td>2.0</td>\n",
       "    </tr>\n",
       "    <tr>\n",
       "      <th>GRAV_METRO</th>\n",
       "      <td>11320.0</td>\n",
       "      <td>1.917491</td>\n",
       "      <td>0.275151</td>\n",
       "      <td>1.0</td>\n",
       "      <td>2.0</td>\n",
       "      <td>2.0</td>\n",
       "      <td>2.0</td>\n",
       "      <td>2.0</td>\n",
       "    </tr>\n",
       "    <tr>\n",
       "      <th>GRAV_SANG</th>\n",
       "      <td>11313.0</td>\n",
       "      <td>1.978078</td>\n",
       "      <td>0.146434</td>\n",
       "      <td>1.0</td>\n",
       "      <td>2.0</td>\n",
       "      <td>2.0</td>\n",
       "      <td>2.0</td>\n",
       "      <td>2.0</td>\n",
       "    </tr>\n",
       "    <tr>\n",
       "      <th>GRAV_AST</th>\n",
       "      <td>11306.0</td>\n",
       "      <td>1.954007</td>\n",
       "      <td>0.20948</td>\n",
       "      <td>1.0</td>\n",
       "      <td>2.0</td>\n",
       "      <td>2.0</td>\n",
       "      <td>2.0</td>\n",
       "      <td>2.0</td>\n",
       "    </tr>\n",
       "    <tr>\n",
       "      <th>GRAV_MIOC</th>\n",
       "      <td>11305.0</td>\n",
       "      <td>1.974878</td>\n",
       "      <td>0.156501</td>\n",
       "      <td>1.0</td>\n",
       "      <td>2.0</td>\n",
       "      <td>2.0</td>\n",
       "      <td>2.0</td>\n",
       "      <td>2.0</td>\n",
       "    </tr>\n",
       "    <tr>\n",
       "      <th>GRAV_CONSC</th>\n",
       "      <td>11334.0</td>\n",
       "      <td>1.683519</td>\n",
       "      <td>0.465124</td>\n",
       "      <td>1.0</td>\n",
       "      <td>1.0</td>\n",
       "      <td>2.0</td>\n",
       "      <td>2.0</td>\n",
       "      <td>2.0</td>\n",
       "    </tr>\n",
       "    <tr>\n",
       "      <th>GRAV_ORGAO</th>\n",
       "      <td>11305.0</td>\n",
       "      <td>1.843344</td>\n",
       "      <td>0.363493</td>\n",
       "      <td>1.0</td>\n",
       "      <td>2.0</td>\n",
       "      <td>2.0</td>\n",
       "      <td>2.0</td>\n",
       "      <td>2.0</td>\n",
       "    </tr>\n",
       "    <tr>\n",
       "      <th>TP_SISTEMA</th>\n",
       "      <td>7802106.0</td>\n",
       "      <td>2.0</td>\n",
       "      <td>0.0</td>\n",
       "      <td>2.0</td>\n",
       "      <td>2.0</td>\n",
       "      <td>2.0</td>\n",
       "      <td>2.0</td>\n",
       "      <td>2.0</td>\n",
       "    </tr>\n",
       "    <tr>\n",
       "      <th>NDUPLIC_N</th>\n",
       "      <td>15596.0</td>\n",
       "      <td>1.0</td>\n",
       "      <td>0.0</td>\n",
       "      <td>1.0</td>\n",
       "      <td>1.0</td>\n",
       "      <td>1.0</td>\n",
       "      <td>1.0</td>\n",
       "      <td>1.0</td>\n",
       "    </tr>\n",
       "    <tr>\n",
       "      <th>CS_FLXRET</th>\n",
       "      <td>7935699.0</td>\n",
       "      <td>0.407007</td>\n",
       "      <td>0.491276</td>\n",
       "      <td>0.0</td>\n",
       "      <td>0.0</td>\n",
       "      <td>0.0</td>\n",
       "      <td>1.0</td>\n",
       "      <td>1.0</td>\n",
       "    </tr>\n",
       "  </tbody>\n",
       "</table>\n",
       "</div>"
      ],
      "text/plain": [
       "                count         mean         std     min     25%     50%  \\\n",
       "NU_ANO      7935706.0  2023.809855    0.392415  2023.0  2024.0  2024.0   \n",
       "ANO_NASC    7899840.0  1987.162835   20.068589  1900.0  1973.0  1989.0   \n",
       "NU_IDADE_N  7935706.0  4024.467012  138.726568     0.0  4020.0  4034.0   \n",
       "FEBRE       7768633.0     1.146897    0.354003     1.0     1.0     1.0   \n",
       "MIALGIA     7768633.0     1.202912    0.402167     1.0     1.0     1.0   \n",
       "CEFALEIA    7768633.0     1.201179    0.400881     1.0     1.0     1.0   \n",
       "EXANTEMA    7768633.0      1.89915     0.30113     1.0     2.0     2.0   \n",
       "VOMITO      7768633.0     1.730972    0.443455     1.0     1.0     2.0   \n",
       "NAUSEA      7768633.0     1.567267    0.495454     1.0     1.0     2.0   \n",
       "DOR_COSTAS  7768633.0     1.695687    0.460116     1.0     1.0     2.0   \n",
       "CONJUNTVIT  7768633.0     1.961797    0.191685     1.0     2.0     2.0   \n",
       "ARTRITE     7768633.0     1.904458    0.293962     1.0     2.0     2.0   \n",
       "ARTRALGIA   7768633.0     1.825471    0.379564     1.0     2.0     2.0   \n",
       "PETEQUIA_N  7768633.0     1.942554    0.232694     1.0     2.0     2.0   \n",
       "LEUCOPENIA  7768633.0     1.961035    0.193512     1.0     2.0     2.0   \n",
       "LACO        7768633.0     1.965075     0.18359     1.0     2.0     2.0   \n",
       "DOR_RETRO   7768633.0     1.680034    0.466463     1.0     1.0     2.0   \n",
       "DIABETES    7768633.0     1.956712    0.203505     1.0     2.0     2.0   \n",
       "HEMATOLOG   7768633.0     1.994367    0.074839     1.0     2.0     2.0   \n",
       "HEPATOPAT   7768633.0     1.994439    0.074362     1.0     2.0     2.0   \n",
       "RENAL       7768633.0     1.994797    0.071946     1.0     2.0     2.0   \n",
       "HIPERTENSA  7768633.0     1.899951    0.300065     1.0     2.0     2.0   \n",
       "ACIDO_PEPT  7768633.0     1.994395    0.074657     1.0     2.0     2.0   \n",
       "AUTO_IMUNE  7768633.0     1.992902    0.083951     1.0     2.0     2.0   \n",
       "ALRM_HIPOT   136746.0     1.822203    0.382343     1.0     2.0     2.0   \n",
       "ALRM_PLAQ    136941.0     1.486662    0.499824     1.0     1.0     1.0   \n",
       "ALRM_VOM     136480.0      1.83624    0.370059     1.0     2.0     2.0   \n",
       "ALRM_SANG    136811.0     1.747878    0.434232     1.0     1.0     2.0   \n",
       "ALRM_HEMAT   136244.0     1.941818    0.234089     1.0     2.0     2.0   \n",
       "ALRM_ABDOM   137308.0     1.609928    0.487768     1.0     1.0     2.0   \n",
       "ALRM_LETAR   136969.0     1.887653    0.315794     1.0     2.0     2.0   \n",
       "ALRM_HEPAT   136120.0     1.986674    0.114669     1.0     2.0     2.0   \n",
       "ALRM_LIQ     136129.0     1.971674    0.165903     1.0     2.0     2.0   \n",
       "GRAV_PULSO    11365.0     1.810031    0.392294     1.0     2.0     2.0   \n",
       "GRAV_CONV     11345.0     1.906126    0.291666     1.0     2.0     2.0   \n",
       "GRAV_ENCH     11338.0     1.845828    0.361129     1.0     2.0     2.0   \n",
       "GRAV_INSUF    11347.0     1.819336    0.384757     1.0     2.0     2.0   \n",
       "GRAV_TAQUI    11360.0     1.678609    0.467031     1.0     1.0     2.0   \n",
       "GRAV_HIPOT    11344.0     1.778826    0.415056     1.0     2.0     2.0   \n",
       "GRAV_HEMAT    11353.0     1.826742    0.378487     1.0     2.0     2.0   \n",
       "GRAV_MELEN    11341.0     1.861123    0.345833     1.0     2.0     2.0   \n",
       "GRAV_METRO    11320.0     1.917491    0.275151     1.0     2.0     2.0   \n",
       "GRAV_SANG     11313.0     1.978078    0.146434     1.0     2.0     2.0   \n",
       "GRAV_AST      11306.0     1.954007     0.20948     1.0     2.0     2.0   \n",
       "GRAV_MIOC     11305.0     1.974878    0.156501     1.0     2.0     2.0   \n",
       "GRAV_CONSC    11334.0     1.683519    0.465124     1.0     1.0     2.0   \n",
       "GRAV_ORGAO    11305.0     1.843344    0.363493     1.0     2.0     2.0   \n",
       "TP_SISTEMA  7802106.0          2.0         0.0     2.0     2.0     2.0   \n",
       "NDUPLIC_N     15596.0          1.0         0.0     1.0     1.0     1.0   \n",
       "CS_FLXRET   7935699.0     0.407007    0.491276     0.0     0.0     0.0   \n",
       "\n",
       "               75%     max  \n",
       "NU_ANO      2024.0  2024.0  \n",
       "ANO_NASC    2003.0  2024.0  \n",
       "NU_IDADE_N  4050.0  4999.0  \n",
       "FEBRE          1.0     2.0  \n",
       "MIALGIA        1.0     2.0  \n",
       "CEFALEIA       1.0     2.0  \n",
       "EXANTEMA       2.0     2.0  \n",
       "VOMITO         2.0     2.0  \n",
       "NAUSEA         2.0     2.0  \n",
       "DOR_COSTAS     2.0     2.0  \n",
       "CONJUNTVIT     2.0     2.0  \n",
       "ARTRITE        2.0     2.0  \n",
       "ARTRALGIA      2.0     2.0  \n",
       "PETEQUIA_N     2.0     2.0  \n",
       "LEUCOPENIA     2.0     2.0  \n",
       "LACO           2.0     2.0  \n",
       "DOR_RETRO      2.0     2.0  \n",
       "DIABETES       2.0     2.0  \n",
       "HEMATOLOG      2.0     2.0  \n",
       "HEPATOPAT      2.0     2.0  \n",
       "RENAL          2.0     2.0  \n",
       "HIPERTENSA     2.0     2.0  \n",
       "ACIDO_PEPT     2.0     2.0  \n",
       "AUTO_IMUNE     2.0     2.0  \n",
       "ALRM_HIPOT     2.0     2.0  \n",
       "ALRM_PLAQ      2.0     2.0  \n",
       "ALRM_VOM       2.0     2.0  \n",
       "ALRM_SANG      2.0     2.0  \n",
       "ALRM_HEMAT     2.0     2.0  \n",
       "ALRM_ABDOM     2.0     2.0  \n",
       "ALRM_LETAR     2.0     2.0  \n",
       "ALRM_HEPAT     2.0     2.0  \n",
       "ALRM_LIQ       2.0     2.0  \n",
       "GRAV_PULSO     2.0     2.0  \n",
       "GRAV_CONV      2.0     2.0  \n",
       "GRAV_ENCH      2.0     2.0  \n",
       "GRAV_INSUF     2.0     2.0  \n",
       "GRAV_TAQUI     2.0     2.0  \n",
       "GRAV_HIPOT     2.0     2.0  \n",
       "GRAV_HEMAT     2.0     2.0  \n",
       "GRAV_MELEN     2.0     2.0  \n",
       "GRAV_METRO     2.0     2.0  \n",
       "GRAV_SANG      2.0     2.0  \n",
       "GRAV_AST       2.0     2.0  \n",
       "GRAV_MIOC      2.0     2.0  \n",
       "GRAV_CONSC     2.0     2.0  \n",
       "GRAV_ORGAO     2.0     2.0  \n",
       "TP_SISTEMA     2.0     2.0  \n",
       "NDUPLIC_N      1.0     1.0  \n",
       "CS_FLXRET      1.0     1.0  "
      ]
     },
     "execution_count": 25,
     "metadata": {},
     "output_type": "execute_result"
    }
   ],
   "source": [
    "dengue.select_dtypes(include=[\"number\"]).describe().T"
   ]
  },
  {
   "cell_type": "code",
   "execution_count": 26,
   "metadata": {
    "colab": {
     "base_uri": "https://localhost:8080/"
    },
    "id": "NET5vO5RX1UT",
    "outputId": "7c83397d-7e7c-4862-ec6c-804773a6301f"
   },
   "outputs": [
    {
     "data": {
      "text/html": [
       "<div>\n",
       "<style scoped>\n",
       "    .dataframe tbody tr th:only-of-type {\n",
       "        vertical-align: middle;\n",
       "    }\n",
       "\n",
       "    .dataframe tbody tr th {\n",
       "        vertical-align: top;\n",
       "    }\n",
       "\n",
       "    .dataframe thead th {\n",
       "        text-align: right;\n",
       "    }\n",
       "</style>\n",
       "<table border=\"1\" class=\"dataframe\">\n",
       "  <thead>\n",
       "    <tr style=\"text-align: right;\">\n",
       "      <th></th>\n",
       "      <th>Contagem_vazios</th>\n",
       "      <th>Porc_vazios</th>\n",
       "    </tr>\n",
       "  </thead>\n",
       "  <tbody>\n",
       "    <tr>\n",
       "      <th>COMPLICA</th>\n",
       "      <td>7935706</td>\n",
       "      <td>100.0</td>\n",
       "    </tr>\n",
       "    <tr>\n",
       "      <th>MANI_HEMOR</th>\n",
       "      <td>7935706</td>\n",
       "      <td>100.0</td>\n",
       "    </tr>\n",
       "    <tr>\n",
       "      <th>HEMATURA</th>\n",
       "      <td>7935706</td>\n",
       "      <td>100.0</td>\n",
       "    </tr>\n",
       "    <tr>\n",
       "      <th>PETEQUIAS</th>\n",
       "      <td>7935706</td>\n",
       "      <td>100.0</td>\n",
       "    </tr>\n",
       "    <tr>\n",
       "      <th>LACO_N</th>\n",
       "      <td>7935706</td>\n",
       "      <td>100.0</td>\n",
       "    </tr>\n",
       "    <tr>\n",
       "      <th>...</th>\n",
       "      <td>...</td>\n",
       "      <td>...</td>\n",
       "    </tr>\n",
       "    <tr>\n",
       "      <th>COD_UF</th>\n",
       "      <td>0</td>\n",
       "      <td>0.0</td>\n",
       "    </tr>\n",
       "    <tr>\n",
       "      <th>COD_MUNIC</th>\n",
       "      <td>0</td>\n",
       "      <td>0.0</td>\n",
       "    </tr>\n",
       "    <tr>\n",
       "      <th>NOME_DO_MUNICIPIO</th>\n",
       "      <td>0</td>\n",
       "      <td>0.0</td>\n",
       "    </tr>\n",
       "    <tr>\n",
       "      <th>COD_IBGE</th>\n",
       "      <td>0</td>\n",
       "      <td>0.0</td>\n",
       "    </tr>\n",
       "    <tr>\n",
       "      <th>COD_SINAN</th>\n",
       "      <td>0</td>\n",
       "      <td>0.0</td>\n",
       "    </tr>\n",
       "  </tbody>\n",
       "</table>\n",
       "<p>127 rows × 2 columns</p>\n",
       "</div>"
      ],
      "text/plain": [
       "                   Contagem_vazios  Porc_vazios\n",
       "COMPLICA                   7935706        100.0\n",
       "MANI_HEMOR                 7935706        100.0\n",
       "HEMATURA                   7935706        100.0\n",
       "PETEQUIAS                  7935706        100.0\n",
       "LACO_N                     7935706        100.0\n",
       "...                            ...          ...\n",
       "COD_UF                           0          0.0\n",
       "COD_MUNIC                        0          0.0\n",
       "NOME_DO_MUNICIPIO                0          0.0\n",
       "COD_IBGE                         0          0.0\n",
       "COD_SINAN                        0          0.0\n",
       "\n",
       "[127 rows x 2 columns]"
      ]
     },
     "execution_count": 26,
     "metadata": {},
     "output_type": "execute_result"
    }
   ],
   "source": [
    "vazios = (dengue == ' ').sum()\n",
    "\n",
    "pvazios = (vazios / len(dengue)) * 100\n",
    "\n",
    "resultado = pd.DataFrame({\n",
    "    'Contagem_vazios': vazios,\n",
    "    'Porc_vazios': pvazios\n",
    "}).sort_values(by='Porc_vazios', ascending=False)\n",
    "\n",
    "resultado"
   ]
  },
  {
   "cell_type": "code",
   "execution_count": 27,
   "metadata": {
    "colab": {
     "base_uri": "https://localhost:8080/"
    },
    "id": "_46TC9FNX1UT",
    "outputId": "c7bf3982-b3a8-479e-aa13-fde22f4446f4"
   },
   "outputs": [
    {
     "name": "stdout",
     "output_type": "stream",
     "text": [
      "                   Contagem_vazios  Porc_vazios\n",
      "COMPLICA                   7935706        100.0\n",
      "MANI_HEMOR                 7935706        100.0\n",
      "HEMATURA                   7935706        100.0\n",
      "PETEQUIAS                  7935706        100.0\n",
      "LACO_N                     7935706        100.0\n",
      "SANGRAM                    7935706        100.0\n",
      "EPISTAXE                   7935706        100.0\n",
      "PLASMATICO                 7935706        100.0\n",
      "METRO                      7935706        100.0\n",
      "CON_FHD                    7935706        100.0\n",
      "EVIDENCIA                  7935706        100.0\n",
      "MIGRADO_W                  7935706        100.0\n",
      "DOENCA_TRA                 7935706        100.0\n",
      "GENGIVO                    7935706        100.0\n",
      "GRAV_EXTRE                 7924360    99.857026\n",
      "RES_CHIKS2                 7923858      99.8507\n",
      "RESUL_PRNT                 7923672    99.848356\n",
      "RES_CHIKS1                 7921861    99.825535\n",
      "CLINC_CHIK                 7916193    99.754111\n",
      "SOROTIPO                   7708003    97.130652\n",
      "HISTOPA_N                  4920836    62.008799\n",
      "IMUNOH_N                   4916611    61.955559\n",
      "RESUL_VI_N                 4552107    57.362344\n",
      "RESUL_PCR_                 4393764    55.367021\n",
      "RESUL_SORO                 3637896    45.842122\n",
      "RESUL_NS1                  2861583    36.059589\n",
      "TPAUTOCTO                  2298149    28.959604\n",
      "HOSPITALIZ                 2159272    27.209577\n",
      "EVOLUCAO                   1230280    15.503094\n",
      "CRITERIO                    712476     8.978105\n",
      "CS_GESTANT                    1455     0.018335\n",
      "CS_RACA                         24     0.000302\n",
      "CS_SEXO                         19     0.000239\n",
      "CONJUNTVIT                       0          0.0\n",
      "VOMITO                           0          0.0\n",
      "EXANTEMA                         0          0.0\n",
      "DOR_COSTAS                       0          0.0\n",
      "NAUSEA                           0          0.0\n",
      "FEBRE                            0          0.0\n",
      "ID_OCUPA_N                       0          0.0\n",
      "DT_INVEST                        0          0.0\n",
      "ID_PAIS                          0          0.0\n",
      "ARTRITE                          0          0.0\n",
      "LACO                             0          0.0\n",
      "CEFALEIA                         0          0.0\n",
      "MIALGIA                          0          0.0\n",
      "SEM_NOT                          0          0.0\n",
      "ANO_NASC                         0          0.0\n",
      "CS_ESCOL_N                       0          0.0\n",
      "SG_UF                            0          0.0\n",
      "ID_MN_RESI                       0          0.0\n",
      "ID_RG_RESI                       0          0.0\n",
      "NU_ANO                           0          0.0\n",
      "ID_AGRAVO                        0          0.0\n",
      "TP_NOT                           0          0.0\n",
      "ID_MUNICIP                       0          0.0\n",
      "SG_UF_NOT                        0          0.0\n",
      "ID_REGIONA                       0          0.0\n",
      "ID_UNIDADE                       0          0.0\n",
      "SEM_PRI                          0          0.0\n",
      "DT_SIN_PRI                       0          0.0\n",
      "NU_IDADE_N                       0          0.0\n",
      "DT_NOTIFIC                       0          0.0\n",
      "DT_INTERNA                       0          0.0\n",
      "DT_PCR                           0          0.0\n",
      "DT_NS1                           0          0.0\n",
      "DT_VIRAL                         0          0.0\n",
      "DT_SORO                          0          0.0\n",
      "DOR_RETRO                        0          0.0\n",
      "DIABETES                         0          0.0\n",
      "HEMATOLOG                        0          0.0\n",
      "HEPATOPAT                        0          0.0\n",
      "RENAL                            0          0.0\n",
      "HIPERTENSA                       0          0.0\n",
      "ACIDO_PEPT                       0          0.0\n",
      "AUTO_IMUNE                       0          0.0\n",
      "DT_CHIK_S1                       0          0.0\n",
      "DT_CHIK_S2                       0          0.0\n",
      "DT_PRNT                          0          0.0\n",
      "LEUCOPENIA                       0          0.0\n",
      "PETEQUIA_N                       0          0.0\n",
      "ARTRALGIA                        0          0.0\n",
      "ALRM_ABDOM                       0          0.0\n",
      "ALRM_VOM                         0          0.0\n",
      "ALRM_SANG                        0          0.0\n",
      "MUNICIPIO                        0          0.0\n",
      "COUFINF                          0          0.0\n",
      "CLASSI_FIN                       0          0.0\n",
      "COMUNINF                         0          0.0\n",
      "COPAISINF                        0          0.0\n",
      "DT_OBITO                         0          0.0\n",
      "DT_ENCERRA                       0          0.0\n",
      "ALRM_HIPOT                       0          0.0\n",
      "ALRM_PLAQ                        0          0.0\n",
      "UF_x                             0          0.0\n",
      "GRAV_MELEN                       0          0.0\n",
      "GRAV_HEMAT                       0          0.0\n",
      "GRAV_HIPOT                       0          0.0\n",
      "GRAV_TAQUI                       0          0.0\n",
      "GRAV_ENCH                        0          0.0\n",
      "GRAV_INSUF                       0          0.0\n",
      "GRAV_CONV                        0          0.0\n",
      "GRAV_PULSO                       0          0.0\n",
      "ALRM_LETAR                       0          0.0\n",
      "DT_ALRM                          0          0.0\n",
      "ALRM_LIQ                         0          0.0\n",
      "ALRM_HEPAT                       0          0.0\n",
      "ALRM_HEMAT                       0          0.0\n",
      "DT_GRAV                          0          0.0\n",
      "GRAV_CONSC                       0          0.0\n",
      "GRAV_ORGAO                       0          0.0\n",
      "GRAV_MIOC                        0          0.0\n",
      "GRAV_METRO                       0          0.0\n",
      "GRAV_AST                         0          0.0\n",
      "GRAV_SANG                        0          0.0\n",
      "TP_SISTEMA                       0          0.0\n",
      "NDUPLIC_N                        0          0.0\n",
      "DT_DIGITA                        0          0.0\n",
      "PLAQ_MENOR                       0          0.0\n",
      "CS_FLXRET                        0          0.0\n",
      "FLXRECEBI                        0          0.0\n",
      "UF_y                             0          0.0\n",
      "COD_UF                           0          0.0\n",
      "COD_MUNIC                        0          0.0\n",
      "NOME_DO_MUNICIPIO                0          0.0\n",
      "COD_IBGE                         0          0.0\n",
      "COD_SINAN                        0          0.0\n"
     ]
    }
   ],
   "source": [
    "pd.set_option(\"display.max_rows\", None)\n",
    "pd.set_option(\"display.max_columns\", None)\n",
    "pd.set_option(\"display.width\", None)\n",
    "pd.set_option(\"display.max_colwidth\", None)\n",
    "\n",
    "print(resultado)"
   ]
  },
  {
   "cell_type": "code",
   "execution_count": 28,
   "metadata": {
    "colab": {
     "base_uri": "https://localhost:8080/"
    },
    "id": "G0eBnPuEX1UU",
    "outputId": "59700b27-c92b-455e-faf2-97e3864c6691"
   },
   "outputs": [
    {
     "name": "stdout",
     "output_type": "stream",
     "text": [
      "24 colunas removidas: ['COMPLICA', 'MANI_HEMOR', 'HEMATURA', 'PETEQUIAS', 'LACO_N', 'SANGRAM', 'EPISTAXE', 'PLASMATICO', 'METRO', 'CON_FHD', 'EVIDENCIA', 'MIGRADO_W', 'DOENCA_TRA', 'GENGIVO', 'GRAV_EXTRE', 'RES_CHIKS2', 'RESUL_PRNT', 'RES_CHIKS1', 'CLINC_CHIK', 'SOROTIPO', 'HISTOPA_N', 'IMUNOH_N', 'RESUL_VI_N', 'RESUL_PCR_']\n",
      "Colunas restantes: 103\n"
     ]
    }
   ],
   "source": [
    "# Find columns with more than 50% empty strings\n",
    "cols_to_drop = resultado[resultado['Porc_vazios'] > 50].index\n",
    "\n",
    "# Drop them from the original DataFrame\n",
    "df_clean = dengue.drop(columns=cols_to_drop)\n",
    "\n",
    "print(f\"{len(cols_to_drop)} colunas removidas: {list(cols_to_drop)}\")\n",
    "print(f\"Colunas restantes: {df_clean.shape[1]}\")"
   ]
  },
  {
   "cell_type": "code",
   "execution_count": 32,
   "metadata": {
    "colab": {
     "base_uri": "https://localhost:8080/",
     "height": 467
    },
    "id": "F5mkQ5ojX1UU",
    "outputId": "abc7735c-3353-4c92-c388-119b3408b307"
   },
   "outputs": [
    {
     "data": {
      "text/plain": [
       "<Axes: xlabel='COD_UF', ylabel='count'>"
      ]
     },
     "execution_count": 32,
     "metadata": {},
     "output_type": "execute_result"
    },
    {
     "data": {
      "image/png": "[encoded data removed]",
      "text/plain": [
       "<Figure size 640x480 with 1 Axes>"
      ]
     },
     "metadata": {},
     "output_type": "display_data"
    }
   ],
   "source": [
    "sns.countplot(x = dengue['COD_UF'])"
   ]
  },
  {
   "cell_type": "code",
   "execution_count": 20,
   "metadata": {
    "colab": {
     "base_uri": "https://localhost:8080/",
     "height": 467
    },
    "id": "4-y-kYdnX1UU",
    "outputId": "405a5d7b-743b-4687-87d9-30d5559fadf9"
   },
   "outputs": [
    {
     "data": {
      "text/plain": [
       "<Axes: xlabel='SG_UF_NOT', ylabel='count'>"
      ]
     },
     "execution_count": 20,
     "metadata": {},
     "output_type": "execute_result"
    },
    {
     "data": {
      "image/png": "[encoded data removed]",
      "text/plain": [
       "<Figure size 640x480 with 1 Axes>"
      ]
     },
     "metadata": {},
     "output_type": "display_data"
    }
   ],
   "source": [
    "sns.countplot(x = dengue['SG_UF_NOT'])"
   ]
  },
  {
   "cell_type": "code",
   "execution_count": 33,
   "metadata": {
    "colab": {
     "base_uri": "https://localhost:8080/"
    },
    "id": "ygsCqibjX1UU",
    "outputId": "e16fabcd-f955-4b4f-c058-3e66aab14315"
   },
   "outputs": [
    {
     "data": {
      "text/plain": [
       "['313760', '317020', '314010', '317010', '316680', ..., '230015', '421440', '420555', '421650', '421085']\n",
       "Length: 5309\n",
       "Categories (5309, object): ['110001', '110002', '110003', '110004', ..., '522205', '522220', '522230', '530010']"
      ]
     },
     "execution_count": 33,
     "metadata": {},
     "output_type": "execute_result"
    }
   ],
   "source": [
    "dengue['ID_MUNICIP'].unique()"
   ]
  },
  {
   "cell_type": "code",
   "execution_count": null,
   "metadata": {},
   "outputs": [],
   "source": [
    "dengue['']"
   ]
  },
  {
   "cell_type": "raw",
   "metadata": {
    "id": "eIKcjG5QX1UU"
   },
   "source": [
    "Campos de Identificação da Notificação"
   ]
  },
  {
   "cell_type": "code",
   "execution_count": 22,
   "metadata": {
    "colab": {
     "base_uri": "https://localhost:8080/"
    },
    "id": "EzRWWuJmX1UU",
    "outputId": "eb61274b-97fd-46bb-84c2-25ae4431b03e"
   },
   "outputs": [
    {
     "name": "stdout",
     "output_type": "stream",
     "text": [
      "6 colunas removidas: ['DT_NOTIFIC', 'SEM_NOT', 'NU_ANO', 'ID_MUNICIP', 'ID_REGIONA', 'ID_UNIDADE']\n"
     ]
    }
   ],
   "source": [
    "id_notif = ['DT_NOTIFIC', 'SEM_NOT', 'NU_ANO', 'ID_MUNICIP', 'ID_REGIONA', 'ID_UNIDADE']\n",
    "\n",
    "dengue = dengue.drop(columns = id_notif)\n",
    "\n",
    "print(f\"{len(id_notif)} colunas removidas: {id_notif}\")"
   ]
  },
  {
   "cell_type": "raw",
   "metadata": {
    "id": "h7u7tlOuX1UU"
   },
   "source": [
    "Dados do Paciente"
   ]
  },
  {
   "cell_type": "code",
   "execution_count": 23,
   "metadata": {
    "colab": {
     "base_uri": "https://localhost:8080/"
    },
    "id": "6yJjMjluX1UU",
    "outputId": "e3443c1e-ec54-4c07-9b31-93ee8f96191f"
   },
   "outputs": [
    {
     "name": "stdout",
     "output_type": "stream",
     "text": [
      "6 colunas removidas: ['DT_SIN_PRI', 'SEM_PRI', 'NU_IDADE_N', 'ANO_NASC', 'CS_RACA', 'CS_ESCOL_N']\n"
     ]
    }
   ],
   "source": [
    "d_pac = ['DT_SIN_PRI', 'SEM_PRI', 'NU_IDADE_N', 'ANO_NASC', 'CS_RACA', 'CS_ESCOL_N']\n",
    "\n",
    "for col in d_pac:\n",
    "    if col in dengue.columns:\n",
    "        dengue = dengue.drop(columns = d_pac)\n",
    "        print(f\"{len(d_pac)} colunas removidas: {d_pac}\")"
   ]
  },
  {
   "cell_type": "raw",
   "metadata": {
    "id": "26eqZkiqX1UU"
   },
   "source": [
    "Dados de Residência e Procedência"
   ]
  },
  {
   "cell_type": "code",
   "execution_count": 24,
   "metadata": {
    "colab": {
     "base_uri": "https://localhost:8080/"
    },
    "id": "b_elfDy8X1UU",
    "outputId": "9e46db43-1db1-4813-9658-d2b25526c425"
   },
   "outputs": [
    {
     "name": "stdout",
     "output_type": "stream",
     "text": [
      "6 colunas removidas: ['SG_UF', 'ID_MN_RESI', 'ID_RG_RESI', 'ID_PAIS', 'DT_INVEST', 'ID_OCUPA_N']\n"
     ]
    }
   ],
   "source": [
    "resid = ['SG_UF', 'ID_MN_RESI', 'ID_RG_RESI', 'ID_PAIS', 'DT_INVEST', 'ID_OCUPA_N']\n",
    "\n",
    "for col in resid:\n",
    "    if col in dengue.columns:\n",
    "        dengue = dengue.drop(columns = resid)\n",
    "        print(f\"{len(resid)} colunas removidas: {resid}\")"
   ]
  },
  {
   "cell_type": "raw",
   "metadata": {
    "id": "sf467nO8X1UV"
   },
   "source": [
    "Sinais e Sintomas Clínicos"
   ]
  },
  {
   "cell_type": "code",
   "execution_count": 25,
   "metadata": {
    "colab": {
     "base_uri": "https://localhost:8080/"
    },
    "id": "UaLKJQZOX1UV",
    "outputId": "ddcc6e96-f27c-4c7d-8085-a95f00b728d8"
   },
   "outputs": [
    {
     "data": {
      "text/plain": [
       "<IntegerArray>\n",
       "[1, 2, <NA>]\n",
       "Length: 3, dtype: Int8"
      ]
     },
     "execution_count": 25,
     "metadata": {},
     "output_type": "execute_result"
    }
   ],
   "source": [
    "dengue['FEBRE'].unique()"
   ]
  },
  {
   "cell_type": "code",
   "execution_count": 26,
   "metadata": {
    "colab": {
     "base_uri": "https://localhost:8080/",
     "height": 483
    },
    "id": "FpEYE1JUX1UV",
    "outputId": "601364f8-2b32-4c74-bb64-9393c8cb1237"
   },
   "outputs": [
    {
     "data": {
      "text/plain": [
       "<Axes: xlabel='FEBRE', ylabel='count'>"
      ]
     },
     "execution_count": 26,
     "metadata": {},
     "output_type": "execute_result"
    },
    {
     "data": {
      "image/png": "[encoded data removed]",
      "text/plain": [
       "<Figure size 640x480 with 1 Axes>"
      ]
     },
     "metadata": {},
     "output_type": "display_data"
    }
   ],
   "source": [
    "sns.countplot(x = dengue['FEBRE'])"
   ]
  },
  {
   "cell_type": "code",
   "execution_count": 27,
   "metadata": {
    "colab": {
     "base_uri": "https://localhost:8080/",
     "height": 483
    },
    "id": "_pA_CwJhX1UV",
    "outputId": "9c1cfeba-4638-47dd-ae2f-95d61ee54d4b"
   },
   "outputs": [
    {
     "data": {
      "text/plain": [
       "<Axes: xlabel='VOMITO', ylabel='count'>"
      ]
     },
     "execution_count": 27,
     "metadata": {},
     "output_type": "execute_result"
    },
    {
     "data": {
      "image/png": "[encoded data removed]",
      "text/plain": [
       "<Figure size 640x480 with 1 Axes>"
      ]
     },
     "metadata": {},
     "output_type": "display_data"
    }
   ],
   "source": [
    "sns.countplot(x = dengue['VOMITO'])"
   ]
  },
  {
   "cell_type": "code",
   "execution_count": 28,
   "metadata": {},
   "outputs": [
    {
     "data": {
      "text/plain": [
       "<Axes: xlabel='EVOLUCAO', ylabel='count'>"
      ]
     },
     "execution_count": 28,
     "metadata": {},
     "output_type": "execute_result"
    },
    {
     "data": {
      "image/png": "[encoded data removed]",
      "text/plain": [
       "<Figure size 640x480 with 1 Axes>"
      ]
     },
     "metadata": {},
     "output_type": "display_data"
    }
   ],
   "source": [
    "sns.countplot(x = dengue['EVOLUCAO'])"
   ]
  },
  {
   "cell_type": "raw",
   "metadata": {
    "id": "-dJEHXYnX1UV"
   },
   "source": [
    "Primeiros sintomas: febre alta ['FEBRE'], dores no corpo ['MIALGIA'] ['ARTRALGIA'] ['CEFALEIA'] e atrás dos olhos ['DOR_RETRO'], vermelhidão na pele ['EXANTEMA'] e fadiga.\n",
    "Dengue com sinais de alerta após a primeira fase: dores abdominais, vômitos intensos ['VOMITO'], desidratação, falta de apetite e sangramentos nas mucosas.\n",
    "Fonte: Instituto Butantan (https://butantan.gov.br/noticias/sintomas-da-dengue-podem-piorar-em-dias-saiba-identificar-o-inicio-os-sinais-de-alarme-e-a-dengue-grave)"
   ]
  },
  {
   "cell_type": "raw",
   "metadata": {
    "id": "q45Fc2S_X1UV"
   },
   "source": [
    "Exames Laboratoriais (algumas já foram eliminadas)"
   ]
  },
  {
   "cell_type": "code",
   "execution_count": 30,
   "metadata": {
    "colab": {
     "base_uri": "https://localhost:8080/"
    },
    "id": "7LqfonMuX1UV",
    "outputId": "695ae933-4f52-4efe-9269-8e125d640a5e"
   },
   "outputs": [
    {
     "name": "stdout",
     "output_type": "stream",
     "text": [
      "3 colunas removidas: ['DT_NS1', 'DT_VIRAL', 'DT_PCR']\n"
     ]
    }
   ],
   "source": [
    "exames = ['DT_NS1', 'DT_VIRAL', 'DT_PCR']\n",
    "\n",
    "for col in exames:\n",
    "    if col in dengue.columns:\n",
    "        dengue = dengue.drop(columns = exames)\n",
    "        print(f\"{len(exames)} colunas removidas: {exames}\")"
   ]
  },
  {
   "cell_type": "raw",
   "metadata": {
    "id": "Bx9la4CUX1UV"
   },
   "source": [
    "Hospitalização e Local da Infecção"
   ]
  },
  {
   "cell_type": "code",
   "execution_count": 31,
   "metadata": {
    "colab": {
     "base_uri": "https://localhost:8080/"
    },
    "id": "1w3xXRuiX1UV",
    "outputId": "67600871-f364-450e-b8e7-e36214646e60"
   },
   "outputs": [
    {
     "name": "stdout",
     "output_type": "stream",
     "text": [
      "4 colunas removidas: ['DT_INTERNA', 'COUFINF', 'MUNICIPIO', 'TPAUTOCTO']\n"
     ]
    }
   ],
   "source": [
    "hosp = ['DT_INTERNA', 'COUFINF', 'MUNICIPIO', 'TPAUTOCTO']\n",
    "\n",
    "for col in hosp:\n",
    "    if col in dengue.columns:\n",
    "        dengue = dengue.drop(columns = hosp)\n",
    "        print(f\"{len(hosp)} colunas removidas: {hosp}\")"
   ]
  },
  {
   "cell_type": "raw",
   "metadata": {
    "id": "ZORykj0gX1UV"
   },
   "source": [
    "Encerramento do Caso"
   ]
  },
  {
   "cell_type": "code",
   "execution_count": 32,
   "metadata": {
    "colab": {
     "base_uri": "https://localhost:8080/"
    },
    "id": "aXMgC53kX1UV",
    "outputId": "f117f163-4aa9-4091-8812-7b3093493a9a"
   },
   "outputs": [
    {
     "name": "stdout",
     "output_type": "stream",
     "text": [
      "3 colunas removidas: ['CRITERIO', 'DT_ENCERRA', 'DT_OBITO']\n"
     ]
    }
   ],
   "source": [
    "encer = ['CRITERIO', 'DT_ENCERRA', 'DT_OBITO']\n",
    "\n",
    "for col in encer:\n",
    "    if col in dengue.columns:\n",
    "        dengue = dengue.drop(columns = encer)\n",
    "        print(f\"{len(encer)} colunas removidas: {encer}\")"
   ]
  },
  {
   "cell_type": "code",
   "execution_count": 33,
   "metadata": {
    "id": "wmreqs7kX1UV"
   },
   "outputs": [],
   "source": [
    "extra = ['ALRM_HIPOT','ALRM_PLAQ','ALRM_VOM','ALRM_SANG','ALRM_HEMAT','ALRM_ABDOM','ALRM_LETAR',\n",
    "'ALRM_HEPAT','ALRM_LIQ','DT_ALRM','GRAV_PULSO','GRAV_CONV','GRAV_ENCH','GRAV_INSUF',\n",
    "'GRAV_TAQUI','GRAV_EXTRE','GRAV_HIPOT','GRAV_HEMAT','GRAV_MELEN','GRAV_METRO','GRAV_SANG',\n",
    "'GRAV_AST','GRAV_MIOC','GRAV_CONSC','GRAV_ORGAO','DT_GRAV','MANI_HEMOR','EPISTAXE','GENGIVO',\n",
    "'METRO','PETEQUIAS','HEMATURA','SANGRAM','LACO_N','PLASMATICO','EVIDENCIA','PLAQ_MENOR',\n",
    "'CON_FHD','COMPLICA','TP_SISTEMA','NDUPLIC_N','DT_DIGITA','CS_FLXRET','FLXRECEBI','MIGRADO_W',\n",
    "'UF','COPAISINF','COMUNINF','CLASSI_FIN','DOENCA_TRA','CLINC_CHIK',\n",
    "'DT_CHIK_S1','DT_CHIK_S2','RES_CHIKS1','RES_CHIKS2','RESUL_PRNT','DT_SORO']"
   ]
  },
  {
   "cell_type": "code",
   "execution_count": 34,
   "metadata": {
    "colab": {
     "base_uri": "https://localhost:8080/"
    },
    "id": "tCvNfVo0X1UV",
    "outputId": "d7a72fc7-fec9-4dc0-f5f6-26ac084be28a"
   },
   "outputs": [
    {
     "name": "stdout",
     "output_type": "stream",
     "text": [
      "57 colunas removidas: ['ALRM_HIPOT', 'ALRM_PLAQ', 'ALRM_VOM', 'ALRM_SANG', 'ALRM_HEMAT', 'ALRM_ABDOM', 'ALRM_LETAR', 'ALRM_HEPAT', 'ALRM_LIQ', 'DT_ALRM', 'GRAV_PULSO', 'GRAV_CONV', 'GRAV_ENCH', 'GRAV_INSUF', 'GRAV_TAQUI', 'GRAV_EXTRE', 'GRAV_HIPOT', 'GRAV_HEMAT', 'GRAV_MELEN', 'GRAV_METRO', 'GRAV_SANG', 'GRAV_AST', 'GRAV_MIOC', 'GRAV_CONSC', 'GRAV_ORGAO', 'DT_GRAV', 'MANI_HEMOR', 'EPISTAXE', 'GENGIVO', 'METRO', 'PETEQUIAS', 'HEMATURA', 'SANGRAM', 'LACO_N', 'PLASMATICO', 'EVIDENCIA', 'PLAQ_MENOR', 'CON_FHD', 'COMPLICA', 'TP_SISTEMA', 'NDUPLIC_N', 'DT_DIGITA', 'CS_FLXRET', 'FLXRECEBI', 'MIGRADO_W', 'UF', 'COPAISINF', 'COMUNINF', 'CLASSI_FIN', 'DOENCA_TRA', 'CLINC_CHIK', 'DT_CHIK_S1', 'DT_CHIK_S2', 'RES_CHIKS1', 'RES_CHIKS2', 'RESUL_PRNT', 'DT_SORO']\n"
     ]
    }
   ],
   "source": [
    "\n",
    "for col in extra:\n",
    "    if col in dengue.columns:\n",
    "        dengue = dengue.drop(columns = extra)\n",
    "        print(f\"{len(extra)} colunas removidas: {extra}\")"
   ]
  },
  {
   "cell_type": "code",
   "execution_count": 35,
   "metadata": {
    "colab": {
     "base_uri": "https://localhost:8080/"
    },
    "id": "-y74XCkRX1UV",
    "outputId": "fb4f6f2f-262a-4370-baf2-90f7b0d8fb47"
   },
   "outputs": [
    {
     "name": "stdout",
     "output_type": "stream",
     "text": [
      "<class 'pandas.core.frame.DataFrame'>\n",
      "RangeIndex: 1508653 entries, 0 to 1508652\n",
      "Data columns (total 36 columns):\n",
      " #   Column      Non-Null Count    Dtype   \n",
      "---  ------      --------------    -----   \n",
      " 0   TP_NOT      1508653 non-null  category\n",
      " 1   ID_AGRAVO   1508653 non-null  category\n",
      " 2   SG_UF_NOT   1508653 non-null  category\n",
      " 3   CS_SEXO     1508653 non-null  category\n",
      " 4   CS_GESTANT  1508653 non-null  category\n",
      " 5   FEBRE       1455699 non-null  Int8    \n",
      " 6   MIALGIA     1455699 non-null  Int8    \n",
      " 7   CEFALEIA    1455699 non-null  Int8    \n",
      " 8   EXANTEMA    1455699 non-null  Int8    \n",
      " 9   VOMITO      1455699 non-null  Int8    \n",
      " 10  NAUSEA      1455699 non-null  Int8    \n",
      " 11  DOR_COSTAS  1455699 non-null  Int8    \n",
      " 12  CONJUNTVIT  1455699 non-null  Int8    \n",
      " 13  ARTRITE     1455699 non-null  Int8    \n",
      " 14  ARTRALGIA   1455699 non-null  Int8    \n",
      " 15  PETEQUIA_N  1455699 non-null  Int8    \n",
      " 16  LEUCOPENIA  1455699 non-null  Int8    \n",
      " 17  LACO        1455699 non-null  Int8    \n",
      " 18  DOR_RETRO   1455699 non-null  Int8    \n",
      " 19  DIABETES    1455699 non-null  Int8    \n",
      " 20  HEMATOLOG   1455699 non-null  Int8    \n",
      " 21  HEPATOPAT   1455699 non-null  Int8    \n",
      " 22  RENAL       1455699 non-null  Int8    \n",
      " 23  HIPERTENSA  1455699 non-null  Int8    \n",
      " 24  ACIDO_PEPT  1455699 non-null  Int8    \n",
      " 25  AUTO_IMUNE  1455699 non-null  Int8    \n",
      " 26  DT_PRNT     1508653 non-null  object  \n",
      " 27  RESUL_SORO  1508653 non-null  category\n",
      " 28  RESUL_NS1   1508653 non-null  category\n",
      " 29  RESUL_VI_N  1508653 non-null  category\n",
      " 30  RESUL_PCR_  1508653 non-null  object  \n",
      " 31  SOROTIPO    1508653 non-null  category\n",
      " 32  HISTOPA_N   1508653 non-null  category\n",
      " 33  IMUNOH_N    1508653 non-null  category\n",
      " 34  HOSPITALIZ  1508653 non-null  category\n",
      " 35  EVOLUCAO    1508653 non-null  category\n",
      "dtypes: Int8(21), category(13), object(2)\n",
      "memory usage: 102.2+ MB\n"
     ]
    }
   ],
   "source": [
    "dengue.info()"
   ]
  },
  {
   "cell_type": "code",
   "execution_count": 36,
   "metadata": {
    "colab": {
     "base_uri": "https://localhost:8080/"
    },
    "id": "XeHviNfeX1UV",
    "outputId": "744f1669-2419-4e1e-85ba-a92d55c35969"
   },
   "outputs": [
    {
     "data": {
      "text/plain": [
       "Index(['TP_NOT', 'ID_AGRAVO', 'SG_UF_NOT', 'CS_SEXO', 'CS_GESTANT', 'FEBRE',\n",
       "       'MIALGIA', 'CEFALEIA', 'EXANTEMA', 'VOMITO', 'NAUSEA', 'DOR_COSTAS',\n",
       "       'CONJUNTVIT', 'ARTRITE', 'ARTRALGIA', 'PETEQUIA_N', 'LEUCOPENIA',\n",
       "       'LACO', 'DOR_RETRO', 'DIABETES', 'HEMATOLOG', 'HEPATOPAT', 'RENAL',\n",
       "       'HIPERTENSA', 'ACIDO_PEPT', 'AUTO_IMUNE', 'DT_PRNT', 'RESUL_SORO',\n",
       "       'RESUL_NS1', 'RESUL_VI_N', 'RESUL_PCR_', 'SOROTIPO', 'HISTOPA_N',\n",
       "       'IMUNOH_N', 'HOSPITALIZ', 'EVOLUCAO'],\n",
       "      dtype='object')"
      ]
     },
     "execution_count": 36,
     "metadata": {},
     "output_type": "execute_result"
    }
   ],
   "source": [
    "dengue.columns"
   ]
  },
  {
   "cell_type": "markdown",
   "metadata": {
    "id": "8P1BRVOBX1UV"
   },
   "source": [
    "### Correção de dados faltantes"
   ]
  },
  {
   "cell_type": "code",
   "execution_count": 37,
   "metadata": {
    "colab": {
     "base_uri": "https://localhost:8080/"
    },
    "id": "B5eEwfhoX1UW",
    "outputId": "75504416-9feb-4d04-bed1-73f1b074bec2"
   },
   "outputs": [
    {
     "name": "stdout",
     "output_type": "stream",
     "text": [
      "Na coluna 'ID_AGRAVO' existem 1508653 valores ' ' (100.00%)\n",
      "Na coluna 'CS_SEXO' existem 6 valores ' ' (0.00%)\n",
      "Na coluna 'CS_GESTANT' existem 248 valores ' ' (0.02%)\n",
      "Na coluna 'DT_PRNT' existem 1508473 valores ' ' (99.99%)\n",
      "Na coluna 'RESUL_SORO' existem 632329 valores ' ' (41.91%)\n",
      "Na coluna 'RESUL_NS1' existem 572876 valores ' ' (37.97%)\n",
      "Na coluna 'RESUL_VI_N' existem 823761 valores ' ' (54.60%)\n",
      "Na coluna 'RESUL_PCR_' existem 797307 valores ' ' (52.85%)\n",
      "Na coluna 'SOROTIPO' existem 1464550 valores ' ' (97.08%)\n",
      "Na coluna 'HISTOPA_N' existem 888999 valores ' ' (58.93%)\n",
      "Na coluna 'IMUNOH_N' existem 887961 valores ' ' (58.86%)\n",
      "Na coluna 'HOSPITALIZ' existem 394063 valores ' ' (26.12%)\n",
      "Na coluna 'EVOLUCAO' existem 270961 valores ' ' (17.96%)\n"
     ]
    }
   ],
   "source": [
    "\n",
    "colunas = ['TP_NOT', 'ID_AGRAVO', 'SG_UF_NOT', 'CS_SEXO',\n",
    "       'CS_GESTANT', 'FEBRE', 'MIALGIA', 'CEFALEIA', 'EXANTEMA', 'VOMITO',\n",
    "       'ARTRALGIA', 'DOR_RETRO', 'DIABETES', 'HEMATOLOG', 'HEPATOPAT', 'RENAL',\n",
    "       'HIPERTENSA', 'ACIDO_PEPT', 'AUTO_IMUNE', 'DT_PRNT', 'RESUL_SORO',\n",
    "       'RESUL_NS1', 'RESUL_VI_N', 'RESUL_PCR_', 'SOROTIPO', 'HISTOPA_N',\n",
    "       'IMUNOH_N', 'HOSPITALIZ', 'EVOLUCAO']\n",
    "\n",
    "for coluna in colunas:\n",
    "    if coluna in dengue.columns and is_string_dtype(dengue[coluna]):\n",
    "        count = dengue[coluna].str.contains(\" \").sum()\n",
    "        if count > 0:\n",
    "            perc = (count / len(dengue)) * 100\n",
    "            print(f\"Na coluna '{coluna}' existem {count} valores ' ' ({perc:.2f}%)\")"
   ]
  },
  {
   "cell_type": "code",
   "execution_count": 38,
   "metadata": {
    "colab": {
     "base_uri": "https://localhost:8080/"
    },
    "id": "1axDm771X1UW",
    "outputId": "52ed999d-b8aa-4ed7-94b1-c7f0d16e5566"
   },
   "outputs": [
    {
     "name": "stdout",
     "output_type": "stream",
     "text": [
      "Na coluna 'ID_AGRAVO' existem 1508653 valores ' ' (100.00%)\n",
      "Na coluna 'CS_SEXO' existem 6 valores ' ' (0.00%)\n",
      "Na coluna 'CS_GESTANT' existem 248 valores ' ' (0.02%)\n",
      "Na coluna 'DT_PRNT' existem 1508473 valores ' ' (99.99%)\n",
      "Na coluna 'RESUL_SORO' existem 632329 valores ' ' (41.91%)\n",
      "Na coluna 'RESUL_NS1' existem 572876 valores ' ' (37.97%)\n",
      "Na coluna 'RESUL_VI_N' existem 823761 valores ' ' (54.60%)\n",
      "Na coluna 'RESUL_PCR_' existem 797307 valores ' ' (52.85%)\n",
      "Na coluna 'SOROTIPO' existem 1464550 valores ' ' (97.08%)\n",
      "Na coluna 'HISTOPA_N' existem 888999 valores ' ' (58.93%)\n",
      "Na coluna 'IMUNOH_N' existem 887961 valores ' ' (58.86%)\n",
      "Na coluna 'HOSPITALIZ' existem 394063 valores ' ' (26.12%)\n",
      "Na coluna 'EVOLUCAO' existem 270961 valores ' ' (17.96%)\n",
      "\n",
      "Dropped 7 columns: ['ID_AGRAVO', 'DT_PRNT', 'RESUL_VI_N', 'RESUL_PCR_', 'SOROTIPO', 'HISTOPA_N', 'IMUNOH_N']\n",
      "Remaining columns: 29\n"
     ]
    }
   ],
   "source": [
    "cols_to_drop = []\n",
    "\n",
    "for coluna in colunas:\n",
    "    if coluna in dengue.columns and is_string_dtype(dengue[coluna]):\n",
    "        count = dengue[coluna].str.contains(\" \").sum()\n",
    "        if count > 0:\n",
    "            perc = (count / len(dengue)) * 100\n",
    "            print(f\"Na coluna '{coluna}' existem {count} valores ' ' ({perc:.2f}%)\")\n",
    "\n",
    "            # Mark for drop if more than 50%\n",
    "            if perc > 50:\n",
    "                cols_to_drop.append(coluna)\n",
    "\n",
    "\n",
    "    # Drop the bad columns\n",
    "dengue = dengue.drop(columns=cols_to_drop)\n",
    "\n",
    "print(f\"\\nDropped {len(cols_to_drop)} columns: {cols_to_drop}\")\n",
    "print(f\"Remaining columns: {dengue.shape[1]}\")"
   ]
  },
  {
   "cell_type": "code",
   "execution_count": 39,
   "metadata": {
    "colab": {
     "base_uri": "https://localhost:8080/"
    },
    "id": "DP7ZnBlRX1UW",
    "outputId": "a7962912-fd13-4862-a98b-7fcdd1c91e58"
   },
   "outputs": [
    {
     "data": {
      "text/plain": [
       "Index(['TP_NOT', 'SG_UF_NOT', 'CS_SEXO', 'CS_GESTANT', 'FEBRE', 'MIALGIA',\n",
       "       'CEFALEIA', 'EXANTEMA', 'VOMITO', 'NAUSEA', 'DOR_COSTAS', 'CONJUNTVIT',\n",
       "       'ARTRITE', 'ARTRALGIA', 'PETEQUIA_N', 'LEUCOPENIA', 'LACO', 'DOR_RETRO',\n",
       "       'DIABETES', 'HEMATOLOG', 'HEPATOPAT', 'RENAL', 'HIPERTENSA',\n",
       "       'ACIDO_PEPT', 'AUTO_IMUNE', 'RESUL_SORO', 'RESUL_NS1', 'HOSPITALIZ',\n",
       "       'EVOLUCAO'],\n",
       "      dtype='object')"
      ]
     },
     "execution_count": 39,
     "metadata": {},
     "output_type": "execute_result"
    }
   ],
   "source": [
    "dengue.columns"
   ]
  },
  {
   "cell_type": "code",
   "execution_count": 40,
   "metadata": {
    "id": "X1Meo3dnX1UW"
   },
   "outputs": [
    {
     "name": "stderr",
     "output_type": "stream",
     "text": [
      "C:\\Users\\camds\\AppData\\Local\\Temp\\ipykernel_40544\\2429751357.py:8: FutureWarning: The behavior of Series.replace (and DataFrame.replace) with CategoricalDtype is deprecated. In a future version, replace will only be used for cases that preserve the categories. To change the categories, use ser.cat.rename_categories instead.\n",
      "  dengue[coluna] = dengue[coluna].replace(' ', np.nan)\n",
      "C:\\Users\\camds\\AppData\\Local\\Temp\\ipykernel_40544\\2429751357.py:8: FutureWarning: The behavior of Series.replace (and DataFrame.replace) with CategoricalDtype is deprecated. In a future version, replace will only be used for cases that preserve the categories. To change the categories, use ser.cat.rename_categories instead.\n",
      "  dengue[coluna] = dengue[coluna].replace(' ', np.nan)\n"
     ]
    }
   ],
   "source": [
    "novacol = ['TP_NOT', 'SG_UF_NOT', 'CS_SEXO', 'CS_GESTANT', 'FEBRE',\n",
    "       'MIALGIA', 'CEFALEIA', 'EXANTEMA', 'VOMITO', 'ARTRALGIA', 'DOR_RETRO',\n",
    "       'DIABETES', 'HEMATOLOG', 'HEPATOPAT', 'RENAL', 'HIPERTENSA',\n",
    "       'ACIDO_PEPT', 'AUTO_IMUNE', 'RESUL_SORO', 'RESUL_NS1', 'HOSPITALIZ',\n",
    "       'EVOLUCAO']\n",
    "\n",
    "for coluna in novacol:\n",
    "  dengue[coluna] = dengue[coluna].replace(' ', np.nan)"
   ]
  },
  {
   "cell_type": "code",
   "execution_count": 41,
   "metadata": {
    "colab": {
     "base_uri": "https://localhost:8080/",
     "height": 774
    },
    "id": "1NI4H4-0X1UW",
    "outputId": "08be0b5e-e2c8-4dd3-9abd-712dff1511aa"
   },
   "outputs": [
    {
     "data": {
      "text/plain": [
       "TP_NOT             0\n",
       "SG_UF_NOT          0\n",
       "CS_SEXO            6\n",
       "CS_GESTANT       248\n",
       "FEBRE          52954\n",
       "MIALGIA        52954\n",
       "CEFALEIA       52954\n",
       "EXANTEMA       52954\n",
       "VOMITO         52954\n",
       "NAUSEA         52954\n",
       "DOR_COSTAS     52954\n",
       "CONJUNTVIT     52954\n",
       "ARTRITE        52954\n",
       "ARTRALGIA      52954\n",
       "PETEQUIA_N     52954\n",
       "LEUCOPENIA     52954\n",
       "LACO           52954\n",
       "DOR_RETRO      52954\n",
       "DIABETES       52954\n",
       "HEMATOLOG      52954\n",
       "HEPATOPAT      52954\n",
       "RENAL          52954\n",
       "HIPERTENSA     52954\n",
       "ACIDO_PEPT     52954\n",
       "AUTO_IMUNE     52954\n",
       "RESUL_SORO    632329\n",
       "RESUL_NS1     572876\n",
       "HOSPITALIZ    394063\n",
       "EVOLUCAO      270961\n",
       "dtype: int64"
      ]
     },
     "execution_count": 41,
     "metadata": {},
     "output_type": "execute_result"
    }
   ],
   "source": [
    "dengue.isna().sum()"
   ]
  },
  {
   "cell_type": "code",
   "execution_count": 42,
   "metadata": {
    "id": "H8MRDcmdX1UW"
   },
   "outputs": [
    {
     "name": "stderr",
     "output_type": "stream",
     "text": [
      "C:\\Users\\camds\\AppData\\Local\\Temp\\ipykernel_40544\\2474472615.py:4: FutureWarning: A value is trying to be set on a copy of a DataFrame or Series through chained assignment using an inplace method.\n",
      "The behavior will change in pandas 3.0. This inplace method will never work because the intermediate object on which we are setting values always behaves as a copy.\n",
      "\n",
      "For example, when doing 'df[col].method(value, inplace=True)', try using 'df.method({col: value}, inplace=True)' or df[col] = df[col].method(value) instead, to perform the operation inplace on the original object.\n",
      "\n",
      "\n",
      "  dengue[coluna].fillna(moda, inplace=True)\n"
     ]
    },
    {
     "name": "stdout",
     "output_type": "stream",
     "text": [
      "NA da coluna 'CS_SEXO' substituída com a moda: F\n",
      "NA da coluna 'CS_GESTANT' substituída com a moda: 6\n",
      "NA da coluna 'FEBRE' substituída com a moda: 1\n",
      "NA da coluna 'MIALGIA' substituída com a moda: 1\n",
      "NA da coluna 'CEFALEIA' substituída com a moda: 1\n",
      "NA da coluna 'EXANTEMA' substituída com a moda: 2\n",
      "NA da coluna 'VOMITO' substituída com a moda: 2\n",
      "NA da coluna 'ARTRALGIA' substituída com a moda: 2\n",
      "NA da coluna 'DOR_RETRO' substituída com a moda: 2\n",
      "NA da coluna 'DIABETES' substituída com a moda: 2\n",
      "NA da coluna 'HEMATOLOG' substituída com a moda: 2\n",
      "NA da coluna 'HEPATOPAT' substituída com a moda: 2\n",
      "NA da coluna 'RENAL' substituída com a moda: 2\n",
      "NA da coluna 'HIPERTENSA' substituída com a moda: 2\n",
      "NA da coluna 'ACIDO_PEPT' substituída com a moda: 2\n",
      "NA da coluna 'AUTO_IMUNE' substituída com a moda: 2\n",
      "NA da coluna 'RESUL_SORO' substituída com a moda: 4\n",
      "NA da coluna 'RESUL_NS1' substituída com a moda: 4\n",
      "NA da coluna 'HOSPITALIZ' substituída com a moda: 2\n",
      "NA da coluna 'EVOLUCAO' substituída com a moda: 1\n"
     ]
    }
   ],
   "source": [
    "for coluna in novacol:\n",
    "    if dengue[coluna].isna().any():\n",
    "        moda = dengue[coluna].mode().iloc[0]\n",
    "        dengue[coluna].fillna(moda, inplace=True)\n",
    "        print(f\"NA da coluna '{coluna}' substituída com a moda: {moda}\")"
   ]
  },
  {
   "cell_type": "code",
   "execution_count": 43,
   "metadata": {},
   "outputs": [
    {
     "data": {
      "text/plain": [
       "(1508653, 29)"
      ]
     },
     "execution_count": 43,
     "metadata": {},
     "output_type": "execute_result"
    }
   ],
   "source": [
    "dengue.shape"
   ]
  },
  {
   "cell_type": "markdown",
   "metadata": {},
   "source": [
    "Deixando só os caso de morte por dengue e cura"
   ]
  },
  {
   "cell_type": "code",
   "execution_count": 44,
   "metadata": {},
   "outputs": [],
   "source": [
    "evolucao = [\"1\", \"2\"]\n",
    "dengue = dengue.query(\"EVOLUCAO in @evolucao\")"
   ]
  },
  {
   "cell_type": "code",
   "execution_count": 45,
   "metadata": {},
   "outputs": [
    {
     "data": {
      "text/plain": [
       "(1470162, 29)"
      ]
     },
     "execution_count": 45,
     "metadata": {},
     "output_type": "execute_result"
    }
   ],
   "source": [
    "dengue.shape"
   ]
  },
  {
   "cell_type": "markdown",
   "metadata": {
    "id": "eEmDCt9VX1UW"
   },
   "source": [
    "## Divisão entre previsores (X) e classe (y)"
   ]
  },
  {
   "cell_type": "code",
   "execution_count": 46,
   "metadata": {
    "colab": {
     "base_uri": "https://localhost:8080/"
    },
    "id": "dWIzYNyHX1UW",
    "outputId": "0098e5c1-bf53-47b1-86b3-72fc575632b7"
   },
   "outputs": [
    {
     "data": {
      "text/plain": [
       "Index(['TP_NOT', 'SG_UF_NOT', 'CS_SEXO', 'CS_GESTANT', 'FEBRE', 'MIALGIA',\n",
       "       'CEFALEIA', 'EXANTEMA', 'VOMITO', 'NAUSEA', 'DOR_COSTAS', 'CONJUNTVIT',\n",
       "       'ARTRITE', 'ARTRALGIA', 'PETEQUIA_N', 'LEUCOPENIA', 'LACO', 'DOR_RETRO',\n",
       "       'DIABETES', 'HEMATOLOG', 'HEPATOPAT', 'RENAL', 'HIPERTENSA',\n",
       "       'ACIDO_PEPT', 'AUTO_IMUNE', 'RESUL_SORO', 'RESUL_NS1', 'HOSPITALIZ',\n",
       "       'EVOLUCAO'],\n",
       "      dtype='object')"
      ]
     },
     "execution_count": 46,
     "metadata": {},
     "output_type": "execute_result"
    }
   ],
   "source": [
    "dengue.columns"
   ]
  },
  {
   "cell_type": "code",
   "execution_count": 47,
   "metadata": {
    "id": "Iq4_MW-JX1UW"
   },
   "outputs": [],
   "source": [
    "X_dengue = dengue.iloc[:,0:21].values"
   ]
  },
  {
   "cell_type": "code",
   "execution_count": 48,
   "metadata": {
    "colab": {
     "base_uri": "https://localhost:8080/"
    },
    "id": "fMZ7ZE4AX1UW",
    "outputId": "057034b5-1465-4ed9-cba8-f05a9495dde4"
   },
   "outputs": [
    {
     "data": {
      "text/plain": [
       "array([['2', '31', 'M', ..., 2, 2, 2],\n",
       "       ['2', '31', 'F', ..., 2, 2, 2],\n",
       "       ['2', '31', 'F', ..., 2, 2, 2],\n",
       "       ...,\n",
       "       ['2', '35', 'F', ..., 2, 2, 2],\n",
       "       ['2', '35', 'F', ..., 2, 2, 2],\n",
       "       ['2', '35', 'F', ..., 2, 2, 2]], dtype=object)"
      ]
     },
     "execution_count": 48,
     "metadata": {},
     "output_type": "execute_result"
    }
   ],
   "source": [
    "X_dengue"
   ]
  },
  {
   "cell_type": "code",
   "execution_count": 49,
   "metadata": {
    "colab": {
     "base_uri": "https://localhost:8080/"
    },
    "id": "4lIgzlwoX1UW",
    "outputId": "97648401-b670-4e9f-d6cb-b76673e93b33"
   },
   "outputs": [
    {
     "data": {
      "text/plain": [
       "array(['2', '31', 'M', '6', 1, 1, 1, 2, 2, 2, 2, 2, 2, 2, 2, 2, 2, 1, 2,\n",
       "       2, 2], dtype=object)"
      ]
     },
     "execution_count": 49,
     "metadata": {},
     "output_type": "execute_result"
    }
   ],
   "source": [
    "X_dengue[0]"
   ]
  },
  {
   "cell_type": "code",
   "execution_count": 50,
   "metadata": {
    "id": "FsEUpTh9X1UW"
   },
   "outputs": [],
   "source": [
    "y_dengue = dengue.iloc[:,21].values"
   ]
  },
  {
   "cell_type": "code",
   "execution_count": 51,
   "metadata": {
    "colab": {
     "base_uri": "https://localhost:8080/"
    },
    "id": "t4A0-JhpX1UW",
    "outputId": "fce28889-e843-420f-abdd-6eeb066c0d23"
   },
   "outputs": [
    {
     "data": {
      "text/plain": [
       "<IntegerArray>\n",
       "[2, 2, 2, 2, 2, 2, 2, 2, 2, 2,\n",
       " ...\n",
       " 2, 2, 2, 2, 2, 2, 2, 2, 2, 2]\n",
       "Length: 1470162, dtype: Int8"
      ]
     },
     "execution_count": 51,
     "metadata": {},
     "output_type": "execute_result"
    }
   ],
   "source": [
    "y_dengue"
   ]
  },
  {
   "cell_type": "code",
   "execution_count": 52,
   "metadata": {
    "colab": {
     "base_uri": "https://localhost:8080/",
     "height": 35
    },
    "id": "61OJ7UXvX1UW",
    "outputId": "6050244e-c62e-4530-d702-653944f9340b"
   },
   "outputs": [
    {
     "data": {
      "text/plain": [
       "np.int8(2)"
      ]
     },
     "execution_count": 52,
     "metadata": {},
     "output_type": "execute_result"
    }
   ],
   "source": [
    "y_dengue[0]"
   ]
  },
  {
   "cell_type": "raw",
   "metadata": {
    "id": "B1NOrEilX1UW"
   },
   "source": [
    "Salvando primeira parte"
   ]
  },
  {
   "cell_type": "code",
   "execution_count": 53,
   "metadata": {
    "id": "bSe-VjLZX1UW"
   },
   "outputs": [],
   "source": [
    "import pickle\n",
    "\n",
    "with open('dengue.pkl', mode = 'wb') as f:\n",
    "    pickle.dump([X_dengue, y_dengue], f)"
   ]
  },
  {
   "cell_type": "markdown",
   "metadata": {
    "id": "972HCO_OX1UW"
   },
   "source": [
    "## Tratamento de atributos categóricos"
   ]
  },
  {
   "cell_type": "code",
   "execution_count": 54,
   "metadata": {
    "colab": {
     "base_uri": "https://localhost:8080/"
    },
    "id": "oDOoB4voX1UW",
    "outputId": "68f018fd-9e07-46d3-d03c-abd0a25cc43f"
   },
   "outputs": [
    {
     "name": "stdout",
     "output_type": "stream",
     "text": [
      "<class 'pandas.core.frame.DataFrame'>\n",
      "Index: 1470162 entries, 0 to 1508652\n",
      "Data columns (total 29 columns):\n",
      " #   Column      Non-Null Count    Dtype   \n",
      "---  ------      --------------    -----   \n",
      " 0   TP_NOT      1470162 non-null  category\n",
      " 1   SG_UF_NOT   1470162 non-null  category\n",
      " 2   CS_SEXO     1470162 non-null  category\n",
      " 3   CS_GESTANT  1470162 non-null  category\n",
      " 4   FEBRE       1470162 non-null  Int8    \n",
      " 5   MIALGIA     1470162 non-null  Int8    \n",
      " 6   CEFALEIA    1470162 non-null  Int8    \n",
      " 7   EXANTEMA    1470162 non-null  Int8    \n",
      " 8   VOMITO      1470162 non-null  Int8    \n",
      " 9   NAUSEA      1417209 non-null  Int8    \n",
      " 10  DOR_COSTAS  1417209 non-null  Int8    \n",
      " 11  CONJUNTVIT  1417209 non-null  Int8    \n",
      " 12  ARTRITE     1417209 non-null  Int8    \n",
      " 13  ARTRALGIA   1470162 non-null  Int8    \n",
      " 14  PETEQUIA_N  1417209 non-null  Int8    \n",
      " 15  LEUCOPENIA  1417209 non-null  Int8    \n",
      " 16  LACO        1417209 non-null  Int8    \n",
      " 17  DOR_RETRO   1470162 non-null  Int8    \n",
      " 18  DIABETES    1470162 non-null  Int8    \n",
      " 19  HEMATOLOG   1470162 non-null  Int8    \n",
      " 20  HEPATOPAT   1470162 non-null  Int8    \n",
      " 21  RENAL       1470162 non-null  Int8    \n",
      " 22  HIPERTENSA  1470162 non-null  Int8    \n",
      " 23  ACIDO_PEPT  1470162 non-null  Int8    \n",
      " 24  AUTO_IMUNE  1470162 non-null  Int8    \n",
      " 25  RESUL_SORO  1470162 non-null  category\n",
      " 26  RESUL_NS1   1470162 non-null  category\n",
      " 27  HOSPITALIZ  1470162 non-null  category\n",
      " 28  EVOLUCAO    1470162 non-null  category\n",
      "dtypes: Int8(21), category(8)\n",
      "memory usage: 81.3 MB\n"
     ]
    }
   ],
   "source": [
    "dengue.info()"
   ]
  },
  {
   "cell_type": "code",
   "execution_count": 55,
   "metadata": {
    "colab": {
     "base_uri": "https://localhost:8080/",
     "height": 195
    },
    "id": "JP3lLvNeX1UX",
    "outputId": "eae38f91-e9c3-43b7-cf67-7327ecc5e918"
   },
   "outputs": [
    {
     "data": {
      "text/html": [
       "<div>\n",
       "<style scoped>\n",
       "    .dataframe tbody tr th:only-of-type {\n",
       "        vertical-align: middle;\n",
       "    }\n",
       "\n",
       "    .dataframe tbody tr th {\n",
       "        vertical-align: top;\n",
       "    }\n",
       "\n",
       "    .dataframe thead th {\n",
       "        text-align: right;\n",
       "    }\n",
       "</style>\n",
       "<table border=\"1\" class=\"dataframe\">\n",
       "  <thead>\n",
       "    <tr style=\"text-align: right;\">\n",
       "      <th></th>\n",
       "      <th>count</th>\n",
       "      <th>mean</th>\n",
       "      <th>std</th>\n",
       "      <th>min</th>\n",
       "      <th>25%</th>\n",
       "      <th>50%</th>\n",
       "      <th>75%</th>\n",
       "      <th>max</th>\n",
       "    </tr>\n",
       "  </thead>\n",
       "  <tbody>\n",
       "    <tr>\n",
       "      <th>FEBRE</th>\n",
       "      <td>1470162.0</td>\n",
       "      <td>1.145661</td>\n",
       "      <td>0.352766</td>\n",
       "      <td>1.0</td>\n",
       "      <td>1.0</td>\n",
       "      <td>1.0</td>\n",
       "      <td>1.0</td>\n",
       "      <td>2.0</td>\n",
       "    </tr>\n",
       "    <tr>\n",
       "      <th>MIALGIA</th>\n",
       "      <td>1470162.0</td>\n",
       "      <td>1.191628</td>\n",
       "      <td>0.393582</td>\n",
       "      <td>1.0</td>\n",
       "      <td>1.0</td>\n",
       "      <td>1.0</td>\n",
       "      <td>1.0</td>\n",
       "      <td>2.0</td>\n",
       "    </tr>\n",
       "    <tr>\n",
       "      <th>CEFALEIA</th>\n",
       "      <td>1470162.0</td>\n",
       "      <td>1.20167</td>\n",
       "      <td>0.401247</td>\n",
       "      <td>1.0</td>\n",
       "      <td>1.0</td>\n",
       "      <td>1.0</td>\n",
       "      <td>1.0</td>\n",
       "      <td>2.0</td>\n",
       "    </tr>\n",
       "    <tr>\n",
       "      <th>EXANTEMA</th>\n",
       "      <td>1470162.0</td>\n",
       "      <td>1.88892</td>\n",
       "      <td>0.314232</td>\n",
       "      <td>1.0</td>\n",
       "      <td>2.0</td>\n",
       "      <td>2.0</td>\n",
       "      <td>2.0</td>\n",
       "      <td>2.0</td>\n",
       "    </tr>\n",
       "    <tr>\n",
       "      <th>VOMITO</th>\n",
       "      <td>1470162.0</td>\n",
       "      <td>1.76177</td>\n",
       "      <td>0.426001</td>\n",
       "      <td>1.0</td>\n",
       "      <td>2.0</td>\n",
       "      <td>2.0</td>\n",
       "      <td>2.0</td>\n",
       "      <td>2.0</td>\n",
       "    </tr>\n",
       "    <tr>\n",
       "      <th>NAUSEA</th>\n",
       "      <td>1417209.0</td>\n",
       "      <td>1.609898</td>\n",
       "      <td>0.487773</td>\n",
       "      <td>1.0</td>\n",
       "      <td>1.0</td>\n",
       "      <td>2.0</td>\n",
       "      <td>2.0</td>\n",
       "      <td>2.0</td>\n",
       "    </tr>\n",
       "    <tr>\n",
       "      <th>DOR_COSTAS</th>\n",
       "      <td>1417209.0</td>\n",
       "      <td>1.704593</td>\n",
       "      <td>0.456226</td>\n",
       "      <td>1.0</td>\n",
       "      <td>1.0</td>\n",
       "      <td>2.0</td>\n",
       "      <td>2.0</td>\n",
       "      <td>2.0</td>\n",
       "    </tr>\n",
       "    <tr>\n",
       "      <th>CONJUNTVIT</th>\n",
       "      <td>1417209.0</td>\n",
       "      <td>1.96453</td>\n",
       "      <td>0.184964</td>\n",
       "      <td>1.0</td>\n",
       "      <td>2.0</td>\n",
       "      <td>2.0</td>\n",
       "      <td>2.0</td>\n",
       "      <td>2.0</td>\n",
       "    </tr>\n",
       "    <tr>\n",
       "      <th>ARTRITE</th>\n",
       "      <td>1417209.0</td>\n",
       "      <td>1.896889</td>\n",
       "      <td>0.304104</td>\n",
       "      <td>1.0</td>\n",
       "      <td>2.0</td>\n",
       "      <td>2.0</td>\n",
       "      <td>2.0</td>\n",
       "      <td>2.0</td>\n",
       "    </tr>\n",
       "    <tr>\n",
       "      <th>ARTRALGIA</th>\n",
       "      <td>1470162.0</td>\n",
       "      <td>1.81392</td>\n",
       "      <td>0.389171</td>\n",
       "      <td>1.0</td>\n",
       "      <td>2.0</td>\n",
       "      <td>2.0</td>\n",
       "      <td>2.0</td>\n",
       "      <td>2.0</td>\n",
       "    </tr>\n",
       "    <tr>\n",
       "      <th>PETEQUIA_N</th>\n",
       "      <td>1417209.0</td>\n",
       "      <td>1.93232</td>\n",
       "      <td>0.251196</td>\n",
       "      <td>1.0</td>\n",
       "      <td>2.0</td>\n",
       "      <td>2.0</td>\n",
       "      <td>2.0</td>\n",
       "      <td>2.0</td>\n",
       "    </tr>\n",
       "    <tr>\n",
       "      <th>LEUCOPENIA</th>\n",
       "      <td>1417209.0</td>\n",
       "      <td>1.956613</td>\n",
       "      <td>0.203726</td>\n",
       "      <td>1.0</td>\n",
       "      <td>2.0</td>\n",
       "      <td>2.0</td>\n",
       "      <td>2.0</td>\n",
       "      <td>2.0</td>\n",
       "    </tr>\n",
       "    <tr>\n",
       "      <th>LACO</th>\n",
       "      <td>1417209.0</td>\n",
       "      <td>1.958898</td>\n",
       "      <td>0.198526</td>\n",
       "      <td>1.0</td>\n",
       "      <td>2.0</td>\n",
       "      <td>2.0</td>\n",
       "      <td>2.0</td>\n",
       "      <td>2.0</td>\n",
       "    </tr>\n",
       "    <tr>\n",
       "      <th>DOR_RETRO</th>\n",
       "      <td>1470162.0</td>\n",
       "      <td>1.700017</td>\n",
       "      <td>0.45825</td>\n",
       "      <td>1.0</td>\n",
       "      <td>1.0</td>\n",
       "      <td>2.0</td>\n",
       "      <td>2.0</td>\n",
       "      <td>2.0</td>\n",
       "    </tr>\n",
       "    <tr>\n",
       "      <th>DIABETES</th>\n",
       "      <td>1470162.0</td>\n",
       "      <td>1.963684</td>\n",
       "      <td>0.187076</td>\n",
       "      <td>1.0</td>\n",
       "      <td>2.0</td>\n",
       "      <td>2.0</td>\n",
       "      <td>2.0</td>\n",
       "      <td>2.0</td>\n",
       "    </tr>\n",
       "    <tr>\n",
       "      <th>HEMATOLOG</th>\n",
       "      <td>1470162.0</td>\n",
       "      <td>1.994531</td>\n",
       "      <td>0.073753</td>\n",
       "      <td>1.0</td>\n",
       "      <td>2.0</td>\n",
       "      <td>2.0</td>\n",
       "      <td>2.0</td>\n",
       "      <td>2.0</td>\n",
       "    </tr>\n",
       "    <tr>\n",
       "      <th>HEPATOPAT</th>\n",
       "      <td>1470162.0</td>\n",
       "      <td>1.994276</td>\n",
       "      <td>0.075439</td>\n",
       "      <td>1.0</td>\n",
       "      <td>2.0</td>\n",
       "      <td>2.0</td>\n",
       "      <td>2.0</td>\n",
       "      <td>2.0</td>\n",
       "    </tr>\n",
       "    <tr>\n",
       "      <th>RENAL</th>\n",
       "      <td>1470162.0</td>\n",
       "      <td>1.995145</td>\n",
       "      <td>0.06951</td>\n",
       "      <td>1.0</td>\n",
       "      <td>2.0</td>\n",
       "      <td>2.0</td>\n",
       "      <td>2.0</td>\n",
       "      <td>2.0</td>\n",
       "    </tr>\n",
       "    <tr>\n",
       "      <th>HIPERTENSA</th>\n",
       "      <td>1470162.0</td>\n",
       "      <td>1.915236</td>\n",
       "      <td>0.27853</td>\n",
       "      <td>1.0</td>\n",
       "      <td>2.0</td>\n",
       "      <td>2.0</td>\n",
       "      <td>2.0</td>\n",
       "      <td>2.0</td>\n",
       "    </tr>\n",
       "    <tr>\n",
       "      <th>ACIDO_PEPT</th>\n",
       "      <td>1470162.0</td>\n",
       "      <td>1.994365</td>\n",
       "      <td>0.074858</td>\n",
       "      <td>1.0</td>\n",
       "      <td>2.0</td>\n",
       "      <td>2.0</td>\n",
       "      <td>2.0</td>\n",
       "      <td>2.0</td>\n",
       "    </tr>\n",
       "    <tr>\n",
       "      <th>AUTO_IMUNE</th>\n",
       "      <td>1470162.0</td>\n",
       "      <td>1.993359</td>\n",
       "      <td>0.081224</td>\n",
       "      <td>1.0</td>\n",
       "      <td>2.0</td>\n",
       "      <td>2.0</td>\n",
       "      <td>2.0</td>\n",
       "      <td>2.0</td>\n",
       "    </tr>\n",
       "  </tbody>\n",
       "</table>\n",
       "</div>"
      ],
      "text/plain": [
       "                count      mean       std  min  25%  50%  75%  max\n",
       "FEBRE       1470162.0  1.145661  0.352766  1.0  1.0  1.0  1.0  2.0\n",
       "MIALGIA     1470162.0  1.191628  0.393582  1.0  1.0  1.0  1.0  2.0\n",
       "CEFALEIA    1470162.0   1.20167  0.401247  1.0  1.0  1.0  1.0  2.0\n",
       "EXANTEMA    1470162.0   1.88892  0.314232  1.0  2.0  2.0  2.0  2.0\n",
       "VOMITO      1470162.0   1.76177  0.426001  1.0  2.0  2.0  2.0  2.0\n",
       "NAUSEA      1417209.0  1.609898  0.487773  1.0  1.0  2.0  2.0  2.0\n",
       "DOR_COSTAS  1417209.0  1.704593  0.456226  1.0  1.0  2.0  2.0  2.0\n",
       "CONJUNTVIT  1417209.0   1.96453  0.184964  1.0  2.0  2.0  2.0  2.0\n",
       "ARTRITE     1417209.0  1.896889  0.304104  1.0  2.0  2.0  2.0  2.0\n",
       "ARTRALGIA   1470162.0   1.81392  0.389171  1.0  2.0  2.0  2.0  2.0\n",
       "PETEQUIA_N  1417209.0   1.93232  0.251196  1.0  2.0  2.0  2.0  2.0\n",
       "LEUCOPENIA  1417209.0  1.956613  0.203726  1.0  2.0  2.0  2.0  2.0\n",
       "LACO        1417209.0  1.958898  0.198526  1.0  2.0  2.0  2.0  2.0\n",
       "DOR_RETRO   1470162.0  1.700017   0.45825  1.0  1.0  2.0  2.0  2.0\n",
       "DIABETES    1470162.0  1.963684  0.187076  1.0  2.0  2.0  2.0  2.0\n",
       "HEMATOLOG   1470162.0  1.994531  0.073753  1.0  2.0  2.0  2.0  2.0\n",
       "HEPATOPAT   1470162.0  1.994276  0.075439  1.0  2.0  2.0  2.0  2.0\n",
       "RENAL       1470162.0  1.995145   0.06951  1.0  2.0  2.0  2.0  2.0\n",
       "HIPERTENSA  1470162.0  1.915236   0.27853  1.0  2.0  2.0  2.0  2.0\n",
       "ACIDO_PEPT  1470162.0  1.994365  0.074858  1.0  2.0  2.0  2.0  2.0\n",
       "AUTO_IMUNE  1470162.0  1.993359  0.081224  1.0  2.0  2.0  2.0  2.0"
      ]
     },
     "execution_count": 55,
     "metadata": {},
     "output_type": "execute_result"
    }
   ],
   "source": [
    "dengue.describe().T"
   ]
  },
  {
   "cell_type": "raw",
   "metadata": {
    "id": "aHbe3ObkX1UX"
   },
   "source": [
    "LabelEncoder"
   ]
  },
  {
   "cell_type": "code",
   "execution_count": 56,
   "metadata": {
    "id": "ft8fr5b6X1UX"
   },
   "outputs": [],
   "source": [
    "from sklearn.preprocessing import LabelEncoder, OneHotEncoder"
   ]
  },
  {
   "cell_type": "code",
   "execution_count": 57,
   "metadata": {
    "id": "FEa0bnWDX1UX"
   },
   "outputs": [],
   "source": [
    "label_encoder_sexo = LabelEncoder()"
   ]
  },
  {
   "cell_type": "code",
   "execution_count": 58,
   "metadata": {
    "id": "PRyhExS0X1UX"
   },
   "outputs": [],
   "source": [
    "X_dengue[:,2] = label_encoder_sexo.fit_transform(X_dengue[:,2])"
   ]
  },
  {
   "cell_type": "code",
   "execution_count": 59,
   "metadata": {
    "colab": {
     "base_uri": "https://localhost:8080/"
    },
    "id": "hA-D1qwoX1UX",
    "outputId": "62ddeb39-0e4c-4198-89cb-656bbd84e59c"
   },
   "outputs": [
    {
     "data": {
      "text/plain": [
       "array(['2', '31', 2, '6', 1, 1, 1, 2, 2, 2, 2, 2, 2, 2, 2, 2, 2, 1, 2, 2,\n",
       "       2], dtype=object)"
      ]
     },
     "execution_count": 59,
     "metadata": {},
     "output_type": "execute_result"
    }
   ],
   "source": [
    "X_dengue[0]"
   ]
  },
  {
   "cell_type": "code",
   "execution_count": 60,
   "metadata": {},
   "outputs": [
    {
     "data": {
      "text/plain": [
       "Index(['TP_NOT', 'SG_UF_NOT', 'CS_SEXO', 'CS_GESTANT', 'FEBRE', 'MIALGIA',\n",
       "       'CEFALEIA', 'EXANTEMA', 'VOMITO', 'NAUSEA', 'DOR_COSTAS', 'CONJUNTVIT',\n",
       "       'ARTRITE', 'ARTRALGIA', 'PETEQUIA_N', 'LEUCOPENIA', 'LACO', 'DOR_RETRO',\n",
       "       'DIABETES', 'HEMATOLOG', 'HEPATOPAT', 'RENAL', 'HIPERTENSA',\n",
       "       'ACIDO_PEPT', 'AUTO_IMUNE', 'RESUL_SORO', 'RESUL_NS1', 'HOSPITALIZ',\n",
       "       'EVOLUCAO'],\n",
       "      dtype='object')"
      ]
     },
     "execution_count": 60,
     "metadata": {},
     "output_type": "execute_result"
    }
   ],
   "source": [
    "dengue.columns"
   ]
  },
  {
   "cell_type": "code",
   "execution_count": 61,
   "metadata": {
    "id": "SO610xAbX1UX"
   },
   "outputs": [],
   "source": [
    "X_dengue = dengue.iloc[:,0:21].copy()\n",
    "y_dengue = dengue.iloc[:,21].copy()"
   ]
  },
  {
   "cell_type": "code",
   "execution_count": 62,
   "metadata": {
    "id": "gE7IHIs0X1UX"
   },
   "outputs": [],
   "source": [
    "cat_col = X_dengue.select_dtypes(include = ['category']).columns.tolist()"
   ]
  },
  {
   "cell_type": "code",
   "execution_count": 63,
   "metadata": {
    "colab": {
     "base_uri": "https://localhost:8080/"
    },
    "id": "chPf592cX1UX",
    "outputId": "f72f4cfa-a116-4862-9bc5-20b4213fffce"
   },
   "outputs": [
    {
     "data": {
      "text/plain": [
       "['TP_NOT', 'SG_UF_NOT', 'CS_SEXO', 'CS_GESTANT']"
      ]
     },
     "execution_count": 63,
     "metadata": {},
     "output_type": "execute_result"
    }
   ],
   "source": [
    "cat_col"
   ]
  },
  {
   "cell_type": "code",
   "execution_count": 64,
   "metadata": {
    "id": "TIIWfsklX1UX"
   },
   "outputs": [],
   "source": [
    "X_cat = X_dengue[cat_col]"
   ]
  },
  {
   "cell_type": "code",
   "execution_count": 65,
   "metadata": {
    "id": "SGtVrczYX1UX"
   },
   "outputs": [],
   "source": [
    "one_hot_encoder = OneHotEncoder(sparse_output = False, handle_unknown = 'ignore')"
   ]
  },
  {
   "cell_type": "code",
   "execution_count": 66,
   "metadata": {
    "id": "aL2tQp9dX1UX"
   },
   "outputs": [],
   "source": [
    "X_encod = one_hot_encoder.fit_transform(X_cat)"
   ]
  },
  {
   "cell_type": "code",
   "execution_count": 67,
   "metadata": {
    "colab": {
     "base_uri": "https://localhost:8080/"
    },
    "id": "b5Dg10o9X1UX",
    "outputId": "6a1e859b-2207-4bcf-b5d2-2d2e08df52ac"
   },
   "outputs": [
    {
     "data": {
      "text/plain": [
       "array([[1., 0., 0., ..., 0., 1., 0.],\n",
       "       [1., 0., 0., ..., 0., 1., 0.],\n",
       "       [1., 0., 0., ..., 0., 0., 1.],\n",
       "       ...,\n",
       "       [1., 0., 0., ..., 0., 0., 1.],\n",
       "       [1., 0., 0., ..., 0., 0., 1.],\n",
       "       [1., 0., 0., ..., 0., 0., 1.]])"
      ]
     },
     "execution_count": 67,
     "metadata": {},
     "output_type": "execute_result"
    }
   ],
   "source": [
    "X_encod"
   ]
  },
  {
   "cell_type": "code",
   "execution_count": 68,
   "metadata": {
    "colab": {
     "base_uri": "https://localhost:8080/"
    },
    "id": "QwbvJY3EX1UX",
    "outputId": "050334d2-a145-4608-ef98-985cca42cc7f"
   },
   "outputs": [
    {
     "name": "stdout",
     "output_type": "stream",
     "text": [
      "['TP_NOT' 'SG_UF_NOT' 'CS_SEXO' 'CS_GESTANT']\n"
     ]
    }
   ],
   "source": [
    "print(one_hot_encoder.feature_names_in_)"
   ]
  },
  {
   "cell_type": "code",
   "execution_count": 69,
   "metadata": {
    "id": "xf-HfehhX1UX"
   },
   "outputs": [],
   "source": [
    "enc_col_name = one_hot_encoder.get_feature_names_out(cat_col)"
   ]
  },
  {
   "cell_type": "code",
   "execution_count": 70,
   "metadata": {
    "id": "rQDqSQB5X1UX"
   },
   "outputs": [],
   "source": [
    "X_enc_df = pd.DataFrame(X_encod, columns = enc_col_name)"
   ]
  },
  {
   "cell_type": "code",
   "execution_count": 71,
   "metadata": {
    "colab": {
     "base_uri": "https://localhost:8080/",
     "height": 226
    },
    "id": "-dNiEduYX1UX",
    "outputId": "93934696-a179-4325-cbea-31d83af3ae0a"
   },
   "outputs": [
    {
     "data": {
      "text/html": [
       "<div>\n",
       "<style scoped>\n",
       "    .dataframe tbody tr th:only-of-type {\n",
       "        vertical-align: middle;\n",
       "    }\n",
       "\n",
       "    .dataframe tbody tr th {\n",
       "        vertical-align: top;\n",
       "    }\n",
       "\n",
       "    .dataframe thead th {\n",
       "        text-align: right;\n",
       "    }\n",
       "</style>\n",
       "<table border=\"1\" class=\"dataframe\">\n",
       "  <thead>\n",
       "    <tr style=\"text-align: right;\">\n",
       "      <th></th>\n",
       "      <th>TP_NOT_2</th>\n",
       "      <th>TP_NOT_3</th>\n",
       "      <th>SG_UF_NOT_11</th>\n",
       "      <th>SG_UF_NOT_12</th>\n",
       "      <th>SG_UF_NOT_13</th>\n",
       "      <th>SG_UF_NOT_14</th>\n",
       "      <th>SG_UF_NOT_15</th>\n",
       "      <th>SG_UF_NOT_16</th>\n",
       "      <th>SG_UF_NOT_17</th>\n",
       "      <th>SG_UF_NOT_21</th>\n",
       "      <th>SG_UF_NOT_22</th>\n",
       "      <th>SG_UF_NOT_23</th>\n",
       "      <th>SG_UF_NOT_24</th>\n",
       "      <th>SG_UF_NOT_25</th>\n",
       "      <th>SG_UF_NOT_26</th>\n",
       "      <th>SG_UF_NOT_27</th>\n",
       "      <th>SG_UF_NOT_28</th>\n",
       "      <th>SG_UF_NOT_29</th>\n",
       "      <th>SG_UF_NOT_31</th>\n",
       "      <th>SG_UF_NOT_33</th>\n",
       "      <th>SG_UF_NOT_35</th>\n",
       "      <th>SG_UF_NOT_41</th>\n",
       "      <th>SG_UF_NOT_42</th>\n",
       "      <th>SG_UF_NOT_43</th>\n",
       "      <th>SG_UF_NOT_50</th>\n",
       "      <th>SG_UF_NOT_51</th>\n",
       "      <th>SG_UF_NOT_52</th>\n",
       "      <th>SG_UF_NOT_53</th>\n",
       "      <th>CS_SEXO_F</th>\n",
       "      <th>CS_SEXO_I</th>\n",
       "      <th>CS_SEXO_M</th>\n",
       "      <th>CS_GESTANT_1</th>\n",
       "      <th>CS_GESTANT_2</th>\n",
       "      <th>CS_GESTANT_3</th>\n",
       "      <th>CS_GESTANT_4</th>\n",
       "      <th>CS_GESTANT_5</th>\n",
       "      <th>CS_GESTANT_6</th>\n",
       "      <th>CS_GESTANT_9</th>\n",
       "    </tr>\n",
       "  </thead>\n",
       "  <tbody>\n",
       "    <tr>\n",
       "      <th>0</th>\n",
       "      <td>1.0</td>\n",
       "      <td>0.0</td>\n",
       "      <td>0.0</td>\n",
       "      <td>0.0</td>\n",
       "      <td>0.0</td>\n",
       "      <td>0.0</td>\n",
       "      <td>0.0</td>\n",
       "      <td>0.0</td>\n",
       "      <td>0.0</td>\n",
       "      <td>0.0</td>\n",
       "      <td>0.0</td>\n",
       "      <td>0.0</td>\n",
       "      <td>0.0</td>\n",
       "      <td>0.0</td>\n",
       "      <td>0.0</td>\n",
       "      <td>0.0</td>\n",
       "      <td>0.0</td>\n",
       "      <td>0.0</td>\n",
       "      <td>1.0</td>\n",
       "      <td>0.0</td>\n",
       "      <td>0.0</td>\n",
       "      <td>0.0</td>\n",
       "      <td>0.0</td>\n",
       "      <td>0.0</td>\n",
       "      <td>0.0</td>\n",
       "      <td>0.0</td>\n",
       "      <td>0.0</td>\n",
       "      <td>0.0</td>\n",
       "      <td>0.0</td>\n",
       "      <td>0.0</td>\n",
       "      <td>1.0</td>\n",
       "      <td>0.0</td>\n",
       "      <td>0.0</td>\n",
       "      <td>0.0</td>\n",
       "      <td>0.0</td>\n",
       "      <td>0.0</td>\n",
       "      <td>1.0</td>\n",
       "      <td>0.0</td>\n",
       "    </tr>\n",
       "    <tr>\n",
       "      <th>1</th>\n",
       "      <td>1.0</td>\n",
       "      <td>0.0</td>\n",
       "      <td>0.0</td>\n",
       "      <td>0.0</td>\n",
       "      <td>0.0</td>\n",
       "      <td>0.0</td>\n",
       "      <td>0.0</td>\n",
       "      <td>0.0</td>\n",
       "      <td>0.0</td>\n",
       "      <td>0.0</td>\n",
       "      <td>0.0</td>\n",
       "      <td>0.0</td>\n",
       "      <td>0.0</td>\n",
       "      <td>0.0</td>\n",
       "      <td>0.0</td>\n",
       "      <td>0.0</td>\n",
       "      <td>0.0</td>\n",
       "      <td>0.0</td>\n",
       "      <td>1.0</td>\n",
       "      <td>0.0</td>\n",
       "      <td>0.0</td>\n",
       "      <td>0.0</td>\n",
       "      <td>0.0</td>\n",
       "      <td>0.0</td>\n",
       "      <td>0.0</td>\n",
       "      <td>0.0</td>\n",
       "      <td>0.0</td>\n",
       "      <td>0.0</td>\n",
       "      <td>1.0</td>\n",
       "      <td>0.0</td>\n",
       "      <td>0.0</td>\n",
       "      <td>0.0</td>\n",
       "      <td>0.0</td>\n",
       "      <td>0.0</td>\n",
       "      <td>0.0</td>\n",
       "      <td>0.0</td>\n",
       "      <td>1.0</td>\n",
       "      <td>0.0</td>\n",
       "    </tr>\n",
       "    <tr>\n",
       "      <th>2</th>\n",
       "      <td>1.0</td>\n",
       "      <td>0.0</td>\n",
       "      <td>0.0</td>\n",
       "      <td>0.0</td>\n",
       "      <td>0.0</td>\n",
       "      <td>0.0</td>\n",
       "      <td>0.0</td>\n",
       "      <td>0.0</td>\n",
       "      <td>0.0</td>\n",
       "      <td>0.0</td>\n",
       "      <td>0.0</td>\n",
       "      <td>0.0</td>\n",
       "      <td>0.0</td>\n",
       "      <td>0.0</td>\n",
       "      <td>0.0</td>\n",
       "      <td>0.0</td>\n",
       "      <td>0.0</td>\n",
       "      <td>0.0</td>\n",
       "      <td>1.0</td>\n",
       "      <td>0.0</td>\n",
       "      <td>0.0</td>\n",
       "      <td>0.0</td>\n",
       "      <td>0.0</td>\n",
       "      <td>0.0</td>\n",
       "      <td>0.0</td>\n",
       "      <td>0.0</td>\n",
       "      <td>0.0</td>\n",
       "      <td>0.0</td>\n",
       "      <td>1.0</td>\n",
       "      <td>0.0</td>\n",
       "      <td>0.0</td>\n",
       "      <td>0.0</td>\n",
       "      <td>0.0</td>\n",
       "      <td>0.0</td>\n",
       "      <td>0.0</td>\n",
       "      <td>0.0</td>\n",
       "      <td>0.0</td>\n",
       "      <td>1.0</td>\n",
       "    </tr>\n",
       "    <tr>\n",
       "      <th>3</th>\n",
       "      <td>1.0</td>\n",
       "      <td>0.0</td>\n",
       "      <td>0.0</td>\n",
       "      <td>0.0</td>\n",
       "      <td>0.0</td>\n",
       "      <td>0.0</td>\n",
       "      <td>0.0</td>\n",
       "      <td>0.0</td>\n",
       "      <td>0.0</td>\n",
       "      <td>0.0</td>\n",
       "      <td>0.0</td>\n",
       "      <td>0.0</td>\n",
       "      <td>0.0</td>\n",
       "      <td>0.0</td>\n",
       "      <td>0.0</td>\n",
       "      <td>0.0</td>\n",
       "      <td>0.0</td>\n",
       "      <td>0.0</td>\n",
       "      <td>1.0</td>\n",
       "      <td>0.0</td>\n",
       "      <td>0.0</td>\n",
       "      <td>0.0</td>\n",
       "      <td>0.0</td>\n",
       "      <td>0.0</td>\n",
       "      <td>0.0</td>\n",
       "      <td>0.0</td>\n",
       "      <td>0.0</td>\n",
       "      <td>0.0</td>\n",
       "      <td>1.0</td>\n",
       "      <td>0.0</td>\n",
       "      <td>0.0</td>\n",
       "      <td>0.0</td>\n",
       "      <td>0.0</td>\n",
       "      <td>0.0</td>\n",
       "      <td>0.0</td>\n",
       "      <td>1.0</td>\n",
       "      <td>0.0</td>\n",
       "      <td>0.0</td>\n",
       "    </tr>\n",
       "    <tr>\n",
       "      <th>4</th>\n",
       "      <td>1.0</td>\n",
       "      <td>0.0</td>\n",
       "      <td>0.0</td>\n",
       "      <td>0.0</td>\n",
       "      <td>0.0</td>\n",
       "      <td>0.0</td>\n",
       "      <td>0.0</td>\n",
       "      <td>0.0</td>\n",
       "      <td>0.0</td>\n",
       "      <td>0.0</td>\n",
       "      <td>0.0</td>\n",
       "      <td>0.0</td>\n",
       "      <td>0.0</td>\n",
       "      <td>0.0</td>\n",
       "      <td>0.0</td>\n",
       "      <td>0.0</td>\n",
       "      <td>0.0</td>\n",
       "      <td>0.0</td>\n",
       "      <td>1.0</td>\n",
       "      <td>0.0</td>\n",
       "      <td>0.0</td>\n",
       "      <td>0.0</td>\n",
       "      <td>0.0</td>\n",
       "      <td>0.0</td>\n",
       "      <td>0.0</td>\n",
       "      <td>0.0</td>\n",
       "      <td>0.0</td>\n",
       "      <td>0.0</td>\n",
       "      <td>0.0</td>\n",
       "      <td>0.0</td>\n",
       "      <td>1.0</td>\n",
       "      <td>0.0</td>\n",
       "      <td>0.0</td>\n",
       "      <td>0.0</td>\n",
       "      <td>0.0</td>\n",
       "      <td>0.0</td>\n",
       "      <td>1.0</td>\n",
       "      <td>0.0</td>\n",
       "    </tr>\n",
       "  </tbody>\n",
       "</table>\n",
       "</div>"
      ],
      "text/plain": [
       "   TP_NOT_2  TP_NOT_3  SG_UF_NOT_11  SG_UF_NOT_12  SG_UF_NOT_13  SG_UF_NOT_14  \\\n",
       "0       1.0       0.0           0.0           0.0           0.0           0.0   \n",
       "1       1.0       0.0           0.0           0.0           0.0           0.0   \n",
       "2       1.0       0.0           0.0           0.0           0.0           0.0   \n",
       "3       1.0       0.0           0.0           0.0           0.0           0.0   \n",
       "4       1.0       0.0           0.0           0.0           0.0           0.0   \n",
       "\n",
       "   SG_UF_NOT_15  SG_UF_NOT_16  SG_UF_NOT_17  SG_UF_NOT_21  SG_UF_NOT_22  \\\n",
       "0           0.0           0.0           0.0           0.0           0.0   \n",
       "1           0.0           0.0           0.0           0.0           0.0   \n",
       "2           0.0           0.0           0.0           0.0           0.0   \n",
       "3           0.0           0.0           0.0           0.0           0.0   \n",
       "4           0.0           0.0           0.0           0.0           0.0   \n",
       "\n",
       "   SG_UF_NOT_23  SG_UF_NOT_24  SG_UF_NOT_25  SG_UF_NOT_26  SG_UF_NOT_27  \\\n",
       "0           0.0           0.0           0.0           0.0           0.0   \n",
       "1           0.0           0.0           0.0           0.0           0.0   \n",
       "2           0.0           0.0           0.0           0.0           0.0   \n",
       "3           0.0           0.0           0.0           0.0           0.0   \n",
       "4           0.0           0.0           0.0           0.0           0.0   \n",
       "\n",
       "   SG_UF_NOT_28  SG_UF_NOT_29  SG_UF_NOT_31  SG_UF_NOT_33  SG_UF_NOT_35  \\\n",
       "0           0.0           0.0           1.0           0.0           0.0   \n",
       "1           0.0           0.0           1.0           0.0           0.0   \n",
       "2           0.0           0.0           1.0           0.0           0.0   \n",
       "3           0.0           0.0           1.0           0.0           0.0   \n",
       "4           0.0           0.0           1.0           0.0           0.0   \n",
       "\n",
       "   SG_UF_NOT_41  SG_UF_NOT_42  SG_UF_NOT_43  SG_UF_NOT_50  SG_UF_NOT_51  \\\n",
       "0           0.0           0.0           0.0           0.0           0.0   \n",
       "1           0.0           0.0           0.0           0.0           0.0   \n",
       "2           0.0           0.0           0.0           0.0           0.0   \n",
       "3           0.0           0.0           0.0           0.0           0.0   \n",
       "4           0.0           0.0           0.0           0.0           0.0   \n",
       "\n",
       "   SG_UF_NOT_52  SG_UF_NOT_53  CS_SEXO_F  CS_SEXO_I  CS_SEXO_M  CS_GESTANT_1  \\\n",
       "0           0.0           0.0        0.0        0.0        1.0           0.0   \n",
       "1           0.0           0.0        1.0        0.0        0.0           0.0   \n",
       "2           0.0           0.0        1.0        0.0        0.0           0.0   \n",
       "3           0.0           0.0        1.0        0.0        0.0           0.0   \n",
       "4           0.0           0.0        0.0        0.0        1.0           0.0   \n",
       "\n",
       "   CS_GESTANT_2  CS_GESTANT_3  CS_GESTANT_4  CS_GESTANT_5  CS_GESTANT_6  \\\n",
       "0           0.0           0.0           0.0           0.0           1.0   \n",
       "1           0.0           0.0           0.0           0.0           1.0   \n",
       "2           0.0           0.0           0.0           0.0           0.0   \n",
       "3           0.0           0.0           0.0           1.0           0.0   \n",
       "4           0.0           0.0           0.0           0.0           1.0   \n",
       "\n",
       "   CS_GESTANT_9  \n",
       "0           0.0  \n",
       "1           0.0  \n",
       "2           1.0  \n",
       "3           0.0  \n",
       "4           0.0  "
      ]
     },
     "execution_count": 71,
     "metadata": {},
     "output_type": "execute_result"
    }
   ],
   "source": [
    "X_enc_df.head()"
   ]
  },
  {
   "cell_type": "code",
   "execution_count": 72,
   "metadata": {
    "id": "o28HNWI6X1UX"
   },
   "outputs": [],
   "source": [
    "X_dengue = X_enc_df"
   ]
  },
  {
   "cell_type": "raw",
   "metadata": {
    "id": "up9ftvI8X1UX"
   },
   "source": [
    "TALVEZ AQUI DEVESSE OU TESTAR SEM ESCALONAR, OU MUDAR AS NOMENCLATURAS SEGUINTES PRA DEIXAR ESSE SALVO. OU METER O PICKLE"
   ]
  },
  {
   "cell_type": "markdown",
   "metadata": {
    "id": "Ou-g6e9LX1UY"
   },
   "source": [
    "### Escalonamento dos valores"
   ]
  },
  {
   "cell_type": "raw",
   "metadata": {
    "id": "jiMOdeYPX1UY"
   },
   "source": [
    "Padronização"
   ]
  },
  {
   "cell_type": "code",
   "execution_count": 73,
   "metadata": {
    "id": "Rz2DMQ-LX1UY"
   },
   "outputs": [],
   "source": [
    "from sklearn.preprocessing import StandardScaler\n",
    "\n",
    "scaler_dengue = StandardScaler()\n",
    "X_dengue = scaler_dengue.fit_transform(X_dengue)"
   ]
  },
  {
   "cell_type": "code",
   "execution_count": 74,
   "metadata": {
    "colab": {
     "base_uri": "https://localhost:8080/"
    },
    "id": "AZ0Y07BKX1UY",
    "outputId": "681fbb2c-0472-4dd9-f3b0-3c216b3f3ffb"
   },
   "outputs": [
    {
     "data": {
      "text/plain": [
       "array([[ 1.64948355e-03, -1.64948355e-03, -8.48385896e-02, ...,\n",
       "        -7.42461367e-01,  8.87029059e-01, -2.89011839e-01],\n",
       "       [ 1.64948355e-03, -1.64948355e-03, -8.48385896e-02, ...,\n",
       "        -7.42461367e-01,  8.87029059e-01, -2.89011839e-01],\n",
       "       [ 1.64948355e-03, -1.64948355e-03, -8.48385896e-02, ...,\n",
       "        -7.42461367e-01, -1.12735878e+00,  3.46006587e+00],\n",
       "       ...,\n",
       "       [ 1.64948355e-03, -1.64948355e-03, -8.48385896e-02, ...,\n",
       "        -7.42461367e-01, -1.12735878e+00,  3.46006587e+00],\n",
       "       [ 1.64948355e-03, -1.64948355e-03, -8.48385896e-02, ...,\n",
       "        -7.42461367e-01, -1.12735878e+00,  3.46006587e+00],\n",
       "       [ 1.64948355e-03, -1.64948355e-03, -8.48385896e-02, ...,\n",
       "        -7.42461367e-01, -1.12735878e+00,  3.46006587e+00]])"
      ]
     },
     "execution_count": 74,
     "metadata": {},
     "output_type": "execute_result"
    }
   ],
   "source": [
    "X_dengue"
   ]
  },
  {
   "cell_type": "code",
   "execution_count": 75,
   "metadata": {
    "id": "vwHkWyAFX1UY"
   },
   "outputs": [],
   "source": [
    "import pickle\n",
    "with open('dengue_data_preprocessados.pkl', mode = 'wb') as f:\n",
    "  pickle.dump([X_dengue, y_dengue], f)"
   ]
  },
  {
   "cell_type": "markdown",
   "metadata": {
    "id": "-hbcSSl7uaIT"
   },
   "source": [
    "# **BALANCEAMENTO DO** **DATASET**"
   ]
  },
  {
   "cell_type": "markdown",
   "metadata": {
    "id": "s7qvy6jarSfi"
   },
   "source": [
    "**Importando as bibliotecas**"
   ]
  },
  {
   "cell_type": "code",
   "execution_count": 76,
   "metadata": {
    "id": "-ngVgYiMrRAC"
   },
   "outputs": [],
   "source": [
    "import pickle, numpy as np, pandas as pd\n",
    "from collections import Counter\n",
    "from sklearn.model_selection import train_test_split\n",
    "from sklearn.metrics import accuracy_score, precision_score, recall_score, f1_score\n",
    "from sklearn.naive_bayes import GaussianNB\n",
    "from sklearn.ensemble import RandomForestClassifier\n",
    "from sklearn.linear_model import SGDClassifier\n",
    "from sklearn.preprocessing import LabelEncoder\n",
    "from imblearn.over_sampling import RandomOverSampler\n",
    "from imblearn.under_sampling import TomekLinks\n",
    "from collections import Counter\n"
   ]
  },
  {
   "cell_type": "markdown",
   "metadata": {
    "id": "8bcX011mmktB"
   },
   "source": [
    "Abrindo o arquivo préprocessado"
   ]
  },
  {
   "cell_type": "code",
   "execution_count": 77,
   "metadata": {
    "colab": {
     "base_uri": "https://localhost:8080/"
    },
    "id": "JINEjW34rQ8Q",
    "outputId": "bae3d6b3-a32c-4814-ceee-24bc908e246b"
   },
   "outputs": [
    {
     "name": "stdout",
     "output_type": "stream",
     "text": [
      "TREINO (sem balancear): {np.int64(2): 1024116, np.int64(1): 4997}\n",
      "TESTE  (inalterado)   : {np.int64(2): 438908, np.int64(1): 2141}\n"
     ]
    }
   ],
   "source": [
    "with open(\"./dengue_data_preprocessados.pkl\", \"rb\") as f:\n",
    "    X, y = pickle.load(f)\n",
    "\n",
    "X = np.asarray(X, dtype=np.float32)\n",
    "\n",
    "if not np.issubdtype(np.array(y).dtype, np.number):\n",
    "    y = LabelEncoder().fit_transform(y)\n",
    "y = np.asarray(y).ravel().astype(np.int64)\n",
    "\n",
    "X_tr, X_te, y_tr, y_te = train_test_split(\n",
    "    X, y, test_size=0.30, random_state=42, stratify=y\n",
    ")\n",
    "\n",
    "print(\"TREINO (sem balancear):\", dict(Counter(y_tr)))\n",
    "print(\"TESTE  (inalterado)   :\", dict(Counter(y_te)))\n"
   ]
  },
  {
   "cell_type": "markdown",
   "metadata": {
    "id": "f5Qi6OTtrrwI"
   },
   "source": [
    "**Balanceamento do Dataset - Aplicando o SMOTE -  Somente nos dataset de Treino**"
   ]
  },
  {
   "cell_type": "code",
   "execution_count": 78,
   "metadata": {
    "colab": {
     "base_uri": "https://localhost:8080/"
    },
    "id": "kjYh97yArQ5A",
    "outputId": "e90f4608-3871-4597-de4d-7682a6b25056"
   },
   "outputs": [
    {
     "name": "stdout",
     "output_type": "stream",
     "text": [
      "TREINO (ROS)          : {np.int64(2): 1024116, np.int64(1): 1024116}\n"
     ]
    }
   ],
   "source": [
    "ros = RandomOverSampler(random_state=42)\n",
    "X_tr_bal, y_tr_bal = ros.fit_resample(X_tr, y_tr)\n",
    "print(\"TREINO (ROS)          :\", dict(Counter(y_tr_bal)))"
   ]
  },
  {
   "cell_type": "markdown",
   "metadata": {},
   "source": [
    "**Balanceamento do Dataset - Aplicando o Tomek -  Somente nos dataset de Treino**"
   ]
  },
  {
   "cell_type": "code",
   "execution_count": null,
   "metadata": {},
   "outputs": [],
   "source": [
    "# Aplicando Tomek Links\n",
    "tl = TomekLinks(sampling_strategy='auto')  # 'auto' remove da classe majoritária\n",
    "X_tr_tl, y_tr_tl = tl.fit_resample(X_tr, y_tr)"
   ]
  },
  {
   "cell_type": "markdown",
   "metadata": {
    "id": "rqgeQQUksLVK"
   },
   "source": [
    "**Aplicar os modelos de aprendizados de máquina que usem os seguintes algoritimos : Naive Bayes, Random Forest e SVM**"
   ]
  },
  {
   "cell_type": "code",
   "execution_count": null,
   "metadata": {
    "id": "Je2yeBTwrQ1g"
   },
   "outputs": [],
   "source": [
    "# Define os modelos que serão usados\n",
    "\n",
    "modelos = {\n",
    "    \"NaiveBayes\": GaussianNB(),\n",
    "    \"RandomForest\": RandomForestClassifier(\n",
    "        n_estimators=50,     # menos árvores\n",
    "        max_depth=8,         # floresta rasa\n",
    "        min_samples_leaf=5,  # evita overfit e acelera\n",
    "        n_jobs=-1,\n",
    "        random_state=42\n",
    "    ),\n",
    "    # \"SVM\" linear via SGD (bem mais leve que SVC/RBF)\n",
    "    \"LinearSVM_SGD\": SGDClassifier(\n",
    "        loss=\"hinge\",        # SVM linear\n",
    "        alpha=1e-4,\n",
    "        max_iter=2000,\n",
    "        tol=1e-3,\n",
    "        n_jobs=-1,\n",
    "        random_state=42\n",
    "    ),\n",
    "}\n",
    "\n",
    "\n",
    "def avalia(clf, Xtr, ytr, Xte, yte):\n",
    "    clf.fit(Xtr, ytr)\n",
    "    pred = clf.predict(Xte)\n",
    "    return {\n",
    "        \"accuracy\": round(accuracy_score(yte, pred), 4),\n",
    "        \"precision_macro\": round(precision_score(yte, pred, average=\"macro\", zero_division=0), 4),\n",
    "        \"recall_macro\": round(recall_score(yte, pred, average=\"macro\", zero_division=0), 4),\n",
    "        \"f1_macro\": round(f1_score(yte, pred, average=\"macro\", zero_division=0), 4),\n",
    "    }"
   ]
  },
  {
   "cell_type": "markdown",
   "metadata": {
    "id": "aqXQqNvesvPc"
   },
   "source": [
    "**AGORA SEM BALANCEAR OS DADOS**"
   ]
  },
  {
   "cell_type": "code",
   "execution_count": null,
   "metadata": {
    "id": "-5K1UdKsrQxh"
   },
   "outputs": [],
   "source": [
    "# sem balancear\n",
    "linhas = []\n",
    "for nome, clf in modelos.items():\n",
    "    m = avalia(clf, X_tr, y_tr, X_te, y_te)\n",
    "    m.update({\"versao\": \"Sem balancear\", \"modelo\": nome})\n",
    "    linhas.append(m)\n",
    "\n",
    "for nome, clf in modelos.items():\n",
    "    m = avalia(clf, X_tr_bal, y_tr_bal, X_te, y_te)\n",
    "    m.update({\"versao\": \"Balanceado (ROS)\", \"modelo\": nome})\n",
    "    linhas.append(m)\n"
   ]
  },
  {
   "cell_type": "code",
   "execution_count": null,
   "metadata": {},
   "outputs": [],
   "source": [
    "for nome, clf in modelos.items():\n",
    "    m = avalia(clf, X_tr_tl, y_tr_tl, X_te, y_te)\n",
    "    m.update({\"versao\": \"Balanceado (Tomek)\", \"modelo\": nome})\n",
    "    linhas.append(m)"
   ]
  },
  {
   "cell_type": "markdown",
   "metadata": {
    "id": "ThTR-Dw5s7kL"
   },
   "source": [
    "**Plotando as métricas dos modelos para Análise**"
   ]
  },
  {
   "cell_type": "code",
   "execution_count": null,
   "metadata": {
    "colab": {
     "base_uri": "https://localhost:8080/"
    },
    "id": "EUPLVcuOrQsa",
    "outputId": "a6fcdced-6641-46ba-951c-14ca6370aba3"
   },
   "outputs": [
    {
     "name": "stdout",
     "output_type": "stream",
     "text": [
      "            versao        modelo  accuracy  precision_macro  recall_macro  f1_macro\n",
      "     Sem balancear    NaiveBayes    0.0587           0.5011        0.5119    0.0564\n",
      "     Sem balancear  RandomForest    0.9951           0.4976        0.5000    0.4988\n",
      "     Sem balancear LinearSVM_SGD    0.9951           0.4976        0.5000    0.4988\n",
      "  Balanceado (ROS)    NaiveBayes    0.0586           0.5011        0.5119    0.0563\n",
      "  Balanceado (ROS)  RandomForest    0.6058           0.5010        0.5477    0.3828\n",
      "  Balanceado (ROS) LinearSVM_SGD    0.5118           0.5008        0.5430    0.3436\n",
      "Balanceado (Tomek)    NaiveBayes    0.0587           0.5011        0.5119    0.0564\n",
      "Balanceado (Tomek)  RandomForest    0.9951           0.4976        0.5000    0.4988\n",
      "Balanceado (Tomek) LinearSVM_SGD    0.9951           0.4976        0.5000    0.4988\n"
     ]
    }
   ],
   "source": [
    "tabela = pd.DataFrame(linhas)[\n",
    "    [\"versao\", \"modelo\", \"accuracy\", \"precision_macro\", \"recall_macro\", \"f1_macro\"]\n",
    "]\n",
    "# salvar CSV\n",
    "print(tabela.to_string(index=False))"
   ]
  },
  {
   "cell_type": "markdown",
   "metadata": {},
   "source": [
    "## GridSearch + Cross Validation"
   ]
  },
  {
   "cell_type": "code",
   "execution_count": null,
   "metadata": {},
   "outputs": [],
   "source": []
  },
  {
   "cell_type": "code",
   "execution_count": null,
   "metadata": {},
   "outputs": [],
   "source": [
    "from sklearn.model_selection import StratifiedKFold, GridSearchCV\n",
    "from sklearn.pipeline import Pipeline\n",
    "from sklearn.metrics import (accuracy_score, precision_score, recall_score, f1_score,\n",
    "                             make_scorer, classification_report)"
   ]
  },
  {
   "cell_type": "code",
   "execution_count": null,
   "metadata": {},
   "outputs": [],
   "source": [
    "modelos = {\n",
    "    \"NaiveBayes\": GaussianNB(),\n",
    "    \"RandomForest\": RandomForestClassifier(n_jobs=-1, random_state=42),\n",
    "    \"LinearSVM_SGD\": SGDClassifier(loss=\"hinge\", random_state=42, n_jobs=-1)\n",
    "}\n",
    "\n",
    "# Grids (ajuste à vontade)\n",
    "param_grids = {\n",
    "    \"NaiveBayes\": {\n",
    "        \"model__var_smoothing\": [1e-9, 1e-8, 1e-7]\n",
    "    },\n",
    "    \"RandomForest\": {\n",
    "        \"model__n_estimators\": [50, 100, 200],\n",
    "        \"model__max_depth\": [5, 10, None],\n",
    "        \"model__min_samples_leaf\": [1, 5, 10]\n",
    "    },\n",
    "    \"LinearSVM_SGD\": {\n",
    "        \"model__alpha\": [1e-3, 1e-4, 1e-5],\n",
    "        \"model__penalty\": [\"l2\", \"elasticnet\"],\n",
    "        \"model__max_iter\": [1000, 2000],\n",
    "        \"model__tol\": [1e-3]\n",
    "    }\n",
    "}"
   ]
  },
  {
   "cell_type": "code",
   "execution_count": null,
   "metadata": {},
   "outputs": [],
   "source": [
    "scoring = {\n",
    "    \"accuracy\": make_scorer(accuracy_score),\n",
    "    \"precision_macro\": make_scorer(precision_score, average=\"macro\", zero_division=0),\n",
    "    \"recall_macro\": make_scorer(recall_score, average=\"macro\", zero_division=0),\n",
    "    \"f1_macro\": make_scorer(f1_score, average=\"macro\", zero_division=0)\n",
    "}\n",
    "\n",
    "cv = StratifiedKFold(n_splits=5, shuffle=True, random_state=42)\n",
    "\n",
    "def metrics_dict(y_true, y_pred):\n",
    "    return {\n",
    "        \"accuracy\": round(accuracy_score(y_true, y_pred), 4),\n",
    "        \"precision_macro\": round(precision_score(y_true, y_pred, average=\"macro\", zero_division=0), 4),\n",
    "        \"recall_macro\": round(recall_score(y_true, y_pred, average=\"macro\", zero_division=0), 4),\n",
    "        \"f1_macro\": round(f1_score(y_true, y_pred, average=\"macro\", zero_division=0), 4),\n",
    "    }"
   ]
  },
  {
   "cell_type": "code",
   "execution_count": null,
   "metadata": {},
   "outputs": [
    {
     "name": "stdout",
     "output_type": "stream",
     "text": [
      "\n",
      "===== NaiveBayes =====\n",
      "Fitting 5 folds for each of 3 candidates, totalling 15 fits\n",
      "Melhores hiperparâmetros: {'model__var_smoothing': 1e-07}\n",
      "CV (f1_macro): 0.3837\n",
      "\n",
      "Relatório de teste:\n",
      "              precision    recall  f1-score   support\n",
      "\n",
      "           1     0.0050    0.9696    0.0099      2141\n",
      "           2     0.9973    0.0542    0.1029    438908\n",
      "\n",
      "    accuracy                         0.0587    441049\n",
      "   macro avg     0.5011    0.5119    0.0564    441049\n",
      "weighted avg     0.9925    0.0587    0.1024    441049\n",
      "\n",
      "\n",
      "===== RandomForest =====\n",
      "Fitting 5 folds for each of 27 candidates, totalling 135 fits\n"
     ]
    }
   ],
   "source": [
    "resultados = []\n",
    "\n",
    "for nome, est in modelos.items():\n",
    "    print(f\"\\n===== {nome} =====\")\n",
    "    pipe = Pipeline([(\"model\", est)])\n",
    "\n",
    "    grid = GridSearchCV(\n",
    "        estimator=pipe,\n",
    "        param_grid=param_grids[nome],\n",
    "        scoring=scoring,\n",
    "        refit=\"f1_macro\",          # escolhe o melhor por f1_macro\n",
    "        cv=cv,\n",
    "        n_jobs=-1,\n",
    "        verbose=1,\n",
    "        return_train_score=False\n",
    "    )\n",
    "    grid.fit(X_tr_bal, y_tr_bal)\n",
    "\n",
    "    # Métricas de CV (melhor ponto)\n",
    "    best = grid.best_estimator_\n",
    "    best_cv = {\n",
    "        \"modelo\": nome,\n",
    "        \"cv_accuracy\": round(grid.cv_results_[\"mean_test_accuracy\"][grid.best_index_], 4),\n",
    "        \"cv_precision_macro\": round(grid.cv_results_[\"mean_test_precision_macro\"][grid.best_index_], 4),\n",
    "        \"cv_recall_macro\": round(grid.cv_results_[\"mean_test_recall_macro\"][grid.best_index_], 4),\n",
    "        \"cv_f1_macro\": round(grid.cv_results_[\"mean_test_f1_macro\"][grid.best_index_], 4),\n",
    "        \"best_params\": grid.best_params_\n",
    "    }\n",
    "\n",
    "    # Métricas no TESTE\n",
    "    pred = best.predict(X_te)\n",
    "    mtest = metrics_dict(y_te, pred)\n",
    "\n",
    "    print(\"Melhores hiperparâmetros:\", grid.best_params_)\n",
    "    print(\"CV (f1_macro):\", best_cv[\"cv_f1_macro\"])\n",
    "    print(\"\\nRelatório de teste:\")\n",
    "    print(classification_report(y_te, pred, digits=4))\n",
    "\n",
    "    resultados.append({\n",
    "        **best_cv,\n",
    "        \"test_accuracy\": mtest[\"accuracy\"],\n",
    "        \"test_precision_macro\": mtest[\"precision_macro\"],\n",
    "        \"test_recall_macro\": mtest[\"recall_macro\"],\n",
    "        \"test_f1_macro\": mtest[\"f1_macro\"],\n",
    "    })\n",
    "\n",
    "# Tabela comparativa\n",
    "df_result = pd.DataFrame(resultados).sort_values(by=\"test_f1_macro\", ascending=False)\n",
    "print(\"\\n===== Ranking (TESTE - f1_macro) =====\")\n",
    "print(df_result[[\n",
    "    \"modelo\", \"cv_f1_macro\", \"test_f1_macro\",\n",
    "    \"cv_accuracy\", \"test_accuracy\",\n",
    "    \"cv_precision_macro\", \"test_precision_macro\",\n",
    "    \"cv_recall_macro\", \"test_recall_macro\",\n",
    "    \"best_params\"\n",
    "]])"
   ]
  }
 ],
 "metadata": {
  "accelerator": "GPU",
  "colab": {
   "collapsed_sections": [
    "Jkku8PqxX1US"
   ],
   "gpuType": "T4",
   "provenance": []
  },
  "kernelspec": {
   "display_name": "base",
   "language": "python",
   "name": "python3"
  },
  "language_info": {
   "codemirror_mode": {
    "name": "ipython",
    "version": 3
   },
   "file_extension": ".py",
   "mimetype": "text/x-python",
   "name": "python",
   "nbconvert_exporter": "python",
   "pygments_lexer": "ipython3",
   "version": "3.13.5"
  }
 },
 "nbformat": 4,
 "nbformat_minor": 0
}
