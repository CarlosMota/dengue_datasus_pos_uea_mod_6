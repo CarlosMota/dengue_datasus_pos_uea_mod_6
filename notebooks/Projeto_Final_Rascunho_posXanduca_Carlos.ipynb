{
 "cells": [
  {
   "cell_type": "markdown",
   "metadata": {
    "id": "d4DGfNIZd5v8"
   },
   "source": [
    "# Trabalho Final - Dengue 2025"
   ]
  },
  {
   "cell_type": "markdown",
   "metadata": {},
   "source": [
    "## Dicionário de Dados -- Dataset DENGBR23- DENGBR23 (Casos de Dengue -- Brasil 2023 e Brasil 2023)\n",
    "\n",
    "Este documento apresenta o mapeamento das colunas do dataset DENGBR23, contendo registros de casos de dengue notificados no Brasil em 2023. As definições foram extraídas e adaptadas a partir da documentação oficial do SINAN/DATASUS (Ministério da Saúde)."
   ]
  },
  {
   "cell_type": "markdown",
   "metadata": {},
   "source": [
    "### Campos de Identificação da Notificação\n",
    "\n",
    "| Nome da Coluna | Descrição | Tipo de Dado |\n",
    "|----------------|-----------|--------------|\n",
    "| `tp_not` | Tipo de Notificação (1 = Negativa, 2 = Individual, 3 = Sarto, 4 = Agregado) | Texto (1) ** |\n",
    "| `id_agravo` | Código CID-10 da doença (ex.: A90 = dengue clássica, A91 = dengue hemorrágica) | Texto (5) |\n",
    "| `dt_notific` | Data da Notificação (quando a ficha foi preenchida) | Data |\n",
    "| `sem_not` | Semana Epidemiológica da Notificação (AAAASS) | Texto (6) ** |\n",
    "| `nu_ano` | Ano da notificação (AAAA) | Texto (4) ** |0\n",
    "| `sg_uf_not` | Unidade Federativa (UF) onde foi notificado o caso (sigla IBGE) | Texto (2) |\n",
    "| `id_municip` | Município da notificação (código IBGE) | Texto (6) |\n",
    "| `id_regiona` | Regional de saúde da notificação | Texto (8) ** |\n",
    "| `id_unidade` | Unidade notificadora (CNES) | Texto (7) ** |"
   ]
  },
  {
   "cell_type": "markdown",
   "metadata": {},
   "source": [
    "### Dados do Paciente\n",
    "\n",
    "| Nome da Coluna | Descrição | Tipo de Dado |\n",
    "|----------------|-----------|--------------|\n",
    "| `dt_sin_pri` | Data de início dos primeiros sintomas | Data |\n",
    "| `sem_pri` | Semana epidemiológica dos primeiros sintomas (AAAASS) | Texto (6) ** |\n",
    "| `ano_nasc` | Ano de nascimento do paciente (AAAA) | Texto (4) ** |\n",
    "| `nu_idade_n` | Idade (1=horas, 2=dias, 3=meses, 4=anos; ex.: 4018 = 18 anos) | Número (4) |\n",
    "| `cs_sexo` | Sexo biológico (M=Masculino, F=Feminino, I=Ignorado) | Texto (1) |\n",
    "| `cs_gestant` | Gestante (1=1º Tri; 2=2º Tri; 3=3º Tri; 4=Gestão ignorada; 5=Não; 6=Não se aplica; 9=Ignorado) | Texto (1) *Ordinal |\n",
    "| `cs_raca` | Raça/cor (1=Branca, 2=Preta, 3=Amarela, 4=Parda, 5=Indígena, 9=Ignorado) | Texto (1) |\n",
    "| `cs_escol_n` | Escolaridade (0=Analfabeto; 1=1ª-4ª incompleto; 2=4ª completo; ...; 8=Superior completo; 9=Ignorado; 10=Não se aplica) | Texto (2) *Ordinal |"
   ]
  },
  {
   "cell_type": "markdown",
   "metadata": {},
   "source": [
    "### Dados de Residência e Procedência\n",
    "\n",
    "| Nome da Coluna | Descrição | Tipo de Dado |\n",
    "|----------------|-----------|--------------|\n",
    "| `sg_uf` | Unidade Federativa de residência (sigla IBGE) | Texto (2) ** |\n",
    "| `id_mn_resi` | Município de residência (código IBGE) | Texto (6) ** |\n",
    "| `id_rg_resi` | Regional de saúde da residência | Texto (8) ** |\n",
    "| `id_pais` | País de residência (se exterior) | Texto (4) ** |\n",
    "| `dt_invest` | Data de início da investigação epidemiológica | Data ** |\n",
    "| `id_ocupa_n` | Ocupação (CBO) | Texto (6) |"
   ]
  },
  {
   "cell_type": "markdown",
   "metadata": {},
   "source": [
    "### Sinais e Sintomas Clínicos\n",
    "\n",
    "Todos os campos abaixo: 1 = Sim, 2 = Não\n",
    "\n",
    "- `febre` -- Presença de febre  \n",
    "- `malgia` -- Dor muscular  \n",
    "- `cefaleta` -- Dor de cabeça  \n",
    "- `exantema` -- Manchas/vermelhidão na pele  \n",
    "- `vomito` -- Episódios de vômito  \n",
    "- `nausea` -- Náusea/enjoo  \n",
    "- `dor_costas` -- Dor nas costas  \n",
    "- `conjuntvit` -- Conjuntivite  \n",
    "- `artrite` -- Artrite  \n",
    "- `artralgia` -- Dor nas articulações  \n",
    "- `petequia_n` -- Petéquias  \n",
    "- `leucopenia` -- Leucopenia (exame de sangue)  \n",
    "- `laco` -- Prova do laço positiva  \n",
    "- `dor_retro` -- Dor retroorbital (atrás dos olhos)  "
   ]
  },
  {
   "cell_type": "markdown",
   "metadata": {},
   "source": [
    "### Doenças Pré-existentes (Comorbidades)\n",
    "\n",
    "Todos os campos abaixo: 1 = Sim, 2 = Não\n",
    "\n",
    "- `diabetes` -- Diabetes mellitus  \n",
    "- `hematolog` -- Doenças hematológicas  \n",
    "- `hepatopat` -- Hepatopatias crônicas  \n",
    "- `renal` -- Doença renal crônica  \n",
    "- `hipertensa` -- Hipertensão arterial  \n",
    "- `acido_pept` -- Doença ácido-péptica  \n",
    "- `auto_imune` -- Doença autoimune  "
   ]
  },
  {
   "cell_type": "markdown",
   "metadata": {},
   "source": [
    "### Exames Laboratoriais\n",
    "\n",
    "| Nome da Coluna | Descrição | Tipo de Dado |\n",
    "|----------------|-----------|--------------|\n",
    "| `dt_coleta` | Data da coleta de sorologia IgM | Data ** |\n",
    "| `resul_soro` | Resultado sorologia IgM (1=Reagente, 2=Não, 3=Inconclusivo, 4=Não realizado) | Texto (1) |\n",
    "| `dt_ns1` | Data coleta exame NS1 | Data ** |\n",
    "| `resul_ns1` | Resultado NS1 (1=Reagente, 2=Não, 3=Inconclusivo, 4=Não realizado) | Texto (1) ** |\n",
    "| `dt_viral` | Data coleta isolamento viral | Data ** |\n",
    "| `resul_vi_n` | Resultado isolamento viral | Texto (1) ** |\n",
    "| `dt_per` | Data coleta RT-PCR | Data * |\n",
    "| `resul_per` | Resultado RT-PCR | Texto (1) * |\n",
    "| `sorotipo` | Sorotipo do vírus (1=DEN-1, 2=DEN-2, 3=DEN-3, 4=DEN-4) | Texto (1) * Ordinal | \n",
    "| `histopa_n` | Resultado histopatologia | Texto (1) * |\n",
    "| `imunoh_n` | Resultado imunohistoquímica | Texto (1) * |"
   ]
  },
  {
   "cell_type": "markdown",
   "metadata": {},
   "source": [
    "### Hospitalização e Local da Infecção\n",
    "\n",
    "| Nome da Coluna | Descrição | Tipo de Dado |\n",
    "|----------------|-----------|--------------|\n",
    "| `hospitaliz` | Paciente foi hospitalizado? (1=Sim, 2=Não, 9=Ignorado) | Texto (1) ** |\n",
    "| `dt_interna` | Data da internação | Data ** |\n",
    "| `coufinf` | UF provável da infecção | Texto (2) ** |\n",
    "| `município` | Município provável da infecção | Texto (6) ** |\n",
    "| `tpautocto` | Caso autóctone do município de residência? (1=Sim, 2=Não, 3=Indeterminado) | Texto (1) ** |"
   ]
  },
  {
   "cell_type": "markdown",
   "metadata": {},
   "source": [
    "### Encerramento do Caso\n",
    "\n",
    "| Nome da Coluna | Descrição | Tipo de Dado |\n",
    "|----------------|-----------|--------------|\n",
    "| `classi_fin` | Classificação final (1=Confirmado, 2=Descartado, 9=Ignorado) | Texto (2) ** |\n",
    "| `criterio` | Critério de confirmação (1=Lab, 2=Clínico-epidemiológico, 3=Clínico, 4=Descartado) | Texto (1) ** |\n",
    "| `dt_encerra` | Data de encerramento | Data ** |\n",
    "| `evolucao` | Evolução (1=Cura, 2=Óbito por dengue, 3=Óbito por outras causas, 4=Óbito em investigação, 9=Ignorado) | Texto (1) |\n",
    "| `dt_obito` | Data do óbito (se aplicável) | Data ** |"
   ]
  },
  {
   "cell_type": "markdown",
   "metadata": {},
   "source": [
    "### 🦠 Exames laboratoriais de Chikungunya\n",
    "\n",
    "| Variável     | Descrição                    | Valores possíveis                                  |\n",
    "| ------------ | ---------------------------- | -------------------------------------------------- |\n",
    "| `DT_CHIK_S1` | Data da coleta da 1ª amostra | Data (`AAAA-MM-DD`)                                |\n",
    "| `DT_CHIK_S2` | Data da coleta da 2ª amostra | Data (`AAAA-MM-DD`)                                |\n",
    "| `DT_PRNT`    | Data do exame PRNT           | Data (`AAAA-MM-DD`)                                |\n",
    "| `DT_SORO`    | Data da sorologia            | Data (`AAAA-MM-DD`)                                |\n",
    "| `RES_CHIKS1` | Resultado da 1ª amostra CHIK | 1=Positivo, 2=Negativo, 3=Inconclusivo, 9=Ignorado |\n",
    "| `RES_CHIKS2` | Resultado da 2ª amostra CHIK | 1=Positivo, 2=Negativo, 3=Inconclusivo, 9=Ignorado |\n",
    "| `RESUL_PRNT` | Resultado do exame PRNT      | 1=Positivo, 2=Negativo, 3=Inconclusivo, 9=Ignorado |\n"
   ]
  },
  {
   "cell_type": "markdown",
   "metadata": {},
   "source": [
    "### 🏥 Dados clínicos da doença\n",
    "\n",
    "| Variável     | Descrição                            | Valores possíveis              |\n",
    "| ------------ | ------------------------------------ | ------------------------------ |\n",
    "| `DOENCA_TRA` | Doença relacionada ao trabalho       | 1=Sim, 2=Não, 9=Ignorado       |\n",
    "| `CLINC_CHIK` | Classificação clínica da Chikungunya | 1=Aguda, 2=Crônica, 9=Ignorado |\n"
   ]
  },
  {
   "cell_type": "markdown",
   "metadata": {},
   "source": [
    "### Sinais de Alarme\n",
    "\n",
    "| Variável     | Descrição                              | Valores possíveis        |\n",
    "| ------------ | -------------------------------------- | ------------------------ |\n",
    "| `ALRM_HIPOT` | Hipotensão                             | 1=Sim, 2=Não, 9=Ignorado |\n",
    "| `ALRM_PLAQ`  | Plaquetopenia                          | 1=Sim, 2=Não, 9=Ignorado |\n",
    "| `ALRM_VOM`   | Vômitos persistentes                   | 1=Sim, 2=Não, 9=Ignorado |\n",
    "| `ALRM_SANG`  | Sangramento                            | 1=Sim, 2=Não, 9=Ignorado |\n",
    "| `ALRM_HEMAT` | Hematócrito aumentado                  | 1=Sim, 2=Não, 9=Ignorado |\n",
    "| `ALRM_ABDOM` | Dor abdominal                          | 1=Sim, 2=Não, 9=Ignorado |\n",
    "| `ALRM_LETAR` | Letargia                               | 1=Sim, 2=Não, 9=Ignorado |\n",
    "| `ALRM_HEPAT` | Hepatomegalia                          | 1=Sim, 2=Não, 9=Ignorado |\n",
    "| `ALRM_LIQ`   | Derrame cavitário                      | 1=Sim, 2=Não, 9=Ignorado |\n",
    "| `DT_ALRM`    | Data da ocorrência de sinais de alarme | Data (`AAAA-MM-DD`)      |\n"
   ]
  },
  {
   "cell_type": "markdown",
   "metadata": {},
   "source": [
    "### 🚨 Critérios de Gravidade\n",
    "\n",
    "| Variável     | Descrição                                 | Valores possíveis        |\n",
    "| ------------ | ----------------------------------------- | ------------------------ |\n",
    "| `GRAV_PULSO` | Pulso fraco/filiforme                     | 1=Sim, 2=Não, 9=Ignorado |\n",
    "| `GRAV_CONV`  | Convulsão                                 | 1=Sim, 2=Não, 9=Ignorado |\n",
    "| `GRAV_ENCH`  | Tempo de enchimento capilar prolongado    | 1=Sim, 2=Não, 9=Ignorado |\n",
    "| `GRAV_INSUF` | Insuficiência respiratória                | 1=Sim, 2=Não, 9=Ignorado |\n",
    "| `GRAV_TAQUI` | Taquicardia                               | 1=Sim, 2=Não, 9=Ignorado |\n",
    "| `GRAV_EXTRE` | Extremidades frias                        | 1=Sim, 2=Não, 9=Ignorado |\n",
    "| `GRAV_HIPOT` | Hipotensão grave                          | 1=Sim, 2=Não, 9=Ignorado |\n",
    "| `GRAV_HEMAT` | Hemorragia grave                          | 1=Sim, 2=Não, 9=Ignorado |\n",
    "| `GRAV_MELEN` | Melena                                    | 1=Sim, 2=Não, 9=Ignorado |\n",
    "| `GRAV_METRO` | Metrorragia                               | 1=Sim, 2=Não, 9=Ignorado |\n",
    "| `GRAV_SANG`  | Sangramento maciço                        | 1=Sim, 2=Não, 9=Ignorado |\n",
    "| `GRAV_AST`   | Astenia intensa                           | 1=Sim, 2=Não, 9=Ignorado |\n",
    "| `GRAV_MIOC`  | Miocardite                                | 1=Sim, 2=Não, 9=Ignorado |\n",
    "| `GRAV_CONSC` | Alteração de consciência                  | 1=Sim, 2=Não, 9=Ignorado |\n",
    "| `GRAV_ORGAO` | Disfunção de órgão                        | 1=Sim, 2=Não, 9=Ignorado |\n",
    "| `DT_GRAV`    | Data da ocorrência de sinais de gravidade | Data (`AAAA-MM-DD`)      |\n"
   ]
  },
  {
   "cell_type": "markdown",
   "metadata": {},
   "source": [
    "### 🌍 Identificação geográfica\n",
    "\n",
    "| Variável    | Descrição                          | Valores possíveis             |\n",
    "| ----------- | ---------------------------------- | ------------------------------|\n",
    "| `UF`        | Unidade da federação (IBGE 2 díg.) | Ex: 11=RO, 13=AM, etc.        |\n",
    "| `COPAISINF` | País de infecção                   | Código do país (076=Brasil) **|\n",
    "| `COMUNINF`  | Comunidade/local da infecção       | Código local, variável **     |\n"
   ]
  },
  {
   "cell_type": "markdown",
   "metadata": {},
   "source": [
    "\n",
    "### 🚨 Critérios de Gravidade\n",
    "\n",
    "| Variável     | Descrição                                 | Valores possíveis        |\n",
    "| ------------ | ----------------------------------------- | ------------------------ |\n",
    "| `GRAV_PULSO` | Pulso fraco/filiforme                     | 1=Sim, 2=Não, 9=Ignorado |\n",
    "| `GRAV_CONV`  | Convulsão                                 | 1=Sim, 2=Não, 9=Ignorado |\n",
    "| `GRAV_ENCH`  | Tempo de enchimento capilar prolongado    | 1=Sim, 2=Não, 9=Ignorado |\n",
    "| `GRAV_INSUF` | Insuficiência respiratória                | 1=Sim, 2=Não, 9=Ignorado |\n",
    "| `GRAV_TAQUI` | Taquicardia                               | 1=Sim, 2=Não, 9=Ignorado |\n",
    "| `GRAV_EXTRE` | Extremidades frias                        | 1=Sim, 2=Não, 9=Ignorado |\n",
    "| `GRAV_HIPOT` | Hipotensão grave                          | 1=Sim, 2=Não, 9=Ignorado |\n",
    "| `GRAV_HEMAT` | Hemorragia grave                          | 1=Sim, 2=Não, 9=Ignorado |\n",
    "| `GRAV_MELEN` | Melena                                    | 1=Sim, 2=Não, 9=Ignorado |\n",
    "| `GRAV_METRO` | Metrorragia                               | 1=Sim, 2=Não, 9=Ignorado |\n",
    "| `GRAV_SANG`  | Sangramento maciço                        | 1=Sim, 2=Não, 9=Ignorado |\n",
    "| `GRAV_AST`   | Astenia intensa                           | 1=Sim, 2=Não, 9=Ignorado |\n",
    "| `GRAV_MIOC`  | Miocardite                                | 1=Sim, 2=Não, 9=Ignorado |\n",
    "| `GRAV_CONSC` | Alteração de consciência                  | 1=Sim, 2=Não, 9=Ignorado |\n",
    "| `GRAV_ORGAO` | Disfunção de órgão                        | 1=Sim, 2=Não, 9=Ignorado |\n",
    "| `DT_GRAV`    | Data da ocorrência de sinais de gravidade | Data (`AAAA-MM-DD`)      |\n"
   ]
  },
  {
   "cell_type": "markdown",
   "metadata": {},
   "source": [
    "### 🩸 Manifestações Hemorrágica\n",
    "\n",
    "| Variável     | Descrição                      | Valores possíveis                  |\n",
    "| ------------ | ------------------------------ | ---------------------------------- |\n",
    "| `MANI_HEMOR` | Manifestação hemorrágica geral | 1=Sim, 2=Não, 9=Ignorado           |\n",
    "| `EPISTAXE`   | Epistaxe                       | 1=Sim, 2=Não, 9=Ignorado           |\n",
    "| `GENGIVO`    | Sangramento gengival           | 1=Sim, 2=Não, 9=Ignorado           |\n",
    "| `METRO`      | Metrorragia                    | 1=Sim, 2=Não, 9=Ignorado           |\n",
    "| `PETEQUIAS`  | Presença de petéquias          | 1=Sim, 2=Não, 9=Ignorado           |\n",
    "| `HEMATURA`   | Hematúria                      | 1=Sim, 2=Não, 9=Ignorado           |\n",
    "| `SANGRAM`    | Outros sangramentos            | 1=Sim, 2=Não, 9=Ignorado           |\n",
    "| `LACO_N`     | Teste do laço                  | 1=Positivo, 2=Negativo, 9=Ignorado |\n",
    "| `PLASMATICO` | Extravasamento plasmático      | 1=Sim, 2=Não, 9=Ignorado           |\n",
    "| `EVIDENCIA`  | Evidência clínica de dengue    | 1=Sim, 2=Não, 9=Ignorado           |\n",
    "| `PLAQ_MENOR` | Plaquetas < 100.000            | 1=Sim, 2=Não, 9=Ignorado           |\n",
    "| `CON_FHD`    | Caso confirmado de FHD         | 1=Sim, 2=Não, 9=Ignorado           |\n"
   ]
  },
  {
   "cell_type": "markdown",
   "metadata": {},
   "source": [
    "### 🧾 Dados administrativos\n",
    "\n",
    "| Variável     | Descrição                       | Valores possíveis        |\n",
    "| ------------ | ------------------------------- | ------------------------ |\n",
    "| `COMPLICA`   | Complicações                    | 1=Sim, 2=Não, 9=Ignorado |\n",
    "| `TP_SISTEMA` | Tipo de sistema                 | 1=Online, 2=Offline **   |\n",
    "| `NDUPLIC_N`  | Número de notificação duplicada | Código interno **        |\n",
    "| `DT_DIGITA`  | Data da digitação da ficha      | Data (`AAAA-MM-DD`) **   |\n",
    "| `CS_FLXRET`  | Fluxo de retorno do caso        | Controle interno **      |\n",
    "| `FLXRECEBI`  | Recebimento no sistema          | Controle interno **      |\n",
    "| `MIGRADO_W`  | Migrado de sistema anterior     | 1=Sim, 2=Não **          |\n"
   ]
  },
  {
   "cell_type": "markdown",
   "metadata": {},
   "source": [
    "### Fontes e Referências\n",
    "\n",
    "- Ministério da Saúde -- SINAN. Dicionário de Dados do SINAN Dengue  \n",
    "- Documentação DATASUS -- Layout de arquivos de microdados de Dengue  \n",
    "- Instruções técnicas sobre preenchimento de fichas de notificação"
   ]
  },
  {
   "cell_type": "markdown",
   "metadata": {
    "id": "kQfuqqUIRAem"
   },
   "source": [
    "## Importando bibliotecas do projeto"
   ]
  },
  {
   "cell_type": "code",
   "execution_count": 44,
   "metadata": {
    "executionInfo": {
     "elapsed": 1343,
     "status": "ok",
     "timestamp": 1755793819872,
     "user": {
      "displayName": "CARLOS ALBERTO MOTA DA SILVA FILHO",
      "userId": "08097359371162300772"
     },
     "user_tz": 240
    },
    "id": "2dv4NCKbQ_zW"
   },
   "outputs": [
    {
     "data": {
      "text/plain": [
       "'pt_BR.UTF-8'"
      ]
     },
     "execution_count": 44,
     "metadata": {},
     "output_type": "execute_result"
    }
   ],
   "source": [
    "import pandas as pd\n",
    "import numpy as np\n",
    "import seaborn as sns\n",
    "import matplotlib.pyplot as plt\n",
    "import plotly.express as px\n",
    "import glob\n",
    "import pyarrow.dataset as ds\n",
    "from pandas.api.types import is_string_dtype\n",
    "from dbfread import DBF\n",
    "import locale\n",
    "locale.setlocale(locale.LC_ALL, \"pt_BR.UTF-8\")"
   ]
  },
  {
   "cell_type": "markdown",
   "metadata": {},
   "source": [
    "## funcoes"
   ]
  },
  {
   "cell_type": "code",
   "execution_count": 45,
   "metadata": {},
   "outputs": [],
   "source": [
    "def ibge_to_sinan(cod_ibge:str):\n",
    "    \"\"\"\n",
    "    Converte código IBGE (7 dígitos) para código SINAN (6 dígitos).\n",
    "    - Remove o dígito verificador (último dígito do IBGE)\n",
    "    - Elimina zeros à esquerda do código do município\n",
    "    \"\"\"\n",
    "    s = str(cod_ibge).zfill(7)   # garante 7 dígitos\n",
    "    uf = s[:2]\n",
    "    municipio_5 = s[2:-1]        # 5 dígitos do município (sem DV)\n",
    "    \n",
    "    municipio_int = int(municipio_5)  # remove zeros à esquerda\n",
    "    return uf + str(municipio_int).zfill(4)"
   ]
  },
  {
   "cell_type": "code",
   "execution_count": 46,
   "metadata": {},
   "outputs": [],
   "source": [
    "# Exemplo de formatação\n",
    "def fmt_br(valor):\n",
    "    return locale.format_string(\"%.2f\", valor, grouping=True)"
   ]
  },
  {
   "cell_type": "code",
   "execution_count": 47,
   "metadata": {},
   "outputs": [],
   "source": [
    "def decode_idade(codigo: str) -> int:\n",
    "    \"\"\"\n",
    "    Decodifica o código de idade no formato TNNNN.\n",
    "    Apenas quando T=4 (anos) retorna a idade em anos.\n",
    "    Para T=1,2,3 retorna 0 (não considerado idade em anos).\n",
    "    \n",
    "    Parâmetros:\n",
    "        codigo (int): Código da idade (ex.: 4020 = 20 anos)\n",
    "    \n",
    "    Retorno:\n",
    "        int: Idade em anos\n",
    "    \"\"\"\n",
    "    codigo_str = str(codigo)\n",
    "    tipo = int(codigo_str[0])\n",
    "    valor = int(codigo_str[1:])\n",
    "    \n",
    "    if tipo == 4:  # anos\n",
    "        return valor\n",
    "    else:  # horas, dias, meses => considerado zero\n",
    "        return 0\n"
   ]
  },
  {
   "cell_type": "code",
   "execution_count": 48,
   "metadata": {},
   "outputs": [],
   "source": [
    "def decode_gestante(valor: int) -> int:\n",
    "    \"\"\"\n",
    "    Decodifica o código da gestante.\n",
    "    Mantém 1,2,3 (trimestres) e transforma 4,5,6,9 em 0.\n",
    "\n",
    "    Parâmetros:\n",
    "        valor (int): Código da gestante (1=1ºTri, 2=2ºTri, 3=3ºTri, \n",
    "                     4=Gestação ignorada, 5=Não, 6=Não se aplica, 9=Ignorado)\n",
    "\n",
    "    Retorno:\n",
    "        int: Trimestre (1,2,3) ou 0\n",
    "    \"\"\"\n",
    "    if valor in [1, 2, 3]:\n",
    "        return valor\n",
    "    elif valor in [4, 5, 6, 9]:\n",
    "        return 0\n",
    "    else:\n",
    "        return None  # caso apareça código inesperado\n"
   ]
  },
  {
   "cell_type": "code",
   "execution_count": 49,
   "metadata": {},
   "outputs": [],
   "source": [
    "def decode_escolaridade(valor: int) -> int:\n",
    "    \"\"\"\n",
    "    Decodifica o código da escolaridade.\n",
    "    Mantém 0 a 8 e transforma 9 e 10 em 0.\n",
    "\n",
    "    Parâmetros:\n",
    "        valor (int): Código da escolaridade \n",
    "                     (0=Analfabeto; 1=1ª-4ª incompleto; 2=4ª completo; \n",
    "                      ...; 8=Superior completo; 9=Ignorado; 10=Não se aplica)\n",
    "\n",
    "    Retorno:\n",
    "        int: Código normalizado (0 a 8 ou 0 se ignorado/não se aplica)\n",
    "    \"\"\"\n",
    "    if valor in range(0, 9):\n",
    "        return valor\n",
    "    elif valor in [9, 10]:\n",
    "        return 0\n",
    "    else:\n",
    "        return None  # caso apareça código inesperado\n"
   ]
  },
  {
   "cell_type": "markdown",
   "metadata": {},
   "source": [
    "## Carregamento dos dados"
   ]
  },
  {
   "cell_type": "code",
   "execution_count": 50,
   "metadata": {},
   "outputs": [],
   "source": [
    "# df_dengue2023 = pd.read_parquet(r\"../data/DENGBR23.parquet\", engine=\"pyarrow\")\n",
    "# df_dengue2024 = pd.read_parquet(r\"../data/DENGBR24.parquet\", engine=\"pyarrow\")\n",
    "# df_regions = pd.read_excel(r\"../data/POP.xlsx\")\n",
    "# #UF\tCOD. UF\tCOD. MUNIC\tNOME DO MUNICÍPIO\n",
    "# df_regions.columns = ['UF','COD_UF','COD_MUNIC','NOME_DO_MUNICIPIO']\n",
    "\n",
    "# df_concat_dengue = pd.concat([df_dengue2023,df_dengue2024])\n",
    "# df_concat_dengue.head()\n",
    "\n",
    "# #print(df_dengue2023.shape, df_dengue2023.head())\n",
    "\n",
    "# # Leia todos os arquivos Parquet da lista\n",
    "# #df_dengue2023 = pd.read_parquet(caminho_da_pasta)"
   ]
  },
  {
   "cell_type": "code",
   "execution_count": 51,
   "metadata": {},
   "outputs": [],
   "source": [
    "# df_concat_dengue['NU_IDADE_N']"
   ]
  },
  {
   "cell_type": "code",
   "execution_count": 52,
   "metadata": {},
   "outputs": [],
   "source": [
    "# df_regions.head()"
   ]
  },
  {
   "cell_type": "markdown",
   "metadata": {},
   "source": [
    "### Idenficação do Município"
   ]
  },
  {
   "cell_type": "code",
   "execution_count": 53,
   "metadata": {},
   "outputs": [],
   "source": [
    "# df_regions[\"COD_UF\"] = df_regions[\"COD_UF\"].astype(str).str.zfill(2)\n",
    "# df_regions[\"COD_MUNIC\"] = df_regions[\"COD_MUNIC\"].astype(str).str.zfill(5)\n",
    "\n",
    "\n",
    "\n",
    "# df_regions.head()\n",
    "# df_regions['COD_IBGE'] = df_regions['COD_UF'].astype(str) + df_regions['COD_MUNIC'].astype(str)\n",
    "# df_regions['COD_SINAN'] = df_regions['COD_IBGE'].apply(ibge_to_sinan)\n"
   ]
  },
  {
   "cell_type": "code",
   "execution_count": 54,
   "metadata": {},
   "outputs": [],
   "source": [
    "# df_regions.head()"
   ]
  },
  {
   "cell_type": "code",
   "execution_count": 55,
   "metadata": {},
   "outputs": [],
   "source": [
    "# df_regions.tail()"
   ]
  },
  {
   "cell_type": "code",
   "execution_count": 56,
   "metadata": {},
   "outputs": [],
   "source": [
    "# ##SG_UF_NOT\n",
    "# test = df_concat_dengue.query('SG_UF_NOT == \"53\"')\n",
    "# test.head()"
   ]
  },
  {
   "cell_type": "code",
   "execution_count": 57,
   "metadata": {},
   "outputs": [],
   "source": [
    "# df_concat_dengue.shape"
   ]
  },
  {
   "cell_type": "markdown",
   "metadata": {},
   "source": [
    "### União dos dados da Dengue com o Municípios"
   ]
  },
  {
   "cell_type": "code",
   "execution_count": 58,
   "metadata": {},
   "outputs": [],
   "source": [
    "# df_merge_dengue = pd.merge(df_concat_dengue,df_regions,left_on=['SG_UF_NOT','ID_MUNICIP'],right_on=['COD_UF','COD_SINAN'], how='left')"
   ]
  },
  {
   "cell_type": "code",
   "execution_count": 59,
   "metadata": {},
   "outputs": [],
   "source": [
    "# df_merge_dengue.info(verbose=True)"
   ]
  },
  {
   "cell_type": "markdown",
   "metadata": {},
   "source": [
    "### Identificação de valores padrões das variáveis"
   ]
  },
  {
   "cell_type": "code",
   "execution_count": 60,
   "metadata": {},
   "outputs": [],
   "source": [
    "# for coluna in df_merge_dengue.columns:\n",
    "#     if coluna in df_merge_dengue.columns:\n",
    "#         print(f\"\\n--- {coluna} ---\")\n",
    "#         print(df_merge_dengue[coluna].unique())\n",
    "#     else:\n",
    "#         print(f\"\\nColuna {coluna} não encontrada no DataFrame.\")"
   ]
  },
  {
   "cell_type": "code",
   "execution_count": 61,
   "metadata": {},
   "outputs": [],
   "source": [
    "# print(\"\\n\" + \"=\"*50)\n",
    "# print(\"Análise de Memória Após a Otimização\")\n",
    "# print(\"=\"*50)\n",
    "# memory_before = round(df_merge_dengue.memory_usage(deep=True).sum() / 1024**2,2)\n",
    "# print(f\"Uso de memória final: {memory_before} MB\")\n",
    "# print(\"\\nTipos de dados finais:\")\n",
    "# print(df_merge_dengue.info(verbose=True))"
   ]
  },
  {
   "cell_type": "markdown",
   "metadata": {},
   "source": [
    "### Tranformação dos tipos de dados"
   ]
  },
  {
   "cell_type": "code",
   "execution_count": 62,
   "metadata": {},
   "outputs": [],
   "source": [
    "# numeric_cols = {\n",
    "#     'NU_ANO': pd.Int16Dtype(),\n",
    "#     'ANO_NASC': pd.Int16Dtype(),\n",
    "#     'NU_IDADE_N': pd.Int16Dtype(),\n",
    "#     'FEBRE': pd.Int8Dtype(),\n",
    "#     'ALRM_HIPOT': pd.Int8Dtype(),\n",
    "#     'ALRM_PLAQ': pd.Int8Dtype(),\n",
    "#     'ALRM_VOM': pd.Int8Dtype(),\n",
    "#     'ALRM_SANG': pd.Int8Dtype(),\n",
    "#     'ALRM_HEMAT': pd.Int8Dtype(),\n",
    "#     'ALRM_ABDOM': pd.Int8Dtype(),\n",
    "#     'ALRM_LETAR': pd.Int8Dtype(),\n",
    "#     'ALRM_HEPAT': pd.Int8Dtype(),\n",
    "#     'ALRM_LIQ': pd.Int8Dtype(),\n",
    "#     'GRAV_PULSO': pd.Int8Dtype(),\n",
    "#     'GRAV_CONV': pd.Int8Dtype(),\n",
    "#     'GRAV_ENCH': pd.Int8Dtype(),\n",
    "#     'GRAV_INSUF': pd.Int8Dtype(),\n",
    "#     'GRAV_TAQUI': pd.Int8Dtype(),\n",
    "#     'GRAV_HIPOT': pd.Int8Dtype(),\n",
    "#     'GRAV_HEMAT': pd.Int8Dtype(),\n",
    "#     'GRAV_MELEN': pd.Int8Dtype(),\n",
    "#     'GRAV_METRO': pd.Int8Dtype(),\n",
    "#     'GRAV_SANG': pd.Int8Dtype(),\n",
    "#     'GRAV_AST': pd.Int8Dtype(),\n",
    "#     'GRAV_MIOC': pd.Int8Dtype(),\n",
    "#     'GRAV_CONSC': pd.Int8Dtype(),\n",
    "#     'GRAV_ORGAO': pd.Int8Dtype(),\n",
    "#     'MIALGIA': pd.Int8Dtype(),\n",
    "#     'CEFALEIA': pd.Int8Dtype(),\n",
    "#     'EXANTEMA': pd.Int8Dtype(),\n",
    "#     'VOMITO': pd.Int8Dtype(),\n",
    "#     'NAUSEA': pd.Int8Dtype(),\n",
    "#     'DOR_COSTAS': pd.Int8Dtype(),\n",
    "#     'CONJUNTVIT': pd.Int8Dtype(),\n",
    "#     'ARTRITE': pd.Int8Dtype(),\n",
    "#     'ARTRALGIA': pd.Int8Dtype(),\n",
    "#     'PETEQUIA_N': pd.Int8Dtype(),\n",
    "#     'LEUCOPENIA': pd.Int8Dtype(),\n",
    "#     'LACO': pd.Int8Dtype(),\n",
    "#     'DOR_RETRO': pd.Int8Dtype(),\n",
    "#     'DIABETES': pd.Int8Dtype(),\n",
    "#     'HEMATOLOG': pd.Int8Dtype(),\n",
    "#     'HEPATOPAT': pd.Int8Dtype(),\n",
    "#     'RENAL': pd.Int8Dtype(),\n",
    "#     'HIPERTENSA': pd.Int8Dtype(),\n",
    "#     'ACIDO_PEPT': pd.Int8Dtype(),\n",
    "#     'TP_SISTEMA': pd.Int8Dtype(),\n",
    "#     'NDUPLIC_N': pd.Int8Dtype(),\n",
    "#     'CS_FLXRET': pd.Int8Dtype(),\n",
    "#     'RES_CHIKS1': pd.Int8Dtype(),\n",
    "#     'RES_CHIKS2': pd.Int8Dtype(),\n",
    "#     'RESUL_PRNT': pd.Int8Dtype(),\n",
    "#     'RESUL_PCR_': pd.Int8Dtype(),\n",
    "#     'CLINC_CHIK': pd.Int8Dtype(),\n",
    "#     'GRAV_EXTRE': pd.Int8Dtype(),\n",
    "#     'UF_x': pd.Int16Dtype(),\n",
    "#     'COPAISINF': pd.Int32Dtype(),    \n",
    "#     'AUTO_IMUNE': pd.Int8Dtype()\n",
    "# }\n",
    "\n",
    "# # 2. Colunas categóricas:\n",
    "# categorical_cols = [\n",
    "#     'TP_NOT', 'ID_AGRAVO', 'SG_UF_NOT', 'ID_MUNICIP', 'ID_REGIONA',\n",
    "#     'ID_UNIDADE', 'CS_SEXO', 'CS_GESTANT', 'CS_RACA', 'CS_ESCOL_N',\n",
    "#     'SG_UF', 'ID_MN_RESI', 'ID_RG_RESI', 'ID_PAIS', 'ID_OCUPA_N',\n",
    "#     'RESUL_SORO', 'RESUL_NS1', 'RESUL_VI_N', 'RESUL_PCR', 'SOROTIPO',\n",
    "#     'HISTOPA_N', 'IMUNOH_N', 'HOSPITALIZ', 'COUFINF', 'MUNICIPIO',\n",
    "#     'TPAUTOCTO', 'CLASSI_FIN', 'CRITERIO', 'EVOLUCAO','MANI_HEMOR','EPISTAXE',\n",
    "#     'GENGIVO','METRO','PETEQUIAS','HEMATURA','SANGRAM','LACO_N','PLASMATICO',\n",
    "#     'EVIDENCIA','PLAQ_MENOR','CON_FHD','COMPLICA','FLXRECEBI','MIGRADO_W',\n",
    "#     'UF_y','COD_UF','COD_MUNIC','NOME_DO_MUNICIPIO','COD_IBGE','COD_SINAN','COMUNINF','DOENCA_TRA'\n",
    "# ]\n",
    "\n",
    "# # 3. Colunas de data:\n",
    "# date_cols = [\n",
    "#     'DT_NOTIFIC', 'DT_SIN_PRI', 'DT_INVEST', 'DT_COLETA',\n",
    "#     'DT_NS1', 'DT_VIRAL', 'DT_PCR', 'DT_INTERNA', 'DT_ENCERRA',\n",
    "#     'DT_OBITO','DT_ALRM','DT_GRAV','DT_DIGITA','DT_CHIK_S1','DT_CHIK_S2','DT_PRNT','DT_SORO'\n",
    "# ]\n",
    "\n",
    "# # 4. Colunas com semanas:\n",
    "# week_cols = [\n",
    "#     'SEM_NOT', 'SEM_PRI'\n",
    "# ]\n",
    "\n",
    "# # --- Aplicação das Conversões ---\n",
    "\n",
    "# print(\"\\nIniciando processo de conversão de tipos...\")\n",
    "\n",
    "# for col in week_cols:\n",
    "#     if col in df_merge_dengue.columns:\n",
    "#         df_merge_dengue[col] = pd.to_datetime(df_merge_dengue[col].astype(str) + '1', format='%G%V%u', errors=\"coerce\")\n",
    "\n",
    "# for col, dtype in numeric_cols.items():\n",
    "#     if col in df_merge_dengue.columns:\n",
    "#         df_merge_dengue[col] = pd.to_numeric(df_merge_dengue[col], errors='coerce').astype(dtype)\n",
    "\n",
    "# for col in categorical_cols:\n",
    "#     if col in df_merge_dengue.columns:\n",
    "#         df_merge_dengue[col] = df_merge_dengue[col].astype(str).astype('category')\n",
    "\n",
    "# for col in date_cols:\n",
    "#     if col in df_merge_dengue.columns:\n",
    "#         df_merge_dengue[col] = pd.to_datetime(df_merge_dengue[col], format=\"%Y%m%d\", errors='coerce')\n",
    "\n",
    "\n",
    "\n",
    "# print(\"Conversão concluída!\")"
   ]
  },
  {
   "cell_type": "code",
   "execution_count": 63,
   "metadata": {},
   "outputs": [],
   "source": [
    "# df_merge_dengue.head()"
   ]
  },
  {
   "cell_type": "code",
   "execution_count": 64,
   "metadata": {},
   "outputs": [],
   "source": [
    "# # --- Análise Final ---\n",
    "# print(\"\\n\" + \"=\"*50)\n",
    "# print(\"Análise de Memória Após a Otimização\")\n",
    "# print(\"=\"*50)\n",
    "# memory_after = round(df_merge_dengue.memory_usage(deep=True).sum() / 1024**2,2)\n",
    "# print(f\"Uso de memória final: {memory_after} MB\")\n",
    "# print(\"\\nTipos de dados finais:\")\n",
    "# print(df_merge_dengue.info(verbose=True))"
   ]
  },
  {
   "cell_type": "code",
   "execution_count": 65,
   "metadata": {},
   "outputs": [],
   "source": [
    "# memory_before.item()"
   ]
  },
  {
   "cell_type": "code",
   "execution_count": 66,
   "metadata": {},
   "outputs": [],
   "source": [
    "# dados = pd.DataFrame({\n",
    "#     \"Categoria\": [\"Valor Inicial\", \"Valor Final\"],\n",
    "#     \"Valor\": [memory_before.item(), memory_after.item()]\n",
    "# })\n",
    "\n",
    "# # Cálculos\n",
    "# reducao_abs = memory_before - memory_after\n",
    "# reducao_pct = (reducao_abs / memory_before) * 100\n",
    "\n",
    "# # Gráfico\n",
    "# labels = [\"Antes\", \"Depois\"]\n",
    "# values = [memory_before, memory_after]\n",
    "# colors = [\"#F44336\", \"#4CAF50\"]  # vermelho, verde\n",
    "\n",
    "# plt.figure(figsize=(7,5))\n",
    "# bars = plt.bar(labels, values, color=colors)\n",
    "\n",
    "# # Anotar valores em MB e (GB)\n",
    "# for bar, val in zip(bars, values):\n",
    "#     mb_txt = f\"{fmt_br(round(val,2))} MB\"\n",
    "#     gb_txt = f\" ({fmt_br(round(val/1024))} GB)\"\n",
    "#     plt.annotate(mb_txt + gb_txt,\n",
    "#                  (bar.get_x() + bar.get_width()/2, bar.get_height()),\n",
    "#                  ha=\"center\", va=\"bottom\", fontsize=10, fontweight=\"bold\",\n",
    "#                  xytext=(0, 6), textcoords=\"offset points\")\n",
    "\n",
    "# # Texto central com redução\n",
    "# plt.annotate(f\"Redução: {fmt_br(round(reducao_abs,2))} MB ({fmt_br(round(reducao_pct,2))}%)\\n= {fmt_br(round(reducao_abs/1024,2))} GB\",\n",
    "#              (0.5, max(values)*0.85),\n",
    "#              ha=\"center\", va=\"center\", fontsize=11,\n",
    "#              bbox=dict(facecolor=\"white\", edgecolor=\"gray\"))\n",
    "\n",
    "# plt.title(\"Uso de Memória — Antes vs Depois da Otimização\")\n",
    "# plt.ylabel(\"Memória (MB)\")\n",
    "# plt.ylim(0, max(values)*1.2)\n",
    "# plt.grid(axis=\"y\", linestyle=\"--\", alpha=0.4)\n",
    "\n",
    "# plt.show()"
   ]
  },
  {
   "cell_type": "code",
   "execution_count": 67,
   "metadata": {},
   "outputs": [],
   "source": [
    "#pd.set_option(\"display.max_columns\", None)"
   ]
  },
  {
   "cell_type": "code",
   "execution_count": 68,
   "metadata": {},
   "outputs": [],
   "source": [
    "#df_merge_dengue.to_parquet(\"dengue_preprocessado.parquet\",index=False)"
   ]
  },
  {
   "cell_type": "markdown",
   "metadata": {
    "id": "ot_yh1DTPOBD"
   },
   "source": [
    "## Limpeza dos dados (Começar a partir da aqui)"
   ]
  },
  {
   "cell_type": "code",
   "execution_count": 69,
   "metadata": {
    "colab": {
     "base_uri": "https://localhost:8080/",
     "height": 444
    },
    "id": "vcrtsiFnX1UH",
    "outputId": "745f8833-274d-4677-dfab-392196f7db49"
   },
   "outputs": [],
   "source": [
    "dengue = pd.read_parquet(\"dengue_preprocessado.parquet\",engine='pyarrow')"
   ]
  },
  {
   "cell_type": "code",
   "execution_count": 70,
   "metadata": {
    "colab": {
     "base_uri": "https://localhost:8080/"
    },
    "id": "mQ3dWvqoX1US",
    "outputId": "7ff0b885-be25-4658-ff9f-8481c013a9eb"
   },
   "outputs": [
    {
     "data": {
      "text/plain": [
       "Index(['TP_NOT', 'ID_AGRAVO', 'DT_NOTIFIC', 'SEM_NOT', 'NU_ANO', 'SG_UF_NOT',\n",
       "       'ID_MUNICIP', 'ID_REGIONA', 'ID_UNIDADE', 'DT_SIN_PRI',\n",
       "       ...\n",
       "       'DT_DIGITA', 'CS_FLXRET', 'FLXRECEBI', 'MIGRADO_W', 'UF_y', 'COD_UF',\n",
       "       'COD_MUNIC', 'NOME_DO_MUNICIPIO', 'COD_IBGE', 'COD_SINAN'],\n",
       "      dtype='object', length=127)"
      ]
     },
     "execution_count": 70,
     "metadata": {},
     "output_type": "execute_result"
    }
   ],
   "source": [
    "dengue.columns"
   ]
  },
  {
   "cell_type": "code",
   "execution_count": 71,
   "metadata": {
    "colab": {
     "base_uri": "https://localhost:8080/"
    },
    "id": "E3nUOB0iX1US",
    "outputId": "778acdba-7722-4882-e117-91878b576002"
   },
   "outputs": [
    {
     "name": "stdout",
     "output_type": "stream",
     "text": [
      "<class 'pandas.core.frame.DataFrame'>\n",
      "RangeIndex: 7935706 entries, 0 to 7935705\n",
      "Data columns (total 127 columns):\n",
      " #    Column             Dtype         \n",
      "---   ------             -----         \n",
      " 0    TP_NOT             category      \n",
      " 1    ID_AGRAVO          category      \n",
      " 2    DT_NOTIFIC         datetime64[ns]\n",
      " 3    SEM_NOT            datetime64[ns]\n",
      " 4    NU_ANO             Int16         \n",
      " 5    SG_UF_NOT          category      \n",
      " 6    ID_MUNICIP         category      \n",
      " 7    ID_REGIONA         category      \n",
      " 8    ID_UNIDADE         category      \n",
      " 9    DT_SIN_PRI         datetime64[ns]\n",
      " 10   SEM_PRI            datetime64[ns]\n",
      " 11   ANO_NASC           Int16         \n",
      " 12   NU_IDADE_N         Int16         \n",
      " 13   CS_SEXO            category      \n",
      " 14   CS_GESTANT         category      \n",
      " 15   CS_RACA            category      \n",
      " 16   CS_ESCOL_N         category      \n",
      " 17   SG_UF              category      \n",
      " 18   ID_MN_RESI         category      \n",
      " 19   ID_RG_RESI         category      \n",
      " 20   ID_PAIS            category      \n",
      " 21   DT_INVEST          datetime64[ns]\n",
      " 22   ID_OCUPA_N         category      \n",
      " 23   FEBRE              Int8          \n",
      " 24   MIALGIA            Int8          \n",
      " 25   CEFALEIA           Int8          \n",
      " 26   EXANTEMA           Int8          \n",
      " 27   VOMITO             Int8          \n",
      " 28   NAUSEA             Int8          \n",
      " 29   DOR_COSTAS         Int8          \n",
      " 30   CONJUNTVIT         Int8          \n",
      " 31   ARTRITE            Int8          \n",
      " 32   ARTRALGIA          Int8          \n",
      " 33   PETEQUIA_N         Int8          \n",
      " 34   LEUCOPENIA         Int8          \n",
      " 35   LACO               Int8          \n",
      " 36   DOR_RETRO          Int8          \n",
      " 37   DIABETES           Int8          \n",
      " 38   HEMATOLOG          Int8          \n",
      " 39   HEPATOPAT          Int8          \n",
      " 40   RENAL              Int8          \n",
      " 41   HIPERTENSA         Int8          \n",
      " 42   ACIDO_PEPT         Int8          \n",
      " 43   AUTO_IMUNE         Int8          \n",
      " 44   DT_CHIK_S1         datetime64[ns]\n",
      " 45   DT_CHIK_S2         datetime64[ns]\n",
      " 46   DT_PRNT            datetime64[ns]\n",
      " 47   RES_CHIKS1         Int8          \n",
      " 48   RES_CHIKS2         Int8          \n",
      " 49   RESUL_PRNT         Int8          \n",
      " 50   DT_SORO            datetime64[ns]\n",
      " 51   RESUL_SORO         category      \n",
      " 52   DT_NS1             datetime64[ns]\n",
      " 53   RESUL_NS1          category      \n",
      " 54   DT_VIRAL           datetime64[ns]\n",
      " 55   RESUL_VI_N         category      \n",
      " 56   DT_PCR             datetime64[ns]\n",
      " 57   RESUL_PCR_         Int8          \n",
      " 58   SOROTIPO           category      \n",
      " 59   HISTOPA_N          category      \n",
      " 60   IMUNOH_N           category      \n",
      " 61   HOSPITALIZ         category      \n",
      " 62   DT_INTERNA         datetime64[ns]\n",
      " 63   UF_x               Int16         \n",
      " 64   MUNICIPIO          category      \n",
      " 65   TPAUTOCTO          category      \n",
      " 66   COUFINF            category      \n",
      " 67   COPAISINF          Int32         \n",
      " 68   COMUNINF           category      \n",
      " 69   CLASSI_FIN         category      \n",
      " 70   CRITERIO           category      \n",
      " 71   DOENCA_TRA         category      \n",
      " 72   CLINC_CHIK         Int8          \n",
      " 73   EVOLUCAO           category      \n",
      " 74   DT_OBITO           datetime64[ns]\n",
      " 75   DT_ENCERRA         datetime64[ns]\n",
      " 76   ALRM_HIPOT         Int8          \n",
      " 77   ALRM_PLAQ          Int8          \n",
      " 78   ALRM_VOM           Int8          \n",
      " 79   ALRM_SANG          Int8          \n",
      " 80   ALRM_HEMAT         Int8          \n",
      " 81   ALRM_ABDOM         Int8          \n",
      " 82   ALRM_LETAR         Int8          \n",
      " 83   ALRM_HEPAT         Int8          \n",
      " 84   ALRM_LIQ           Int8          \n",
      " 85   DT_ALRM            datetime64[ns]\n",
      " 86   GRAV_PULSO         Int8          \n",
      " 87   GRAV_CONV          Int8          \n",
      " 88   GRAV_ENCH          Int8          \n",
      " 89   GRAV_INSUF         Int8          \n",
      " 90   GRAV_TAQUI         Int8          \n",
      " 91   GRAV_EXTRE         Int8          \n",
      " 92   GRAV_HIPOT         Int8          \n",
      " 93   GRAV_HEMAT         Int8          \n",
      " 94   GRAV_MELEN         Int8          \n",
      " 95   GRAV_METRO         Int8          \n",
      " 96   GRAV_SANG          Int8          \n",
      " 97   GRAV_AST           Int8          \n",
      " 98   GRAV_MIOC          Int8          \n",
      " 99   GRAV_CONSC         Int8          \n",
      " 100  GRAV_ORGAO         Int8          \n",
      " 101  DT_GRAV            datetime64[ns]\n",
      " 102  MANI_HEMOR         category      \n",
      " 103  EPISTAXE           category      \n",
      " 104  GENGIVO            category      \n",
      " 105  METRO              category      \n",
      " 106  PETEQUIAS          category      \n",
      " 107  HEMATURA           category      \n",
      " 108  SANGRAM            category      \n",
      " 109  LACO_N             category      \n",
      " 110  PLASMATICO         category      \n",
      " 111  EVIDENCIA          category      \n",
      " 112  PLAQ_MENOR         category      \n",
      " 113  CON_FHD            category      \n",
      " 114  COMPLICA           category      \n",
      " 115  TP_SISTEMA         Int8          \n",
      " 116  NDUPLIC_N          Int8          \n",
      " 117  DT_DIGITA          datetime64[ns]\n",
      " 118  CS_FLXRET          Int8          \n",
      " 119  FLXRECEBI          category      \n",
      " 120  MIGRADO_W          category      \n",
      " 121  UF_y               category      \n",
      " 122  COD_UF             category      \n",
      " 123  COD_MUNIC          category      \n",
      " 124  NOME_DO_MUNICIPIO  category      \n",
      " 125  COD_IBGE           category      \n",
      " 126  COD_SINAN          category      \n",
      "dtypes: Int16(4), Int32(1), Int8(53), category(51), datetime64[ns](18)\n",
      "memory usage: 2.5 GB\n"
     ]
    }
   ],
   "source": [
    "dengue.info(verbose=True)"
   ]
  },
  {
   "cell_type": "code",
   "execution_count": 72,
   "metadata": {},
   "outputs": [],
   "source": [
    "# colunas_data = dengue.select_dtypes(include=[\"datetime64[ns]\"]).columns\n",
    "\n",
    "# # Criar novas colunas com o mês\n",
    "# for col in colunas_data:\n",
    "#     dengue[f\"{col}_mes\"] = dengue[col].dt.month\n",
    "\n",
    "# print(dengue)"
   ]
  },
  {
   "cell_type": "code",
   "execution_count": 73,
   "metadata": {
    "colab": {
     "base_uri": "https://localhost:8080/",
     "height": 224
    },
    "id": "pSFdkVERX1US",
    "outputId": "e14d1097-3c3c-4438-cb36-7a9901dd46fa"
   },
   "outputs": [
    {
     "data": {
      "text/html": [
       "<div>\n",
       "<style scoped>\n",
       "    .dataframe tbody tr th:only-of-type {\n",
       "        vertical-align: middle;\n",
       "    }\n",
       "\n",
       "    .dataframe tbody tr th {\n",
       "        vertical-align: top;\n",
       "    }\n",
       "\n",
       "    .dataframe thead th {\n",
       "        text-align: right;\n",
       "    }\n",
       "</style>\n",
       "<table border=\"1\" class=\"dataframe\">\n",
       "  <thead>\n",
       "    <tr style=\"text-align: right;\">\n",
       "      <th></th>\n",
       "      <th>count</th>\n",
       "      <th>mean</th>\n",
       "      <th>std</th>\n",
       "      <th>min</th>\n",
       "      <th>25%</th>\n",
       "      <th>50%</th>\n",
       "      <th>75%</th>\n",
       "      <th>max</th>\n",
       "    </tr>\n",
       "  </thead>\n",
       "  <tbody>\n",
       "    <tr>\n",
       "      <th>NU_ANO</th>\n",
       "      <td>7935706.0</td>\n",
       "      <td>2023.809855</td>\n",
       "      <td>0.392415</td>\n",
       "      <td>2023.0</td>\n",
       "      <td>2024.0</td>\n",
       "      <td>2024.0</td>\n",
       "      <td>2024.0</td>\n",
       "      <td>2024.0</td>\n",
       "    </tr>\n",
       "    <tr>\n",
       "      <th>ANO_NASC</th>\n",
       "      <td>7899840.0</td>\n",
       "      <td>1987.162835</td>\n",
       "      <td>20.068589</td>\n",
       "      <td>1900.0</td>\n",
       "      <td>1973.0</td>\n",
       "      <td>1989.0</td>\n",
       "      <td>2003.0</td>\n",
       "      <td>2024.0</td>\n",
       "    </tr>\n",
       "    <tr>\n",
       "      <th>NU_IDADE_N</th>\n",
       "      <td>7935706.0</td>\n",
       "      <td>4024.467012</td>\n",
       "      <td>138.726568</td>\n",
       "      <td>0.0</td>\n",
       "      <td>4020.0</td>\n",
       "      <td>4034.0</td>\n",
       "      <td>4050.0</td>\n",
       "      <td>4999.0</td>\n",
       "    </tr>\n",
       "    <tr>\n",
       "      <th>FEBRE</th>\n",
       "      <td>7768633.0</td>\n",
       "      <td>1.146897</td>\n",
       "      <td>0.354003</td>\n",
       "      <td>1.0</td>\n",
       "      <td>1.0</td>\n",
       "      <td>1.0</td>\n",
       "      <td>1.0</td>\n",
       "      <td>2.0</td>\n",
       "    </tr>\n",
       "    <tr>\n",
       "      <th>MIALGIA</th>\n",
       "      <td>7768633.0</td>\n",
       "      <td>1.202912</td>\n",
       "      <td>0.402167</td>\n",
       "      <td>1.0</td>\n",
       "      <td>1.0</td>\n",
       "      <td>1.0</td>\n",
       "      <td>1.0</td>\n",
       "      <td>2.0</td>\n",
       "    </tr>\n",
       "    <tr>\n",
       "      <th>CEFALEIA</th>\n",
       "      <td>7768633.0</td>\n",
       "      <td>1.201179</td>\n",
       "      <td>0.400881</td>\n",
       "      <td>1.0</td>\n",
       "      <td>1.0</td>\n",
       "      <td>1.0</td>\n",
       "      <td>1.0</td>\n",
       "      <td>2.0</td>\n",
       "    </tr>\n",
       "    <tr>\n",
       "      <th>EXANTEMA</th>\n",
       "      <td>7768633.0</td>\n",
       "      <td>1.89915</td>\n",
       "      <td>0.30113</td>\n",
       "      <td>1.0</td>\n",
       "      <td>2.0</td>\n",
       "      <td>2.0</td>\n",
       "      <td>2.0</td>\n",
       "      <td>2.0</td>\n",
       "    </tr>\n",
       "    <tr>\n",
       "      <th>VOMITO</th>\n",
       "      <td>7768633.0</td>\n",
       "      <td>1.730972</td>\n",
       "      <td>0.443455</td>\n",
       "      <td>1.0</td>\n",
       "      <td>1.0</td>\n",
       "      <td>2.0</td>\n",
       "      <td>2.0</td>\n",
       "      <td>2.0</td>\n",
       "    </tr>\n",
       "    <tr>\n",
       "      <th>NAUSEA</th>\n",
       "      <td>7768633.0</td>\n",
       "      <td>1.567267</td>\n",
       "      <td>0.495454</td>\n",
       "      <td>1.0</td>\n",
       "      <td>1.0</td>\n",
       "      <td>2.0</td>\n",
       "      <td>2.0</td>\n",
       "      <td>2.0</td>\n",
       "    </tr>\n",
       "    <tr>\n",
       "      <th>DOR_COSTAS</th>\n",
       "      <td>7768633.0</td>\n",
       "      <td>1.695687</td>\n",
       "      <td>0.460116</td>\n",
       "      <td>1.0</td>\n",
       "      <td>1.0</td>\n",
       "      <td>2.0</td>\n",
       "      <td>2.0</td>\n",
       "      <td>2.0</td>\n",
       "    </tr>\n",
       "    <tr>\n",
       "      <th>CONJUNTVIT</th>\n",
       "      <td>7768633.0</td>\n",
       "      <td>1.961797</td>\n",
       "      <td>0.191685</td>\n",
       "      <td>1.0</td>\n",
       "      <td>2.0</td>\n",
       "      <td>2.0</td>\n",
       "      <td>2.0</td>\n",
       "      <td>2.0</td>\n",
       "    </tr>\n",
       "    <tr>\n",
       "      <th>ARTRITE</th>\n",
       "      <td>7768633.0</td>\n",
       "      <td>1.904458</td>\n",
       "      <td>0.293962</td>\n",
       "      <td>1.0</td>\n",
       "      <td>2.0</td>\n",
       "      <td>2.0</td>\n",
       "      <td>2.0</td>\n",
       "      <td>2.0</td>\n",
       "    </tr>\n",
       "    <tr>\n",
       "      <th>ARTRALGIA</th>\n",
       "      <td>7768633.0</td>\n",
       "      <td>1.825471</td>\n",
       "      <td>0.379564</td>\n",
       "      <td>1.0</td>\n",
       "      <td>2.0</td>\n",
       "      <td>2.0</td>\n",
       "      <td>2.0</td>\n",
       "      <td>2.0</td>\n",
       "    </tr>\n",
       "    <tr>\n",
       "      <th>PETEQUIA_N</th>\n",
       "      <td>7768633.0</td>\n",
       "      <td>1.942554</td>\n",
       "      <td>0.232694</td>\n",
       "      <td>1.0</td>\n",
       "      <td>2.0</td>\n",
       "      <td>2.0</td>\n",
       "      <td>2.0</td>\n",
       "      <td>2.0</td>\n",
       "    </tr>\n",
       "    <tr>\n",
       "      <th>LEUCOPENIA</th>\n",
       "      <td>7768633.0</td>\n",
       "      <td>1.961035</td>\n",
       "      <td>0.193512</td>\n",
       "      <td>1.0</td>\n",
       "      <td>2.0</td>\n",
       "      <td>2.0</td>\n",
       "      <td>2.0</td>\n",
       "      <td>2.0</td>\n",
       "    </tr>\n",
       "    <tr>\n",
       "      <th>LACO</th>\n",
       "      <td>7768633.0</td>\n",
       "      <td>1.965075</td>\n",
       "      <td>0.18359</td>\n",
       "      <td>1.0</td>\n",
       "      <td>2.0</td>\n",
       "      <td>2.0</td>\n",
       "      <td>2.0</td>\n",
       "      <td>2.0</td>\n",
       "    </tr>\n",
       "    <tr>\n",
       "      <th>DOR_RETRO</th>\n",
       "      <td>7768633.0</td>\n",
       "      <td>1.680034</td>\n",
       "      <td>0.466463</td>\n",
       "      <td>1.0</td>\n",
       "      <td>1.0</td>\n",
       "      <td>2.0</td>\n",
       "      <td>2.0</td>\n",
       "      <td>2.0</td>\n",
       "    </tr>\n",
       "    <tr>\n",
       "      <th>DIABETES</th>\n",
       "      <td>7768633.0</td>\n",
       "      <td>1.956712</td>\n",
       "      <td>0.203505</td>\n",
       "      <td>1.0</td>\n",
       "      <td>2.0</td>\n",
       "      <td>2.0</td>\n",
       "      <td>2.0</td>\n",
       "      <td>2.0</td>\n",
       "    </tr>\n",
       "    <tr>\n",
       "      <th>HEMATOLOG</th>\n",
       "      <td>7768633.0</td>\n",
       "      <td>1.994367</td>\n",
       "      <td>0.074839</td>\n",
       "      <td>1.0</td>\n",
       "      <td>2.0</td>\n",
       "      <td>2.0</td>\n",
       "      <td>2.0</td>\n",
       "      <td>2.0</td>\n",
       "    </tr>\n",
       "    <tr>\n",
       "      <th>HEPATOPAT</th>\n",
       "      <td>7768633.0</td>\n",
       "      <td>1.994439</td>\n",
       "      <td>0.074362</td>\n",
       "      <td>1.0</td>\n",
       "      <td>2.0</td>\n",
       "      <td>2.0</td>\n",
       "      <td>2.0</td>\n",
       "      <td>2.0</td>\n",
       "    </tr>\n",
       "    <tr>\n",
       "      <th>RENAL</th>\n",
       "      <td>7768633.0</td>\n",
       "      <td>1.994797</td>\n",
       "      <td>0.071946</td>\n",
       "      <td>1.0</td>\n",
       "      <td>2.0</td>\n",
       "      <td>2.0</td>\n",
       "      <td>2.0</td>\n",
       "      <td>2.0</td>\n",
       "    </tr>\n",
       "    <tr>\n",
       "      <th>HIPERTENSA</th>\n",
       "      <td>7768633.0</td>\n",
       "      <td>1.899951</td>\n",
       "      <td>0.300065</td>\n",
       "      <td>1.0</td>\n",
       "      <td>2.0</td>\n",
       "      <td>2.0</td>\n",
       "      <td>2.0</td>\n",
       "      <td>2.0</td>\n",
       "    </tr>\n",
       "    <tr>\n",
       "      <th>ACIDO_PEPT</th>\n",
       "      <td>7768633.0</td>\n",
       "      <td>1.994395</td>\n",
       "      <td>0.074657</td>\n",
       "      <td>1.0</td>\n",
       "      <td>2.0</td>\n",
       "      <td>2.0</td>\n",
       "      <td>2.0</td>\n",
       "      <td>2.0</td>\n",
       "    </tr>\n",
       "    <tr>\n",
       "      <th>AUTO_IMUNE</th>\n",
       "      <td>7768633.0</td>\n",
       "      <td>1.992902</td>\n",
       "      <td>0.083951</td>\n",
       "      <td>1.0</td>\n",
       "      <td>2.0</td>\n",
       "      <td>2.0</td>\n",
       "      <td>2.0</td>\n",
       "      <td>2.0</td>\n",
       "    </tr>\n",
       "    <tr>\n",
       "      <th>RES_CHIKS1</th>\n",
       "      <td>13845.0</td>\n",
       "      <td>3.417118</td>\n",
       "      <td>1.141092</td>\n",
       "      <td>1.0</td>\n",
       "      <td>4.0</td>\n",
       "      <td>4.0</td>\n",
       "      <td>4.0</td>\n",
       "      <td>4.0</td>\n",
       "    </tr>\n",
       "    <tr>\n",
       "      <th>RES_CHIKS2</th>\n",
       "      <td>11848.0</td>\n",
       "      <td>3.926401</td>\n",
       "      <td>0.408798</td>\n",
       "      <td>1.0</td>\n",
       "      <td>4.0</td>\n",
       "      <td>4.0</td>\n",
       "      <td>4.0</td>\n",
       "      <td>4.0</td>\n",
       "    </tr>\n",
       "    <tr>\n",
       "      <th>RESUL_PRNT</th>\n",
       "      <td>12034.0</td>\n",
       "      <td>3.932109</td>\n",
       "      <td>0.398569</td>\n",
       "      <td>1.0</td>\n",
       "      <td>4.0</td>\n",
       "      <td>4.0</td>\n",
       "      <td>4.0</td>\n",
       "      <td>4.0</td>\n",
       "    </tr>\n",
       "    <tr>\n",
       "      <th>RESUL_PCR_</th>\n",
       "      <td>3541942.0</td>\n",
       "      <td>3.792313</td>\n",
       "      <td>0.74977</td>\n",
       "      <td>1.0</td>\n",
       "      <td>4.0</td>\n",
       "      <td>4.0</td>\n",
       "      <td>4.0</td>\n",
       "      <td>4.0</td>\n",
       "    </tr>\n",
       "    <tr>\n",
       "      <th>UF_x</th>\n",
       "      <td>207015.0</td>\n",
       "      <td>37.380726</td>\n",
       "      <td>8.671617</td>\n",
       "      <td>11.0</td>\n",
       "      <td>31.0</td>\n",
       "      <td>35.0</td>\n",
       "      <td>42.0</td>\n",
       "      <td>53.0</td>\n",
       "    </tr>\n",
       "    <tr>\n",
       "      <th>COPAISINF</th>\n",
       "      <td>5392721.0</td>\n",
       "      <td>1.005413</td>\n",
       "      <td>0.796349</td>\n",
       "      <td>1.0</td>\n",
       "      <td>1.0</td>\n",
       "      <td>1.0</td>\n",
       "      <td>1.0</td>\n",
       "      <td>208.0</td>\n",
       "    </tr>\n",
       "    <tr>\n",
       "      <th>CLINC_CHIK</th>\n",
       "      <td>19513.0</td>\n",
       "      <td>1.026239</td>\n",
       "      <td>0.159849</td>\n",
       "      <td>1.0</td>\n",
       "      <td>1.0</td>\n",
       "      <td>1.0</td>\n",
       "      <td>1.0</td>\n",
       "      <td>2.0</td>\n",
       "    </tr>\n",
       "    <tr>\n",
       "      <th>ALRM_HIPOT</th>\n",
       "      <td>136746.0</td>\n",
       "      <td>1.822203</td>\n",
       "      <td>0.382343</td>\n",
       "      <td>1.0</td>\n",
       "      <td>2.0</td>\n",
       "      <td>2.0</td>\n",
       "      <td>2.0</td>\n",
       "      <td>2.0</td>\n",
       "    </tr>\n",
       "    <tr>\n",
       "      <th>ALRM_PLAQ</th>\n",
       "      <td>136941.0</td>\n",
       "      <td>1.486662</td>\n",
       "      <td>0.499824</td>\n",
       "      <td>1.0</td>\n",
       "      <td>1.0</td>\n",
       "      <td>1.0</td>\n",
       "      <td>2.0</td>\n",
       "      <td>2.0</td>\n",
       "    </tr>\n",
       "    <tr>\n",
       "      <th>ALRM_VOM</th>\n",
       "      <td>136480.0</td>\n",
       "      <td>1.83624</td>\n",
       "      <td>0.370059</td>\n",
       "      <td>1.0</td>\n",
       "      <td>2.0</td>\n",
       "      <td>2.0</td>\n",
       "      <td>2.0</td>\n",
       "      <td>2.0</td>\n",
       "    </tr>\n",
       "    <tr>\n",
       "      <th>ALRM_SANG</th>\n",
       "      <td>136811.0</td>\n",
       "      <td>1.747878</td>\n",
       "      <td>0.434232</td>\n",
       "      <td>1.0</td>\n",
       "      <td>1.0</td>\n",
       "      <td>2.0</td>\n",
       "      <td>2.0</td>\n",
       "      <td>2.0</td>\n",
       "    </tr>\n",
       "    <tr>\n",
       "      <th>ALRM_HEMAT</th>\n",
       "      <td>136244.0</td>\n",
       "      <td>1.941818</td>\n",
       "      <td>0.234089</td>\n",
       "      <td>1.0</td>\n",
       "      <td>2.0</td>\n",
       "      <td>2.0</td>\n",
       "      <td>2.0</td>\n",
       "      <td>2.0</td>\n",
       "    </tr>\n",
       "    <tr>\n",
       "      <th>ALRM_ABDOM</th>\n",
       "      <td>137308.0</td>\n",
       "      <td>1.609928</td>\n",
       "      <td>0.487768</td>\n",
       "      <td>1.0</td>\n",
       "      <td>1.0</td>\n",
       "      <td>2.0</td>\n",
       "      <td>2.0</td>\n",
       "      <td>2.0</td>\n",
       "    </tr>\n",
       "    <tr>\n",
       "      <th>ALRM_LETAR</th>\n",
       "      <td>136969.0</td>\n",
       "      <td>1.887653</td>\n",
       "      <td>0.315794</td>\n",
       "      <td>1.0</td>\n",
       "      <td>2.0</td>\n",
       "      <td>2.0</td>\n",
       "      <td>2.0</td>\n",
       "      <td>2.0</td>\n",
       "    </tr>\n",
       "    <tr>\n",
       "      <th>ALRM_HEPAT</th>\n",
       "      <td>136120.0</td>\n",
       "      <td>1.986674</td>\n",
       "      <td>0.114669</td>\n",
       "      <td>1.0</td>\n",
       "      <td>2.0</td>\n",
       "      <td>2.0</td>\n",
       "      <td>2.0</td>\n",
       "      <td>2.0</td>\n",
       "    </tr>\n",
       "    <tr>\n",
       "      <th>ALRM_LIQ</th>\n",
       "      <td>136129.0</td>\n",
       "      <td>1.971674</td>\n",
       "      <td>0.165903</td>\n",
       "      <td>1.0</td>\n",
       "      <td>2.0</td>\n",
       "      <td>2.0</td>\n",
       "      <td>2.0</td>\n",
       "      <td>2.0</td>\n",
       "    </tr>\n",
       "    <tr>\n",
       "      <th>GRAV_PULSO</th>\n",
       "      <td>11365.0</td>\n",
       "      <td>1.810031</td>\n",
       "      <td>0.392294</td>\n",
       "      <td>1.0</td>\n",
       "      <td>2.0</td>\n",
       "      <td>2.0</td>\n",
       "      <td>2.0</td>\n",
       "      <td>2.0</td>\n",
       "    </tr>\n",
       "    <tr>\n",
       "      <th>GRAV_CONV</th>\n",
       "      <td>11345.0</td>\n",
       "      <td>1.906126</td>\n",
       "      <td>0.291666</td>\n",
       "      <td>1.0</td>\n",
       "      <td>2.0</td>\n",
       "      <td>2.0</td>\n",
       "      <td>2.0</td>\n",
       "      <td>2.0</td>\n",
       "    </tr>\n",
       "    <tr>\n",
       "      <th>GRAV_ENCH</th>\n",
       "      <td>11338.0</td>\n",
       "      <td>1.845828</td>\n",
       "      <td>0.361129</td>\n",
       "      <td>1.0</td>\n",
       "      <td>2.0</td>\n",
       "      <td>2.0</td>\n",
       "      <td>2.0</td>\n",
       "      <td>2.0</td>\n",
       "    </tr>\n",
       "    <tr>\n",
       "      <th>GRAV_INSUF</th>\n",
       "      <td>11347.0</td>\n",
       "      <td>1.819336</td>\n",
       "      <td>0.384757</td>\n",
       "      <td>1.0</td>\n",
       "      <td>2.0</td>\n",
       "      <td>2.0</td>\n",
       "      <td>2.0</td>\n",
       "      <td>2.0</td>\n",
       "    </tr>\n",
       "    <tr>\n",
       "      <th>GRAV_TAQUI</th>\n",
       "      <td>11360.0</td>\n",
       "      <td>1.678609</td>\n",
       "      <td>0.467031</td>\n",
       "      <td>1.0</td>\n",
       "      <td>1.0</td>\n",
       "      <td>2.0</td>\n",
       "      <td>2.0</td>\n",
       "      <td>2.0</td>\n",
       "    </tr>\n",
       "    <tr>\n",
       "      <th>GRAV_EXTRE</th>\n",
       "      <td>11346.0</td>\n",
       "      <td>1.699718</td>\n",
       "      <td>0.458401</td>\n",
       "      <td>1.0</td>\n",
       "      <td>1.0</td>\n",
       "      <td>2.0</td>\n",
       "      <td>2.0</td>\n",
       "      <td>2.0</td>\n",
       "    </tr>\n",
       "    <tr>\n",
       "      <th>GRAV_HIPOT</th>\n",
       "      <td>11344.0</td>\n",
       "      <td>1.778826</td>\n",
       "      <td>0.415056</td>\n",
       "      <td>1.0</td>\n",
       "      <td>2.0</td>\n",
       "      <td>2.0</td>\n",
       "      <td>2.0</td>\n",
       "      <td>2.0</td>\n",
       "    </tr>\n",
       "    <tr>\n",
       "      <th>GRAV_HEMAT</th>\n",
       "      <td>11353.0</td>\n",
       "      <td>1.826742</td>\n",
       "      <td>0.378487</td>\n",
       "      <td>1.0</td>\n",
       "      <td>2.0</td>\n",
       "      <td>2.0</td>\n",
       "      <td>2.0</td>\n",
       "      <td>2.0</td>\n",
       "    </tr>\n",
       "    <tr>\n",
       "      <th>GRAV_MELEN</th>\n",
       "      <td>11341.0</td>\n",
       "      <td>1.861123</td>\n",
       "      <td>0.345833</td>\n",
       "      <td>1.0</td>\n",
       "      <td>2.0</td>\n",
       "      <td>2.0</td>\n",
       "      <td>2.0</td>\n",
       "      <td>2.0</td>\n",
       "    </tr>\n",
       "    <tr>\n",
       "      <th>GRAV_METRO</th>\n",
       "      <td>11320.0</td>\n",
       "      <td>1.917491</td>\n",
       "      <td>0.275151</td>\n",
       "      <td>1.0</td>\n",
       "      <td>2.0</td>\n",
       "      <td>2.0</td>\n",
       "      <td>2.0</td>\n",
       "      <td>2.0</td>\n",
       "    </tr>\n",
       "    <tr>\n",
       "      <th>GRAV_SANG</th>\n",
       "      <td>11313.0</td>\n",
       "      <td>1.978078</td>\n",
       "      <td>0.146434</td>\n",
       "      <td>1.0</td>\n",
       "      <td>2.0</td>\n",
       "      <td>2.0</td>\n",
       "      <td>2.0</td>\n",
       "      <td>2.0</td>\n",
       "    </tr>\n",
       "    <tr>\n",
       "      <th>GRAV_AST</th>\n",
       "      <td>11306.0</td>\n",
       "      <td>1.954007</td>\n",
       "      <td>0.20948</td>\n",
       "      <td>1.0</td>\n",
       "      <td>2.0</td>\n",
       "      <td>2.0</td>\n",
       "      <td>2.0</td>\n",
       "      <td>2.0</td>\n",
       "    </tr>\n",
       "    <tr>\n",
       "      <th>GRAV_MIOC</th>\n",
       "      <td>11305.0</td>\n",
       "      <td>1.974878</td>\n",
       "      <td>0.156501</td>\n",
       "      <td>1.0</td>\n",
       "      <td>2.0</td>\n",
       "      <td>2.0</td>\n",
       "      <td>2.0</td>\n",
       "      <td>2.0</td>\n",
       "    </tr>\n",
       "    <tr>\n",
       "      <th>GRAV_CONSC</th>\n",
       "      <td>11334.0</td>\n",
       "      <td>1.683519</td>\n",
       "      <td>0.465124</td>\n",
       "      <td>1.0</td>\n",
       "      <td>1.0</td>\n",
       "      <td>2.0</td>\n",
       "      <td>2.0</td>\n",
       "      <td>2.0</td>\n",
       "    </tr>\n",
       "    <tr>\n",
       "      <th>GRAV_ORGAO</th>\n",
       "      <td>11305.0</td>\n",
       "      <td>1.843344</td>\n",
       "      <td>0.363493</td>\n",
       "      <td>1.0</td>\n",
       "      <td>2.0</td>\n",
       "      <td>2.0</td>\n",
       "      <td>2.0</td>\n",
       "      <td>2.0</td>\n",
       "    </tr>\n",
       "    <tr>\n",
       "      <th>TP_SISTEMA</th>\n",
       "      <td>7802106.0</td>\n",
       "      <td>2.0</td>\n",
       "      <td>0.0</td>\n",
       "      <td>2.0</td>\n",
       "      <td>2.0</td>\n",
       "      <td>2.0</td>\n",
       "      <td>2.0</td>\n",
       "      <td>2.0</td>\n",
       "    </tr>\n",
       "    <tr>\n",
       "      <th>NDUPLIC_N</th>\n",
       "      <td>15596.0</td>\n",
       "      <td>1.0</td>\n",
       "      <td>0.0</td>\n",
       "      <td>1.0</td>\n",
       "      <td>1.0</td>\n",
       "      <td>1.0</td>\n",
       "      <td>1.0</td>\n",
       "      <td>1.0</td>\n",
       "    </tr>\n",
       "    <tr>\n",
       "      <th>CS_FLXRET</th>\n",
       "      <td>7935699.0</td>\n",
       "      <td>0.407007</td>\n",
       "      <td>0.491276</td>\n",
       "      <td>0.0</td>\n",
       "      <td>0.0</td>\n",
       "      <td>0.0</td>\n",
       "      <td>1.0</td>\n",
       "      <td>1.0</td>\n",
       "    </tr>\n",
       "  </tbody>\n",
       "</table>\n",
       "</div>"
      ],
      "text/plain": [
       "                count         mean         std     min     25%     50%  \\\n",
       "NU_ANO      7935706.0  2023.809855    0.392415  2023.0  2024.0  2024.0   \n",
       "ANO_NASC    7899840.0  1987.162835   20.068589  1900.0  1973.0  1989.0   \n",
       "NU_IDADE_N  7935706.0  4024.467012  138.726568     0.0  4020.0  4034.0   \n",
       "FEBRE       7768633.0     1.146897    0.354003     1.0     1.0     1.0   \n",
       "MIALGIA     7768633.0     1.202912    0.402167     1.0     1.0     1.0   \n",
       "CEFALEIA    7768633.0     1.201179    0.400881     1.0     1.0     1.0   \n",
       "EXANTEMA    7768633.0      1.89915     0.30113     1.0     2.0     2.0   \n",
       "VOMITO      7768633.0     1.730972    0.443455     1.0     1.0     2.0   \n",
       "NAUSEA      7768633.0     1.567267    0.495454     1.0     1.0     2.0   \n",
       "DOR_COSTAS  7768633.0     1.695687    0.460116     1.0     1.0     2.0   \n",
       "CONJUNTVIT  7768633.0     1.961797    0.191685     1.0     2.0     2.0   \n",
       "ARTRITE     7768633.0     1.904458    0.293962     1.0     2.0     2.0   \n",
       "ARTRALGIA   7768633.0     1.825471    0.379564     1.0     2.0     2.0   \n",
       "PETEQUIA_N  7768633.0     1.942554    0.232694     1.0     2.0     2.0   \n",
       "LEUCOPENIA  7768633.0     1.961035    0.193512     1.0     2.0     2.0   \n",
       "LACO        7768633.0     1.965075     0.18359     1.0     2.0     2.0   \n",
       "DOR_RETRO   7768633.0     1.680034    0.466463     1.0     1.0     2.0   \n",
       "DIABETES    7768633.0     1.956712    0.203505     1.0     2.0     2.0   \n",
       "HEMATOLOG   7768633.0     1.994367    0.074839     1.0     2.0     2.0   \n",
       "HEPATOPAT   7768633.0     1.994439    0.074362     1.0     2.0     2.0   \n",
       "RENAL       7768633.0     1.994797    0.071946     1.0     2.0     2.0   \n",
       "HIPERTENSA  7768633.0     1.899951    0.300065     1.0     2.0     2.0   \n",
       "ACIDO_PEPT  7768633.0     1.994395    0.074657     1.0     2.0     2.0   \n",
       "AUTO_IMUNE  7768633.0     1.992902    0.083951     1.0     2.0     2.0   \n",
       "RES_CHIKS1    13845.0     3.417118    1.141092     1.0     4.0     4.0   \n",
       "RES_CHIKS2    11848.0     3.926401    0.408798     1.0     4.0     4.0   \n",
       "RESUL_PRNT    12034.0     3.932109    0.398569     1.0     4.0     4.0   \n",
       "RESUL_PCR_  3541942.0     3.792313     0.74977     1.0     4.0     4.0   \n",
       "UF_x         207015.0    37.380726    8.671617    11.0    31.0    35.0   \n",
       "COPAISINF   5392721.0     1.005413    0.796349     1.0     1.0     1.0   \n",
       "CLINC_CHIK    19513.0     1.026239    0.159849     1.0     1.0     1.0   \n",
       "ALRM_HIPOT   136746.0     1.822203    0.382343     1.0     2.0     2.0   \n",
       "ALRM_PLAQ    136941.0     1.486662    0.499824     1.0     1.0     1.0   \n",
       "ALRM_VOM     136480.0      1.83624    0.370059     1.0     2.0     2.0   \n",
       "ALRM_SANG    136811.0     1.747878    0.434232     1.0     1.0     2.0   \n",
       "ALRM_HEMAT   136244.0     1.941818    0.234089     1.0     2.0     2.0   \n",
       "ALRM_ABDOM   137308.0     1.609928    0.487768     1.0     1.0     2.0   \n",
       "ALRM_LETAR   136969.0     1.887653    0.315794     1.0     2.0     2.0   \n",
       "ALRM_HEPAT   136120.0     1.986674    0.114669     1.0     2.0     2.0   \n",
       "ALRM_LIQ     136129.0     1.971674    0.165903     1.0     2.0     2.0   \n",
       "GRAV_PULSO    11365.0     1.810031    0.392294     1.0     2.0     2.0   \n",
       "GRAV_CONV     11345.0     1.906126    0.291666     1.0     2.0     2.0   \n",
       "GRAV_ENCH     11338.0     1.845828    0.361129     1.0     2.0     2.0   \n",
       "GRAV_INSUF    11347.0     1.819336    0.384757     1.0     2.0     2.0   \n",
       "GRAV_TAQUI    11360.0     1.678609    0.467031     1.0     1.0     2.0   \n",
       "GRAV_EXTRE    11346.0     1.699718    0.458401     1.0     1.0     2.0   \n",
       "GRAV_HIPOT    11344.0     1.778826    0.415056     1.0     2.0     2.0   \n",
       "GRAV_HEMAT    11353.0     1.826742    0.378487     1.0     2.0     2.0   \n",
       "GRAV_MELEN    11341.0     1.861123    0.345833     1.0     2.0     2.0   \n",
       "GRAV_METRO    11320.0     1.917491    0.275151     1.0     2.0     2.0   \n",
       "GRAV_SANG     11313.0     1.978078    0.146434     1.0     2.0     2.0   \n",
       "GRAV_AST      11306.0     1.954007     0.20948     1.0     2.0     2.0   \n",
       "GRAV_MIOC     11305.0     1.974878    0.156501     1.0     2.0     2.0   \n",
       "GRAV_CONSC    11334.0     1.683519    0.465124     1.0     1.0     2.0   \n",
       "GRAV_ORGAO    11305.0     1.843344    0.363493     1.0     2.0     2.0   \n",
       "TP_SISTEMA  7802106.0          2.0         0.0     2.0     2.0     2.0   \n",
       "NDUPLIC_N     15596.0          1.0         0.0     1.0     1.0     1.0   \n",
       "CS_FLXRET   7935699.0     0.407007    0.491276     0.0     0.0     0.0   \n",
       "\n",
       "               75%     max  \n",
       "NU_ANO      2024.0  2024.0  \n",
       "ANO_NASC    2003.0  2024.0  \n",
       "NU_IDADE_N  4050.0  4999.0  \n",
       "FEBRE          1.0     2.0  \n",
       "MIALGIA        1.0     2.0  \n",
       "CEFALEIA       1.0     2.0  \n",
       "EXANTEMA       2.0     2.0  \n",
       "VOMITO         2.0     2.0  \n",
       "NAUSEA         2.0     2.0  \n",
       "DOR_COSTAS     2.0     2.0  \n",
       "CONJUNTVIT     2.0     2.0  \n",
       "ARTRITE        2.0     2.0  \n",
       "ARTRALGIA      2.0     2.0  \n",
       "PETEQUIA_N     2.0     2.0  \n",
       "LEUCOPENIA     2.0     2.0  \n",
       "LACO           2.0     2.0  \n",
       "DOR_RETRO      2.0     2.0  \n",
       "DIABETES       2.0     2.0  \n",
       "HEMATOLOG      2.0     2.0  \n",
       "HEPATOPAT      2.0     2.0  \n",
       "RENAL          2.0     2.0  \n",
       "HIPERTENSA     2.0     2.0  \n",
       "ACIDO_PEPT     2.0     2.0  \n",
       "AUTO_IMUNE     2.0     2.0  \n",
       "RES_CHIKS1     4.0     4.0  \n",
       "RES_CHIKS2     4.0     4.0  \n",
       "RESUL_PRNT     4.0     4.0  \n",
       "RESUL_PCR_     4.0     4.0  \n",
       "UF_x          42.0    53.0  \n",
       "COPAISINF      1.0   208.0  \n",
       "CLINC_CHIK     1.0     2.0  \n",
       "ALRM_HIPOT     2.0     2.0  \n",
       "ALRM_PLAQ      2.0     2.0  \n",
       "ALRM_VOM       2.0     2.0  \n",
       "ALRM_SANG      2.0     2.0  \n",
       "ALRM_HEMAT     2.0     2.0  \n",
       "ALRM_ABDOM     2.0     2.0  \n",
       "ALRM_LETAR     2.0     2.0  \n",
       "ALRM_HEPAT     2.0     2.0  \n",
       "ALRM_LIQ       2.0     2.0  \n",
       "GRAV_PULSO     2.0     2.0  \n",
       "GRAV_CONV      2.0     2.0  \n",
       "GRAV_ENCH      2.0     2.0  \n",
       "GRAV_INSUF     2.0     2.0  \n",
       "GRAV_TAQUI     2.0     2.0  \n",
       "GRAV_EXTRE     2.0     2.0  \n",
       "GRAV_HIPOT     2.0     2.0  \n",
       "GRAV_HEMAT     2.0     2.0  \n",
       "GRAV_MELEN     2.0     2.0  \n",
       "GRAV_METRO     2.0     2.0  \n",
       "GRAV_SANG      2.0     2.0  \n",
       "GRAV_AST       2.0     2.0  \n",
       "GRAV_MIOC      2.0     2.0  \n",
       "GRAV_CONSC     2.0     2.0  \n",
       "GRAV_ORGAO     2.0     2.0  \n",
       "TP_SISTEMA     2.0     2.0  \n",
       "NDUPLIC_N      1.0     1.0  \n",
       "CS_FLXRET      1.0     1.0  "
      ]
     },
     "execution_count": 73,
     "metadata": {},
     "output_type": "execute_result"
    }
   ],
   "source": [
    "dengue.select_dtypes(include=[\"number\"]).describe().T"
   ]
  },
  {
   "cell_type": "code",
   "execution_count": 74,
   "metadata": {
    "colab": {
     "base_uri": "https://localhost:8080/"
    },
    "id": "NET5vO5RX1UT",
    "outputId": "7c83397d-7e7c-4862-ec6c-804773a6301f"
   },
   "outputs": [
    {
     "data": {
      "text/html": [
       "<div>\n",
       "<style scoped>\n",
       "    .dataframe tbody tr th:only-of-type {\n",
       "        vertical-align: middle;\n",
       "    }\n",
       "\n",
       "    .dataframe tbody tr th {\n",
       "        vertical-align: top;\n",
       "    }\n",
       "\n",
       "    .dataframe thead th {\n",
       "        text-align: right;\n",
       "    }\n",
       "</style>\n",
       "<table border=\"1\" class=\"dataframe\">\n",
       "  <thead>\n",
       "    <tr style=\"text-align: right;\">\n",
       "      <th></th>\n",
       "      <th>Contagem_vazios</th>\n",
       "      <th>Porc_vazios</th>\n",
       "    </tr>\n",
       "  </thead>\n",
       "  <tbody>\n",
       "    <tr>\n",
       "      <th>COMPLICA</th>\n",
       "      <td>7935706</td>\n",
       "      <td>100.0</td>\n",
       "    </tr>\n",
       "    <tr>\n",
       "      <th>MANI_HEMOR</th>\n",
       "      <td>7935706</td>\n",
       "      <td>100.0</td>\n",
       "    </tr>\n",
       "    <tr>\n",
       "      <th>HEMATURA</th>\n",
       "      <td>7935706</td>\n",
       "      <td>100.0</td>\n",
       "    </tr>\n",
       "    <tr>\n",
       "      <th>PETEQUIAS</th>\n",
       "      <td>7935706</td>\n",
       "      <td>100.0</td>\n",
       "    </tr>\n",
       "    <tr>\n",
       "      <th>LACO_N</th>\n",
       "      <td>7935706</td>\n",
       "      <td>100.0</td>\n",
       "    </tr>\n",
       "    <tr>\n",
       "      <th>SANGRAM</th>\n",
       "      <td>7935706</td>\n",
       "      <td>100.0</td>\n",
       "    </tr>\n",
       "    <tr>\n",
       "      <th>EPISTAXE</th>\n",
       "      <td>7935706</td>\n",
       "      <td>100.0</td>\n",
       "    </tr>\n",
       "    <tr>\n",
       "      <th>PLASMATICO</th>\n",
       "      <td>7935706</td>\n",
       "      <td>100.0</td>\n",
       "    </tr>\n",
       "    <tr>\n",
       "      <th>METRO</th>\n",
       "      <td>7935706</td>\n",
       "      <td>100.0</td>\n",
       "    </tr>\n",
       "    <tr>\n",
       "      <th>CON_FHD</th>\n",
       "      <td>7935706</td>\n",
       "      <td>100.0</td>\n",
       "    </tr>\n",
       "    <tr>\n",
       "      <th>EVIDENCIA</th>\n",
       "      <td>7935706</td>\n",
       "      <td>100.0</td>\n",
       "    </tr>\n",
       "    <tr>\n",
       "      <th>MIGRADO_W</th>\n",
       "      <td>7935706</td>\n",
       "      <td>100.0</td>\n",
       "    </tr>\n",
       "    <tr>\n",
       "      <th>DOENCA_TRA</th>\n",
       "      <td>7935706</td>\n",
       "      <td>100.0</td>\n",
       "    </tr>\n",
       "    <tr>\n",
       "      <th>GENGIVO</th>\n",
       "      <td>7935706</td>\n",
       "      <td>100.0</td>\n",
       "    </tr>\n",
       "    <tr>\n",
       "      <th>SOROTIPO</th>\n",
       "      <td>7708003</td>\n",
       "      <td>97.130652</td>\n",
       "    </tr>\n",
       "    <tr>\n",
       "      <th>HISTOPA_N</th>\n",
       "      <td>4920836</td>\n",
       "      <td>62.008799</td>\n",
       "    </tr>\n",
       "    <tr>\n",
       "      <th>IMUNOH_N</th>\n",
       "      <td>4916611</td>\n",
       "      <td>61.955559</td>\n",
       "    </tr>\n",
       "    <tr>\n",
       "      <th>RESUL_VI_N</th>\n",
       "      <td>4552107</td>\n",
       "      <td>57.362344</td>\n",
       "    </tr>\n",
       "    <tr>\n",
       "      <th>RESUL_SORO</th>\n",
       "      <td>3637896</td>\n",
       "      <td>45.842122</td>\n",
       "    </tr>\n",
       "    <tr>\n",
       "      <th>RESUL_NS1</th>\n",
       "      <td>2861583</td>\n",
       "      <td>36.059589</td>\n",
       "    </tr>\n",
       "    <tr>\n",
       "      <th>TPAUTOCTO</th>\n",
       "      <td>2298149</td>\n",
       "      <td>28.959604</td>\n",
       "    </tr>\n",
       "    <tr>\n",
       "      <th>HOSPITALIZ</th>\n",
       "      <td>2159272</td>\n",
       "      <td>27.209577</td>\n",
       "    </tr>\n",
       "    <tr>\n",
       "      <th>EVOLUCAO</th>\n",
       "      <td>1230280</td>\n",
       "      <td>15.503094</td>\n",
       "    </tr>\n",
       "    <tr>\n",
       "      <th>CRITERIO</th>\n",
       "      <td>712476</td>\n",
       "      <td>8.978105</td>\n",
       "    </tr>\n",
       "    <tr>\n",
       "      <th>CS_GESTANT</th>\n",
       "      <td>1455</td>\n",
       "      <td>0.018335</td>\n",
       "    </tr>\n",
       "    <tr>\n",
       "      <th>CS_RACA</th>\n",
       "      <td>24</td>\n",
       "      <td>0.000302</td>\n",
       "    </tr>\n",
       "    <tr>\n",
       "      <th>CS_SEXO</th>\n",
       "      <td>19</td>\n",
       "      <td>0.000239</td>\n",
       "    </tr>\n",
       "    <tr>\n",
       "      <th>SEM_NOT</th>\n",
       "      <td>0</td>\n",
       "      <td>0.0</td>\n",
       "    </tr>\n",
       "    <tr>\n",
       "      <th>NU_ANO</th>\n",
       "      <td>0</td>\n",
       "      <td>0.0</td>\n",
       "    </tr>\n",
       "    <tr>\n",
       "      <th>ID_AGRAVO</th>\n",
       "      <td>0</td>\n",
       "      <td>0.0</td>\n",
       "    </tr>\n",
       "    <tr>\n",
       "      <th>ID_MUNICIP</th>\n",
       "      <td>0</td>\n",
       "      <td>0.0</td>\n",
       "    </tr>\n",
       "    <tr>\n",
       "      <th>CONJUNTVIT</th>\n",
       "      <td>0</td>\n",
       "      <td>0.0</td>\n",
       "    </tr>\n",
       "    <tr>\n",
       "      <th>DOR_COSTAS</th>\n",
       "      <td>0</td>\n",
       "      <td>0.0</td>\n",
       "    </tr>\n",
       "    <tr>\n",
       "      <th>NAUSEA</th>\n",
       "      <td>0</td>\n",
       "      <td>0.0</td>\n",
       "    </tr>\n",
       "    <tr>\n",
       "      <th>VOMITO</th>\n",
       "      <td>0</td>\n",
       "      <td>0.0</td>\n",
       "    </tr>\n",
       "    <tr>\n",
       "      <th>EXANTEMA</th>\n",
       "      <td>0</td>\n",
       "      <td>0.0</td>\n",
       "    </tr>\n",
       "    <tr>\n",
       "      <th>CEFALEIA</th>\n",
       "      <td>0</td>\n",
       "      <td>0.0</td>\n",
       "    </tr>\n",
       "    <tr>\n",
       "      <th>MIALGIA</th>\n",
       "      <td>0</td>\n",
       "      <td>0.0</td>\n",
       "    </tr>\n",
       "    <tr>\n",
       "      <th>ARTRITE</th>\n",
       "      <td>0</td>\n",
       "      <td>0.0</td>\n",
       "    </tr>\n",
       "    <tr>\n",
       "      <th>HEPATOPAT</th>\n",
       "      <td>0</td>\n",
       "      <td>0.0</td>\n",
       "    </tr>\n",
       "    <tr>\n",
       "      <th>ARTRALGIA</th>\n",
       "      <td>0</td>\n",
       "      <td>0.0</td>\n",
       "    </tr>\n",
       "    <tr>\n",
       "      <th>PETEQUIA_N</th>\n",
       "      <td>0</td>\n",
       "      <td>0.0</td>\n",
       "    </tr>\n",
       "    <tr>\n",
       "      <th>LEUCOPENIA</th>\n",
       "      <td>0</td>\n",
       "      <td>0.0</td>\n",
       "    </tr>\n",
       "    <tr>\n",
       "      <th>LACO</th>\n",
       "      <td>0</td>\n",
       "      <td>0.0</td>\n",
       "    </tr>\n",
       "    <tr>\n",
       "      <th>DOR_RETRO</th>\n",
       "      <td>0</td>\n",
       "      <td>0.0</td>\n",
       "    </tr>\n",
       "    <tr>\n",
       "      <th>DIABETES</th>\n",
       "      <td>0</td>\n",
       "      <td>0.0</td>\n",
       "    </tr>\n",
       "    <tr>\n",
       "      <th>TP_NOT</th>\n",
       "      <td>0</td>\n",
       "      <td>0.0</td>\n",
       "    </tr>\n",
       "    <tr>\n",
       "      <th>ANO_NASC</th>\n",
       "      <td>0</td>\n",
       "      <td>0.0</td>\n",
       "    </tr>\n",
       "    <tr>\n",
       "      <th>CS_ESCOL_N</th>\n",
       "      <td>0</td>\n",
       "      <td>0.0</td>\n",
       "    </tr>\n",
       "    <tr>\n",
       "      <th>SG_UF</th>\n",
       "      <td>0</td>\n",
       "      <td>0.0</td>\n",
       "    </tr>\n",
       "    <tr>\n",
       "      <th>ID_MN_RESI</th>\n",
       "      <td>0</td>\n",
       "      <td>0.0</td>\n",
       "    </tr>\n",
       "    <tr>\n",
       "      <th>ID_RG_RESI</th>\n",
       "      <td>0</td>\n",
       "      <td>0.0</td>\n",
       "    </tr>\n",
       "    <tr>\n",
       "      <th>ID_PAIS</th>\n",
       "      <td>0</td>\n",
       "      <td>0.0</td>\n",
       "    </tr>\n",
       "    <tr>\n",
       "      <th>DT_INVEST</th>\n",
       "      <td>0</td>\n",
       "      <td>0.0</td>\n",
       "    </tr>\n",
       "    <tr>\n",
       "      <th>ID_OCUPA_N</th>\n",
       "      <td>0</td>\n",
       "      <td>0.0</td>\n",
       "    </tr>\n",
       "    <tr>\n",
       "      <th>FEBRE</th>\n",
       "      <td>0</td>\n",
       "      <td>0.0</td>\n",
       "    </tr>\n",
       "    <tr>\n",
       "      <th>SG_UF_NOT</th>\n",
       "      <td>0</td>\n",
       "      <td>0.0</td>\n",
       "    </tr>\n",
       "    <tr>\n",
       "      <th>ID_REGIONA</th>\n",
       "      <td>0</td>\n",
       "      <td>0.0</td>\n",
       "    </tr>\n",
       "    <tr>\n",
       "      <th>ID_UNIDADE</th>\n",
       "      <td>0</td>\n",
       "      <td>0.0</td>\n",
       "    </tr>\n",
       "    <tr>\n",
       "      <th>SEM_PRI</th>\n",
       "      <td>0</td>\n",
       "      <td>0.0</td>\n",
       "    </tr>\n",
       "    <tr>\n",
       "      <th>DT_SIN_PRI</th>\n",
       "      <td>0</td>\n",
       "      <td>0.0</td>\n",
       "    </tr>\n",
       "    <tr>\n",
       "      <th>NU_IDADE_N</th>\n",
       "      <td>0</td>\n",
       "      <td>0.0</td>\n",
       "    </tr>\n",
       "    <tr>\n",
       "      <th>DT_NOTIFIC</th>\n",
       "      <td>0</td>\n",
       "      <td>0.0</td>\n",
       "    </tr>\n",
       "    <tr>\n",
       "      <th>DT_INTERNA</th>\n",
       "      <td>0</td>\n",
       "      <td>0.0</td>\n",
       "    </tr>\n",
       "    <tr>\n",
       "      <th>RESUL_PCR_</th>\n",
       "      <td>0</td>\n",
       "      <td>0.0</td>\n",
       "    </tr>\n",
       "    <tr>\n",
       "      <th>DT_PCR</th>\n",
       "      <td>0</td>\n",
       "      <td>0.0</td>\n",
       "    </tr>\n",
       "    <tr>\n",
       "      <th>RES_CHIKS2</th>\n",
       "      <td>0</td>\n",
       "      <td>0.0</td>\n",
       "    </tr>\n",
       "    <tr>\n",
       "      <th>DT_SORO</th>\n",
       "      <td>0</td>\n",
       "      <td>0.0</td>\n",
       "    </tr>\n",
       "    <tr>\n",
       "      <th>RESUL_PRNT</th>\n",
       "      <td>0</td>\n",
       "      <td>0.0</td>\n",
       "    </tr>\n",
       "    <tr>\n",
       "      <th>DT_NS1</th>\n",
       "      <td>0</td>\n",
       "      <td>0.0</td>\n",
       "    </tr>\n",
       "    <tr>\n",
       "      <th>DT_VIRAL</th>\n",
       "      <td>0</td>\n",
       "      <td>0.0</td>\n",
       "    </tr>\n",
       "    <tr>\n",
       "      <th>RES_CHIKS1</th>\n",
       "      <td>0</td>\n",
       "      <td>0.0</td>\n",
       "    </tr>\n",
       "    <tr>\n",
       "      <th>RENAL</th>\n",
       "      <td>0</td>\n",
       "      <td>0.0</td>\n",
       "    </tr>\n",
       "    <tr>\n",
       "      <th>HIPERTENSA</th>\n",
       "      <td>0</td>\n",
       "      <td>0.0</td>\n",
       "    </tr>\n",
       "    <tr>\n",
       "      <th>ACIDO_PEPT</th>\n",
       "      <td>0</td>\n",
       "      <td>0.0</td>\n",
       "    </tr>\n",
       "    <tr>\n",
       "      <th>AUTO_IMUNE</th>\n",
       "      <td>0</td>\n",
       "      <td>0.0</td>\n",
       "    </tr>\n",
       "    <tr>\n",
       "      <th>DT_CHIK_S1</th>\n",
       "      <td>0</td>\n",
       "      <td>0.0</td>\n",
       "    </tr>\n",
       "    <tr>\n",
       "      <th>DT_CHIK_S2</th>\n",
       "      <td>0</td>\n",
       "      <td>0.0</td>\n",
       "    </tr>\n",
       "    <tr>\n",
       "      <th>DT_PRNT</th>\n",
       "      <td>0</td>\n",
       "      <td>0.0</td>\n",
       "    </tr>\n",
       "    <tr>\n",
       "      <th>HEMATOLOG</th>\n",
       "      <td>0</td>\n",
       "      <td>0.0</td>\n",
       "    </tr>\n",
       "    <tr>\n",
       "      <th>ALRM_SANG</th>\n",
       "      <td>0</td>\n",
       "      <td>0.0</td>\n",
       "    </tr>\n",
       "    <tr>\n",
       "      <th>ALRM_ABDOM</th>\n",
       "      <td>0</td>\n",
       "      <td>0.0</td>\n",
       "    </tr>\n",
       "    <tr>\n",
       "      <th>ALRM_HEMAT</th>\n",
       "      <td>0</td>\n",
       "      <td>0.0</td>\n",
       "    </tr>\n",
       "    <tr>\n",
       "      <th>COUFINF</th>\n",
       "      <td>0</td>\n",
       "      <td>0.0</td>\n",
       "    </tr>\n",
       "    <tr>\n",
       "      <th>COPAISINF</th>\n",
       "      <td>0</td>\n",
       "      <td>0.0</td>\n",
       "    </tr>\n",
       "    <tr>\n",
       "      <th>MUNICIPIO</th>\n",
       "      <td>0</td>\n",
       "      <td>0.0</td>\n",
       "    </tr>\n",
       "    <tr>\n",
       "      <th>UF_x</th>\n",
       "      <td>0</td>\n",
       "      <td>0.0</td>\n",
       "    </tr>\n",
       "    <tr>\n",
       "      <th>CLASSI_FIN</th>\n",
       "      <td>0</td>\n",
       "      <td>0.0</td>\n",
       "    </tr>\n",
       "    <tr>\n",
       "      <th>COMUNINF</th>\n",
       "      <td>0</td>\n",
       "      <td>0.0</td>\n",
       "    </tr>\n",
       "    <tr>\n",
       "      <th>CLINC_CHIK</th>\n",
       "      <td>0</td>\n",
       "      <td>0.0</td>\n",
       "    </tr>\n",
       "    <tr>\n",
       "      <th>DT_OBITO</th>\n",
       "      <td>0</td>\n",
       "      <td>0.0</td>\n",
       "    </tr>\n",
       "    <tr>\n",
       "      <th>DT_ENCERRA</th>\n",
       "      <td>0</td>\n",
       "      <td>0.0</td>\n",
       "    </tr>\n",
       "    <tr>\n",
       "      <th>ALRM_HIPOT</th>\n",
       "      <td>0</td>\n",
       "      <td>0.0</td>\n",
       "    </tr>\n",
       "    <tr>\n",
       "      <th>ALRM_PLAQ</th>\n",
       "      <td>0</td>\n",
       "      <td>0.0</td>\n",
       "    </tr>\n",
       "    <tr>\n",
       "      <th>ALRM_VOM</th>\n",
       "      <td>0</td>\n",
       "      <td>0.0</td>\n",
       "    </tr>\n",
       "    <tr>\n",
       "      <th>GRAV_MELEN</th>\n",
       "      <td>0</td>\n",
       "      <td>0.0</td>\n",
       "    </tr>\n",
       "    <tr>\n",
       "      <th>GRAV_HEMAT</th>\n",
       "      <td>0</td>\n",
       "      <td>0.0</td>\n",
       "    </tr>\n",
       "    <tr>\n",
       "      <th>GRAV_HIPOT</th>\n",
       "      <td>0</td>\n",
       "      <td>0.0</td>\n",
       "    </tr>\n",
       "    <tr>\n",
       "      <th>GRAV_EXTRE</th>\n",
       "      <td>0</td>\n",
       "      <td>0.0</td>\n",
       "    </tr>\n",
       "    <tr>\n",
       "      <th>GRAV_TAQUI</th>\n",
       "      <td>0</td>\n",
       "      <td>0.0</td>\n",
       "    </tr>\n",
       "    <tr>\n",
       "      <th>GRAV_INSUF</th>\n",
       "      <td>0</td>\n",
       "      <td>0.0</td>\n",
       "    </tr>\n",
       "    <tr>\n",
       "      <th>GRAV_ENCH</th>\n",
       "      <td>0</td>\n",
       "      <td>0.0</td>\n",
       "    </tr>\n",
       "    <tr>\n",
       "      <th>GRAV_CONV</th>\n",
       "      <td>0</td>\n",
       "      <td>0.0</td>\n",
       "    </tr>\n",
       "    <tr>\n",
       "      <th>GRAV_PULSO</th>\n",
       "      <td>0</td>\n",
       "      <td>0.0</td>\n",
       "    </tr>\n",
       "    <tr>\n",
       "      <th>DT_ALRM</th>\n",
       "      <td>0</td>\n",
       "      <td>0.0</td>\n",
       "    </tr>\n",
       "    <tr>\n",
       "      <th>ALRM_LIQ</th>\n",
       "      <td>0</td>\n",
       "      <td>0.0</td>\n",
       "    </tr>\n",
       "    <tr>\n",
       "      <th>ALRM_HEPAT</th>\n",
       "      <td>0</td>\n",
       "      <td>0.0</td>\n",
       "    </tr>\n",
       "    <tr>\n",
       "      <th>ALRM_LETAR</th>\n",
       "      <td>0</td>\n",
       "      <td>0.0</td>\n",
       "    </tr>\n",
       "    <tr>\n",
       "      <th>DT_GRAV</th>\n",
       "      <td>0</td>\n",
       "      <td>0.0</td>\n",
       "    </tr>\n",
       "    <tr>\n",
       "      <th>GRAV_CONSC</th>\n",
       "      <td>0</td>\n",
       "      <td>0.0</td>\n",
       "    </tr>\n",
       "    <tr>\n",
       "      <th>GRAV_ORGAO</th>\n",
       "      <td>0</td>\n",
       "      <td>0.0</td>\n",
       "    </tr>\n",
       "    <tr>\n",
       "      <th>GRAV_MIOC</th>\n",
       "      <td>0</td>\n",
       "      <td>0.0</td>\n",
       "    </tr>\n",
       "    <tr>\n",
       "      <th>GRAV_METRO</th>\n",
       "      <td>0</td>\n",
       "      <td>0.0</td>\n",
       "    </tr>\n",
       "    <tr>\n",
       "      <th>GRAV_AST</th>\n",
       "      <td>0</td>\n",
       "      <td>0.0</td>\n",
       "    </tr>\n",
       "    <tr>\n",
       "      <th>GRAV_SANG</th>\n",
       "      <td>0</td>\n",
       "      <td>0.0</td>\n",
       "    </tr>\n",
       "    <tr>\n",
       "      <th>TP_SISTEMA</th>\n",
       "      <td>0</td>\n",
       "      <td>0.0</td>\n",
       "    </tr>\n",
       "    <tr>\n",
       "      <th>NDUPLIC_N</th>\n",
       "      <td>0</td>\n",
       "      <td>0.0</td>\n",
       "    </tr>\n",
       "    <tr>\n",
       "      <th>DT_DIGITA</th>\n",
       "      <td>0</td>\n",
       "      <td>0.0</td>\n",
       "    </tr>\n",
       "    <tr>\n",
       "      <th>PLAQ_MENOR</th>\n",
       "      <td>0</td>\n",
       "      <td>0.0</td>\n",
       "    </tr>\n",
       "    <tr>\n",
       "      <th>CS_FLXRET</th>\n",
       "      <td>0</td>\n",
       "      <td>0.0</td>\n",
       "    </tr>\n",
       "    <tr>\n",
       "      <th>FLXRECEBI</th>\n",
       "      <td>0</td>\n",
       "      <td>0.0</td>\n",
       "    </tr>\n",
       "    <tr>\n",
       "      <th>UF_y</th>\n",
       "      <td>0</td>\n",
       "      <td>0.0</td>\n",
       "    </tr>\n",
       "    <tr>\n",
       "      <th>COD_UF</th>\n",
       "      <td>0</td>\n",
       "      <td>0.0</td>\n",
       "    </tr>\n",
       "    <tr>\n",
       "      <th>COD_MUNIC</th>\n",
       "      <td>0</td>\n",
       "      <td>0.0</td>\n",
       "    </tr>\n",
       "    <tr>\n",
       "      <th>NOME_DO_MUNICIPIO</th>\n",
       "      <td>0</td>\n",
       "      <td>0.0</td>\n",
       "    </tr>\n",
       "    <tr>\n",
       "      <th>COD_IBGE</th>\n",
       "      <td>0</td>\n",
       "      <td>0.0</td>\n",
       "    </tr>\n",
       "    <tr>\n",
       "      <th>COD_SINAN</th>\n",
       "      <td>0</td>\n",
       "      <td>0.0</td>\n",
       "    </tr>\n",
       "  </tbody>\n",
       "</table>\n",
       "</div>"
      ],
      "text/plain": [
       "                   Contagem_vazios  Porc_vazios\n",
       "COMPLICA                   7935706        100.0\n",
       "MANI_HEMOR                 7935706        100.0\n",
       "HEMATURA                   7935706        100.0\n",
       "PETEQUIAS                  7935706        100.0\n",
       "LACO_N                     7935706        100.0\n",
       "SANGRAM                    7935706        100.0\n",
       "EPISTAXE                   7935706        100.0\n",
       "PLASMATICO                 7935706        100.0\n",
       "METRO                      7935706        100.0\n",
       "CON_FHD                    7935706        100.0\n",
       "EVIDENCIA                  7935706        100.0\n",
       "MIGRADO_W                  7935706        100.0\n",
       "DOENCA_TRA                 7935706        100.0\n",
       "GENGIVO                    7935706        100.0\n",
       "SOROTIPO                   7708003    97.130652\n",
       "HISTOPA_N                  4920836    62.008799\n",
       "IMUNOH_N                   4916611    61.955559\n",
       "RESUL_VI_N                 4552107    57.362344\n",
       "RESUL_SORO                 3637896    45.842122\n",
       "RESUL_NS1                  2861583    36.059589\n",
       "TPAUTOCTO                  2298149    28.959604\n",
       "HOSPITALIZ                 2159272    27.209577\n",
       "EVOLUCAO                   1230280    15.503094\n",
       "CRITERIO                    712476     8.978105\n",
       "CS_GESTANT                    1455     0.018335\n",
       "CS_RACA                         24     0.000302\n",
       "CS_SEXO                         19     0.000239\n",
       "SEM_NOT                          0          0.0\n",
       "NU_ANO                           0          0.0\n",
       "ID_AGRAVO                        0          0.0\n",
       "ID_MUNICIP                       0          0.0\n",
       "CONJUNTVIT                       0          0.0\n",
       "DOR_COSTAS                       0          0.0\n",
       "NAUSEA                           0          0.0\n",
       "VOMITO                           0          0.0\n",
       "EXANTEMA                         0          0.0\n",
       "CEFALEIA                         0          0.0\n",
       "MIALGIA                          0          0.0\n",
       "ARTRITE                          0          0.0\n",
       "HEPATOPAT                        0          0.0\n",
       "ARTRALGIA                        0          0.0\n",
       "PETEQUIA_N                       0          0.0\n",
       "LEUCOPENIA                       0          0.0\n",
       "LACO                             0          0.0\n",
       "DOR_RETRO                        0          0.0\n",
       "DIABETES                         0          0.0\n",
       "TP_NOT                           0          0.0\n",
       "ANO_NASC                         0          0.0\n",
       "CS_ESCOL_N                       0          0.0\n",
       "SG_UF                            0          0.0\n",
       "ID_MN_RESI                       0          0.0\n",
       "ID_RG_RESI                       0          0.0\n",
       "ID_PAIS                          0          0.0\n",
       "DT_INVEST                        0          0.0\n",
       "ID_OCUPA_N                       0          0.0\n",
       "FEBRE                            0          0.0\n",
       "SG_UF_NOT                        0          0.0\n",
       "ID_REGIONA                       0          0.0\n",
       "ID_UNIDADE                       0          0.0\n",
       "SEM_PRI                          0          0.0\n",
       "DT_SIN_PRI                       0          0.0\n",
       "NU_IDADE_N                       0          0.0\n",
       "DT_NOTIFIC                       0          0.0\n",
       "DT_INTERNA                       0          0.0\n",
       "RESUL_PCR_                       0          0.0\n",
       "DT_PCR                           0          0.0\n",
       "RES_CHIKS2                       0          0.0\n",
       "DT_SORO                          0          0.0\n",
       "RESUL_PRNT                       0          0.0\n",
       "DT_NS1                           0          0.0\n",
       "DT_VIRAL                         0          0.0\n",
       "RES_CHIKS1                       0          0.0\n",
       "RENAL                            0          0.0\n",
       "HIPERTENSA                       0          0.0\n",
       "ACIDO_PEPT                       0          0.0\n",
       "AUTO_IMUNE                       0          0.0\n",
       "DT_CHIK_S1                       0          0.0\n",
       "DT_CHIK_S2                       0          0.0\n",
       "DT_PRNT                          0          0.0\n",
       "HEMATOLOG                        0          0.0\n",
       "ALRM_SANG                        0          0.0\n",
       "ALRM_ABDOM                       0          0.0\n",
       "ALRM_HEMAT                       0          0.0\n",
       "COUFINF                          0          0.0\n",
       "COPAISINF                        0          0.0\n",
       "MUNICIPIO                        0          0.0\n",
       "UF_x                             0          0.0\n",
       "CLASSI_FIN                       0          0.0\n",
       "COMUNINF                         0          0.0\n",
       "CLINC_CHIK                       0          0.0\n",
       "DT_OBITO                         0          0.0\n",
       "DT_ENCERRA                       0          0.0\n",
       "ALRM_HIPOT                       0          0.0\n",
       "ALRM_PLAQ                        0          0.0\n",
       "ALRM_VOM                         0          0.0\n",
       "GRAV_MELEN                       0          0.0\n",
       "GRAV_HEMAT                       0          0.0\n",
       "GRAV_HIPOT                       0          0.0\n",
       "GRAV_EXTRE                       0          0.0\n",
       "GRAV_TAQUI                       0          0.0\n",
       "GRAV_INSUF                       0          0.0\n",
       "GRAV_ENCH                        0          0.0\n",
       "GRAV_CONV                        0          0.0\n",
       "GRAV_PULSO                       0          0.0\n",
       "DT_ALRM                          0          0.0\n",
       "ALRM_LIQ                         0          0.0\n",
       "ALRM_HEPAT                       0          0.0\n",
       "ALRM_LETAR                       0          0.0\n",
       "DT_GRAV                          0          0.0\n",
       "GRAV_CONSC                       0          0.0\n",
       "GRAV_ORGAO                       0          0.0\n",
       "GRAV_MIOC                        0          0.0\n",
       "GRAV_METRO                       0          0.0\n",
       "GRAV_AST                         0          0.0\n",
       "GRAV_SANG                        0          0.0\n",
       "TP_SISTEMA                       0          0.0\n",
       "NDUPLIC_N                        0          0.0\n",
       "DT_DIGITA                        0          0.0\n",
       "PLAQ_MENOR                       0          0.0\n",
       "CS_FLXRET                        0          0.0\n",
       "FLXRECEBI                        0          0.0\n",
       "UF_y                             0          0.0\n",
       "COD_UF                           0          0.0\n",
       "COD_MUNIC                        0          0.0\n",
       "NOME_DO_MUNICIPIO                0          0.0\n",
       "COD_IBGE                         0          0.0\n",
       "COD_SINAN                        0          0.0"
      ]
     },
     "execution_count": 74,
     "metadata": {},
     "output_type": "execute_result"
    }
   ],
   "source": [
    "vazios = (dengue == ' ').sum()\n",
    "\n",
    "pvazios = (vazios / len(dengue)) * 100\n",
    "\n",
    "resultado = pd.DataFrame({\n",
    "    'Contagem_vazios': vazios,\n",
    "    'Porc_vazios': pvazios\n",
    "}).sort_values(by='Porc_vazios', ascending=False)\n",
    "\n",
    "resultado"
   ]
  },
  {
   "cell_type": "code",
   "execution_count": 75,
   "metadata": {
    "colab": {
     "base_uri": "https://localhost:8080/"
    },
    "id": "_46TC9FNX1UT",
    "outputId": "c7bf3982-b3a8-479e-aa13-fde22f4446f4"
   },
   "outputs": [
    {
     "name": "stdout",
     "output_type": "stream",
     "text": [
      "                   Contagem_vazios  Porc_vazios\n",
      "COMPLICA                   7935706        100.0\n",
      "MANI_HEMOR                 7935706        100.0\n",
      "HEMATURA                   7935706        100.0\n",
      "PETEQUIAS                  7935706        100.0\n",
      "LACO_N                     7935706        100.0\n",
      "SANGRAM                    7935706        100.0\n",
      "EPISTAXE                   7935706        100.0\n",
      "PLASMATICO                 7935706        100.0\n",
      "METRO                      7935706        100.0\n",
      "CON_FHD                    7935706        100.0\n",
      "EVIDENCIA                  7935706        100.0\n",
      "MIGRADO_W                  7935706        100.0\n",
      "DOENCA_TRA                 7935706        100.0\n",
      "GENGIVO                    7935706        100.0\n",
      "SOROTIPO                   7708003    97.130652\n",
      "HISTOPA_N                  4920836    62.008799\n",
      "IMUNOH_N                   4916611    61.955559\n",
      "RESUL_VI_N                 4552107    57.362344\n",
      "RESUL_SORO                 3637896    45.842122\n",
      "RESUL_NS1                  2861583    36.059589\n",
      "TPAUTOCTO                  2298149    28.959604\n",
      "HOSPITALIZ                 2159272    27.209577\n",
      "EVOLUCAO                   1230280    15.503094\n",
      "CRITERIO                    712476     8.978105\n",
      "CS_GESTANT                    1455     0.018335\n",
      "CS_RACA                         24     0.000302\n",
      "CS_SEXO                         19     0.000239\n",
      "SEM_NOT                          0          0.0\n",
      "NU_ANO                           0          0.0\n",
      "ID_AGRAVO                        0          0.0\n",
      "ID_MUNICIP                       0          0.0\n",
      "CONJUNTVIT                       0          0.0\n",
      "DOR_COSTAS                       0          0.0\n",
      "NAUSEA                           0          0.0\n",
      "VOMITO                           0          0.0\n",
      "EXANTEMA                         0          0.0\n",
      "CEFALEIA                         0          0.0\n",
      "MIALGIA                          0          0.0\n",
      "ARTRITE                          0          0.0\n",
      "HEPATOPAT                        0          0.0\n",
      "ARTRALGIA                        0          0.0\n",
      "PETEQUIA_N                       0          0.0\n",
      "LEUCOPENIA                       0          0.0\n",
      "LACO                             0          0.0\n",
      "DOR_RETRO                        0          0.0\n",
      "DIABETES                         0          0.0\n",
      "TP_NOT                           0          0.0\n",
      "ANO_NASC                         0          0.0\n",
      "CS_ESCOL_N                       0          0.0\n",
      "SG_UF                            0          0.0\n",
      "ID_MN_RESI                       0          0.0\n",
      "ID_RG_RESI                       0          0.0\n",
      "ID_PAIS                          0          0.0\n",
      "DT_INVEST                        0          0.0\n",
      "ID_OCUPA_N                       0          0.0\n",
      "FEBRE                            0          0.0\n",
      "SG_UF_NOT                        0          0.0\n",
      "ID_REGIONA                       0          0.0\n",
      "ID_UNIDADE                       0          0.0\n",
      "SEM_PRI                          0          0.0\n",
      "DT_SIN_PRI                       0          0.0\n",
      "NU_IDADE_N                       0          0.0\n",
      "DT_NOTIFIC                       0          0.0\n",
      "DT_INTERNA                       0          0.0\n",
      "RESUL_PCR_                       0          0.0\n",
      "DT_PCR                           0          0.0\n",
      "RES_CHIKS2                       0          0.0\n",
      "DT_SORO                          0          0.0\n",
      "RESUL_PRNT                       0          0.0\n",
      "DT_NS1                           0          0.0\n",
      "DT_VIRAL                         0          0.0\n",
      "RES_CHIKS1                       0          0.0\n",
      "RENAL                            0          0.0\n",
      "HIPERTENSA                       0          0.0\n",
      "ACIDO_PEPT                       0          0.0\n",
      "AUTO_IMUNE                       0          0.0\n",
      "DT_CHIK_S1                       0          0.0\n",
      "DT_CHIK_S2                       0          0.0\n",
      "DT_PRNT                          0          0.0\n",
      "HEMATOLOG                        0          0.0\n",
      "ALRM_SANG                        0          0.0\n",
      "ALRM_ABDOM                       0          0.0\n",
      "ALRM_HEMAT                       0          0.0\n",
      "COUFINF                          0          0.0\n",
      "COPAISINF                        0          0.0\n",
      "MUNICIPIO                        0          0.0\n",
      "UF_x                             0          0.0\n",
      "CLASSI_FIN                       0          0.0\n",
      "COMUNINF                         0          0.0\n",
      "CLINC_CHIK                       0          0.0\n",
      "DT_OBITO                         0          0.0\n",
      "DT_ENCERRA                       0          0.0\n",
      "ALRM_HIPOT                       0          0.0\n",
      "ALRM_PLAQ                        0          0.0\n",
      "ALRM_VOM                         0          0.0\n",
      "GRAV_MELEN                       0          0.0\n",
      "GRAV_HEMAT                       0          0.0\n",
      "GRAV_HIPOT                       0          0.0\n",
      "GRAV_EXTRE                       0          0.0\n",
      "GRAV_TAQUI                       0          0.0\n",
      "GRAV_INSUF                       0          0.0\n",
      "GRAV_ENCH                        0          0.0\n",
      "GRAV_CONV                        0          0.0\n",
      "GRAV_PULSO                       0          0.0\n",
      "DT_ALRM                          0          0.0\n",
      "ALRM_LIQ                         0          0.0\n",
      "ALRM_HEPAT                       0          0.0\n",
      "ALRM_LETAR                       0          0.0\n",
      "DT_GRAV                          0          0.0\n",
      "GRAV_CONSC                       0          0.0\n",
      "GRAV_ORGAO                       0          0.0\n",
      "GRAV_MIOC                        0          0.0\n",
      "GRAV_METRO                       0          0.0\n",
      "GRAV_AST                         0          0.0\n",
      "GRAV_SANG                        0          0.0\n",
      "TP_SISTEMA                       0          0.0\n",
      "NDUPLIC_N                        0          0.0\n",
      "DT_DIGITA                        0          0.0\n",
      "PLAQ_MENOR                       0          0.0\n",
      "CS_FLXRET                        0          0.0\n",
      "FLXRECEBI                        0          0.0\n",
      "UF_y                             0          0.0\n",
      "COD_UF                           0          0.0\n",
      "COD_MUNIC                        0          0.0\n",
      "NOME_DO_MUNICIPIO                0          0.0\n",
      "COD_IBGE                         0          0.0\n",
      "COD_SINAN                        0          0.0\n"
     ]
    }
   ],
   "source": [
    "pd.set_option(\"display.max_rows\", None)\n",
    "pd.set_option(\"display.max_columns\", None)\n",
    "pd.set_option(\"display.width\", None)\n",
    "pd.set_option(\"display.max_colwidth\", None)\n",
    "\n",
    "print(resultado)"
   ]
  },
  {
   "cell_type": "code",
   "execution_count": 76,
   "metadata": {
    "colab": {
     "base_uri": "https://localhost:8080/"
    },
    "id": "G0eBnPuEX1UU",
    "outputId": "59700b27-c92b-455e-faf2-97e3864c6691"
   },
   "outputs": [
    {
     "name": "stdout",
     "output_type": "stream",
     "text": [
      "18 colunas removidas: ['COMPLICA', 'MANI_HEMOR', 'HEMATURA', 'PETEQUIAS', 'LACO_N', 'SANGRAM', 'EPISTAXE', 'PLASMATICO', 'METRO', 'CON_FHD', 'EVIDENCIA', 'MIGRADO_W', 'DOENCA_TRA', 'GENGIVO', 'SOROTIPO', 'HISTOPA_N', 'IMUNOH_N', 'RESUL_VI_N']\n",
      "Colunas restantes: 109\n"
     ]
    }
   ],
   "source": [
    "# Find columns with more than 50% empty strings\n",
    "cols_to_drop = resultado[resultado['Porc_vazios'] > 50].index\n",
    "\n",
    "# Drop them from the original DataFrame\n",
    "df_clean = dengue.drop(columns=cols_to_drop)\n",
    "\n",
    "print(f\"{len(cols_to_drop)} colunas removidas: {list(cols_to_drop)}\")\n",
    "print(f\"Colunas restantes: {df_clean.shape[1]}\")"
   ]
  },
  {
   "cell_type": "code",
   "execution_count": 43,
   "metadata": {
    "colab": {
     "base_uri": "https://localhost:8080/",
     "height": 467
    },
    "id": "F5mkQ5ojX1UU",
    "outputId": "abc7735c-3353-4c92-c388-119b3408b307"
   },
   "outputs": [
    {
     "data": {
      "text/plain": [
       "<Axes: xlabel='COD_UF', ylabel='count'>"
      ]
     },
     "execution_count": 43,
     "metadata": {},
     "output_type": "execute_result"
    },
    {
     "data": {
      "image/png": "[encoded data removed]",
      "text/plain": [
       "<Figure size 640x480 with 1 Axes>"
      ]
     },
     "metadata": {},
     "output_type": "display_data"
    }
   ],
   "source": [
    "sns.countplot(x = dengue['COD_UF'])"
   ]
  },
  {
   "cell_type": "code",
   "execution_count": 77,
   "metadata": {
    "colab": {
     "base_uri": "https://localhost:8080/",
     "height": 467
    },
    "id": "4-y-kYdnX1UU",
    "outputId": "405a5d7b-743b-4687-87d9-30d5559fadf9"
   },
   "outputs": [
    {
     "data": {
      "text/plain": [
       "<Axes: xlabel='SG_UF_NOT', ylabel='count'>"
      ]
     },
     "execution_count": 77,
     "metadata": {},
     "output_type": "execute_result"
    },
    {
     "data": {
      "image/png": "[encoded data removed]",
      "text/plain": [
       "<Figure size 640x480 with 1 Axes>"
      ]
     },
     "metadata": {},
     "output_type": "display_data"
    }
   ],
   "source": [
    "sns.countplot(x = dengue['SG_UF_NOT'])"
   ]
  },
  {
   "cell_type": "code",
   "execution_count": 78,
   "metadata": {
    "colab": {
     "base_uri": "https://localhost:8080/"
    },
    "id": "ygsCqibjX1UU",
    "outputId": "e16fabcd-f955-4b4f-c058-3e66aab14315"
   },
   "outputs": [
    {
     "data": {
      "text/plain": [
       "['313760', '317020', '314010', '317010', '316680', ..., '230015', '421440', '420555', '421650', '421085']\n",
       "Length: 5309\n",
       "Categories (5309, object): ['110001', '110002', '110003', '110004', ..., '522205', '522220', '522230', '530010']"
      ]
     },
     "execution_count": 78,
     "metadata": {},
     "output_type": "execute_result"
    }
   ],
   "source": [
    "dengue['ID_MUNICIP'].unique()"
   ]
  },
  {
   "cell_type": "raw",
   "metadata": {
    "id": "eIKcjG5QX1UU"
   },
   "source": [
    "Campos de Identificação da Notificação"
   ]
  },
  {
   "cell_type": "code",
   "execution_count": null,
   "metadata": {
    "colab": {
     "base_uri": "https://localhost:8080/"
    },
    "id": "EzRWWuJmX1UU",
    "outputId": "eb61274b-97fd-46bb-84c2-25ae4431b03e"
   },
   "outputs": [],
   "source": [
    "id_notif = ['SEM_NOT', 'NU_ANO', 'ID_MUNICIP', 'ID_REGIONA', 'ID_UNIDADE']\n",
    "\n",
    "dengue = dengue.drop(columns = id_notif)\n",
    "\n",
    "if \n",
    "\n",
    "print(f\"{len(id_notif)} colunas removidas: {id_notif}\")"
   ]
  },
  {
   "cell_type": "raw",
   "metadata": {
    "id": "h7u7tlOuX1UU"
   },
   "source": [
    "Dados do Paciente"
   ]
  },
  {
   "cell_type": "code",
   "execution_count": null,
   "metadata": {
    "colab": {
     "base_uri": "https://localhost:8080/"
    },
    "id": "6yJjMjluX1UU",
    "outputId": "e3443c1e-ec54-4c07-9b31-93ee8f96191f"
   },
   "outputs": [],
   "source": [
    "d_pac = ['DT_SIN_PRI', 'SEM_PRI', 'NU_IDADE_N', 'ANO_NASC', 'CS_RACA', 'CS_ESCOL_N']\n",
    "\n",
    "for col in d_pac:\n",
    "    if col in dengue.columns:\n",
    "        dengue = dengue.drop(columns = d_pac)\n",
    "        print(f\"{len(d_pac)} colunas removidas: {d_pac}\")"
   ]
  },
  {
   "cell_type": "raw",
   "metadata": {
    "id": "26eqZkiqX1UU"
   },
   "source": [
    "Dados de Residência e Procedência"
   ]
  },
  {
   "cell_type": "code",
   "execution_count": null,
   "metadata": {
    "colab": {
     "base_uri": "https://localhost:8080/"
    },
    "id": "b_elfDy8X1UU",
    "outputId": "9e46db43-1db1-4813-9658-d2b25526c425"
   },
   "outputs": [],
   "source": [
    "resid = ['SG_UF', 'ID_MN_RESI', 'ID_RG_RESI', 'ID_PAIS', 'DT_INVEST', 'ID_OCUPA_N']\n",
    "\n",
    "for col in resid:\n",
    "    if col in dengue.columns:\n",
    "        dengue = dengue.drop(columns = resid)\n",
    "        print(f\"{len(resid)} colunas removidas: {resid}\")"
   ]
  },
  {
   "cell_type": "raw",
   "metadata": {
    "id": "sf467nO8X1UV"
   },
   "source": [
    "Sinais e Sintomas Clínicos"
   ]
  },
  {
   "cell_type": "code",
   "execution_count": null,
   "metadata": {
    "colab": {
     "base_uri": "https://localhost:8080/"
    },
    "id": "UaLKJQZOX1UV",
    "outputId": "ddcc6e96-f27c-4c7d-8085-a95f00b728d8"
   },
   "outputs": [],
   "source": [
    "dengue['FEBRE'].unique()"
   ]
  },
  {
   "cell_type": "code",
   "execution_count": null,
   "metadata": {
    "colab": {
     "base_uri": "https://localhost:8080/",
     "height": 483
    },
    "id": "FpEYE1JUX1UV",
    "outputId": "601364f8-2b32-4c74-bb64-9393c8cb1237"
   },
   "outputs": [],
   "source": [
    "sns.countplot(x = dengue['FEBRE'])"
   ]
  },
  {
   "cell_type": "code",
   "execution_count": null,
   "metadata": {
    "colab": {
     "base_uri": "https://localhost:8080/",
     "height": 483
    },
    "id": "_pA_CwJhX1UV",
    "outputId": "9c1cfeba-4638-47dd-ae2f-95d61ee54d4b"
   },
   "outputs": [],
   "source": [
    "sns.countplot(x = dengue['VOMITO'])"
   ]
  },
  {
   "cell_type": "code",
   "execution_count": null,
   "metadata": {},
   "outputs": [],
   "source": [
    "sns.countplot(x = dengue['EVOLUCAO'])"
   ]
  },
  {
   "cell_type": "raw",
   "metadata": {
    "id": "-dJEHXYnX1UV"
   },
   "source": [
    "Primeiros sintomas: febre alta ['FEBRE'], dores no corpo ['MIALGIA'] ['ARTRALGIA'] ['CEFALEIA'] e atrás dos olhos ['DOR_RETRO'], vermelhidão na pele ['EXANTEMA'] e fadiga.\n",
    "Dengue com sinais de alerta após a primeira fase: dores abdominais, vômitos intensos ['VOMITO'], desidratação, falta de apetite e sangramentos nas mucosas.\n",
    "Fonte: Instituto Butantan (https://butantan.gov.br/noticias/sintomas-da-dengue-podem-piorar-em-dias-saiba-identificar-o-inicio-os-sinais-de-alarme-e-a-dengue-grave)"
   ]
  },
  {
   "cell_type": "raw",
   "metadata": {
    "id": "q45Fc2S_X1UV"
   },
   "source": [
    "Exames Laboratoriais (algumas já foram eliminadas)"
   ]
  },
  {
   "cell_type": "code",
   "execution_count": null,
   "metadata": {
    "colab": {
     "base_uri": "https://localhost:8080/"
    },
    "id": "7LqfonMuX1UV",
    "outputId": "695ae933-4f52-4efe-9269-8e125d640a5e"
   },
   "outputs": [],
   "source": [
    "exames = ['DT_NS1', 'DT_VIRAL', 'DT_PCR']\n",
    "\n",
    "for col in exames:\n",
    "    if col in dengue.columns:\n",
    "        dengue = dengue.drop(columns = exames)\n",
    "        print(f\"{len(exames)} colunas removidas: {exames}\")"
   ]
  },
  {
   "cell_type": "raw",
   "metadata": {
    "id": "Bx9la4CUX1UV"
   },
   "source": [
    "Hospitalização e Local da Infecção"
   ]
  },
  {
   "cell_type": "code",
   "execution_count": null,
   "metadata": {
    "colab": {
     "base_uri": "https://localhost:8080/"
    },
    "id": "1w3xXRuiX1UV",
    "outputId": "67600871-f364-450e-b8e7-e36214646e60"
   },
   "outputs": [],
   "source": [
    "hosp = ['DT_INTERNA', 'COUFINF', 'MUNICIPIO', 'TPAUTOCTO']\n",
    "\n",
    "for col in hosp:\n",
    "    if col in dengue.columns:\n",
    "        dengue = dengue.drop(columns = hosp)\n",
    "        print(f\"{len(hosp)} colunas removidas: {hosp}\")"
   ]
  },
  {
   "cell_type": "raw",
   "metadata": {
    "id": "ZORykj0gX1UV"
   },
   "source": [
    "Encerramento do Caso"
   ]
  },
  {
   "cell_type": "code",
   "execution_count": null,
   "metadata": {
    "colab": {
     "base_uri": "https://localhost:8080/"
    },
    "id": "aXMgC53kX1UV",
    "outputId": "f117f163-4aa9-4091-8812-7b3093493a9a"
   },
   "outputs": [],
   "source": [
    "encer = ['CRITERIO', 'DT_ENCERRA', 'DT_OBITO']\n",
    "\n",
    "for col in encer:\n",
    "    if col in dengue.columns:\n",
    "        dengue = dengue.drop(columns = encer)\n",
    "        print(f\"{len(encer)} colunas removidas: {encer}\")"
   ]
  },
  {
   "cell_type": "code",
   "execution_count": null,
   "metadata": {
    "id": "wmreqs7kX1UV"
   },
   "outputs": [],
   "source": [
    "extra = ['ALRM_HIPOT','ALRM_PLAQ','ALRM_VOM','ALRM_SANG','ALRM_HEMAT','ALRM_ABDOM','ALRM_LETAR',\n",
    "'ALRM_HEPAT','ALRM_LIQ','DT_ALRM','GRAV_PULSO','GRAV_CONV','GRAV_ENCH','GRAV_INSUF',\n",
    "'GRAV_TAQUI','GRAV_EXTRE','GRAV_HIPOT','GRAV_HEMAT','GRAV_MELEN','GRAV_METRO','GRAV_SANG',\n",
    "'GRAV_AST','GRAV_MIOC','GRAV_CONSC','GRAV_ORGAO','DT_GRAV','MANI_HEMOR','EPISTAXE','GENGIVO',\n",
    "'METRO','PETEQUIAS','HEMATURA','SANGRAM','LACO_N','PLASMATICO','EVIDENCIA','PLAQ_MENOR',\n",
    "'CON_FHD','COMPLICA','TP_SISTEMA','NDUPLIC_N','DT_DIGITA','CS_FLXRET','FLXRECEBI','MIGRADO_W',\n",
    "'UF','COPAISINF','COMUNINF','CLASSI_FIN','DOENCA_TRA','CLINC_CHIK',\n",
    "'DT_CHIK_S1','DT_CHIK_S2','RES_CHIKS1','RES_CHIKS2','RESUL_PRNT','DT_SORO']"
   ]
  },
  {
   "cell_type": "code",
   "execution_count": null,
   "metadata": {
    "colab": {
     "base_uri": "https://localhost:8080/"
    },
    "id": "tCvNfVo0X1UV",
    "outputId": "d7a72fc7-fec9-4dc0-f5f6-26ac084be28a"
   },
   "outputs": [],
   "source": [
    "\n",
    "for col in extra:\n",
    "    if col in dengue.columns:\n",
    "        dengue = dengue.drop(columns = extra)\n",
    "        print(f\"{len(extra)} colunas removidas: {extra}\")"
   ]
  },
  {
   "cell_type": "code",
   "execution_count": null,
   "metadata": {
    "colab": {
     "base_uri": "https://localhost:8080/"
    },
    "id": "-y74XCkRX1UV",
    "outputId": "fb4f6f2f-262a-4370-baf2-90f7b0d8fb47"
   },
   "outputs": [],
   "source": [
    "dengue.info()"
   ]
  },
  {
   "cell_type": "code",
   "execution_count": null,
   "metadata": {
    "colab": {
     "base_uri": "https://localhost:8080/"
    },
    "id": "XeHviNfeX1UV",
    "outputId": "744f1669-2419-4e1e-85ba-a92d55c35969"
   },
   "outputs": [],
   "source": [
    "dengue.columns"
   ]
  },
  {
   "cell_type": "markdown",
   "metadata": {
    "id": "8P1BRVOBX1UV"
   },
   "source": [
    "### Correção de dados faltantes"
   ]
  },
  {
   "cell_type": "code",
   "execution_count": null,
   "metadata": {
    "colab": {
     "base_uri": "https://localhost:8080/"
    },
    "id": "B5eEwfhoX1UW",
    "outputId": "75504416-9feb-4d04-bed1-73f1b074bec2"
   },
   "outputs": [],
   "source": [
    "\n",
    "colunas = ['TP_NOT', 'ID_AGRAVO', 'SG_UF_NOT', 'CS_SEXO',\n",
    "       'CS_GESTANT', 'FEBRE', 'MIALGIA', 'CEFALEIA', 'EXANTEMA', 'VOMITO',\n",
    "       'ARTRALGIA', 'DOR_RETRO', 'DIABETES', 'HEMATOLOG', 'HEPATOPAT', 'RENAL',\n",
    "       'HIPERTENSA', 'ACIDO_PEPT', 'AUTO_IMUNE', 'DT_PRNT', 'RESUL_SORO',\n",
    "       'RESUL_NS1', 'RESUL_VI_N', 'RESUL_PCR_', 'SOROTIPO', 'HISTOPA_N',\n",
    "       'IMUNOH_N', 'HOSPITALIZ', 'EVOLUCAO']\n",
    "\n",
    "for coluna in colunas:\n",
    "    if coluna in dengue.columns and is_string_dtype(dengue[coluna]):\n",
    "        count = dengue[coluna].str.contains(\" \").sum()\n",
    "        if count > 0:\n",
    "            perc = (count / len(dengue)) * 100\n",
    "            print(f\"Na coluna '{coluna}' existem {count} valores ' ' ({perc:.2f}%)\")"
   ]
  },
  {
   "cell_type": "code",
   "execution_count": null,
   "metadata": {
    "colab": {
     "base_uri": "https://localhost:8080/"
    },
    "id": "1axDm771X1UW",
    "outputId": "52ed999d-b8aa-4ed7-94b1-c7f0d16e5566"
   },
   "outputs": [],
   "source": [
    "cols_to_drop = []\n",
    "\n",
    "for coluna in colunas:\n",
    "    if coluna in dengue.columns and is_string_dtype(dengue[coluna]):\n",
    "        count = dengue[coluna].str.contains(\" \").sum()\n",
    "        if count > 0:\n",
    "            perc = (count / len(dengue)) * 100\n",
    "            print(f\"Na coluna '{coluna}' existem {count} valores ' ' ({perc:.2f}%)\")\n",
    "\n",
    "            # Mark for drop if more than 50%\n",
    "            if perc > 50:\n",
    "                cols_to_drop.append(coluna)\n",
    "\n",
    "\n",
    "    # Drop the bad columns\n",
    "dengue = dengue.drop(columns=cols_to_drop)\n",
    "\n",
    "print(f\"\\nDropped {len(cols_to_drop)} columns: {cols_to_drop}\")\n",
    "print(f\"Remaining columns: {dengue.shape[1]}\")"
   ]
  },
  {
   "cell_type": "code",
   "execution_count": null,
   "metadata": {
    "colab": {
     "base_uri": "https://localhost:8080/"
    },
    "id": "DP7ZnBlRX1UW",
    "outputId": "a7962912-fd13-4862-a98b-7fcdd1c91e58"
   },
   "outputs": [],
   "source": [
    "dengue.columns"
   ]
  },
  {
   "cell_type": "code",
   "execution_count": null,
   "metadata": {
    "id": "X1Meo3dnX1UW"
   },
   "outputs": [],
   "source": [
    "novacol = ['TP_NOT', 'SG_UF_NOT', 'CS_SEXO', 'CS_GESTANT', 'FEBRE',\n",
    "       'MIALGIA', 'CEFALEIA', 'EXANTEMA', 'VOMITO', 'ARTRALGIA', 'DOR_RETRO',\n",
    "       'DIABETES', 'HEMATOLOG', 'HEPATOPAT', 'RENAL', 'HIPERTENSA',\n",
    "       'ACIDO_PEPT', 'AUTO_IMUNE', 'RESUL_SORO', 'RESUL_NS1', 'HOSPITALIZ',\n",
    "       'EVOLUCAO']\n",
    "\n",
    "for coluna in novacol:\n",
    "  dengue[coluna] = dengue[coluna].replace(' ', np.nan)"
   ]
  },
  {
   "cell_type": "code",
   "execution_count": null,
   "metadata": {
    "colab": {
     "base_uri": "https://localhost:8080/",
     "height": 774
    },
    "id": "1NI4H4-0X1UW",
    "outputId": "08be0b5e-e2c8-4dd3-9abd-712dff1511aa"
   },
   "outputs": [],
   "source": [
    "dengue.isna().sum()"
   ]
  },
  {
   "cell_type": "code",
   "execution_count": null,
   "metadata": {
    "id": "H8MRDcmdX1UW"
   },
   "outputs": [],
   "source": [
    "for coluna in novacol:\n",
    "    if dengue[coluna].isna().any():\n",
    "        moda = dengue[coluna].mode().iloc[0]\n",
    "        dengue[coluna].fillna(moda, inplace=True)\n",
    "        print(f\"NA da coluna '{coluna}' substituída com a moda: {moda}\")"
   ]
  },
  {
   "cell_type": "code",
   "execution_count": null,
   "metadata": {},
   "outputs": [],
   "source": [
    "dengue.shape"
   ]
  },
  {
   "cell_type": "markdown",
   "metadata": {},
   "source": [
    "Deixando só os caso de morte por dengue e cura"
   ]
  },
  {
   "cell_type": "code",
   "execution_count": null,
   "metadata": {},
   "outputs": [],
   "source": [
    "evolucao = [\"1\", \"2\"]\n",
    "dengue = dengue.query(\"EVOLUCAO in @evolucao\")"
   ]
  },
  {
   "cell_type": "code",
   "execution_count": null,
   "metadata": {},
   "outputs": [],
   "source": [
    "dengue.shape"
   ]
  },
  {
   "cell_type": "markdown",
   "metadata": {
    "id": "eEmDCt9VX1UW"
   },
   "source": [
    "## Divisão entre previsores (X) e classe (y)"
   ]
  },
  {
   "cell_type": "code",
   "execution_count": null,
   "metadata": {
    "colab": {
     "base_uri": "https://localhost:8080/"
    },
    "id": "dWIzYNyHX1UW",
    "outputId": "0098e5c1-bf53-47b1-86b3-72fc575632b7"
   },
   "outputs": [],
   "source": [
    "dengue.columns"
   ]
  },
  {
   "cell_type": "code",
   "execution_count": null,
   "metadata": {
    "id": "Iq4_MW-JX1UW"
   },
   "outputs": [],
   "source": [
    "X_dengue = dengue.iloc[:,0:21].values"
   ]
  },
  {
   "cell_type": "code",
   "execution_count": null,
   "metadata": {
    "colab": {
     "base_uri": "https://localhost:8080/"
    },
    "id": "fMZ7ZE4AX1UW",
    "outputId": "057034b5-1465-4ed9-cba8-f05a9495dde4"
   },
   "outputs": [],
   "source": [
    "X_dengue"
   ]
  },
  {
   "cell_type": "code",
   "execution_count": null,
   "metadata": {
    "colab": {
     "base_uri": "https://localhost:8080/"
    },
    "id": "4lIgzlwoX1UW",
    "outputId": "97648401-b670-4e9f-d6cb-b76673e93b33"
   },
   "outputs": [],
   "source": [
    "X_dengue[0]"
   ]
  },
  {
   "cell_type": "code",
   "execution_count": null,
   "metadata": {
    "id": "FsEUpTh9X1UW"
   },
   "outputs": [],
   "source": [
    "y_dengue = dengue.iloc[:,21].values"
   ]
  },
  {
   "cell_type": "code",
   "execution_count": null,
   "metadata": {
    "colab": {
     "base_uri": "https://localhost:8080/"
    },
    "id": "t4A0-JhpX1UW",
    "outputId": "fce28889-e843-420f-abdd-6eeb066c0d23"
   },
   "outputs": [],
   "source": [
    "y_dengue"
   ]
  },
  {
   "cell_type": "code",
   "execution_count": null,
   "metadata": {
    "colab": {
     "base_uri": "https://localhost:8080/",
     "height": 35
    },
    "id": "61OJ7UXvX1UW",
    "outputId": "6050244e-c62e-4530-d702-653944f9340b"
   },
   "outputs": [],
   "source": [
    "y_dengue[0]"
   ]
  },
  {
   "cell_type": "raw",
   "metadata": {
    "id": "B1NOrEilX1UW"
   },
   "source": [
    "Salvando primeira parte"
   ]
  },
  {
   "cell_type": "code",
   "execution_count": null,
   "metadata": {
    "id": "bSe-VjLZX1UW"
   },
   "outputs": [],
   "source": [
    "import pickle\n",
    "\n",
    "with open('dengue.pkl', mode = 'wb') as f:\n",
    "    pickle.dump([X_dengue, y_dengue], f)"
   ]
  },
  {
   "cell_type": "markdown",
   "metadata": {
    "id": "972HCO_OX1UW"
   },
   "source": [
    "## Tratamento de atributos categóricos"
   ]
  },
  {
   "cell_type": "code",
   "execution_count": null,
   "metadata": {
    "colab": {
     "base_uri": "https://localhost:8080/"
    },
    "id": "oDOoB4voX1UW",
    "outputId": "68f018fd-9e07-46d3-d03c-abd0a25cc43f"
   },
   "outputs": [],
   "source": [
    "dengue.info()"
   ]
  },
  {
   "cell_type": "code",
   "execution_count": null,
   "metadata": {
    "colab": {
     "base_uri": "https://localhost:8080/",
     "height": 195
    },
    "id": "JP3lLvNeX1UX",
    "outputId": "eae38f91-e9c3-43b7-cf67-7327ecc5e918"
   },
   "outputs": [],
   "source": [
    "dengue.describe().T"
   ]
  },
  {
   "cell_type": "raw",
   "metadata": {
    "id": "aHbe3ObkX1UX"
   },
   "source": [
    "LabelEncoder"
   ]
  },
  {
   "cell_type": "code",
   "execution_count": null,
   "metadata": {
    "id": "ft8fr5b6X1UX"
   },
   "outputs": [],
   "source": [
    "from sklearn.preprocessing import LabelEncoder, OneHotEncoder"
   ]
  },
  {
   "cell_type": "code",
   "execution_count": null,
   "metadata": {
    "id": "FEa0bnWDX1UX"
   },
   "outputs": [],
   "source": [
    "label_encoder_sexo = LabelEncoder()"
   ]
  },
  {
   "cell_type": "code",
   "execution_count": null,
   "metadata": {
    "id": "PRyhExS0X1UX"
   },
   "outputs": [],
   "source": [
    "X_dengue[:,2] = label_encoder_sexo.fit_transform(X_dengue[:,2])"
   ]
  },
  {
   "cell_type": "code",
   "execution_count": null,
   "metadata": {
    "colab": {
     "base_uri": "https://localhost:8080/"
    },
    "id": "hA-D1qwoX1UX",
    "outputId": "62ddeb39-0e4c-4198-89cb-656bbd84e59c"
   },
   "outputs": [],
   "source": [
    "X_dengue[0]"
   ]
  },
  {
   "cell_type": "code",
   "execution_count": null,
   "metadata": {},
   "outputs": [],
   "source": [
    "dengue.columns"
   ]
  },
  {
   "cell_type": "code",
   "execution_count": null,
   "metadata": {
    "id": "SO610xAbX1UX"
   },
   "outputs": [],
   "source": [
    "X_dengue = dengue.iloc[:,0:21].copy()\n",
    "y_dengue = dengue.iloc[:,21].copy()"
   ]
  },
  {
   "cell_type": "code",
   "execution_count": null,
   "metadata": {
    "id": "gE7IHIs0X1UX"
   },
   "outputs": [],
   "source": [
    "cat_col = X_dengue.select_dtypes(include = ['category']).columns.tolist()"
   ]
  },
  {
   "cell_type": "code",
   "execution_count": null,
   "metadata": {
    "colab": {
     "base_uri": "https://localhost:8080/"
    },
    "id": "chPf592cX1UX",
    "outputId": "f72f4cfa-a116-4862-9bc5-20b4213fffce"
   },
   "outputs": [],
   "source": [
    "cat_col"
   ]
  },
  {
   "cell_type": "code",
   "execution_count": null,
   "metadata": {
    "id": "TIIWfsklX1UX"
   },
   "outputs": [],
   "source": [
    "X_cat = X_dengue[cat_col]"
   ]
  },
  {
   "cell_type": "code",
   "execution_count": null,
   "metadata": {
    "id": "SGtVrczYX1UX"
   },
   "outputs": [],
   "source": [
    "one_hot_encoder = OneHotEncoder(sparse_output = False, handle_unknown = 'ignore')"
   ]
  },
  {
   "cell_type": "code",
   "execution_count": null,
   "metadata": {
    "id": "aL2tQp9dX1UX"
   },
   "outputs": [],
   "source": [
    "X_encod = one_hot_encoder.fit_transform(X_cat)"
   ]
  },
  {
   "cell_type": "code",
   "execution_count": null,
   "metadata": {
    "colab": {
     "base_uri": "https://localhost:8080/"
    },
    "id": "b5Dg10o9X1UX",
    "outputId": "6a1e859b-2207-4bcf-b5d2-2d2e08df52ac"
   },
   "outputs": [],
   "source": [
    "X_encod"
   ]
  },
  {
   "cell_type": "code",
   "execution_count": null,
   "metadata": {
    "colab": {
     "base_uri": "https://localhost:8080/"
    },
    "id": "QwbvJY3EX1UX",
    "outputId": "050334d2-a145-4608-ef98-985cca42cc7f"
   },
   "outputs": [],
   "source": [
    "print(one_hot_encoder.feature_names_in_)"
   ]
  },
  {
   "cell_type": "code",
   "execution_count": null,
   "metadata": {
    "id": "xf-HfehhX1UX"
   },
   "outputs": [],
   "source": [
    "enc_col_name = one_hot_encoder.get_feature_names_out(cat_col)"
   ]
  },
  {
   "cell_type": "code",
   "execution_count": null,
   "metadata": {
    "id": "rQDqSQB5X1UX"
   },
   "outputs": [],
   "source": [
    "X_enc_df = pd.DataFrame(X_encod, columns = enc_col_name)"
   ]
  },
  {
   "cell_type": "code",
   "execution_count": null,
   "metadata": {
    "colab": {
     "base_uri": "https://localhost:8080/",
     "height": 226
    },
    "id": "-dNiEduYX1UX",
    "outputId": "93934696-a179-4325-cbea-31d83af3ae0a"
   },
   "outputs": [],
   "source": [
    "X_enc_df.head()"
   ]
  },
  {
   "cell_type": "code",
   "execution_count": null,
   "metadata": {
    "id": "o28HNWI6X1UX"
   },
   "outputs": [],
   "source": [
    "X_dengue = X_enc_df"
   ]
  },
  {
   "cell_type": "raw",
   "metadata": {
    "id": "up9ftvI8X1UX"
   },
   "source": [
    "TALVEZ AQUI DEVESSE OU TESTAR SEM ESCALONAR, OU MUDAR AS NOMENCLATURAS SEGUINTES PRA DEIXAR ESSE SALVO. OU METER O PICKLE"
   ]
  },
  {
   "cell_type": "markdown",
   "metadata": {
    "id": "Ou-g6e9LX1UY"
   },
   "source": [
    "### Escalonamento dos valores"
   ]
  },
  {
   "cell_type": "raw",
   "metadata": {
    "id": "jiMOdeYPX1UY"
   },
   "source": [
    "Padronização"
   ]
  },
  {
   "cell_type": "code",
   "execution_count": null,
   "metadata": {
    "id": "Rz2DMQ-LX1UY"
   },
   "outputs": [],
   "source": [
    "from sklearn.preprocessing import StandardScaler\n",
    "\n",
    "scaler_dengue = StandardScaler()\n",
    "X_dengue = scaler_dengue.fit_transform(X_dengue)"
   ]
  },
  {
   "cell_type": "code",
   "execution_count": null,
   "metadata": {
    "colab": {
     "base_uri": "https://localhost:8080/"
    },
    "id": "AZ0Y07BKX1UY",
    "outputId": "681fbb2c-0472-4dd9-f3b0-3c216b3f3ffb"
   },
   "outputs": [],
   "source": [
    "X_dengue"
   ]
  },
  {
   "cell_type": "code",
   "execution_count": null,
   "metadata": {
    "id": "vwHkWyAFX1UY"
   },
   "outputs": [],
   "source": [
    "import pickle\n",
    "with open('dengue_data_preprocessados.pkl', mode = 'wb') as f:\n",
    "  pickle.dump([X_dengue, y_dengue], f)"
   ]
  },
  {
   "cell_type": "markdown",
   "metadata": {
    "id": "-hbcSSl7uaIT"
   },
   "source": [
    "# **BALANCEAMENTO DO** **DATASET**"
   ]
  },
  {
   "cell_type": "markdown",
   "metadata": {
    "id": "s7qvy6jarSfi"
   },
   "source": [
    "**Importando as bibliotecas**"
   ]
  },
  {
   "cell_type": "code",
   "execution_count": null,
   "metadata": {
    "id": "-ngVgYiMrRAC"
   },
   "outputs": [],
   "source": [
    "import pickle, numpy as np, pandas as pd\n",
    "from collections import Counter\n",
    "from sklearn.model_selection import train_test_split\n",
    "from sklearn.metrics import accuracy_score, precision_score, recall_score, f1_score\n",
    "from sklearn.naive_bayes import GaussianNB\n",
    "from sklearn.ensemble import RandomForestClassifier\n",
    "from sklearn.linear_model import SGDClassifier\n",
    "from sklearn.preprocessing import LabelEncoder\n",
    "from imblearn.over_sampling import RandomOverSampler\n",
    "from imblearn.under_sampling import TomekLinks\n",
    "from collections import Counter\n"
   ]
  },
  {
   "cell_type": "markdown",
   "metadata": {
    "id": "8bcX011mmktB"
   },
   "source": [
    "Abrindo o arquivo préprocessado"
   ]
  },
  {
   "cell_type": "code",
   "execution_count": null,
   "metadata": {
    "colab": {
     "base_uri": "https://localhost:8080/"
    },
    "id": "JINEjW34rQ8Q",
    "outputId": "bae3d6b3-a32c-4814-ceee-24bc908e246b"
   },
   "outputs": [],
   "source": [
    "with open(\"./dengue_data_preprocessados.pkl\", \"rb\") as f:\n",
    "    X, y = pickle.load(f)\n",
    "\n",
    "X = np.asarray(X, dtype=np.float32)\n",
    "\n",
    "if not np.issubdtype(np.array(y).dtype, np.number):\n",
    "    y = LabelEncoder().fit_transform(y)\n",
    "y = np.asarray(y).ravel().astype(np.int64)\n",
    "\n",
    "X_tr, X_te, y_tr, y_te = train_test_split(\n",
    "    X, y, test_size=0.30, random_state=42, stratify=y\n",
    ")\n",
    "\n",
    "print(\"TREINO (sem balancear):\", dict(Counter(y_tr)))\n",
    "print(\"TESTE  (inalterado)   :\", dict(Counter(y_te)))\n"
   ]
  },
  {
   "cell_type": "markdown",
   "metadata": {
    "id": "f5Qi6OTtrrwI"
   },
   "source": [
    "**Balanceamento do Dataset - Aplicando o SMOTE -  Somente nos dataset de Treino**"
   ]
  },
  {
   "cell_type": "code",
   "execution_count": null,
   "metadata": {
    "colab": {
     "base_uri": "https://localhost:8080/"
    },
    "id": "kjYh97yArQ5A",
    "outputId": "e90f4608-3871-4597-de4d-7682a6b25056"
   },
   "outputs": [],
   "source": [
    "ros = RandomOverSampler(random_state=42)\n",
    "X_tr_bal, y_tr_bal = ros.fit_resample(X_tr, y_tr)\n",
    "print(\"TREINO (ROS)          :\", dict(Counter(y_tr_bal)))"
   ]
  },
  {
   "cell_type": "markdown",
   "metadata": {},
   "source": [
    "**Balanceamento do Dataset - Aplicando o Tomek -  Somente nos dataset de Treino**"
   ]
  },
  {
   "cell_type": "code",
   "execution_count": null,
   "metadata": {},
   "outputs": [],
   "source": [
    "# Aplicando Tomek Links\n",
    "tl = TomekLinks(sampling_strategy='auto')  # 'auto' remove da classe majoritária\n",
    "X_tr_tl, y_tr_tl = tl.fit_resample(X_tr, y_tr)"
   ]
  },
  {
   "cell_type": "markdown",
   "metadata": {
    "id": "rqgeQQUksLVK"
   },
   "source": [
    "**Aplicar os modelos de aprendizados de máquina que usem os seguintes algoritimos : Naive Bayes, Random Forest e SVM**"
   ]
  },
  {
   "cell_type": "code",
   "execution_count": null,
   "metadata": {
    "id": "Je2yeBTwrQ1g"
   },
   "outputs": [],
   "source": [
    "# Define os modelos que serão usados\n",
    "\n",
    "modelos = {\n",
    "    \"NaiveBayes\": GaussianNB(),\n",
    "    \"RandomForest\": RandomForestClassifier(\n",
    "        n_estimators=50,     # menos árvores\n",
    "        max_depth=8,         # floresta rasa\n",
    "        min_samples_leaf=5,  # evita overfit e acelera\n",
    "        n_jobs=-1,\n",
    "        random_state=42\n",
    "    ),\n",
    "    # \"SVM\" linear via SGD (bem mais leve que SVC/RBF)\n",
    "    \"LinearSVM_SGD\": SGDClassifier(\n",
    "        loss=\"hinge\",        # SVM linear\n",
    "        alpha=1e-4,\n",
    "        max_iter=2000,\n",
    "        tol=1e-3,\n",
    "        n_jobs=-1,\n",
    "        random_state=42\n",
    "    ),\n",
    "}\n",
    "\n",
    "\n",
    "def avalia(clf, Xtr, ytr, Xte, yte):\n",
    "    clf.fit(Xtr, ytr)\n",
    "    pred = clf.predict(Xte)\n",
    "    return {\n",
    "        \"accuracy\": round(accuracy_score(yte, pred), 4),\n",
    "        \"precision_macro\": round(precision_score(yte, pred, average=\"macro\", zero_division=0), 4),\n",
    "        \"recall_macro\": round(recall_score(yte, pred, average=\"macro\", zero_division=0), 4),\n",
    "        \"f1_macro\": round(f1_score(yte, pred, average=\"macro\", zero_division=0), 4),\n",
    "    }"
   ]
  },
  {
   "cell_type": "markdown",
   "metadata": {
    "id": "aqXQqNvesvPc"
   },
   "source": [
    "**AGORA SEM BALANCEAR OS DADOS**"
   ]
  },
  {
   "cell_type": "code",
   "execution_count": null,
   "metadata": {
    "id": "-5K1UdKsrQxh"
   },
   "outputs": [],
   "source": [
    "# sem balancear\n",
    "linhas = []\n",
    "for nome, clf in modelos.items():\n",
    "    m = avalia(clf, X_tr, y_tr, X_te, y_te)\n",
    "    m.update({\"versao\": \"Sem balancear\", \"modelo\": nome})\n",
    "    linhas.append(m)\n",
    "\n",
    "for nome, clf in modelos.items():\n",
    "    m = avalia(clf, X_tr_bal, y_tr_bal, X_te, y_te)\n",
    "    m.update({\"versao\": \"Balanceado (ROS)\", \"modelo\": nome})\n",
    "    linhas.append(m)\n"
   ]
  },
  {
   "cell_type": "code",
   "execution_count": null,
   "metadata": {},
   "outputs": [],
   "source": [
    "for nome, clf in modelos.items():\n",
    "    m = avalia(clf, X_tr_tl, y_tr_tl, X_te, y_te)\n",
    "    m.update({\"versao\": \"Balanceado (Tomek)\", \"modelo\": nome})\n",
    "    linhas.append(m)"
   ]
  },
  {
   "cell_type": "markdown",
   "metadata": {
    "id": "ThTR-Dw5s7kL"
   },
   "source": [
    "**Plotando as métricas dos modelos para Análise**"
   ]
  },
  {
   "cell_type": "code",
   "execution_count": null,
   "metadata": {
    "colab": {
     "base_uri": "https://localhost:8080/"
    },
    "id": "EUPLVcuOrQsa",
    "outputId": "a6fcdced-6641-46ba-951c-14ca6370aba3"
   },
   "outputs": [],
   "source": [
    "tabela = pd.DataFrame(linhas)[\n",
    "    [\"versao\", \"modelo\", \"accuracy\", \"precision_macro\", \"recall_macro\", \"f1_macro\"]\n",
    "]\n",
    "# salvar CSV\n",
    "print(tabela.to_string(index=False))"
   ]
  },
  {
   "cell_type": "markdown",
   "metadata": {},
   "source": [
    "## GridSearch + Cross Validation"
   ]
  },
  {
   "cell_type": "code",
   "execution_count": null,
   "metadata": {},
   "outputs": [],
   "source": []
  },
  {
   "cell_type": "code",
   "execution_count": null,
   "metadata": {},
   "outputs": [],
   "source": [
    "from sklearn.model_selection import StratifiedKFold, GridSearchCV\n",
    "from sklearn.pipeline import Pipeline\n",
    "from sklearn.metrics import (accuracy_score, precision_score, recall_score, f1_score,\n",
    "                             make_scorer, classification_report)"
   ]
  },
  {
   "cell_type": "code",
   "execution_count": null,
   "metadata": {},
   "outputs": [],
   "source": [
    "modelos = {\n",
    "    \"NaiveBayes\": GaussianNB(),\n",
    "    \"RandomForest\": RandomForestClassifier(n_jobs=-1, random_state=42),\n",
    "    \"LinearSVM_SGD\": SGDClassifier(loss=\"hinge\", random_state=42, n_jobs=-1)\n",
    "}\n",
    "\n",
    "# Grids (ajuste à vontade)\n",
    "param_grids = {\n",
    "    \"NaiveBayes\": {\n",
    "        \"model__var_smoothing\": [1e-9, 1e-8, 1e-7]\n",
    "    },\n",
    "    \"RandomForest\": {\n",
    "        \"model__n_estimators\": [50, 100, 200],\n",
    "        \"model__max_depth\": [5, 10, None],\n",
    "        \"model__min_samples_leaf\": [1, 5, 10]\n",
    "    },\n",
    "    \"LinearSVM_SGD\": {\n",
    "        \"model__alpha\": [1e-3, 1e-4, 1e-5],\n",
    "        \"model__penalty\": [\"l2\", \"elasticnet\"],\n",
    "        \"model__max_iter\": [1000, 2000],\n",
    "        \"model__tol\": [1e-3]\n",
    "    }\n",
    "}"
   ]
  },
  {
   "cell_type": "code",
   "execution_count": null,
   "metadata": {},
   "outputs": [],
   "source": [
    "scoring = {\n",
    "    \"accuracy\": make_scorer(accuracy_score),\n",
    "    \"precision_macro\": make_scorer(precision_score, average=\"macro\", zero_division=0),\n",
    "    \"recall_macro\": make_scorer(recall_score, average=\"macro\", zero_division=0),\n",
    "    \"f1_macro\": make_scorer(f1_score, average=\"macro\", zero_division=0)\n",
    "}\n",
    "\n",
    "cv = StratifiedKFold(n_splits=5, shuffle=True, random_state=42)\n",
    "\n",
    "def metrics_dict(y_true, y_pred):\n",
    "    return {\n",
    "        \"accuracy\": round(accuracy_score(y_true, y_pred), 4),\n",
    "        \"precision_macro\": round(precision_score(y_true, y_pred, average=\"macro\", zero_division=0), 4),\n",
    "        \"recall_macro\": round(recall_score(y_true, y_pred, average=\"macro\", zero_division=0), 4),\n",
    "        \"f1_macro\": round(f1_score(y_true, y_pred, average=\"macro\", zero_division=0), 4),\n",
    "    }"
   ]
  },
  {
   "cell_type": "code",
   "execution_count": null,
   "metadata": {},
   "outputs": [],
   "source": [
    "resultados = []\n",
    "\n",
    "for nome, est in modelos.items():\n",
    "    print(f\"\\n===== {nome} =====\")\n",
    "    pipe = Pipeline([(\"model\", est)])\n",
    "\n",
    "    grid = GridSearchCV(\n",
    "        estimator=pipe,\n",
    "        param_grid=param_grids[nome],\n",
    "        scoring=scoring,\n",
    "        refit=\"f1_macro\",          # escolhe o melhor por f1_macro\n",
    "        cv=cv,\n",
    "        n_jobs=-1,\n",
    "        verbose=1,\n",
    "        return_train_score=False\n",
    "    )\n",
    "    grid.fit(X_tr_bal, y_tr_bal)\n",
    "\n",
    "    # Métricas de CV (melhor ponto)\n",
    "    best = grid.best_estimator_\n",
    "    best_cv = {\n",
    "        \"modelo\": nome,\n",
    "        \"cv_accuracy\": round(grid.cv_results_[\"mean_test_accuracy\"][grid.best_index_], 4),\n",
    "        \"cv_precision_macro\": round(grid.cv_results_[\"mean_test_precision_macro\"][grid.best_index_], 4),\n",
    "        \"cv_recall_macro\": round(grid.cv_results_[\"mean_test_recall_macro\"][grid.best_index_], 4),\n",
    "        \"cv_f1_macro\": round(grid.cv_results_[\"mean_test_f1_macro\"][grid.best_index_], 4),\n",
    "        \"best_params\": grid.best_params_\n",
    "    }\n",
    "\n",
    "    # Métricas no TESTE\n",
    "    pred = best.predict(X_te)\n",
    "    mtest = metrics_dict(y_te, pred)\n",
    "\n",
    "    print(\"Melhores hiperparâmetros:\", grid.best_params_)\n",
    "    print(\"CV (f1_macro):\", best_cv[\"cv_f1_macro\"])\n",
    "    print(\"\\nRelatório de teste:\")\n",
    "    print(classification_report(y_te, pred, digits=4))\n",
    "\n",
    "    resultados.append({\n",
    "        **best_cv,\n",
    "        \"test_accuracy\": mtest[\"accuracy\"],\n",
    "        \"test_precision_macro\": mtest[\"precision_macro\"],\n",
    "        \"test_recall_macro\": mtest[\"recall_macro\"],\n",
    "        \"test_f1_macro\": mtest[\"f1_macro\"],\n",
    "    })\n",
    "\n",
    "# Tabela comparativa\n",
    "df_result = pd.DataFrame(resultados).sort_values(by=\"test_f1_macro\", ascending=False)\n",
    "print(\"\\n===== Ranking (TESTE - f1_macro) =====\")\n",
    "print(df_result[[\n",
    "    \"modelo\", \"cv_f1_macro\", \"test_f1_macro\",\n",
    "    \"cv_accuracy\", \"test_accuracy\",\n",
    "    \"cv_precision_macro\", \"test_precision_macro\",\n",
    "    \"cv_recall_macro\", \"test_recall_macro\",\n",
    "    \"best_params\"\n",
    "]])"
   ]
  }
 ],
 "metadata": {
  "accelerator": "GPU",
  "colab": {
   "collapsed_sections": [
    "Jkku8PqxX1US"
   ],
   "gpuType": "T4",
   "provenance": []
  },
  "kernelspec": {
   "display_name": "base",
   "language": "python",
   "name": "python3"
  },
  "language_info": {
   "codemirror_mode": {
    "name": "ipython",
    "version": 3
   },
   "file_extension": ".py",
   "mimetype": "text/x-python",
   "name": "python",
   "nbconvert_exporter": "python",
   "pygments_lexer": "ipython3",
   "version": "3.13.5"
  }
 },
 "nbformat": 4,
 "nbformat_minor": 0
}
